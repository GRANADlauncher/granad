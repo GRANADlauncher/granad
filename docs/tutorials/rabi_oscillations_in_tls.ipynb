{
 "cells": [
  {
   "cell_type": "markdown",
   "id": "6553ae04",
   "metadata": {},
   "source": [
    "## Rabi Oscillations in TLS\n",
    "\n",
    "We study Rabi oscillations. First, in a single TLS. Then, we add this TLS to a graphene flake.\n",
    "\n",
    "NOTE: this tutorial makes heavy use of the liberal way GRANAD lets you group orbitals. You might want to consult the tutorial on orbital lists first."
   ]
  },
  {
   "cell_type": "markdown",
   "id": "a5419285",
   "metadata": {},
   "source": [
    "## Building a two-level system\n",
    "\n",
    "Consider an isolated atom, modelled as a two-level system. Each level is an orbital, so let's combine them in a list."
   ]
  },
  {
   "cell_type": "code",
   "execution_count": 1,
   "id": "0bc89253",
   "metadata": {
    "execution": {
     "iopub.execute_input": "2024-04-22T12:33:28.110845Z",
     "iopub.status.busy": "2024-04-22T12:33:28.108967Z",
     "iopub.status.idle": "2024-04-22T12:33:30.417696Z",
     "shell.execute_reply": "2024-04-22T12:33:30.416892Z"
    }
   },
   "outputs": [],
   "source": [
    "from granad import Orbital, OrbitalList\n",
    "\n",
    "lower_level = Orbital(tag=\"atom\")\n",
    "upper_level = Orbital(tag=\"atom\")\n",
    "atom = OrbitalList([lower_level, upper_level])"
   ]
  },
  {
   "cell_type": "markdown",
   "id": "1d7c4189",
   "metadata": {},
   "source": [
    "We have used a tag to signify that these the orbitals belong to the same atom. Let's see what we have done."
   ]
  },
  {
   "cell_type": "code",
   "execution_count": 2,
   "id": "b9d765d0",
   "metadata": {
    "execution": {
     "iopub.execute_input": "2024-04-22T12:33:30.420759Z",
     "iopub.status.busy": "2024-04-22T12:33:30.420391Z",
     "iopub.status.idle": "2024-04-22T12:33:30.426252Z",
     "shell.execute_reply": "2024-04-22T12:33:30.425045Z"
    }
   },
   "outputs": [
    {
     "name": "stdout",
     "output_type": "stream",
     "text": [
      "List with 2 orbitals, 2 electrons.\n",
      "[0] electrons excited from [0] to [0].\n",
      "group id 1 : 1 orbitals\n",
      "group id 2 : 1 orbitals\n"
     ]
    }
   ],
   "source": [
    "print(atom)"
   ]
  },
  {
   "cell_type": "markdown",
   "id": "3ba8c535",
   "metadata": {},
   "source": [
    "We see that GRANAD assumes that every orbital is filled. But we want only the one of the levels filled. So, we set the electron number to 1."
   ]
  },
  {
   "cell_type": "code",
   "execution_count": 3,
   "id": "e8977f85",
   "metadata": {
    "execution": {
     "iopub.execute_input": "2024-04-22T12:33:30.430774Z",
     "iopub.status.busy": "2024-04-22T12:33:30.429843Z",
     "iopub.status.idle": "2024-04-22T12:33:30.438629Z",
     "shell.execute_reply": "2024-04-22T12:33:30.437878Z"
    }
   },
   "outputs": [
    {
     "name": "stdout",
     "output_type": "stream",
     "text": [
      "List with 2 orbitals, 1 electrons.\n",
      "[0] electrons excited from [0] to [0].\n",
      "group id 1 : 1 orbitals\n",
      "group id 2 : 1 orbitals\n"
     ]
    }
   ],
   "source": [
    "atom.electrons = 1\n",
    "print(atom)"
   ]
  },
  {
   "cell_type": "markdown",
   "id": "38a5e114",
   "metadata": {},
   "source": [
    "We now need to specify the Hamiltonian. We can do so by setting the elements corresponding to the orbitals."
   ]
  },
  {
   "cell_type": "code",
   "execution_count": 4,
   "id": "f2ac68fe",
   "metadata": {
    "execution": {
     "iopub.execute_input": "2024-04-22T12:33:30.442080Z",
     "iopub.status.busy": "2024-04-22T12:33:30.441301Z",
     "iopub.status.idle": "2024-04-22T12:33:32.109778Z",
     "shell.execute_reply": "2024-04-22T12:33:32.108981Z"
    }
   },
   "outputs": [
    {
     "name": "stdout",
     "output_type": "stream",
     "text": [
      "List with 2 orbitals, 1 electrons.\n",
      "[0] electrons excited from [0] to [0].\n",
      "group id 1 : 1 orbitals\n",
      "group id 2 : 1 orbitals\n"
     ]
    },
    {
     "name": "stdout",
     "output_type": "stream",
     "text": [
      "[[-0.5+0.j  2. +0.j]\n",
      " [ 2. +0.j  0.5+0.j]]\n"
     ]
    }
   ],
   "source": [
    "atom.set_hamiltonian_element(upper_level, lower_level, 2.0)\n",
    "atom.set_hamiltonian_element(upper_level, upper_level, 0.5)\n",
    "atom.set_hamiltonian_element(lower_level, lower_level, -0.5)\n",
    "print(atom)\n",
    "print(atom.hamiltonian)"
   ]
  },
  {
   "cell_type": "markdown",
   "id": "f3603e47",
   "metadata": {},
   "source": [
    "Setting dipole transitions is similar. We want the lower and upper level to be connected by a dipole transition in z-direction."
   ]
  },
  {
   "cell_type": "code",
   "execution_count": 5,
   "id": "bd4d90b8",
   "metadata": {
    "execution": {
     "iopub.execute_input": "2024-04-22T12:33:32.112382Z",
     "iopub.status.busy": "2024-04-22T12:33:32.112148Z",
     "iopub.status.idle": "2024-04-22T12:33:32.132522Z",
     "shell.execute_reply": "2024-04-22T12:33:32.131329Z"
    }
   },
   "outputs": [
    {
     "name": "stdout",
     "output_type": "stream",
     "text": [
      "List with 2 orbitals, 1 electrons.\n",
      "[0] electrons excited from [0] to [0].\n",
      "group id 1 : 1 orbitals\n",
      "group id 2 : 1 orbitals\n"
     ]
    }
   ],
   "source": [
    "atom.set_dipole_transition(upper_level, lower_level, [1, 0, 0])\n",
    "print(atom)"
   ]
  },
  {
   "cell_type": "markdown",
   "id": "7873880c",
   "metadata": {},
   "source": [
    "We set the initial excited state (in our point of view, this is a HOMO-LUMO transition)."
   ]
  },
  {
   "cell_type": "code",
   "execution_count": 6,
   "id": "52539b95",
   "metadata": {
    "execution": {
     "iopub.execute_input": "2024-04-22T12:33:32.136677Z",
     "iopub.status.busy": "2024-04-22T12:33:32.136090Z",
     "iopub.status.idle": "2024-04-22T12:33:32.772362Z",
     "shell.execute_reply": "2024-04-22T12:33:32.771495Z"
    }
   },
   "outputs": [
    {
     "name": "stdout",
     "output_type": "stream",
     "text": [
      "List with 2 orbitals, 1 electrons.\n",
      "[1] electrons excited from [0] to [1].\n",
      "group id 1 : 1 orbitals\n",
      "group id 2 : 1 orbitals\n"
     ]
    }
   ],
   "source": [
    "atom.set_excitation(atom.homo, atom.homo + 1, 1)\n",
    "print(atom)"
   ]
  },
  {
   "cell_type": "markdown",
   "id": "1b9bdee5",
   "metadata": {},
   "source": [
    "We consider a continuous wave as an external illumination."
   ]
  },
  {
   "cell_type": "code",
   "execution_count": 7,
   "id": "ca1301f8",
   "metadata": {
    "execution": {
     "iopub.execute_input": "2024-04-22T12:33:32.776189Z",
     "iopub.status.busy": "2024-04-22T12:33:32.775197Z",
     "iopub.status.idle": "2024-04-22T12:33:32.791713Z",
     "shell.execute_reply": "2024-04-22T12:33:32.791056Z"
    }
   },
   "outputs": [],
   "source": [
    "from granad import Wave\n",
    "\n",
    "wave = Wave(amplitudes=[0.05, 0, 0], frequency=2)"
   ]
  },
  {
   "cell_type": "markdown",
   "id": "610fe428",
   "metadata": {},
   "source": [
    "We propagate the system in time."
   ]
  },
  {
   "cell_type": "code",
   "execution_count": 8,
   "id": "2f1bf861",
   "metadata": {
    "execution": {
     "iopub.execute_input": "2024-04-22T12:33:32.794607Z",
     "iopub.status.busy": "2024-04-22T12:33:32.794241Z",
     "iopub.status.idle": "2024-04-22T12:33:36.749343Z",
     "shell.execute_reply": "2024-04-22T12:33:36.748525Z"
    }
   },
   "outputs": [
    {
     "name": "stderr",
     "output_type": "stream",
     "text": [
      "/home/david/miniconda3/lib/python3.9/site-packages/equinox/_jit.py:49: UserWarning: Complex dtype support is work in progress, please read https://github.com/patrick-kidger/diffrax/pull/197 and proceed carefully.\n",
      "  out = fun(*args, **kwargs)\n"
     ]
    },
    {
     "data": {
      "image/png": "[encoded data removed]",
      "text/plain": [
       "<Figure size 640x480 with 1 Axes>"
      ]
     },
     "metadata": {},
     "output_type": "display_data"
    }
   ],
   "source": [
    "time, density_matrices = atom.get_density_matrix_time_domain(\n",
    "    end_time=10, relaxation_rate=1, illumination=wave, use_rwa=True\n",
    ")\n",
    "atom.show_energy_occupations(density_matrices, time=time)"
   ]
  }
 ],
 "metadata": {
  "kernelspec": {
   "display_name": "base",
   "language": "python",
   "name": "base"
  },
  "language_info": {
   "codemirror_mode": {
    "name": "ipython",
    "version": 3
   },
   "file_extension": ".py",
   "mimetype": "text/x-python",
   "name": "python",
   "nbconvert_exporter": "python",
   "pygments_lexer": "ipython3",
   "version": "3.9.18"
  }
 },
 "nbformat": 4,
 "nbformat_minor": 5
}
