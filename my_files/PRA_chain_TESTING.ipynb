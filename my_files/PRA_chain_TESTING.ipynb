{
 "cells": [
  {
   "cell_type": "code",
   "execution_count": null,
   "id": "5035eee7",
   "metadata": {},
   "outputs": [],
   "source": [
    "import jax.numpy as jnp\n",
    "import jax"
   ]
  },
  {
   "cell_type": "code",
   "execution_count": null,
   "id": "2add9306",
   "metadata": {},
   "outputs": [],
   "source": [
    "from granad import MaterialCatalog"
   ]
  },
  {
   "cell_type": "code",
   "execution_count": null,
   "id": "0b086bda-c98d-4940-bc55-a055e2b877cb",
   "metadata": {},
   "outputs": [],
   "source": [
    "MaterialCatalog.available()"
   ]
  },
  {
   "cell_type": "code",
   "execution_count": null,
   "id": "90d00ddd-228d-4c6e-a060-d0cd8e6927b9",
   "metadata": {},
   "outputs": [],
   "source": [
    "chain = MaterialCatalog.get(\"chain\").cut_flake(unit_cells = 40, plot = True)"
   ]
  },
  {
   "cell_type": "code",
   "execution_count": null,
   "id": "6deb79bf",
   "metadata": {},
   "outputs": [],
   "source": [
    "chain.show_2d(show_index = True)"
   ]
  },
  {
   "cell_type": "code",
   "execution_count": null,
   "id": "9f23e2f1",
   "metadata": {},
   "outputs": [],
   "source": [
    "chain.hamiltonian[0 : 3, 0 : 3].real"
   ]
  },
  {
   "cell_type": "code",
   "execution_count": null,
   "id": "722e8595",
   "metadata": {},
   "outputs": [],
   "source": [
    "chain.show_energies()"
   ]
  },
  {
   "cell_type": "code",
   "execution_count": null,
   "id": "5295f9ca",
   "metadata": {},
   "outputs": [],
   "source": [
    "print(chain.energies)"
   ]
  },
  {
   "cell_type": "code",
   "execution_count": null,
   "id": "9f5ad88a-40f1-4236-a408-ab3db8bb75d2",
   "metadata": {},
   "outputs": [],
   "source": [
    "print(chain.eigenvectors.real)\n",
    "print(chain.eigenvectors.imag)"
   ]
  },
  {
   "cell_type": "code",
   "execution_count": null,
   "id": "e8b76170-341a-4777-842d-85a7238291ef",
   "metadata": {},
   "outputs": [],
   "source": [
    "## Eigenvectors\n",
    "chain.show_2d(display = chain.eigenvectors[:, 0], mode = 'one-signed')\n",
    "chain.show_2d(display = chain.eigenvectors[:, 1], mode = 'one-signed')\n",
    "chain.show_2d(display = chain.eigenvectors[:, 2], mode = 'one-signed')"
   ]
  },
  {
   "cell_type": "code",
   "execution_count": null,
   "id": "25798888-d954-4fbb-a0f5-8c019d7a4c31",
   "metadata": {},
   "outputs": [],
   "source": [
    "print(chain.get_charge().real)\n",
    "chain.show_2d(display = chain.get_charge(), mode = 'two-signed')"
   ]
  },
  {
   "cell_type": "code",
   "execution_count": null,
   "id": "dd396325-8104-44fe-8009-7e9e878966aa",
   "metadata": {},
   "outputs": [],
   "source": [
    "site_occupations = chain.initial_density_matrix.diagonal() # site basis\n",
    "chain.show_2d(display = site_occupations, mode = 'one-signed', indicate_atoms = False)\n"
   ]
  },
  {
   "cell_type": "code",
   "execution_count": null,
   "id": "e637a5d9-c53f-4fb5-9e75-e965f7be8847",
   "metadata": {},
   "outputs": [],
   "source": [
    "chain.set_self_consistent(coulomb_strength = 4)\n",
    "site_occupations = chain.initial_density_matrix.diagonal() # site basis\n",
    "print(site_occupations.real)"
   ]
  },
  {
   "cell_type": "code",
   "execution_count": null,
   "id": "9ac905d2-fd65-4c85-9a62-d9c05f94d8ef",
   "metadata": {},
   "outputs": [],
   "source": [
    "chain.show_2d(display = site_occupations, mode = 'one-signed', indicate_atoms = False)"
   ]
  },
  {
   "cell_type": "code",
   "execution_count": null,
   "id": "d6f059a0",
   "metadata": {},
   "outputs": [],
   "source": [
    "#chain.set_excitation(chain.homo, chain.homo + 1, 1)\n",
    "chain_ex = chain\n",
    "chain_ex.set_excitation(chain.homo, chain.lumo, 1)\n",
    "chain.show_energies()"
   ]
  },
  {
   "cell_type": "code",
   "execution_count": null,
   "id": "b9cd2a8e-477c-44b0-b3c7-0713e33a2f17",
   "metadata": {},
   "outputs": [],
   "source": [
    "#chain.show_2d(display = chain.eigenvectors[0].real)\n",
    "import matplotlib.pyplot as plt\n",
    "import numpy as np\n",
    "plt.plot(np.arange(len(chain.eigenvectors[:, 0])), chain.eigenvectors[:, 0])\n",
    "plt.show()"
   ]
  },
  {
   "cell_type": "code",
   "execution_count": null,
   "id": "515fe513",
   "metadata": {},
   "outputs": [],
   "source": [
    "chain_ex = chain\n",
    "chain_ex.set_excitation(chain.homo, chain.lumo, 1)\n"
   ]
  },
  {
   "cell_type": "code",
   "execution_count": null,
   "id": "65e01c8c-736f-4346-bc28-2ebccf8c1170",
   "metadata": {},
   "outputs": [],
   "source": [
    "chain_ex.show_energies()"
   ]
  },
  {
   "cell_type": "code",
   "execution_count": null,
   "id": "562555b0-f222-4fa0-b51f-68eeb00b2294",
   "metadata": {},
   "outputs": [],
   "source": [
    "chain.show_2d(display = chain.eigenvectors[:, 0], mode = 'two-signed', indicate_atoms=False)"
   ]
  },
  {
   "cell_type": "code",
   "execution_count": null,
   "id": "dc1f5ec4-7dc2-40d2-bf93-31a70d439470",
   "metadata": {},
   "outputs": [],
   "source": [
    "print(chain_ex.eigenvectors.real)\n",
    "print(chain_ex.eigenvectors.imag)"
   ]
  },
  {
   "cell_type": "code",
   "execution_count": null,
   "id": "7f12fd5d-aad6-4c75-84ee-215e7c719bbe",
   "metadata": {},
   "outputs": [],
   "source": [
    "print(chain_ex.get_charge().real)\n",
    "chain_ex.show_2d(display = chain_ex.get_charge(), mode = 'one-signed', indicate_atoms = False)"
   ]
  },
  {
   "cell_type": "code",
   "execution_count": null,
   "id": "c6c8575d-1e4e-445e-91b1-13f519773018",
   "metadata": {},
   "outputs": [],
   "source": [
    "print(chain.eigenvectors.real - chain_ex.eigenvectors.real)"
   ]
  },
  {
   "cell_type": "code",
   "execution_count": null,
   "id": "5b8bef53-7cb2-4539-8699-678d0339ec3a",
   "metadata": {},
   "outputs": [],
   "source": [
    "energy_occupations = chain.initial_density_matrix_e.diagonal() # energy basis"
   ]
  },
  {
   "cell_type": "code",
   "execution_count": null,
   "id": "50cb9c62-b8dc-4ddb-ba01-7f8a77d51739",
   "metadata": {},
   "outputs": [],
   "source": [
    "print(chain.initial_density_matrix.diagonal().real)"
   ]
  },
  {
   "cell_type": "code",
   "execution_count": null,
   "id": "38ae34cb-df3f-4cc9-a9a6-a12cedd779db",
   "metadata": {},
   "outputs": [],
   "source": [
    "print(chain.initial_density_matrix_e.diagonal().real)"
   ]
  },
  {
   "cell_type": "code",
   "execution_count": null,
   "id": "e7ccb219-90d1-4dfd-ad8a-0d879991873a",
   "metadata": {},
   "outputs": [],
   "source": [
    "chain.initial_density_matrix.diagonal() "
   ]
  },
  {
   "cell_type": "code",
   "execution_count": null,
   "id": "006c13db-b845-448b-88f0-54836abc7260",
   "metadata": {},
   "outputs": [],
   "source": []
  },
  {
   "cell_type": "code",
   "execution_count": null,
   "id": "befcf353-439f-4efb-8f9f-57bf2d4f6519",
   "metadata": {},
   "outputs": [],
   "source": []
  }
 ],
 "metadata": {
  "kernelspec": {
   "display_name": "Python [conda env:base] *",
   "language": "python",
   "name": "conda-base-py"
  },
  "language_info": {
   "codemirror_mode": {
    "name": "ipython",
    "version": 3
   },
   "file_extension": ".py",
   "mimetype": "text/x-python",
   "name": "python",
   "nbconvert_exporter": "python",
   "pygments_lexer": "ipython3",
   "version": "3.12.7"
  }
 },
 "nbformat": 4,
 "nbformat_minor": 5
}
