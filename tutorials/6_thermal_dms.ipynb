{
 "cells": [
  {
   "cell_type": "markdown",
   "id": "e4f9198c",
   "metadata": {},
   "source": [
    "## Thermal density matrices\n",
    "\n",
    "By passing a finite value for beta, you get a thermal density matrix.\n"
   ]
  },
  {
   "cell_type": "code",
   "execution_count": null,
   "id": "5c884d50",
   "metadata": {},
   "outputs": [],
   "source": [
    "import jax\n",
    "import jax.numpy as jnp\n",
    "import granad\n",
    "\n",
    "# build stack\n",
    "sb = granad.StackBuilder()\n",
    "\n",
    "# add graphene\n",
    "graphene = granad.Lattice(\n",
    "    shape=granad.Chain(10),\n",
    "    lattice_type=granad.LatticeType.CHAIN,\n",
    "    lattice_edge=granad.LatticeEdge.NONE,\n",
    "    lattice_constant=1,\n",
    ")\n",
    "sb.add(\"pz\", graphene)\n",
    "\n",
    "hopping_graphene = granad.LatticeCoupling(\n",
    "    orbital_id1=\"pz\", orbital_id2=\"pz\", lattice=graphene, couplings=[0, -2.66]\n",
    ")\n",
    "sb.set_hopping(hopping_graphene)\n",
    "\n",
    "\n",
    "coulomb_graphene = granad.LatticeCoupling(\n",
    "    orbital_id1=\"pz\",\n",
    "    orbital_id2=\"pz\",\n",
    "    lattice=graphene,\n",
    "    couplings=[16.522, 8.64, 5.333],\n",
    "    coupling_function=lambda d: 14.399 / d + 0j,\n",
    ")\n",
    "sb.set_coulomb(coulomb_graphene)\n",
    "\n",
    "# create the stack object\n",
    "stack = sb.get_stack( beta = 0.1 )\n",
    "\n",
    "# thermal occupation factors\n",
    "granad.show_energies( stack )"
   ]
  }
 ],
 "metadata": {
  "kernelspec": {
   "display_name": "base",
   "language": "python",
   "name": "base"
  }
 },
 "nbformat": 4,
 "nbformat_minor": 5
}
