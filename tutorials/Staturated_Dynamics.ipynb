{
 "cells": [
  {
   "cell_type": "markdown",
   "id": "137717ee",
   "metadata": {},
   "source": [
    "## Saturation functional\n",
    "\n",
    "This example demonstrates how to preserve Pauli statistics with the saturation functional approach detailed in https://link.aps.org/doi/10.1103/PhysRevA.109.022237\n",
    "\n",
    "### Set up the Stack\n",
    "\n",
    "We consider a 6-atom chain like in the publication."
   ]
  },
  {
   "cell_type": "code",
   "execution_count": null,
   "id": "c5364ed1",
   "metadata": {},
   "outputs": [],
   "source": [
    "\n",
    "import granad\n",
    "\n",
    "import jax\n",
    "import jax.numpy as jnp\n",
    "import numpy as np\n",
    "import matplotlib.pyplot as plt\n",
    "\n",
    "# build stack\n",
    "sb = granad.StackBuilder()\n",
    "\n",
    "# add graphene\n",
    "graphene = granad.Lattice(\n",
    "    shape=granad.Chain(16),\n",
    "    lattice_type=granad.LatticeType.CHAIN,\n",
    "    lattice_edge=granad.LatticeEdge.NONE,\n",
    "    lattice_constant=1.42,\n",
    ")\n",
    "sb.add(\"pz\", graphene)\n",
    "\n",
    "hopping_graphene = granad.LatticeCoupling(\n",
    "    orbital_id1=\"pz\", orbital_id2=\"pz\", lattice=graphene, couplings=[0, -2.66]\n",
    ")\n",
    "sb.set_hopping(hopping_graphene)\n",
    "\n",
    "\n",
    "coulomb_graphene = granad.LatticeCoupling(\n",
    "    orbital_id1=\"pz\",\n",
    "    orbital_id2=\"pz\",\n",
    "    lattice=graphene,\n",
    "    couplings=[16.522, 8.64, 5.333],\n",
    "    coupling_function=lambda d: 14.399 / d + 0j,\n",
    ")\n",
    "sb.set_coulomb(coulomb_graphene)\n",
    "\n",
    "# create the stack object\n",
    "stack = sb.get_stack( from_state = 0, to_state = 2)\n"
   ]
  },
  {
   "cell_type": "markdown",
   "id": "7881c31e",
   "metadata": {},
   "source": [
    "We define the external illumination"
   ]
  },
  {
   "cell_type": "code",
   "execution_count": null,
   "id": "7385db07",
   "metadata": {},
   "outputs": [],
   "source": [
    "\n",
    "amplitudes = [0.0, 0, 0]\n",
    "frequency = 1\n",
    "peak = 2\n",
    "fwhm = 0.5\n",
    "\n",
    "# choose an x-polarized electric field propagating in z-direction\n",
    "field_func = granad.electric_field_pulse(\n",
    "    amplitudes, frequency, stack.positions[0, :], peak, fwhm\n",
    "\n",
    ")"
   ]
  },
  {
   "cell_type": "markdown",
   "id": "d1a4d87e",
   "metadata": {},
   "source": [
    "We inform GRANAD about the dissipation rates of different channels by defining a matrix gamma_matrix, where gamma_matrix[i,j] describes the transition rate from energy eigenstate i to j. In this way, we can also model gain, but we don't do this here."
   ]
  },
  {
   "cell_type": "code",
   "execution_count": null,
   "id": "989bb329",
   "metadata": {},
   "outputs": [],
   "source": [
    "\n",
    "# propagate in time\n",
    "gamma = 10\n",
    "time_axis = jnp.linspace(0, 1/gamma, 200000)\n",
    "\n",
    "# allow transfer from higher energies to lower energies only if the\n",
    "# two energy levels are not degenerate\n",
    "diff = stack.energies[:,None] - stack.energies\n",
    "gamma_matrix = gamma * jnp.logical_and( diff < 0, jnp.abs(diff) > stack.eps, )\n"
   ]
  },
  {
   "cell_type": "markdown",
   "id": "51e9cac4",
   "metadata": {},
   "source": [
    "We now propagate the stack in time. However, in contrast to the phenomenological relaxation functional, we now choose a saturation functional that turns of decay channels if the target level is completely occupied (occupation == 2 for spin-polarized analysis). We choose a smooth approximation to the Heavside function."
   ]
  },
  {
   "cell_type": "code",
   "execution_count": null,
   "id": "d8f5050a",
   "metadata": {},
   "outputs": [],
   "source": [
    "\n",
    "relaxation_function = granad.lindblad( stack, gamma_matrix.T, saturation = lambda x : 1/ ( 1 + jnp.exp( -1e6*(2.0 - x)) ) )\n",
    "\n",
    "# run the simulation and extract occupations with a suitable postprocessing function\n",
    "time_axis = jnp.linspace(0, 1/gamma, 2000000)\n",
    "saveat = time_axis[::100]\n",
    "stack_new, sol = granad.evolution(\n",
    "    stack, time_axis, field_func, relaxation_function, saveat = saveat)\n",
    "\n",
    "occupations = jnp.diagonal( stack.eigenvectors.conj().T @ sol.ys @ stack.eigenvectors, axis1=1, axis2=2 ).real\n",
    "\n",
    "\n",
    "# plot occupations as function of time\n",
    "for i, occ in enumerate(occupations.T):\n",
    "    plt.plot( saveat * gamma, stack.electrons * occ.real, label = round(stack.energies[i],2) )\n",
    "plt.legend()\n",
    "plt.show()\n",
    "plt.close()\n"
   ]
  }
 ],
 "metadata": {
  "kernelspec": {
   "display_name": "base",
   "language": "python",
   "name": "base"
  }
 },
 "nbformat": 4,
 "nbformat_minor": 5
}
