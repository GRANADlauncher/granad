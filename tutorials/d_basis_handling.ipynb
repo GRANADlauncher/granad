{
 "cells": [
  {
   "cell_type": "markdown",
   "id": "d1180f73",
   "metadata": {},
   "source": [
    "# Basis Handling\n",
    "\n",
    "We talk about how to switch between site and energy basis."
   ]
  },
  {
   "cell_type": "markdown",
   "id": "1ff1e7a4",
   "metadata": {},
   "source": [
    "## Default basis\n",
    "\n",
    "By default, GRANAD uses the site basis. You can explicitly force a quantity to be given in energy basis by appending \"_e\" to it."
   ]
  },
  {
   "cell_type": "code",
   "execution_count": 1,
   "id": "468e667a",
   "metadata": {
    "execution": {
     "iopub.execute_input": "2024-05-13T05:45:24.130683Z",
     "iopub.status.busy": "2024-05-13T05:45:24.130170Z",
     "iopub.status.idle": "2024-05-13T05:45:28.491391Z",
     "shell.execute_reply": "2024-05-13T05:45:28.490731Z"
    }
   },
   "outputs": [],
   "source": [
    "import jax.numpy as jnp\n",
    "from granad import MaterialCatalog\n",
    "\n",
    "chain  = MaterialCatalog.get(\"metal_1d\")\n",
    "flake = chain.cut_flake( unit_cells = 10 )\n",
    "site_occupations = flake.initial_density_matrix.diagonal() # site basis\n",
    "energy_occupations = flake.initial_density_matrix_e.diagonal() # energy basis"
   ]
  },
  {
   "cell_type": "markdown",
   "id": "59ae5407",
   "metadata": {},
   "source": [
    "Additionally, should you be unsure, the site basis is always given by appending \"_x\"."
   ]
  },
  {
   "cell_type": "code",
   "execution_count": 2,
   "id": "d23c7a4c",
   "metadata": {
    "execution": {
     "iopub.execute_input": "2024-05-13T05:45:28.494558Z",
     "iopub.status.busy": "2024-05-13T05:45:28.494213Z",
     "iopub.status.idle": "2024-05-13T05:45:28.524997Z",
     "shell.execute_reply": "2024-05-13T05:45:28.524449Z"
    }
   },
   "outputs": [
    {
     "name": "stdout",
     "output_type": "stream",
     "text": [
      "True\n"
     ]
    }
   ],
   "source": [
    "print(jnp.all(flake.initial_density_matrix_x == flake.initial_density_matrix))"
   ]
  },
  {
   "cell_type": "markdown",
   "id": "31bc7def",
   "metadata": {},
   "source": [
    "There is also a built-in function for basis transformation"
   ]
  },
  {
   "cell_type": "code",
   "execution_count": 3,
   "id": "56950199",
   "metadata": {
    "execution": {
     "iopub.execute_input": "2024-05-13T05:45:28.527661Z",
     "iopub.status.busy": "2024-05-13T05:45:28.527268Z",
     "iopub.status.idle": "2024-05-13T05:45:28.532651Z",
     "shell.execute_reply": "2024-05-13T05:45:28.532149Z"
    }
   },
   "outputs": [
    {
     "name": "stdout",
     "output_type": "stream",
     "text": [
      "True\n"
     ]
    }
   ],
   "source": [
    "print(jnp.all(flake.transform_to_energy_basis(flake.hamiltonian) == flake.hamiltonian_e))"
   ]
  },
  {
   "cell_type": "markdown",
   "id": "9f213078",
   "metadata": {
    "lines_to_next_cell": 2
   },
   "source": [
    "This is usually only useful when transforming arrays of density matrices, because they are just returned from an orbital list and don't belong to its attributes, so you can't simply append _e."
   ]
  },
  {
   "cell_type": "markdown",
   "id": "ed01187a",
   "metadata": {},
   "source": [
    "Displaying transition dipole moments"
   ]
  },
  {
   "cell_type": "code",
   "execution_count": 4,
   "id": "e5edf3e4",
   "metadata": {
    "execution": {
     "iopub.execute_input": "2024-05-13T05:45:28.535000Z",
     "iopub.status.busy": "2024-05-13T05:45:28.534637Z",
     "iopub.status.idle": "2024-05-13T05:45:28.927802Z",
     "shell.execute_reply": "2024-05-13T05:45:28.927194Z"
    }
   },
   "outputs": [
    {
     "data": {
      "image/png": "[encoded data removed]",
      "text/plain": [
       "<Figure size 480x480 with 1 Axes>"
      ]
     },
     "metadata": {},
     "output_type": "display_data"
    }
   ],
   "source": [
    "import matplotlib.pyplot as plt\n",
    "plt.matshow(flake.dipole_operator_e[0].real)\n",
    "plt.show()"
   ]
  }
 ],
 "metadata": {
  "kernelspec": {
   "display_name": "base",
   "language": "python",
   "name": "base"
  },
  "language_info": {
   "codemirror_mode": {
    "name": "ipython",
    "version": 3
   },
   "file_extension": ".py",
   "mimetype": "text/x-python",
   "name": "python",
   "nbconvert_exporter": "python",
   "pygments_lexer": "ipython3",
   "version": "3.12.3"
  }
 },
 "nbformat": 4,
 "nbformat_minor": 5
}
