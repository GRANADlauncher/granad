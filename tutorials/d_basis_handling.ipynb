{
 "cells": [
  {
   "cell_type": "markdown",
   "id": "df36ca2e",
   "metadata": {},
   "source": [
    "# Basis Handling\n",
    "\n",
    "We introduce the site and energy basis. "
   ]
  },
  {
   "cell_type": "markdown",
   "id": "07944023",
   "metadata": {},
   "source": [
    "## Default basis\n",
    "\n",
    "By default, GRANAD uses the site basis. You can explicitly force a quantity to be given in energy basis by appending \"_e\" to it."
   ]
  },
  {
   "cell_type": "code",
   "execution_count": 1,
   "id": "dacdd465",
   "metadata": {
    "execution": {
     "iopub.execute_input": "2025-01-30T14:19:38.086370Z",
     "iopub.status.busy": "2025-01-30T14:19:38.085861Z",
     "iopub.status.idle": "2025-01-30T14:19:42.742254Z",
     "shell.execute_reply": "2025-01-30T14:19:42.741704Z"
    }
   },
   "outputs": [],
   "source": [
    "import jax.numpy as jnp\n",
    "from granad import MaterialCatalog\n",
    "\n",
    "chain  = MaterialCatalog.get(\"chain\")\n",
    "flake = chain.cut_flake( unit_cells = 10 )\n",
    "site_occupations = flake.initial_density_matrix.diagonal() # site basis\n",
    "energy_occupations = flake.initial_density_matrix_e.diagonal() # energy basis"
   ]
  },
  {
   "cell_type": "markdown",
   "id": "ceb1360f",
   "metadata": {},
   "source": [
    "Additionally, should you be unsure, the site basis is always given by appending \"_x\"."
   ]
  },
  {
   "cell_type": "code",
   "execution_count": 2,
   "id": "550d1881",
   "metadata": {
    "execution": {
     "iopub.execute_input": "2025-01-30T14:19:42.744689Z",
     "iopub.status.busy": "2025-01-30T14:19:42.744310Z",
     "iopub.status.idle": "2025-01-30T14:19:42.777097Z",
     "shell.execute_reply": "2025-01-30T14:19:42.776564Z"
    }
   },
   "outputs": [
    {
     "name": "stdout",
     "output_type": "stream",
     "text": [
      "True\n"
     ]
    }
   ],
   "source": [
    "print(jnp.all(flake.initial_density_matrix_x == flake.initial_density_matrix))"
   ]
  },
  {
   "cell_type": "markdown",
   "id": "91fe84df",
   "metadata": {},
   "source": [
    "There is also a built-in function for basis transformation"
   ]
  },
  {
   "cell_type": "code",
   "execution_count": 3,
   "id": "e2002dc5",
   "metadata": {
    "execution": {
     "iopub.execute_input": "2025-01-30T14:19:42.779045Z",
     "iopub.status.busy": "2025-01-30T14:19:42.778662Z",
     "iopub.status.idle": "2025-01-30T14:19:42.783768Z",
     "shell.execute_reply": "2025-01-30T14:19:42.783224Z"
    }
   },
   "outputs": [
    {
     "name": "stdout",
     "output_type": "stream",
     "text": [
      "True\n"
     ]
    }
   ],
   "source": [
    "print(jnp.all(flake.transform_to_energy_basis(flake.hamiltonian) == flake.hamiltonian_e))"
   ]
  },
  {
   "cell_type": "markdown",
   "id": "9e27b87c",
   "metadata": {
    "lines_to_next_cell": 2
   },
   "source": [
    "This is useful when transforming arrays of density matrices, because appending _e only works on attributes of the orbital list. Density matrices are a simulation output and as such not an attribute of the orbital list. Appending _e to the variable name will thus not work and a separate method is needed."
   ]
  },
  {
   "cell_type": "markdown",
   "id": "8c181c9f",
   "metadata": {},
   "source": [
    "Transition dipole moments can be displayed in energy basis"
   ]
  },
  {
   "cell_type": "code",
   "execution_count": 4,
   "id": "19805157",
   "metadata": {
    "execution": {
     "iopub.execute_input": "2025-01-30T14:19:42.785555Z",
     "iopub.status.busy": "2025-01-30T14:19:42.785390Z",
     "iopub.status.idle": "2025-01-30T14:19:43.205694Z",
     "shell.execute_reply": "2025-01-30T14:19:43.204978Z"
    }
   },
   "outputs": [
    {
     "data": {
      "image/png": "[encoded data removed]",
      "text/plain": [
       "<Figure size 480x480 with 2 Axes>"
      ]
     },
     "metadata": {},
     "output_type": "display_data"
    }
   ],
   "source": [
    "import matplotlib.pyplot as plt\n",
    "plt.matshow(flake.dipole_operator_e[0].real)\n",
    "plt.colorbar()\n",
    "plt.show()"
   ]
  }
 ],
 "metadata": {
  "kernelspec": {
   "display_name": "base",
   "language": "python",
   "name": "base"
  },
  "language_info": {
   "codemirror_mode": {
    "name": "ipython",
    "version": 3
   },
   "file_extension": ".py",
   "mimetype": "text/x-python",
   "name": "python",
   "nbconvert_exporter": "python",
   "pygments_lexer": "ipython3",
   "version": "3.12.8"
  }
 },
 "nbformat": 4,
 "nbformat_minor": 5
}
