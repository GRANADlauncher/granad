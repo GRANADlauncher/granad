{
 "cells": [
  {
   "cell_type": "markdown",
   "id": "3ae1913f",
   "metadata": {},
   "source": [
    "# Basis Handling\n",
    "\n",
    "We introduce the site and energy basis. "
   ]
  },
  {
   "cell_type": "markdown",
   "id": "68881f1a",
   "metadata": {},
   "source": [
    "## Default basis\n",
    "\n",
    "By default, GRANAD uses the site basis. You can explicitly force a quantity to be given in energy basis by appending \"_e\" to it."
   ]
  },
  {
   "cell_type": "code",
   "execution_count": 1,
   "id": "7bdd9a24",
   "metadata": {
    "execution": {
     "iopub.execute_input": "2024-11-29T13:29:15.954535Z",
     "iopub.status.busy": "2024-11-29T13:29:15.954355Z",
     "iopub.status.idle": "2024-11-29T13:29:19.955081Z",
     "shell.execute_reply": "2024-11-29T13:29:19.954565Z"
    }
   },
   "outputs": [],
   "source": [
    "import jax.numpy as jnp\n",
    "from granad import MaterialCatalog\n",
    "\n",
    "chain  = MaterialCatalog.get(\"metal_1d\")\n",
    "flake = chain.cut_flake( unit_cells = 10 )\n",
    "site_occupations = flake.initial_density_matrix.diagonal() # site basis\n",
    "energy_occupations = flake.initial_density_matrix_e.diagonal() # energy basis"
   ]
  },
  {
   "cell_type": "markdown",
   "id": "47d11067",
   "metadata": {},
   "source": [
    "Additionally, should you be unsure, the site basis is always given by appending \"_x\"."
   ]
  },
  {
   "cell_type": "code",
   "execution_count": 2,
   "id": "541f576c",
   "metadata": {
    "execution": {
     "iopub.execute_input": "2024-11-29T13:29:19.957569Z",
     "iopub.status.busy": "2024-11-29T13:29:19.957082Z",
     "iopub.status.idle": "2024-11-29T13:29:19.985072Z",
     "shell.execute_reply": "2024-11-29T13:29:19.984511Z"
    }
   },
   "outputs": [
    {
     "name": "stdout",
     "output_type": "stream",
     "text": [
      "True\n"
     ]
    }
   ],
   "source": [
    "print(jnp.all(flake.initial_density_matrix_x == flake.initial_density_matrix))"
   ]
  },
  {
   "cell_type": "markdown",
   "id": "5c65c0fb",
   "metadata": {},
   "source": [
    "There is also a built-in function for basis transformation"
   ]
  },
  {
   "cell_type": "code",
   "execution_count": 3,
   "id": "7a0cc0fe",
   "metadata": {
    "execution": {
     "iopub.execute_input": "2024-11-29T13:29:19.987050Z",
     "iopub.status.busy": "2024-11-29T13:29:19.986681Z",
     "iopub.status.idle": "2024-11-29T13:29:19.991526Z",
     "shell.execute_reply": "2024-11-29T13:29:19.991061Z"
    }
   },
   "outputs": [
    {
     "name": "stdout",
     "output_type": "stream",
     "text": [
      "True\n"
     ]
    }
   ],
   "source": [
    "print(jnp.all(flake.transform_to_energy_basis(flake.hamiltonian) == flake.hamiltonian_e))"
   ]
  },
  {
   "cell_type": "markdown",
   "id": "5a06878d",
   "metadata": {
    "lines_to_next_cell": 2
   },
   "source": [
    "This is useful when transforming arrays of density matrices, because appending _e only works on attributes of the orbital list. Density matrices are a simulation output and as such not an attribute of the orbital list. Appending _e to the variable name will thus not work and a separate method is needed."
   ]
  },
  {
   "cell_type": "markdown",
   "id": "c100de06",
   "metadata": {},
   "source": [
    "Transition dipole moments can be displayed in energy basis"
   ]
  },
  {
   "cell_type": "code",
   "execution_count": 4,
   "id": "4b3a360b",
   "metadata": {
    "execution": {
     "iopub.execute_input": "2024-11-29T13:29:19.993402Z",
     "iopub.status.busy": "2024-11-29T13:29:19.993042Z",
     "iopub.status.idle": "2024-11-29T13:29:20.429643Z",
     "shell.execute_reply": "2024-11-29T13:29:20.429004Z"
    }
   },
   "outputs": [
    {
     "data": {
      "image/png": "[encoded data removed]",
      "text/plain": [
       "<Figure size 480x480 with 2 Axes>"
      ]
     },
     "metadata": {},
     "output_type": "display_data"
    }
   ],
   "source": [
    "import matplotlib.pyplot as plt\n",
    "plt.matshow(flake.dipole_operator_e[0].real)\n",
    "plt.colorbar()\n",
    "plt.show()"
   ]
  }
 ],
 "metadata": {
  "kernelspec": {
   "display_name": "base",
   "language": "python",
   "name": "base"
  },
  "language_info": {
   "codemirror_mode": {
    "name": "ipython",
    "version": 3
   },
   "file_extension": ".py",
   "mimetype": "text/x-python",
   "name": "python",
   "nbconvert_exporter": "python",
   "pygments_lexer": "ipython3",
   "version": "3.12.7"
  }
 },
 "nbformat": 4,
 "nbformat_minor": 5
}
