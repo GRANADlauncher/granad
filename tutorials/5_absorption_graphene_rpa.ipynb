{
 "cells": [
  {
   "cell_type": "markdown",
   "id": "2befc212",
   "metadata": {},
   "source": [
    "## RPA-absorption spectrum of graphene nanoflakes\n",
    "\n",
    "This example demonstrates an advanced simulation. We will initialize a triangular graphene nanoflake and compute its TB absorption spectrum within the RPA. This is a frequency-domain simulation, so no need for time propagation.\n",
    "\n",
    "### Set up the Stack\n",
    "\n",
    "The setup is analogous to the first tutorial. We build the Stack using the StackBuilder, which needs to know the material (a triangular armchair graphene nanoflake of 7.4 Å) and the coupling between the pz-orbitals (hopping rates and Coulomb interaction)."
   ]
  },
  {
   "cell_type": "code",
   "execution_count": null,
   "id": "c963ef43",
   "metadata": {},
   "outputs": [],
   "source": [
    "import granad\n",
    "import jax\n",
    "import jax.numpy as jnp\n",
    "import numpy as np\n",
    "import diffrax\n",
    "import matplotlib.pyplot as plt\n",
    "\n",
    "sb = granad.StackBuilder()\n",
    "\n",
    "# geometry\n",
    "triangle = granad.Triangle(7.4) \n",
    "graphene = granad.Lattice(\n",
    "    shape=triangle,\n",
    "    lattice_type=granad.LatticeType.HONEYCOMB,\n",
    "    lattice_edge=granad.LatticeEdge.ARMCHAIR,\n",
    "    lattice_constant=2.46,\n",
    ")\n",
    "sb.add(\"pz\", graphene)\n",
    "\n",
    "# couplings\n",
    "hopping_graphene = granad.LatticeCoupling(\n",
    "    orbital_id1=\"pz\", orbital_id2=\"pz\", lattice=graphene, couplings=[0, -2.66] # list of hopping amplitudes like [onsite, nn, ...]\n",
    ")\n",
    "sb.set_hopping(hopping_graphene)\n",
    "coulomb_graphene = granad.LatticeCoupling(\n",
    "    orbital_id1=\"pz\",\n",
    "    orbital_id2=\"pz\",\n",
    "    lattice=graphene,\n",
    "    couplings=[16.522, 8.64, 5.333],\n",
    "    coupling_function=lambda d: 14.399 / d + 0j,\n",
    ")\n",
    "sb.set_coulomb(coulomb_graphene)\n",
    "\n",
    "stack = sb.get_stack()"
   ]
  },
  {
   "cell_type": "markdown",
   "id": "b9b0b2a4",
   "metadata": {},
   "source": [
    "We now compute the RPA absorption for an x-polarized uniform electric field. We do so by first computing the polarizability and then aking its imaginary part. Similar to the previous function, we have to tell GRANAD some parameters: a phenomennological broadening, coulomb strength scaling factor. In addition, we make it fast, but take a lot of memory with hungry = True. "
   ]
  },
  {
   "cell_type": "code",
   "execution_count": null,
   "id": "e1689104",
   "metadata": {},
   "outputs": [],
   "source": [
    "omegas = jnp.linspace(0, 20, 200)\n",
    "polarization = 0\n",
    "tau = 0.1\n",
    "coulomb_strength = 1.0\n",
    "alpha = granad.rpa_polarizability_function( stack = stack, tau = tau, polarization = polarization, coulomb_strength=coulomb_strength, hungry = True )\n",
    "absorption = jax.lax.map( alpha, omegas ).imag * 4 * jnp.pi * omegas\n",
    "plt.plot( omegas, absorption )\n",
    "plt.show()"
   ]
  }
 ],
 "metadata": {
  "kernelspec": {
   "display_name": "base",
   "language": "python",
   "name": "base"
  }
 },
 "nbformat": 4,
 "nbformat_minor": 5
}
