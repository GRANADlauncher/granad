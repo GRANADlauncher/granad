{
 "cells": [
  {
   "cell_type": "markdown",
   "id": "155a0e77",
   "metadata": {},
   "source": [
    "# Exporting and Importing\n"
   ]
  },
  {
   "cell_type": "markdown",
   "id": "5fbce83f",
   "metadata": {},
   "source": [
    "GRANAD lets you save orbitals to xyz files. It also offers rudimentary support for loading orbitals from xyz files. For demonstration, we will create a triangular flake, print its xyz representation, save it to file and reload it."
   ]
  },
  {
   "cell_type": "code",
   "execution_count": 1,
   "id": "7a029e9a",
   "metadata": {
    "execution": {
     "iopub.execute_input": "2025-01-30T10:28:38.453073Z",
     "iopub.status.busy": "2025-01-30T10:28:38.452886Z",
     "iopub.status.idle": "2025-01-30T10:28:41.577010Z",
     "shell.execute_reply": "2025-01-30T10:28:41.576322Z"
    }
   },
   "outputs": [],
   "source": [
    "from granad import MaterialCatalog, Triangle, OrbitalList\n",
    "graphene = MaterialCatalog.get( \"graphene\" )\n",
    "flake = graphene.cut_flake( Triangle(15)  )"
   ]
  },
  {
   "cell_type": "markdown",
   "id": "3ea2ecb6",
   "metadata": {},
   "source": [
    "We can look at only the atoms in this file. They are given as a dictionary. The type of atom is the key. The value is all positions where atoms of this type are."
   ]
  },
  {
   "cell_type": "code",
   "execution_count": 2,
   "id": "7fc7e97c",
   "metadata": {
    "execution": {
     "iopub.execute_input": "2025-01-30T10:28:41.579484Z",
     "iopub.status.busy": "2025-01-30T10:28:41.579009Z",
     "iopub.status.idle": "2025-01-30T10:28:41.597460Z",
     "shell.execute_reply": "2025-01-30T10:28:41.596905Z"
    }
   },
   "outputs": [
    {
     "name": "stdout",
     "output_type": "stream",
     "text": [
      "defaultdict(<class 'list'>, {'C': [['0.7101408311032396', '1.23', '0.0'], ['2.1304224933097187', '1.23', '0.0'], ['0.0', '2.46', '0.0'], ['0.7101408311032396', '3.6900000000000004', '0.0'], ['2.1304224933097187', '3.6900000000000004', '0.0'], ['2.840563324412959', '2.46', '0.0'], ['4.260844986619438', '2.46', '0.0'], ['4.970985817722679', '3.6900000000000004', '0.0'], ['6.391267479929158', '3.6900000000000004', '0.0'], ['0.0', '4.92', '0.0'], ['0.7101408311032396', '6.1499999999999995', '0.0'], ['2.1304224933097187', '6.1499999999999995', '0.0'], ['2.840563324412959', '4.92', '0.0'], ['4.260844986619438', '4.92', '0.0'], ['4.970985817722679', '6.1499999999999995', '0.0'], ['6.391267479929158', '6.1499999999999995', '0.0'], ['7.1014083110323964', '4.92', '0.0'], ['8.521689973238875', '4.92', '0.0'], ['9.231830804342117', '6.1499999999999995', '0.0'], ['10.652112466548594', '6.1499999999999995', '0.0'], ['0.0', '7.38', '0.0'], ['0.7101408311032396', '8.61', '0.0'], ['2.1304224933097187', '8.61', '0.0'], ['2.840563324412959', '7.38', '0.0'], ['4.260844986619438', '7.38', '0.0'], ['4.970985817722679', '8.61', '0.0'], ['6.391267479929158', '8.61', '0.0'], ['7.1014083110323964', '7.38', '0.0'], ['8.521689973238875', '7.38', '0.0'], ['9.231830804342117', '8.61', '0.0'], ['10.652112466548594', '8.61', '0.0'], ['11.362253297651833', '7.38', '0.0'], ['0.0', '9.84', '0.0'], ['0.7101408311032396', '11.07', '0.0'], ['2.1304224933097187', '11.07', '0.0'], ['2.840563324412959', '9.84', '0.0'], ['4.260844986619438', '9.84', '0.0'], ['4.970985817722679', '11.07', '0.0'], ['6.391267479929158', '11.07', '0.0'], ['7.1014083110323964', '9.84', '0.0'], ['8.521689973238875', '9.84', '0.0'], ['0.0', '12.3', '0.0'], ['0.7101408311032396', '13.530000000000001', '0.0'], ['2.1304224933097187', '13.530000000000001', '0.0'], ['2.840563324412959', '12.3', '0.0'], ['4.260844986619438', '12.3', '0.0']]})\n"
     ]
    }
   ],
   "source": [
    "print(flake.atoms)"
   ]
  },
  {
   "cell_type": "markdown",
   "id": "44a44f72",
   "metadata": {},
   "source": [
    "If you supply no name to the to_xyz method, it will  return the string"
   ]
  },
  {
   "cell_type": "code",
   "execution_count": 3,
   "id": "a9fb02a0",
   "metadata": {
    "execution": {
     "iopub.execute_input": "2025-01-30T10:28:41.599299Z",
     "iopub.status.busy": "2025-01-30T10:28:41.599082Z",
     "iopub.status.idle": "2025-01-30T10:28:41.605173Z",
     "shell.execute_reply": "2025-01-30T10:28:41.604621Z"
    }
   },
   "outputs": [
    {
     "name": "stdout",
     "output_type": "stream",
     "text": [
      "46\n",
      "\n",
      "C 0.7101408311032396 1.23 0.0\n",
      "C 2.1304224933097187 1.23 0.0\n",
      "C 0.0 2.46 0.0\n",
      "C 0.7101408311032396 3.6900000000000004 0.0\n",
      "C 2.1304224933097187 3.6900000000000004 0.0\n",
      "C 2.840563324412959 2.46 0.0\n",
      "C 4.260844986619438 2.46 0.0\n",
      "C 4.970985817722679 3.6900000000000004 0.0\n",
      "C 6.391267479929158 3.6900000000000004 0.0\n",
      "C 0.0 4.92 0.0\n",
      "C 0.7101408311032396 6.1499999999999995 0.0\n",
      "C 2.1304224933097187 6.1499999999999995 0.0\n",
      "C 2.840563324412959 4.92 0.0\n",
      "C 4.260844986619438 4.92 0.0\n",
      "C 4.970985817722679 6.1499999999999995 0.0\n",
      "C 6.391267479929158 6.1499999999999995 0.0\n",
      "C 7.1014083110323964 4.92 0.0\n",
      "C 8.521689973238875 4.92 0.0\n",
      "C 9.231830804342117 6.1499999999999995 0.0\n",
      "C 10.652112466548594 6.1499999999999995 0.0\n",
      "C 0.0 7.38 0.0\n",
      "C 0.7101408311032396 8.61 0.0\n",
      "C 2.1304224933097187 8.61 0.0\n",
      "C 2.840563324412959 7.38 0.0\n",
      "C 4.260844986619438 7.38 0.0\n",
      "C 4.970985817722679 8.61 0.0\n",
      "C 6.391267479929158 8.61 0.0\n",
      "C 7.1014083110323964 7.38 0.0\n",
      "C 8.521689973238875 7.38 0.0\n",
      "C 9.231830804342117 8.61 0.0\n",
      "C 10.652112466548594 8.61 0.0\n",
      "C 11.362253297651833 7.38 0.0\n",
      "C 0.0 9.84 0.0\n",
      "C 0.7101408311032396 11.07 0.0\n",
      "C 2.1304224933097187 11.07 0.0\n",
      "C 2.840563324412959 9.84 0.0\n",
      "C 4.260844986619438 9.84 0.0\n",
      "C 4.970985817722679 11.07 0.0\n",
      "C 6.391267479929158 11.07 0.0\n",
      "C 7.1014083110323964 9.84 0.0\n",
      "C 8.521689973238875 9.84 0.0\n",
      "C 0.0 12.3 0.0\n",
      "C 0.7101408311032396 13.530000000000001 0.0\n",
      "C 2.1304224933097187 13.530000000000001 0.0\n",
      "C 2.840563324412959 12.3 0.0\n",
      "C 4.260844986619438 12.3 0.0\n",
      "\n"
     ]
    }
   ],
   "source": [
    "print(flake.to_xyz())"
   ]
  },
  {
   "cell_type": "markdown",
   "id": "2e7a3b7e",
   "metadata": {},
   "source": [
    "To save this to a file, do"
   ]
  },
  {
   "cell_type": "code",
   "execution_count": 4,
   "id": "d9cc5a1c",
   "metadata": {
    "execution": {
     "iopub.execute_input": "2025-01-30T10:28:41.606986Z",
     "iopub.status.busy": "2025-01-30T10:28:41.606671Z",
     "iopub.status.idle": "2025-01-30T10:28:41.612495Z",
     "shell.execute_reply": "2025-01-30T10:28:41.611967Z"
    }
   },
   "outputs": [],
   "source": [
    "flake.to_xyz('flake.xyz')"
   ]
  },
  {
   "cell_type": "markdown",
   "id": "9a20ce2d",
   "metadata": {},
   "source": [
    "Reloading is limited: all atoms in the xyz file get the same group id by default."
   ]
  },
  {
   "cell_type": "code",
   "execution_count": 5,
   "id": "1928fd0b",
   "metadata": {
    "execution": {
     "iopub.execute_input": "2025-01-30T10:28:41.614141Z",
     "iopub.status.busy": "2025-01-30T10:28:41.613972Z",
     "iopub.status.idle": "2025-01-30T10:28:41.626328Z",
     "shell.execute_reply": "2025-01-30T10:28:41.625838Z"
    }
   },
   "outputs": [],
   "source": [
    "new_flake = OrbitalList.from_xyz('flake.xyz')\n",
    "assert new_flake.atoms == flake.atoms"
   ]
  }
 ],
 "metadata": {
  "kernelspec": {
   "display_name": "base",
   "language": "python",
   "name": "base"
  },
  "language_info": {
   "codemirror_mode": {
    "name": "ipython",
    "version": 3
   },
   "file_extension": ".py",
   "mimetype": "text/x-python",
   "name": "python",
   "nbconvert_exporter": "python",
   "pygments_lexer": "ipython3",
   "version": "3.12.8"
  }
 },
 "nbformat": 4,
 "nbformat_minor": 5
}
