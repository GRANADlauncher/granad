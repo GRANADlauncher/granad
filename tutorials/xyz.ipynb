{
 "cells": [
  {
   "cell_type": "markdown",
   "id": "6c6c10d4",
   "metadata": {},
   "source": [
    "# Exporting and Importing\n"
   ]
  },
  {
   "cell_type": "markdown",
   "id": "5acd12a4",
   "metadata": {},
   "source": [
    "GRANAD lets you save orbitals to xyz files. It also offers rudimentary support for loading orbitals from xyz files. For demonstration, we will create a triangular flake, print its xyz representation, save it to file and reload it."
   ]
  },
  {
   "cell_type": "code",
   "execution_count": 1,
   "id": "1a25ed3b",
   "metadata": {
    "execution": {
     "iopub.execute_input": "2024-05-02T11:42:45.040564Z",
     "iopub.status.busy": "2024-05-02T11:42:45.040361Z",
     "iopub.status.idle": "2024-05-02T11:42:50.195819Z",
     "shell.execute_reply": "2024-05-02T11:42:50.195091Z"
    }
   },
   "outputs": [],
   "source": [
    "from granad import MaterialCatalog, Triangle, OrbitalList\n",
    "graphene = MaterialCatalog.get( \"graphene\" )\n",
    "flake = graphene.cut_flake( Triangle(15)  )"
   ]
  },
  {
   "cell_type": "markdown",
   "id": "5986ef87",
   "metadata": {},
   "source": [
    "We can look at only the atoms in this file. They are given as a dictionary. The type of atom is the key. The value is all positions where atoms of this type are."
   ]
  },
  {
   "cell_type": "code",
   "execution_count": 2,
   "id": "7949e8bf",
   "metadata": {
    "execution": {
     "iopub.execute_input": "2024-05-02T11:42:50.199046Z",
     "iopub.status.busy": "2024-05-02T11:42:50.198441Z",
     "iopub.status.idle": "2024-05-02T11:42:50.217604Z",
     "shell.execute_reply": "2024-05-02T11:42:50.216919Z"
    }
   },
   "outputs": [
    {
     "name": "stdout",
     "output_type": "stream",
     "text": [
      "defaultdict(<class 'list'>, {'C': [['6.15', '2.130422493309719', '0.0'], ['4.92', '4.260844986619438', '0.0'], ['8.61', '2.130422493309719', '0.0'], ['7.38', '4.260844986619438', '0.0'], ['6.15', '6.391267479929157', '0.0'], ['11.07', '2.130422493309719', '0.0'], ['9.84', '4.260844986619438', '0.0'], ['8.61', '6.391267479929157', '0.0'], ['7.38', '8.521689973238876', '0.0'], ['6.15', '10.652112466548594', '0.0'], ['12.3', '4.260844986619438', '0.0'], ['11.07', '6.391267479929157', '0.0'], ['9.84', '8.521689973238876', '0.0'], ['8.61', '10.652112466548594', '0.0'], ['4.92', '2.8405633244129587', '0.0'], ['7.38', '2.8405633244129587', '0.0'], ['6.15', '4.970985817722678', '0.0'], ['9.84', '2.8405633244129587', '0.0'], ['8.61', '4.970985817722678', '0.0'], ['7.38', '7.1014083110323964', '0.0'], ['6.15', '9.231830804342115', '0.0'], ['12.3', '2.8405633244129587', '0.0'], ['11.07', '4.970985817722678', '0.0'], ['9.84', '7.1014083110323964', '0.0'], ['8.61', '9.231830804342115', '0.0'], ['7.38', '11.362253297651835', '0.0']]})\n"
     ]
    }
   ],
   "source": [
    "print(flake.atoms)\n",
    "# \n",
    "\n",
    "# If you supply no name to the to_xyz method, it will just return the string"
   ]
  },
  {
   "cell_type": "code",
   "execution_count": 3,
   "id": "04ed36ea",
   "metadata": {
    "execution": {
     "iopub.execute_input": "2024-05-02T11:42:50.220187Z",
     "iopub.status.busy": "2024-05-02T11:42:50.219788Z",
     "iopub.status.idle": "2024-05-02T11:42:50.225450Z",
     "shell.execute_reply": "2024-05-02T11:42:50.224953Z"
    }
   },
   "outputs": [
    {
     "name": "stdout",
     "output_type": "stream",
     "text": [
      "26\n",
      "\n",
      "C 6.15 2.130422493309719 0.0\n",
      "C 4.92 4.260844986619438 0.0\n",
      "C 8.61 2.130422493309719 0.0\n",
      "C 7.38 4.260844986619438 0.0\n",
      "C 6.15 6.391267479929157 0.0\n",
      "C 11.07 2.130422493309719 0.0\n",
      "C 9.84 4.260844986619438 0.0\n",
      "C 8.61 6.391267479929157 0.0\n",
      "C 7.38 8.521689973238876 0.0\n",
      "C 6.15 10.652112466548594 0.0\n",
      "C 12.3 4.260844986619438 0.0\n",
      "C 11.07 6.391267479929157 0.0\n",
      "C 9.84 8.521689973238876 0.0\n",
      "C 8.61 10.652112466548594 0.0\n",
      "C 4.92 2.8405633244129587 0.0\n",
      "C 7.38 2.8405633244129587 0.0\n",
      "C 6.15 4.970985817722678 0.0\n",
      "C 9.84 2.8405633244129587 0.0\n",
      "C 8.61 4.970985817722678 0.0\n",
      "C 7.38 7.1014083110323964 0.0\n",
      "C 6.15 9.231830804342115 0.0\n",
      "C 12.3 2.8405633244129587 0.0\n",
      "C 11.07 4.970985817722678 0.0\n",
      "C 9.84 7.1014083110323964 0.0\n",
      "C 8.61 9.231830804342115 0.0\n",
      "C 7.38 11.362253297651835 0.0\n",
      "\n"
     ]
    }
   ],
   "source": [
    "print(flake.to_xyz())"
   ]
  },
  {
   "cell_type": "markdown",
   "id": "ef9bed0f",
   "metadata": {},
   "source": [
    "If you want to save this to a file, do"
   ]
  },
  {
   "cell_type": "code",
   "execution_count": 4,
   "id": "0f898590",
   "metadata": {
    "execution": {
     "iopub.execute_input": "2024-05-02T11:42:50.228020Z",
     "iopub.status.busy": "2024-05-02T11:42:50.227542Z",
     "iopub.status.idle": "2024-05-02T11:42:50.232638Z",
     "shell.execute_reply": "2024-05-02T11:42:50.232179Z"
    }
   },
   "outputs": [],
   "source": [
    "flake.to_xyz('flake.xyz')"
   ]
  },
  {
   "cell_type": "markdown",
   "id": "01512aa5",
   "metadata": {},
   "source": [
    "You can also reload, although this is limited: all atoms in the xyz file get the same group id by default."
   ]
  },
  {
   "cell_type": "code",
   "execution_count": 5,
   "id": "972b837e",
   "metadata": {
    "execution": {
     "iopub.execute_input": "2024-05-02T11:42:50.234971Z",
     "iopub.status.busy": "2024-05-02T11:42:50.234646Z",
     "iopub.status.idle": "2024-05-02T11:42:50.244158Z",
     "shell.execute_reply": "2024-05-02T11:42:50.243705Z"
    },
    "lines_to_next_cell": 0
   },
   "outputs": [],
   "source": [
    "new_flake = OrbitalList.from_xyz('flake.xyz')\n",
    "assert new_flake.atoms == flake.atoms"
   ]
  },
  {
   "cell_type": "code",
   "execution_count": null,
   "id": "04c30056",
   "metadata": {},
   "outputs": [],
   "source": []
  }
 ],
 "metadata": {
  "kernelspec": {
   "display_name": "base",
   "language": "python",
   "name": "base"
  },
  "language_info": {
   "codemirror_mode": {
    "name": "ipython",
    "version": 3
   },
   "file_extension": ".py",
   "mimetype": "text/x-python",
   "name": "python",
   "nbconvert_exporter": "python",
   "pygments_lexer": "ipython3",
   "version": "3.12.3"
  }
 },
 "nbformat": 4,
 "nbformat_minor": 5
}
