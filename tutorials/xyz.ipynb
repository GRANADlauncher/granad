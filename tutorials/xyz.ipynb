{
 "cells": [
  {
   "cell_type": "markdown",
   "id": "6fb00d9e",
   "metadata": {},
   "source": [
    "# Exporting and Importing\n"
   ]
  },
  {
   "cell_type": "markdown",
   "id": "e8eaa809",
   "metadata": {},
   "source": [
    "GRANAD lets you save orbitals to xyz files. It also offers rudimentary support for loading orbitals from xyz files. For demonstration, we will create a triangular flake, print its xyz representation, save it to file and reload it."
   ]
  },
  {
   "cell_type": "code",
   "execution_count": 1,
   "id": "898d962a",
   "metadata": {
    "execution": {
     "iopub.execute_input": "2025-06-11T09:22:08.777451Z",
     "iopub.status.busy": "2025-06-11T09:22:08.777031Z",
     "iopub.status.idle": "2025-06-11T09:22:11.789248Z",
     "shell.execute_reply": "2025-06-11T09:22:11.788577Z"
    }
   },
   "outputs": [],
   "source": [
    "from granad import MaterialCatalog, Triangle, OrbitalList\n",
    "graphene = MaterialCatalog.get( \"graphene\" )\n",
    "flake = graphene.cut_flake( Triangle(15)  )"
   ]
  },
  {
   "cell_type": "markdown",
   "id": "2cc87ff3",
   "metadata": {},
   "source": [
    "We can look at only the atoms in this file. They are given as a dictionary. The type of atom is the key. The value is all positions where atoms of this type are."
   ]
  },
  {
   "cell_type": "code",
   "execution_count": 2,
   "id": "a51ef803",
   "metadata": {
    "execution": {
     "iopub.execute_input": "2025-06-11T09:22:11.791687Z",
     "iopub.status.busy": "2025-06-11T09:22:11.791148Z",
     "iopub.status.idle": "2025-06-11T09:22:11.809177Z",
     "shell.execute_reply": "2025-06-11T09:22:11.808555Z"
    }
   },
   "outputs": [
    {
     "name": "stdout",
     "output_type": "stream",
     "text": [
      "defaultdict(<class 'list'>, {'C': [['0.7101408311032396', '1.23', '0.0'], ['2.1304224933097187', '1.23', '0.0'], ['0.0', '2.46', '0.0'], ['0.7101408311032396', '3.6900000000000004', '0.0'], ['2.1304224933097187', '3.6900000000000004', '0.0'], ['2.840563324412959', '2.46', '0.0'], ['4.260844986619438', '2.46', '0.0'], ['4.970985817722679', '3.6900000000000004', '0.0'], ['6.391267479929158', '3.6900000000000004', '0.0'], ['0.0', '4.92', '0.0'], ['0.7101408311032396', '6.1499999999999995', '0.0'], ['2.1304224933097187', '6.1499999999999995', '0.0'], ['2.840563324412959', '4.92', '0.0'], ['4.260844986619438', '4.92', '0.0'], ['4.970985817722679', '6.1499999999999995', '0.0'], ['6.391267479929158', '6.1499999999999995', '0.0'], ['7.1014083110323964', '4.92', '0.0'], ['8.521689973238875', '4.92', '0.0'], ['9.231830804342117', '6.1499999999999995', '0.0'], ['10.652112466548594', '6.1499999999999995', '0.0'], ['0.0', '7.38', '0.0'], ['0.7101408311032396', '8.61', '0.0'], ['2.1304224933097187', '8.61', '0.0'], ['2.840563324412959', '7.38', '0.0'], ['4.260844986619438', '7.38', '0.0'], ['4.970985817722679', '8.61', '0.0'], ['6.391267479929158', '8.61', '0.0'], ['7.1014083110323964', '7.38', '0.0'], ['8.521689973238875', '7.38', '0.0'], ['9.231830804342117', '8.61', '0.0'], ['10.652112466548594', '8.61', '0.0'], ['11.362253297651833', '7.38', '0.0'], ['0.0', '9.84', '0.0'], ['0.7101408311032396', '11.07', '0.0'], ['2.1304224933097187', '11.07', '0.0'], ['2.840563324412959', '9.84', '0.0'], ['4.260844986619438', '9.84', '0.0'], ['4.970985817722679', '11.07', '0.0'], ['6.391267479929158', '11.07', '0.0'], ['7.1014083110323964', '9.84', '0.0'], ['8.521689973238875', '9.84', '0.0'], ['0.0', '12.3', '0.0'], ['0.7101408311032396', '13.530000000000001', '0.0'], ['2.1304224933097187', '13.530000000000001', '0.0'], ['2.840563324412959', '12.3', '0.0'], ['4.260844986619438', '12.3', '0.0']]})\n"
     ]
    }
   ],
   "source": [
    "print(flake.atoms)"
   ]
  },
  {
   "cell_type": "markdown",
   "id": "afe13d31",
   "metadata": {},
   "source": [
    "If you supply no name to the to_xyz method, it will  return the string"
   ]
  },
  {
   "cell_type": "code",
   "execution_count": 3,
   "id": "bc032166",
   "metadata": {
    "execution": {
     "iopub.execute_input": "2025-06-11T09:22:11.811118Z",
     "iopub.status.busy": "2025-06-11T09:22:11.810730Z",
     "iopub.status.idle": "2025-06-11T09:22:11.817122Z",
     "shell.execute_reply": "2025-06-11T09:22:11.816611Z"
    }
   },
   "outputs": [
    {
     "name": "stdout",
     "output_type": "stream",
     "text": [
      "46\n",
      "\n",
      "C 0.7101408311032396 1.23 0.0\n",
      "C 2.1304224933097187 1.23 0.0\n",
      "C 0.0 2.46 0.0\n",
      "C 0.7101408311032396 3.6900000000000004 0.0\n",
      "C 2.1304224933097187 3.6900000000000004 0.0\n",
      "C 2.840563324412959 2.46 0.0\n",
      "C 4.260844986619438 2.46 0.0\n",
      "C 4.970985817722679 3.6900000000000004 0.0\n",
      "C 6.391267479929158 3.6900000000000004 0.0\n",
      "C 0.0 4.92 0.0\n",
      "C 0.7101408311032396 6.1499999999999995 0.0\n",
      "C 2.1304224933097187 6.1499999999999995 0.0\n",
      "C 2.840563324412959 4.92 0.0\n",
      "C 4.260844986619438 4.92 0.0\n",
      "C 4.970985817722679 6.1499999999999995 0.0\n",
      "C 6.391267479929158 6.1499999999999995 0.0\n",
      "C 7.1014083110323964 4.92 0.0\n",
      "C 8.521689973238875 4.92 0.0\n",
      "C 9.231830804342117 6.1499999999999995 0.0\n",
      "C 10.652112466548594 6.1499999999999995 0.0\n",
      "C 0.0 7.38 0.0\n",
      "C 0.7101408311032396 8.61 0.0\n",
      "C 2.1304224933097187 8.61 0.0\n",
      "C 2.840563324412959 7.38 0.0\n",
      "C 4.260844986619438 7.38 0.0\n",
      "C 4.970985817722679 8.61 0.0\n",
      "C 6.391267479929158 8.61 0.0\n",
      "C 7.1014083110323964 7.38 0.0\n",
      "C 8.521689973238875 7.38 0.0\n",
      "C 9.231830804342117 8.61 0.0\n",
      "C 10.652112466548594 8.61 0.0\n",
      "C 11.362253297651833 7.38 0.0\n",
      "C 0.0 9.84 0.0\n",
      "C 0.7101408311032396 11.07 0.0\n",
      "C 2.1304224933097187 11.07 0.0\n",
      "C 2.840563324412959 9.84 0.0\n",
      "C 4.260844986619438 9.84 0.0\n",
      "C 4.970985817722679 11.07 0.0\n",
      "C 6.391267479929158 11.07 0.0\n",
      "C 7.1014083110323964 9.84 0.0\n",
      "C 8.521689973238875 9.84 0.0\n",
      "C 0.0 12.3 0.0\n",
      "C 0.7101408311032396 13.530000000000001 0.0\n",
      "C 2.1304224933097187 13.530000000000001 0.0\n",
      "C 2.840563324412959 12.3 0.0\n",
      "C 4.260844986619438 12.3 0.0\n",
      "\n"
     ]
    }
   ],
   "source": [
    "print(flake.to_xyz())"
   ]
  },
  {
   "cell_type": "markdown",
   "id": "8e9842e4",
   "metadata": {},
   "source": [
    "To save this to a file, do"
   ]
  },
  {
   "cell_type": "code",
   "execution_count": 4,
   "id": "9de2fcb5",
   "metadata": {
    "execution": {
     "iopub.execute_input": "2025-06-11T09:22:11.818816Z",
     "iopub.status.busy": "2025-06-11T09:22:11.818637Z",
     "iopub.status.idle": "2025-06-11T09:22:11.824514Z",
     "shell.execute_reply": "2025-06-11T09:22:11.824089Z"
    }
   },
   "outputs": [],
   "source": [
    "flake.to_xyz('flake.xyz')"
   ]
  },
  {
   "cell_type": "markdown",
   "id": "cff24020",
   "metadata": {},
   "source": [
    "Reloading is limited: all atoms in the xyz file get the same group id by default."
   ]
  },
  {
   "cell_type": "code",
   "execution_count": 5,
   "id": "9588b080",
   "metadata": {
    "execution": {
     "iopub.execute_input": "2025-06-11T09:22:11.826248Z",
     "iopub.status.busy": "2025-06-11T09:22:11.826070Z",
     "iopub.status.idle": "2025-06-11T09:22:11.838427Z",
     "shell.execute_reply": "2025-06-11T09:22:11.837996Z"
    }
   },
   "outputs": [],
   "source": [
    "new_flake = OrbitalList.from_xyz('flake.xyz')\n",
    "assert new_flake.atoms == flake.atoms"
   ]
  }
 ],
 "metadata": {
  "kernelspec": {
   "display_name": "base",
   "language": "python",
   "name": "base"
  },
  "language_info": {
   "codemirror_mode": {
    "name": "ipython",
    "version": 3
   },
   "file_extension": ".py",
   "mimetype": "text/x-python",
   "name": "python",
   "nbconvert_exporter": "python",
   "pygments_lexer": "ipython3",
   "version": "3.12.11"
  }
 },
 "nbformat": 4,
 "nbformat_minor": 5
}
