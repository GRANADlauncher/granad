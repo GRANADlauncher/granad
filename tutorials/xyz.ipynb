{
 "cells": [
  {
   "cell_type": "markdown",
   "id": "e4d74886",
   "metadata": {},
   "source": [
    "# Exporting and Importing\n"
   ]
  },
  {
   "cell_type": "markdown",
   "id": "c40bae12",
   "metadata": {},
   "source": [
    "GRANAD lets you save orbitals to xyz files. It also offers rudimentary support for loading orbitals from xyz files. For demonstration, we will create a triangular flake, print its xyz representation, save it to file and reload it."
   ]
  },
  {
   "cell_type": "code",
   "execution_count": 1,
   "id": "1a7a2924",
   "metadata": {
    "execution": {
     "iopub.execute_input": "2024-05-08T14:53:28.951045Z",
     "iopub.status.busy": "2024-05-08T14:53:28.950847Z",
     "iopub.status.idle": "2024-05-08T14:53:33.737754Z",
     "shell.execute_reply": "2024-05-08T14:53:33.737101Z"
    }
   },
   "outputs": [],
   "source": [
    "from granad import MaterialCatalog, Triangle, OrbitalList\n",
    "graphene = MaterialCatalog.get( \"graphene\" )\n",
    "flake = graphene.cut_flake( Triangle(15)  )"
   ]
  },
  {
   "cell_type": "markdown",
   "id": "bcc3e0ab",
   "metadata": {},
   "source": [
    "We can look at only the atoms in this file. They are given as a dictionary. The type of atom is the key. The value is all positions where atoms of this type are."
   ]
  },
  {
   "cell_type": "code",
   "execution_count": 2,
   "id": "14aefa31",
   "metadata": {
    "execution": {
     "iopub.execute_input": "2024-05-08T14:53:33.740679Z",
     "iopub.status.busy": "2024-05-08T14:53:33.740210Z",
     "iopub.status.idle": "2024-05-08T14:53:33.756565Z",
     "shell.execute_reply": "2024-05-08T14:53:33.756026Z"
    }
   },
   "outputs": [
    {
     "name": "stdout",
     "output_type": "stream",
     "text": [
      "defaultdict(<class 'list'>, {'C': [['6.15', '2.130422493309719', '0.0'], ['4.92', '4.260844986619438', '0.0'], ['8.61', '2.130422493309719', '0.0'], ['7.38', '4.260844986619438', '0.0'], ['6.15', '6.391267479929157', '0.0'], ['11.07', '2.130422493309719', '0.0'], ['9.84', '4.260844986619438', '0.0'], ['8.61', '6.391267479929157', '0.0'], ['7.38', '8.521689973238876', '0.0'], ['6.15', '10.652112466548594', '0.0'], ['12.3', '4.260844986619438', '0.0'], ['11.07', '6.391267479929157', '0.0'], ['9.84', '8.521689973238876', '0.0'], ['8.61', '10.652112466548594', '0.0'], ['4.92', '2.8405633244129587', '0.0'], ['7.38', '2.8405633244129587', '0.0'], ['6.15', '4.970985817722678', '0.0'], ['9.84', '2.8405633244129587', '0.0'], ['8.61', '4.970985817722678', '0.0'], ['7.38', '7.1014083110323964', '0.0'], ['6.15', '9.231830804342115', '0.0'], ['12.3', '2.8405633244129587', '0.0'], ['11.07', '4.970985817722678', '0.0'], ['9.84', '7.1014083110323964', '0.0'], ['8.61', '9.231830804342115', '0.0'], ['7.38', '11.362253297651835', '0.0']]})\n"
     ]
    }
   ],
   "source": [
    "print(flake.atoms)"
   ]
  },
  {
   "cell_type": "markdown",
   "id": "1a42f144",
   "metadata": {},
   "source": [
    "If you supply no name to the to_xyz method, it will just return the string"
   ]
  },
  {
   "cell_type": "code",
   "execution_count": 3,
   "id": "19ad2829",
   "metadata": {
    "execution": {
     "iopub.execute_input": "2024-05-08T14:53:33.759000Z",
     "iopub.status.busy": "2024-05-08T14:53:33.758539Z",
     "iopub.status.idle": "2024-05-08T14:53:33.764034Z",
     "shell.execute_reply": "2024-05-08T14:53:33.763563Z"
    }
   },
   "outputs": [
    {
     "name": "stdout",
     "output_type": "stream",
     "text": [
      "26\n",
      "\n",
      "C 6.15 2.130422493309719 0.0\n",
      "C 4.92 4.260844986619438 0.0\n",
      "C 8.61 2.130422493309719 0.0\n",
      "C 7.38 4.260844986619438 0.0\n",
      "C 6.15 6.391267479929157 0.0\n",
      "C 11.07 2.130422493309719 0.0\n",
      "C 9.84 4.260844986619438 0.0\n",
      "C 8.61 6.391267479929157 0.0\n",
      "C 7.38 8.521689973238876 0.0\n",
      "C 6.15 10.652112466548594 0.0\n",
      "C 12.3 4.260844986619438 0.0\n",
      "C 11.07 6.391267479929157 0.0\n",
      "C 9.84 8.521689973238876 0.0\n",
      "C 8.61 10.652112466548594 0.0\n",
      "C 4.92 2.8405633244129587 0.0\n",
      "C 7.38 2.8405633244129587 0.0\n",
      "C 6.15 4.970985817722678 0.0\n",
      "C 9.84 2.8405633244129587 0.0\n",
      "C 8.61 4.970985817722678 0.0\n",
      "C 7.38 7.1014083110323964 0.0\n",
      "C 6.15 9.231830804342115 0.0\n",
      "C 12.3 2.8405633244129587 0.0\n",
      "C 11.07 4.970985817722678 0.0\n",
      "C 9.84 7.1014083110323964 0.0\n",
      "C 8.61 9.231830804342115 0.0\n",
      "C 7.38 11.362253297651835 0.0\n",
      "\n"
     ]
    }
   ],
   "source": [
    "print(flake.to_xyz())"
   ]
  },
  {
   "cell_type": "markdown",
   "id": "206f08af",
   "metadata": {},
   "source": [
    "If you want to save this to a file, do"
   ]
  },
  {
   "cell_type": "code",
   "execution_count": 4,
   "id": "fbe4deeb",
   "metadata": {
    "execution": {
     "iopub.execute_input": "2024-05-08T14:53:33.766248Z",
     "iopub.status.busy": "2024-05-08T14:53:33.765923Z",
     "iopub.status.idle": "2024-05-08T14:53:33.771220Z",
     "shell.execute_reply": "2024-05-08T14:53:33.770646Z"
    }
   },
   "outputs": [],
   "source": [
    "flake.to_xyz('flake.xyz')"
   ]
  },
  {
   "cell_type": "markdown",
   "id": "383f1134",
   "metadata": {},
   "source": [
    "You can also reload, although this is limited: all atoms in the xyz file get the same group id by default."
   ]
  },
  {
   "cell_type": "code",
   "execution_count": 5,
   "id": "96d1bd89",
   "metadata": {
    "execution": {
     "iopub.execute_input": "2024-05-08T14:53:33.773344Z",
     "iopub.status.busy": "2024-05-08T14:53:33.773150Z",
     "iopub.status.idle": "2024-05-08T14:53:33.782318Z",
     "shell.execute_reply": "2024-05-08T14:53:33.781755Z"
    }
   },
   "outputs": [],
   "source": [
    "new_flake = OrbitalList.from_xyz('flake.xyz')\n",
    "assert new_flake.atoms == flake.atoms"
   ]
  }
 ],
 "metadata": {
  "kernelspec": {
   "display_name": "base",
   "language": "python",
   "name": "base"
  },
  "language_info": {
   "codemirror_mode": {
    "name": "ipython",
    "version": 3
   },
   "file_extension": ".py",
   "mimetype": "text/x-python",
   "name": "python",
   "nbconvert_exporter": "python",
   "pygments_lexer": "ipython3",
   "version": "3.12.3"
  }
 },
 "nbformat": 4,
 "nbformat_minor": 5
}
