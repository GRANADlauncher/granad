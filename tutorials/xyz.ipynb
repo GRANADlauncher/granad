{
 "cells": [
  {
   "cell_type": "markdown",
   "id": "7583a1fb",
   "metadata": {},
   "source": [
    "# Exporting and Importing\n"
   ]
  },
  {
   "cell_type": "markdown",
   "id": "3f73d93a",
   "metadata": {},
   "source": [
    "GRANAD lets you save orbitals to xyz files. It also offers rudimentary support for loading orbitals from xyz files. For demonstration, we will create a triangular flake, print its xyz representation, save it to file and reload it."
   ]
  },
  {
   "cell_type": "code",
   "execution_count": 1,
   "id": "cea6734e",
   "metadata": {
    "execution": {
     "iopub.execute_input": "2024-08-16T15:04:19.000869Z",
     "iopub.status.busy": "2024-08-16T15:04:19.000657Z",
     "iopub.status.idle": "2024-08-16T15:04:23.587121Z",
     "shell.execute_reply": "2024-08-16T15:04:23.586439Z"
    }
   },
   "outputs": [],
   "source": [
    "from granad import MaterialCatalog, Triangle, OrbitalList\n",
    "graphene = MaterialCatalog.get( \"graphene\" )\n",
    "flake = graphene.cut_flake( Triangle(15)  )"
   ]
  },
  {
   "cell_type": "markdown",
   "id": "70bb60d3",
   "metadata": {},
   "source": [
    "We can look at only the atoms in this file. They are given as a dictionary. The type of atom is the key. The value is all positions where atoms of this type are."
   ]
  },
  {
   "cell_type": "code",
   "execution_count": 2,
   "id": "d99e16d3",
   "metadata": {
    "execution": {
     "iopub.execute_input": "2024-08-16T15:04:23.590213Z",
     "iopub.status.busy": "2024-08-16T15:04:23.589701Z",
     "iopub.status.idle": "2024-08-16T15:04:23.609735Z",
     "shell.execute_reply": "2024-08-16T15:04:23.609160Z"
    }
   },
   "outputs": [
    {
     "name": "stdout",
     "output_type": "stream",
     "text": [
      "defaultdict(<class 'list'>, {'C': [['-4.92', '-4.260844986619438', '0.0'], ['-6.15', '-2.130422493309719', '0.0'], ['-2.46', '-4.260844986619438', '0.0'], ['-3.69', '-2.130422493309719', '0.0'], ['-4.92', '0.0', '0.0'], ['0.0', '-4.260844986619438', '0.0'], ['-1.23', '-2.130422493309719', '0.0'], ['-2.46', '0.0', '0.0'], ['-3.69', '2.130422493309719', '0.0'], ['2.46', '-4.260844986619438', '0.0'], ['1.23', '-2.130422493309719', '0.0'], ['0.0', '0.0', '0.0'], ['-1.23', '2.130422493309719', '0.0'], ['-2.46', '4.260844986619438', '0.0'], ['4.92', '-4.260844986619438', '0.0'], ['3.69', '-2.130422493309719', '0.0'], ['2.46', '0.0', '0.0'], ['1.23', '2.130422493309719', '0.0'], ['0.0', '4.260844986619438', '0.0'], ['-1.23', '6.391267479929157', '0.0'], ['6.15', '-2.130422493309719', '0.0'], ['4.92', '0.0', '0.0'], ['3.69', '2.130422493309719', '0.0'], ['2.46', '4.260844986619438', '0.0'], ['1.23', '6.391267479929157', '0.0'], ['-6.15', '-3.5507041555161982', '0.0'], ['-3.69', '-3.5507041555161982', '0.0'], ['-4.92', '-1.4202816622064793', '0.0'], ['-1.23', '-3.5507041555161982', '0.0'], ['-2.46', '-1.4202816622064793', '0.0'], ['-3.69', '0.7101408311032397', '0.0'], ['1.23', '-3.5507041555161982', '0.0'], ['0.0', '-1.4202816622064793', '0.0'], ['-1.23', '0.7101408311032397', '0.0'], ['-2.46', '2.8405633244129587', '0.0'], ['3.69', '-3.5507041555161982', '0.0'], ['2.46', '-1.4202816622064793', '0.0'], ['1.23', '0.7101408311032397', '0.0'], ['0.0', '2.8405633244129587', '0.0'], ['-1.23', '4.970985817722678', '0.0'], ['6.15', '-3.5507041555161982', '0.0'], ['4.92', '-1.4202816622064793', '0.0'], ['3.69', '0.7101408311032397', '0.0'], ['2.46', '2.8405633244129587', '0.0'], ['1.23', '4.970985817722678', '0.0'], ['0.0', '7.1014083110323964', '0.0']]})\n"
     ]
    }
   ],
   "source": [
    "print(flake.atoms)"
   ]
  },
  {
   "cell_type": "markdown",
   "id": "1fa90370",
   "metadata": {},
   "source": [
    "If you supply no name to the to_xyz method, it will  return the string"
   ]
  },
  {
   "cell_type": "code",
   "execution_count": 3,
   "id": "eb8e781c",
   "metadata": {
    "execution": {
     "iopub.execute_input": "2024-08-16T15:04:23.612294Z",
     "iopub.status.busy": "2024-08-16T15:04:23.611912Z",
     "iopub.status.idle": "2024-08-16T15:04:23.618496Z",
     "shell.execute_reply": "2024-08-16T15:04:23.617979Z"
    }
   },
   "outputs": [
    {
     "name": "stdout",
     "output_type": "stream",
     "text": [
      "46\n",
      "\n",
      "C -4.92 -4.260844986619438 0.0\n",
      "C -6.15 -2.130422493309719 0.0\n",
      "C -2.46 -4.260844986619438 0.0\n",
      "C -3.69 -2.130422493309719 0.0\n",
      "C -4.92 0.0 0.0\n",
      "C 0.0 -4.260844986619438 0.0\n",
      "C -1.23 -2.130422493309719 0.0\n",
      "C -2.46 0.0 0.0\n",
      "C -3.69 2.130422493309719 0.0\n",
      "C 2.46 -4.260844986619438 0.0\n",
      "C 1.23 -2.130422493309719 0.0\n",
      "C 0.0 0.0 0.0\n",
      "C -1.23 2.130422493309719 0.0\n",
      "C -2.46 4.260844986619438 0.0\n",
      "C 4.92 -4.260844986619438 0.0\n",
      "C 3.69 -2.130422493309719 0.0\n",
      "C 2.46 0.0 0.0\n",
      "C 1.23 2.130422493309719 0.0\n",
      "C 0.0 4.260844986619438 0.0\n",
      "C -1.23 6.391267479929157 0.0\n",
      "C 6.15 -2.130422493309719 0.0\n",
      "C 4.92 0.0 0.0\n",
      "C 3.69 2.130422493309719 0.0\n",
      "C 2.46 4.260844986619438 0.0\n",
      "C 1.23 6.391267479929157 0.0\n",
      "C -6.15 -3.5507041555161982 0.0\n",
      "C -3.69 -3.5507041555161982 0.0\n",
      "C -4.92 -1.4202816622064793 0.0\n",
      "C -1.23 -3.5507041555161982 0.0\n",
      "C -2.46 -1.4202816622064793 0.0\n",
      "C -3.69 0.7101408311032397 0.0\n",
      "C 1.23 -3.5507041555161982 0.0\n",
      "C 0.0 -1.4202816622064793 0.0\n",
      "C -1.23 0.7101408311032397 0.0\n",
      "C -2.46 2.8405633244129587 0.0\n",
      "C 3.69 -3.5507041555161982 0.0\n",
      "C 2.46 -1.4202816622064793 0.0\n",
      "C 1.23 0.7101408311032397 0.0\n",
      "C 0.0 2.8405633244129587 0.0\n",
      "C -1.23 4.970985817722678 0.0\n",
      "C 6.15 -3.5507041555161982 0.0\n",
      "C 4.92 -1.4202816622064793 0.0\n",
      "C 3.69 0.7101408311032397 0.0\n",
      "C 2.46 2.8405633244129587 0.0\n",
      "C 1.23 4.970985817722678 0.0\n",
      "C 0.0 7.1014083110323964 0.0\n",
      "\n"
     ]
    }
   ],
   "source": [
    "print(flake.to_xyz())"
   ]
  },
  {
   "cell_type": "markdown",
   "id": "5c406496",
   "metadata": {},
   "source": [
    "To save this to a file, do"
   ]
  },
  {
   "cell_type": "code",
   "execution_count": 4,
   "id": "43cc82da",
   "metadata": {
    "execution": {
     "iopub.execute_input": "2024-08-16T15:04:23.620782Z",
     "iopub.status.busy": "2024-08-16T15:04:23.620582Z",
     "iopub.status.idle": "2024-08-16T15:04:23.627258Z",
     "shell.execute_reply": "2024-08-16T15:04:23.626785Z"
    }
   },
   "outputs": [],
   "source": [
    "flake.to_xyz('flake.xyz')"
   ]
  },
  {
   "cell_type": "markdown",
   "id": "6213c983",
   "metadata": {},
   "source": [
    "Reloading is limited: all atoms in the xyz file get the same group id by default."
   ]
  },
  {
   "cell_type": "code",
   "execution_count": 5,
   "id": "987c8ce1",
   "metadata": {
    "execution": {
     "iopub.execute_input": "2024-08-16T15:04:23.629632Z",
     "iopub.status.busy": "2024-08-16T15:04:23.629279Z",
     "iopub.status.idle": "2024-08-16T15:04:23.643255Z",
     "shell.execute_reply": "2024-08-16T15:04:23.642599Z"
    }
   },
   "outputs": [],
   "source": [
    "new_flake = OrbitalList.from_xyz('flake.xyz')\n",
    "assert new_flake.atoms == flake.atoms"
   ]
  }
 ],
 "metadata": {
  "kernelspec": {
   "display_name": "base",
   "language": "python",
   "name": "base"
  },
  "language_info": {
   "codemirror_mode": {
    "name": "ipython",
    "version": 3
   },
   "file_extension": ".py",
   "mimetype": "text/x-python",
   "name": "python",
   "nbconvert_exporter": "python",
   "pygments_lexer": "ipython3",
   "version": "3.12.4"
  }
 },
 "nbformat": 4,
 "nbformat_minor": 5
}
