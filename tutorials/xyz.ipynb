{
 "cells": [
  {
   "cell_type": "markdown",
   "id": "af61480e",
   "metadata": {},
   "source": [
    "# Exporting and Importing\n"
   ]
  },
  {
   "cell_type": "markdown",
   "id": "1508b22a",
   "metadata": {},
   "source": [
    "GRANAD lets you save orbitals to xyz files. It also offers rudimentary support for loading orbitals from xyz files. For demonstration, we will create a triangular flake, print its xyz representation, save it to file and reload it."
   ]
  },
  {
   "cell_type": "code",
   "execution_count": 1,
   "id": "300765f8",
   "metadata": {
    "execution": {
     "iopub.execute_input": "2024-06-11T14:45:07.722754Z",
     "iopub.status.busy": "2024-06-11T14:45:07.722382Z",
     "iopub.status.idle": "2024-06-11T14:45:12.303314Z",
     "shell.execute_reply": "2024-06-11T14:45:12.302637Z"
    }
   },
   "outputs": [],
   "source": [
    "from granad import MaterialCatalog, Triangle, OrbitalList\n",
    "graphene = MaterialCatalog.get( \"graphene\" )\n",
    "flake = graphene.cut_flake( Triangle(15)  )"
   ]
  },
  {
   "cell_type": "markdown",
   "id": "f502dd5d",
   "metadata": {},
   "source": [
    "We can look at only the atoms in this file. They are given as a dictionary. The type of atom is the key. The value is all positions where atoms of this type are."
   ]
  },
  {
   "cell_type": "code",
   "execution_count": 2,
   "id": "20e35b2b",
   "metadata": {
    "execution": {
     "iopub.execute_input": "2024-06-11T14:45:12.306487Z",
     "iopub.status.busy": "2024-06-11T14:45:12.305906Z",
     "iopub.status.idle": "2024-06-11T14:45:12.325231Z",
     "shell.execute_reply": "2024-06-11T14:45:12.324672Z"
    }
   },
   "outputs": [
    {
     "name": "stdout",
     "output_type": "stream",
     "text": [
      "defaultdict(<class 'list'>, {'C': [['-4.92', '-4.260844986619438', '0.0'], ['-6.15', '-2.130422493309719', '0.0'], ['-2.46', '-4.260844986619438', '0.0'], ['-3.69', '-2.130422493309719', '0.0'], ['-4.92', '0.0', '0.0'], ['0.0', '-4.260844986619438', '0.0'], ['-1.23', '-2.130422493309719', '0.0'], ['-2.46', '0.0', '0.0'], ['-3.69', '2.130422493309719', '0.0'], ['2.46', '-4.260844986619438', '0.0'], ['1.23', '-2.130422493309719', '0.0'], ['0.0', '0.0', '0.0'], ['-1.23', '2.130422493309719', '0.0'], ['-2.46', '4.260844986619438', '0.0'], ['4.92', '-4.260844986619438', '0.0'], ['3.69', '-2.130422493309719', '0.0'], ['2.46', '0.0', '0.0'], ['1.23', '2.130422493309719', '0.0'], ['0.0', '4.260844986619438', '0.0'], ['-1.23', '6.391267479929157', '0.0'], ['6.15', '-2.130422493309719', '0.0'], ['4.92', '0.0', '0.0'], ['3.69', '2.130422493309719', '0.0'], ['2.46', '4.260844986619438', '0.0'], ['1.23', '6.391267479929157', '0.0'], ['-6.15', '-3.5507041555161982', '0.0'], ['-3.69', '-3.5507041555161982', '0.0'], ['-4.92', '-1.4202816622064793', '0.0'], ['-1.23', '-3.5507041555161982', '0.0'], ['-2.46', '-1.4202816622064793', '0.0'], ['-3.69', '0.7101408311032397', '0.0'], ['1.23', '-3.5507041555161982', '0.0'], ['0.0', '-1.4202816622064793', '0.0'], ['-1.23', '0.7101408311032397', '0.0'], ['-2.46', '2.8405633244129587', '0.0'], ['3.69', '-3.5507041555161982', '0.0'], ['2.46', '-1.4202816622064793', '0.0'], ['1.23', '0.7101408311032397', '0.0'], ['0.0', '2.8405633244129587', '0.0'], ['-1.23', '4.970985817722678', '0.0'], ['6.15', '-3.5507041555161982', '0.0'], ['4.92', '-1.4202816622064793', '0.0'], ['3.69', '0.7101408311032397', '0.0'], ['2.46', '2.8405633244129587', '0.0'], ['1.23', '4.970985817722678', '0.0'], ['0.0', '7.1014083110323964', '0.0']]})\n"
     ]
    }
   ],
   "source": [
    "print(flake.atoms)"
   ]
  },
  {
   "cell_type": "markdown",
   "id": "017cc4f3",
   "metadata": {},
   "source": [
    "If you supply no name to the to_xyz method, it will just return the string"
   ]
  },
  {
   "cell_type": "code",
   "execution_count": 3,
   "id": "fcff3035",
   "metadata": {
    "execution": {
     "iopub.execute_input": "2024-06-11T14:45:12.327775Z",
     "iopub.status.busy": "2024-06-11T14:45:12.327384Z",
     "iopub.status.idle": "2024-06-11T14:45:12.334216Z",
     "shell.execute_reply": "2024-06-11T14:45:12.333664Z"
    }
   },
   "outputs": [
    {
     "name": "stdout",
     "output_type": "stream",
     "text": [
      "46\n",
      "\n",
      "C -4.92 -4.260844986619438 0.0\n",
      "C -6.15 -2.130422493309719 0.0\n",
      "C -2.46 -4.260844986619438 0.0\n",
      "C -3.69 -2.130422493309719 0.0\n",
      "C -4.92 0.0 0.0\n",
      "C 0.0 -4.260844986619438 0.0\n",
      "C -1.23 -2.130422493309719 0.0\n",
      "C -2.46 0.0 0.0\n",
      "C -3.69 2.130422493309719 0.0\n",
      "C 2.46 -4.260844986619438 0.0\n",
      "C 1.23 -2.130422493309719 0.0\n",
      "C 0.0 0.0 0.0\n",
      "C -1.23 2.130422493309719 0.0\n",
      "C -2.46 4.260844986619438 0.0\n",
      "C 4.92 -4.260844986619438 0.0\n",
      "C 3.69 -2.130422493309719 0.0\n",
      "C 2.46 0.0 0.0\n",
      "C 1.23 2.130422493309719 0.0\n",
      "C 0.0 4.260844986619438 0.0\n",
      "C -1.23 6.391267479929157 0.0\n",
      "C 6.15 -2.130422493309719 0.0\n",
      "C 4.92 0.0 0.0\n",
      "C 3.69 2.130422493309719 0.0\n",
      "C 2.46 4.260844986619438 0.0\n",
      "C 1.23 6.391267479929157 0.0\n",
      "C -6.15 -3.5507041555161982 0.0\n",
      "C -3.69 -3.5507041555161982 0.0\n",
      "C -4.92 -1.4202816622064793 0.0\n",
      "C -1.23 -3.5507041555161982 0.0\n",
      "C -2.46 -1.4202816622064793 0.0\n",
      "C -3.69 0.7101408311032397 0.0\n",
      "C 1.23 -3.5507041555161982 0.0\n",
      "C 0.0 -1.4202816622064793 0.0\n",
      "C -1.23 0.7101408311032397 0.0\n",
      "C -2.46 2.8405633244129587 0.0\n",
      "C 3.69 -3.5507041555161982 0.0\n",
      "C 2.46 -1.4202816622064793 0.0\n",
      "C 1.23 0.7101408311032397 0.0\n",
      "C 0.0 2.8405633244129587 0.0\n",
      "C -1.23 4.970985817722678 0.0\n",
      "C 6.15 -3.5507041555161982 0.0\n",
      "C 4.92 -1.4202816622064793 0.0\n",
      "C 3.69 0.7101408311032397 0.0\n",
      "C 2.46 2.8405633244129587 0.0\n",
      "C 1.23 4.970985817722678 0.0\n",
      "C 0.0 7.1014083110323964 0.0\n",
      "\n"
     ]
    }
   ],
   "source": [
    "print(flake.to_xyz())"
   ]
  },
  {
   "cell_type": "markdown",
   "id": "7877afd7",
   "metadata": {},
   "source": [
    "If you want to save this to a file, do"
   ]
  },
  {
   "cell_type": "code",
   "execution_count": 4,
   "id": "5a77e4e3",
   "metadata": {
    "execution": {
     "iopub.execute_input": "2024-06-11T14:45:12.336559Z",
     "iopub.status.busy": "2024-06-11T14:45:12.336201Z",
     "iopub.status.idle": "2024-06-11T14:45:12.342438Z",
     "shell.execute_reply": "2024-06-11T14:45:12.341969Z"
    }
   },
   "outputs": [],
   "source": [
    "flake.to_xyz('flake.xyz')"
   ]
  },
  {
   "cell_type": "markdown",
   "id": "3ac71a0a",
   "metadata": {},
   "source": [
    "You can also reload, although this is limited: all atoms in the xyz file get the same group id by default."
   ]
  },
  {
   "cell_type": "code",
   "execution_count": 5,
   "id": "21506197",
   "metadata": {
    "execution": {
     "iopub.execute_input": "2024-06-11T14:45:12.344652Z",
     "iopub.status.busy": "2024-06-11T14:45:12.344461Z",
     "iopub.status.idle": "2024-06-11T14:45:12.357498Z",
     "shell.execute_reply": "2024-06-11T14:45:12.356926Z"
    }
   },
   "outputs": [],
   "source": [
    "new_flake = OrbitalList.from_xyz('flake.xyz')\n",
    "assert new_flake.atoms == flake.atoms"
   ]
  }
 ],
 "metadata": {
  "kernelspec": {
   "display_name": "base",
   "language": "python",
   "name": "base"
  },
  "language_info": {
   "codemirror_mode": {
    "name": "ipython",
    "version": 3
   },
   "file_extension": ".py",
   "mimetype": "text/x-python",
   "name": "python",
   "nbconvert_exporter": "python",
   "pygments_lexer": "ipython3",
   "version": "3.12.3"
  }
 },
 "nbformat": 4,
 "nbformat_minor": 5
}
