{
 "cells": [
  {
   "cell_type": "markdown",
   "id": "d9dc76de",
   "metadata": {},
   "source": [
    "# Exporting and Importing\n"
   ]
  },
  {
   "cell_type": "markdown",
   "id": "47444261",
   "metadata": {},
   "source": [
    "GRANAD lets you save orbitals to xyz files. It also offers rudimentary support for loading orbitals from xyz files. For demonstration, we will create a triangular flake, print its xyz representation, save it to file and reload it."
   ]
  },
  {
   "cell_type": "code",
   "execution_count": 1,
   "id": "bfd4ed33",
   "metadata": {
    "execution": {
     "iopub.execute_input": "2024-05-24T17:12:46.915453Z",
     "iopub.status.busy": "2024-05-24T17:12:46.915258Z",
     "iopub.status.idle": "2024-05-24T17:12:51.173352Z",
     "shell.execute_reply": "2024-05-24T17:12:51.172754Z"
    }
   },
   "outputs": [],
   "source": [
    "from granad import MaterialCatalog, Triangle, OrbitalList\n",
    "graphene = MaterialCatalog.get( \"graphene\" )\n",
    "flake = graphene.cut_flake( Triangle(15)  )"
   ]
  },
  {
   "cell_type": "markdown",
   "id": "b34deb35",
   "metadata": {},
   "source": [
    "We can look at only the atoms in this file. They are given as a dictionary. The type of atom is the key. The value is all positions where atoms of this type are."
   ]
  },
  {
   "cell_type": "code",
   "execution_count": 2,
   "id": "64c2a7ec",
   "metadata": {
    "execution": {
     "iopub.execute_input": "2024-05-24T17:12:51.176184Z",
     "iopub.status.busy": "2024-05-24T17:12:51.175742Z",
     "iopub.status.idle": "2024-05-24T17:12:51.192901Z",
     "shell.execute_reply": "2024-05-24T17:12:51.192326Z"
    }
   },
   "outputs": [
    {
     "name": "stdout",
     "output_type": "stream",
     "text": [
      "defaultdict(<class 'list'>, {'C': [['-4.92', '-4.260844986619438', '0.0'], ['-6.15', '-2.130422493309719', '0.0'], ['-2.46', '-4.260844986619438', '0.0'], ['-3.69', '-2.130422493309719', '0.0'], ['-4.92', '0.0', '0.0'], ['0.0', '-4.260844986619438', '0.0'], ['-1.23', '-2.130422493309719', '0.0'], ['-2.46', '0.0', '0.0'], ['-3.69', '2.130422493309719', '0.0'], ['2.46', '-4.260844986619438', '0.0'], ['1.23', '-2.130422493309719', '0.0'], ['0.0', '0.0', '0.0'], ['-1.23', '2.130422493309719', '0.0'], ['-2.46', '4.260844986619438', '0.0'], ['4.92', '-4.260844986619438', '0.0'], ['3.69', '-2.130422493309719', '0.0'], ['2.46', '0.0', '0.0'], ['1.23', '2.130422493309719', '0.0'], ['0.0', '4.260844986619438', '0.0'], ['-1.23', '6.391267479929157', '0.0'], ['6.15', '-2.130422493309719', '0.0'], ['4.92', '0.0', '0.0'], ['3.69', '2.130422493309719', '0.0'], ['2.46', '4.260844986619438', '0.0'], ['1.23', '6.391267479929157', '0.0'], ['-6.15', '-3.5507041555161982', '0.0'], ['-3.69', '-3.5507041555161982', '0.0'], ['-4.92', '-1.4202816622064793', '0.0'], ['-1.23', '-3.5507041555161982', '0.0'], ['-2.46', '-1.4202816622064793', '0.0'], ['-3.69', '0.7101408311032397', '0.0'], ['1.23', '-3.5507041555161982', '0.0'], ['0.0', '-1.4202816622064793', '0.0'], ['-1.23', '0.7101408311032397', '0.0'], ['-2.46', '2.8405633244129587', '0.0'], ['3.69', '-3.5507041555161982', '0.0'], ['2.46', '-1.4202816622064793', '0.0'], ['1.23', '0.7101408311032397', '0.0'], ['0.0', '2.8405633244129587', '0.0'], ['-1.23', '4.970985817722678', '0.0'], ['6.15', '-3.5507041555161982', '0.0'], ['4.92', '-1.4202816622064793', '0.0'], ['3.69', '0.7101408311032397', '0.0'], ['2.46', '2.8405633244129587', '0.0'], ['1.23', '4.970985817722678', '0.0'], ['0.0', '7.1014083110323964', '0.0']]})\n"
     ]
    }
   ],
   "source": [
    "print(flake.atoms)"
   ]
  },
  {
   "cell_type": "markdown",
   "id": "138f8d5a",
   "metadata": {},
   "source": [
    "If you supply no name to the to_xyz method, it will just return the string"
   ]
  },
  {
   "cell_type": "code",
   "execution_count": 3,
   "id": "7f94d35f",
   "metadata": {
    "execution": {
     "iopub.execute_input": "2024-05-24T17:12:51.195294Z",
     "iopub.status.busy": "2024-05-24T17:12:51.194903Z",
     "iopub.status.idle": "2024-05-24T17:12:51.201018Z",
     "shell.execute_reply": "2024-05-24T17:12:51.200504Z"
    }
   },
   "outputs": [
    {
     "name": "stdout",
     "output_type": "stream",
     "text": [
      "46\n",
      "\n",
      "C -4.92 -4.260844986619438 0.0\n",
      "C -6.15 -2.130422493309719 0.0\n",
      "C -2.46 -4.260844986619438 0.0\n",
      "C -3.69 -2.130422493309719 0.0\n",
      "C -4.92 0.0 0.0\n",
      "C 0.0 -4.260844986619438 0.0\n",
      "C -1.23 -2.130422493309719 0.0\n",
      "C -2.46 0.0 0.0\n",
      "C -3.69 2.130422493309719 0.0\n",
      "C 2.46 -4.260844986619438 0.0\n",
      "C 1.23 -2.130422493309719 0.0\n",
      "C 0.0 0.0 0.0\n",
      "C -1.23 2.130422493309719 0.0\n",
      "C -2.46 4.260844986619438 0.0\n",
      "C 4.92 -4.260844986619438 0.0\n",
      "C 3.69 -2.130422493309719 0.0\n",
      "C 2.46 0.0 0.0\n",
      "C 1.23 2.130422493309719 0.0\n",
      "C 0.0 4.260844986619438 0.0\n",
      "C -1.23 6.391267479929157 0.0\n",
      "C 6.15 -2.130422493309719 0.0\n",
      "C 4.92 0.0 0.0\n",
      "C 3.69 2.130422493309719 0.0\n",
      "C 2.46 4.260844986619438 0.0\n",
      "C 1.23 6.391267479929157 0.0\n",
      "C -6.15 -3.5507041555161982 0.0\n",
      "C -3.69 -3.5507041555161982 0.0\n",
      "C -4.92 -1.4202816622064793 0.0\n",
      "C -1.23 -3.5507041555161982 0.0\n",
      "C -2.46 -1.4202816622064793 0.0\n",
      "C -3.69 0.7101408311032397 0.0\n",
      "C 1.23 -3.5507041555161982 0.0\n",
      "C 0.0 -1.4202816622064793 0.0\n",
      "C -1.23 0.7101408311032397 0.0\n",
      "C -2.46 2.8405633244129587 0.0\n",
      "C 3.69 -3.5507041555161982 0.0\n",
      "C 2.46 -1.4202816622064793 0.0\n",
      "C 1.23 0.7101408311032397 0.0\n",
      "C 0.0 2.8405633244129587 0.0\n",
      "C -1.23 4.970985817722678 0.0\n",
      "C 6.15 -3.5507041555161982 0.0\n",
      "C 4.92 -1.4202816622064793 0.0\n",
      "C 3.69 0.7101408311032397 0.0\n",
      "C 2.46 2.8405633244129587 0.0\n",
      "C 1.23 4.970985817722678 0.0\n",
      "C 0.0 7.1014083110323964 0.0\n",
      "\n"
     ]
    }
   ],
   "source": [
    "print(flake.to_xyz())"
   ]
  },
  {
   "cell_type": "markdown",
   "id": "0d8d1624",
   "metadata": {},
   "source": [
    "If you want to save this to a file, do"
   ]
  },
  {
   "cell_type": "code",
   "execution_count": 4,
   "id": "43cb77b5",
   "metadata": {
    "execution": {
     "iopub.execute_input": "2024-05-24T17:12:51.203124Z",
     "iopub.status.busy": "2024-05-24T17:12:51.202910Z",
     "iopub.status.idle": "2024-05-24T17:12:51.208813Z",
     "shell.execute_reply": "2024-05-24T17:12:51.208370Z"
    }
   },
   "outputs": [],
   "source": [
    "flake.to_xyz('flake.xyz')"
   ]
  },
  {
   "cell_type": "markdown",
   "id": "e3101640",
   "metadata": {},
   "source": [
    "You can also reload, although this is limited: all atoms in the xyz file get the same group id by default."
   ]
  },
  {
   "cell_type": "code",
   "execution_count": 5,
   "id": "f446c5be",
   "metadata": {
    "execution": {
     "iopub.execute_input": "2024-05-24T17:12:51.211032Z",
     "iopub.status.busy": "2024-05-24T17:12:51.210651Z",
     "iopub.status.idle": "2024-05-24T17:12:51.223543Z",
     "shell.execute_reply": "2024-05-24T17:12:51.223053Z"
    }
   },
   "outputs": [],
   "source": [
    "new_flake = OrbitalList.from_xyz('flake.xyz')\n",
    "assert new_flake.atoms == flake.atoms"
   ]
  }
 ],
 "metadata": {
  "kernelspec": {
   "display_name": "base",
   "language": "python",
   "name": "base"
  },
  "language_info": {
   "codemirror_mode": {
    "name": "ipython",
    "version": 3
   },
   "file_extension": ".py",
   "mimetype": "text/x-python",
   "name": "python",
   "nbconvert_exporter": "python",
   "pygments_lexer": "ipython3",
   "version": "3.12.3"
  }
 },
 "nbformat": 4,
 "nbformat_minor": 5
}
