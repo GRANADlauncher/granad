{
 "cells": [
  {
   "cell_type": "markdown",
   "id": "2a15ba33",
   "metadata": {},
   "source": [
    "# Exporting and Importing\n"
   ]
  },
  {
   "cell_type": "markdown",
   "id": "e29d6c00",
   "metadata": {},
   "source": [
    "GRANAD lets you save orbitals to xyz files. It also offers rudimentary support for loading orbitals from xyz files. For demonstration, we will create a triangular flake, print its xyz representation, save it to file and reload it."
   ]
  },
  {
   "cell_type": "code",
   "execution_count": 1,
   "id": "7b397a0e",
   "metadata": {
    "execution": {
     "iopub.execute_input": "2024-05-12T10:35:05.410883Z",
     "iopub.status.busy": "2024-05-12T10:35:05.410686Z",
     "iopub.status.idle": "2024-05-12T10:35:09.907385Z",
     "shell.execute_reply": "2024-05-12T10:35:09.906579Z"
    }
   },
   "outputs": [],
   "source": [
    "from granad import MaterialCatalog, Triangle, OrbitalList\n",
    "graphene = MaterialCatalog.get( \"graphene\" )\n",
    "flake = graphene.cut_flake( Triangle(15)  )"
   ]
  },
  {
   "cell_type": "markdown",
   "id": "3dea2cd0",
   "metadata": {},
   "source": [
    "We can look at only the atoms in this file. They are given as a dictionary. The type of atom is the key. The value is all positions where atoms of this type are."
   ]
  },
  {
   "cell_type": "code",
   "execution_count": 2,
   "id": "fac8c004",
   "metadata": {
    "execution": {
     "iopub.execute_input": "2024-05-12T10:35:09.910683Z",
     "iopub.status.busy": "2024-05-12T10:35:09.910112Z",
     "iopub.status.idle": "2024-05-12T10:35:09.928084Z",
     "shell.execute_reply": "2024-05-12T10:35:09.927542Z"
    }
   },
   "outputs": [
    {
     "name": "stdout",
     "output_type": "stream",
     "text": [
      "defaultdict(<class 'list'>, {'C': [['-4.92', '-4.260844986619438', '0.0'], ['-6.15', '-2.130422493309719', '0.0'], ['-2.46', '-4.260844986619438', '0.0'], ['-3.69', '-2.130422493309719', '0.0'], ['-4.92', '0.0', '0.0'], ['0.0', '-4.260844986619438', '0.0'], ['-1.23', '-2.130422493309719', '0.0'], ['-2.46', '0.0', '0.0'], ['-3.69', '2.130422493309719', '0.0'], ['2.46', '-4.260844986619438', '0.0'], ['1.23', '-2.130422493309719', '0.0'], ['0.0', '0.0', '0.0'], ['-1.23', '2.130422493309719', '0.0'], ['-2.46', '4.260844986619438', '0.0'], ['4.92', '-4.260844986619438', '0.0'], ['3.69', '-2.130422493309719', '0.0'], ['2.46', '0.0', '0.0'], ['1.23', '2.130422493309719', '0.0'], ['0.0', '4.260844986619438', '0.0'], ['-1.23', '6.391267479929157', '0.0'], ['6.15', '-2.130422493309719', '0.0'], ['4.92', '0.0', '0.0'], ['3.69', '2.130422493309719', '0.0'], ['2.46', '4.260844986619438', '0.0'], ['1.23', '6.391267479929157', '0.0'], ['-6.15', '-3.5507041555161982', '0.0'], ['-3.69', '-3.5507041555161982', '0.0'], ['-4.92', '-1.4202816622064793', '0.0'], ['-1.23', '-3.5507041555161982', '0.0'], ['-2.46', '-1.4202816622064793', '0.0'], ['-3.69', '0.7101408311032397', '0.0'], ['1.23', '-3.5507041555161982', '0.0'], ['0.0', '-1.4202816622064793', '0.0'], ['-1.23', '0.7101408311032397', '0.0'], ['-2.46', '2.8405633244129587', '0.0'], ['3.69', '-3.5507041555161982', '0.0'], ['2.46', '-1.4202816622064793', '0.0'], ['1.23', '0.7101408311032397', '0.0'], ['0.0', '2.8405633244129587', '0.0'], ['-1.23', '4.970985817722678', '0.0'], ['6.15', '-3.5507041555161982', '0.0'], ['4.92', '-1.4202816622064793', '0.0'], ['3.69', '0.7101408311032397', '0.0'], ['2.46', '2.8405633244129587', '0.0'], ['1.23', '4.970985817722678', '0.0'], ['0.0', '7.1014083110323964', '0.0']]})\n"
     ]
    }
   ],
   "source": [
    "print(flake.atoms)"
   ]
  },
  {
   "cell_type": "markdown",
   "id": "739282bc",
   "metadata": {},
   "source": [
    "If you supply no name to the to_xyz method, it will just return the string"
   ]
  },
  {
   "cell_type": "code",
   "execution_count": 3,
   "id": "d968b3ab",
   "metadata": {
    "execution": {
     "iopub.execute_input": "2024-05-12T10:35:09.930529Z",
     "iopub.status.busy": "2024-05-12T10:35:09.930116Z",
     "iopub.status.idle": "2024-05-12T10:35:09.936412Z",
     "shell.execute_reply": "2024-05-12T10:35:09.935917Z"
    }
   },
   "outputs": [
    {
     "name": "stdout",
     "output_type": "stream",
     "text": [
      "46\n",
      "\n",
      "C -4.92 -4.260844986619438 0.0\n",
      "C -6.15 -2.130422493309719 0.0\n",
      "C -2.46 -4.260844986619438 0.0\n",
      "C -3.69 -2.130422493309719 0.0\n",
      "C -4.92 0.0 0.0\n",
      "C 0.0 -4.260844986619438 0.0\n",
      "C -1.23 -2.130422493309719 0.0\n",
      "C -2.46 0.0 0.0\n",
      "C -3.69 2.130422493309719 0.0\n",
      "C 2.46 -4.260844986619438 0.0\n",
      "C 1.23 -2.130422493309719 0.0\n",
      "C 0.0 0.0 0.0\n",
      "C -1.23 2.130422493309719 0.0\n",
      "C -2.46 4.260844986619438 0.0\n",
      "C 4.92 -4.260844986619438 0.0\n",
      "C 3.69 -2.130422493309719 0.0\n",
      "C 2.46 0.0 0.0\n",
      "C 1.23 2.130422493309719 0.0\n",
      "C 0.0 4.260844986619438 0.0\n",
      "C -1.23 6.391267479929157 0.0\n",
      "C 6.15 -2.130422493309719 0.0\n",
      "C 4.92 0.0 0.0\n",
      "C 3.69 2.130422493309719 0.0\n",
      "C 2.46 4.260844986619438 0.0\n",
      "C 1.23 6.391267479929157 0.0\n",
      "C -6.15 -3.5507041555161982 0.0\n",
      "C -3.69 -3.5507041555161982 0.0\n",
      "C -4.92 -1.4202816622064793 0.0\n",
      "C -1.23 -3.5507041555161982 0.0\n",
      "C -2.46 -1.4202816622064793 0.0\n",
      "C -3.69 0.7101408311032397 0.0\n",
      "C 1.23 -3.5507041555161982 0.0\n",
      "C 0.0 -1.4202816622064793 0.0\n",
      "C -1.23 0.7101408311032397 0.0\n",
      "C -2.46 2.8405633244129587 0.0\n",
      "C 3.69 -3.5507041555161982 0.0\n",
      "C 2.46 -1.4202816622064793 0.0\n",
      "C 1.23 0.7101408311032397 0.0\n",
      "C 0.0 2.8405633244129587 0.0\n",
      "C -1.23 4.970985817722678 0.0\n",
      "C 6.15 -3.5507041555161982 0.0\n",
      "C 4.92 -1.4202816622064793 0.0\n",
      "C 3.69 0.7101408311032397 0.0\n",
      "C 2.46 2.8405633244129587 0.0\n",
      "C 1.23 4.970985817722678 0.0\n",
      "C 0.0 7.1014083110323964 0.0\n",
      "\n"
     ]
    }
   ],
   "source": [
    "print(flake.to_xyz())"
   ]
  },
  {
   "cell_type": "markdown",
   "id": "07289b6d",
   "metadata": {},
   "source": [
    "If you want to save this to a file, do"
   ]
  },
  {
   "cell_type": "code",
   "execution_count": 4,
   "id": "0c3c7524",
   "metadata": {
    "execution": {
     "iopub.execute_input": "2024-05-12T10:35:09.938875Z",
     "iopub.status.busy": "2024-05-12T10:35:09.938499Z",
     "iopub.status.idle": "2024-05-12T10:35:09.944580Z",
     "shell.execute_reply": "2024-05-12T10:35:09.944009Z"
    }
   },
   "outputs": [],
   "source": [
    "flake.to_xyz('flake.xyz')"
   ]
  },
  {
   "cell_type": "markdown",
   "id": "03f7b082",
   "metadata": {},
   "source": [
    "You can also reload, although this is limited: all atoms in the xyz file get the same group id by default."
   ]
  },
  {
   "cell_type": "code",
   "execution_count": 5,
   "id": "f40ba909",
   "metadata": {
    "execution": {
     "iopub.execute_input": "2024-05-12T10:35:09.947203Z",
     "iopub.status.busy": "2024-05-12T10:35:09.946856Z",
     "iopub.status.idle": "2024-05-12T10:35:09.959738Z",
     "shell.execute_reply": "2024-05-12T10:35:09.959260Z"
    }
   },
   "outputs": [],
   "source": [
    "new_flake = OrbitalList.from_xyz('flake.xyz')\n",
    "assert new_flake.atoms == flake.atoms"
   ]
  }
 ],
 "metadata": {
  "kernelspec": {
   "display_name": "base",
   "language": "python",
   "name": "base"
  },
  "language_info": {
   "codemirror_mode": {
    "name": "ipython",
    "version": 3
   },
   "file_extension": ".py",
   "mimetype": "text/x-python",
   "name": "python",
   "nbconvert_exporter": "python",
   "pygments_lexer": "ipython3",
   "version": "3.12.3"
  }
 },
 "nbformat": 4,
 "nbformat_minor": 5
}
