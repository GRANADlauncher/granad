{
 "cells": [
  {
   "cell_type": "markdown",
   "id": "21303bac",
   "metadata": {},
   "source": [
    "## Rabi Oscillations in an Adatom\n",
    "\n",
    "This example demonstrates the simulation of a single adatom involving a dipole transition between its energy levels. \n",
    "\n",
    "### Set up the StackBuilder\n",
    "\n",
    "The setup is analogous to the previous tutorials. We need two adatom levels, called \"A\" and \"B\" at the same spot. Both orbitals should togehter host a single electron, so we need to explicitly mention a vanishing occupation in one of them."
   ]
  },
  {
   "cell_type": "code",
   "execution_count": null,
   "id": "e3192618",
   "metadata": {},
   "outputs": [],
   "source": [
    "import granad\n",
    "import jax.numpy as jnp\n",
    "import matplotlib.pyplot as plt\n",
    "\n",
    "sb = granad.StackBuilder()\n",
    "spot = granad.Spot(position=[0.0, 0.0, 0.0])\n",
    "sb.add(\"A\", spot)\n",
    "sb.add(\"B\", spot, occupation=0)"
   ]
  },
  {
   "cell_type": "markdown",
   "id": "f2d7f13a",
   "metadata": {},
   "source": [
    "We now include energies and coulomb interactions."
   ]
  },
  {
   "cell_type": "code",
   "execution_count": null,
   "id": "ad2c18ca",
   "metadata": {},
   "outputs": [],
   "source": [
    "# onsite hopping\n",
    "sb.set_hopping(granad.SpotCoupling(orbital_id1=\"A\", orbital_id2=\"A\", coupling=0))\n",
    "sb.set_hopping(granad.SpotCoupling(orbital_id1=\"A\", orbital_id2=\"B\", coupling=1))\n",
    "sb.set_hopping(granad.SpotCoupling(orbital_id1=\"B\", orbital_id2=\"B\", coupling=2))\n",
    "\n",
    "# onsite coulomb\n",
    "sb.set_coulomb(granad.SpotCoupling(orbital_id1=\"A\", orbital_id2=\"A\", coupling=1))\n",
    "sb.set_coulomb(granad.SpotCoupling(orbital_id1=\"A\", orbital_id2=\"B\", coupling=1))\n",
    "sb.set_coulomb(granad.SpotCoupling(orbital_id1=\"B\", orbital_id2=\"B\", coupling=1))"
   ]
  },
  {
   "cell_type": "markdown",
   "id": "b9f056d1",
   "metadata": {},
   "source": [
    "Now, we visualize the initial state."
   ]
  },
  {
   "cell_type": "code",
   "execution_count": null,
   "id": "487732c0",
   "metadata": {},
   "outputs": [],
   "source": [
    "stack = sb.get_stack( from_state = 0, to_state = 1)\n",
    "# granad.show_energies(stack)"
   ]
  },
  {
   "cell_type": "markdown",
   "id": "da4c5c28",
   "metadata": {},
   "source": [
    "Now, we simulate its dynamics. We want to model an external x-polarized field. We want the orbitals to be connected by a dipole transition moment."
   ]
  },
  {
   "cell_type": "code",
   "execution_count": null,
   "id": "39ed571f",
   "metadata": {
    "lines_to_end_of_cell_marker": 2
   },
   "outputs": [],
   "source": [
    "amplitudes = [1, 0, 0]\n",
    "frequency = max(stack.energies) - min(stack.energies)\n",
    "field_func = granad.electric_field(\n",
    "    amplitudes, frequency, stack.positions[0, :]\n",
    ")\n",
    "\n",
    "# transitions \n",
    "transitions = { (\"A\", \"B\") : [1., 0, 0.] }\n",
    "transition_func = granad.dipole_transitions(  transitions, stack )"
   ]
  },
  {
   "cell_type": "markdown",
   "id": "50281077",
   "metadata": {},
   "source": [
    "The time evolution happens as usual (we again compare the old and new version), but we must supply the transition function as an additional argument."
   ]
  },
  {
   "cell_type": "code",
   "execution_count": null,
   "id": "04a8943a",
   "metadata": {},
   "outputs": [],
   "source": [
    "\n",
    "# propagate in time\n",
    "time_axis = jnp.linspace(0, 10, 10**4)\n",
    "\n",
    "# we can also omit the saveat argument to save the entire time axis\n",
    "new_stack, sol = granad.evolution(\n",
    "    stack,\n",
    "    time_axis,\n",
    "    field_func,    \n",
    "    transition = transition_func,\n",
    ")\n",
    "\n",
    "density_matrices_new = jnp.einsum( 'ijk,kl,mj->iml', sol.ys, stack.eigenvectors, stack.eigenvectors.conj()  )\n",
    "energy_occupations_new = jnp.diagonal(density_matrices_new, axis1=1, axis2=2)\n",
    "\n",
    "def to_energy_basis( rho ):\n",
    "    \"\"\"extract energy occupations from a density matrix\n",
    "    \"\"\"\n",
    "    return jnp.diag(stack.eigenvectors.conj().T @ rho @ stack.eigenvectors)\n",
    "\n",
    "# propagate in time\n",
    "time_axis = jnp.linspace(0, 10, 10**4)\n",
    "_, energy_occupations_old = granad.evolution_old(\n",
    "    stack,\n",
    "    time_axis,\n",
    "    field_func,\n",
    "    transition = transition_func,\n",
    "    postprocess = to_energy_basis\n",
    ")\n",
    "\n",
    "plt.plot( time_axis, energy_occupations_new.real, '--', label = 'new' )\n",
    "plt.plot( time_axis, energy_occupations_old.real, label = 'old' )\n",
    "plt.legend()\n",
    "plt.show()\n"
   ]
  },
  {
   "cell_type": "markdown",
   "id": "0efebfba",
   "metadata": {},
   "source": [
    "We see that the results dont quite line up, but why? We have to remember that the old solver is RK first order, so not too precise.\n",
    "Incresing the step size fixes the problem."
   ]
  },
  {
   "cell_type": "code",
   "execution_count": null,
   "id": "77000a36",
   "metadata": {},
   "outputs": [],
   "source": [
    "\n",
    "# propagate in time\n",
    "time_axis_high_res = jnp.linspace(0, 10, 10**5)\n",
    "_, energy_occupations_old = granad.evolution_old(\n",
    "    stack,\n",
    "    time_axis_high_res,\n",
    "    field_func,\n",
    "    transition = transition_func,\n",
    "    postprocess = to_energy_basis\n",
    ")\n",
    "\n",
    "plt.plot( time_axis, energy_occupations_new.real, '--', label = 'new' )\n",
    "plt.plot( time_axis_high_res, energy_occupations_old.real, label = 'old' )\n",
    "plt.legend()\n",
    "plt.show()"
   ]
  }
 ],
 "metadata": {
  "kernelspec": {
   "display_name": "base",
   "language": "python",
   "name": "base"
  }
 },
 "nbformat": 4,
 "nbformat_minor": 5
}
