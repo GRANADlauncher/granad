{
 "cells": [
  {
   "cell_type": "markdown",
   "id": "b527ea27",
   "metadata": {},
   "source": [
    "# RPA simulation options\n"
   ]
  },
  {
   "cell_type": "markdown",
   "id": "712ef95c",
   "metadata": {},
   "source": [
    "We will illustrate the RPA simulation options by executing the same simulation for all parameters."
   ]
  },
  {
   "cell_type": "markdown",
   "id": "abf645b0",
   "metadata": {},
   "source": [
    "First, we set up the RPA simulation. We will consider a small triangle."
   ]
  },
  {
   "cell_type": "code",
   "execution_count": 1,
   "id": "35cd5869",
   "metadata": {
    "execution": {
     "iopub.execute_input": "2024-04-24T17:27:40.947445Z",
     "iopub.status.busy": "2024-04-24T17:27:40.947243Z",
     "iopub.status.idle": "2024-04-24T17:27:45.460574Z",
     "shell.execute_reply": "2024-04-24T17:27:45.459947Z"
    },
    "lines_to_end_of_cell_marker": 0,
    "lines_to_next_cell": 1
   },
   "outputs": [
    {
     "name": "stdout",
     "output_type": "stream",
     "text": [
      "List with 10 orbitals, 10 electrons.\n",
      "[0] electrons excited from [0] to [0].\n",
      "group id 1 : 10 orbitals\n"
     ]
    }
   ],
   "source": [
    "import time\n",
    "import jax.numpy as jnp\n",
    "from granad import MaterialCatalog, Triangle\n",
    "\n",
    "# get material\n",
    "graphene = MaterialCatalog.get( \"graphene\" )\n",
    "flake = graphene.cut_flake( Triangle(10)  ) \n",
    "print(flake)"
   ]
  },
  {
   "cell_type": "markdown",
   "id": "de848a09",
   "metadata": {},
   "source": [
    "We now come to the simulation. "
   ]
  },
  {
   "cell_type": "code",
   "execution_count": 2,
   "id": "d57ecdc0",
   "metadata": {
    "execution": {
     "iopub.execute_input": "2024-04-24T17:27:45.463460Z",
     "iopub.status.busy": "2024-04-24T17:27:45.462894Z",
     "iopub.status.idle": "2024-04-24T17:27:45.466854Z",
     "shell.execute_reply": "2024-04-24T17:27:45.466201Z"
    },
    "lines_to_end_of_cell_marker": 0,
    "lines_to_next_cell": 1
   },
   "outputs": [],
   "source": [
    "def time_option( hungry ):\n",
    "    omegas_rpa = jnp.linspace( 0, 5, 10 )\n",
    "    start = time.time()\n",
    "    polarizability = flake.get_polarizability_rpa(\n",
    "        omegas_rpa,\n",
    "        relaxation_rate = 1/10,\n",
    "        polarization = 0, \n",
    "        hungry = hungry )\n",
    "    return time.time() - start"
   ]
  },
  {
   "cell_type": "code",
   "execution_count": 3,
   "id": "2b7fc60f",
   "metadata": {
    "execution": {
     "iopub.execute_input": "2024-04-24T17:27:45.469162Z",
     "iopub.status.busy": "2024-04-24T17:27:45.468800Z",
     "iopub.status.idle": "2024-04-24T17:27:51.328834Z",
     "shell.execute_reply": "2024-04-24T17:27:51.328172Z"
    }
   },
   "outputs": [
    {
     "name": "stdout",
     "output_type": "stream",
     "text": [
      "0 4.454572677612305\n"
     ]
    },
    {
     "name": "stdout",
     "output_type": "stream",
     "text": [
      "1 0.8119673728942871\n"
     ]
    },
    {
     "name": "stdout",
     "output_type": "stream",
     "text": [
      "2 0.5661435127258301\n"
     ]
    }
   ],
   "source": [
    "for hungry in range(3):\n",
    "    print( f'{hungry} {time_option(hungry)}' )"
   ]
  }
 ],
 "metadata": {
  "kernelspec": {
   "display_name": "base",
   "language": "python",
   "name": "base"
  },
  "language_info": {
   "codemirror_mode": {
    "name": "ipython",
    "version": 3
   },
   "file_extension": ".py",
   "mimetype": "text/x-python",
   "name": "python",
   "nbconvert_exporter": "python",
   "pygments_lexer": "ipython3",
   "version": "3.12.3"
  }
 },
 "nbformat": 4,
 "nbformat_minor": 5
}
