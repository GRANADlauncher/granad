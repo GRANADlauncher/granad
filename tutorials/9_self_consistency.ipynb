{
 "cells": [
  {
   "cell_type": "markdown",
   "id": "5e3e3665",
   "metadata": {},
   "source": [
    "## Self-consistency computation\n",
    "\n",
    "This example demonstrates how to perform a self-consistent calculation. "
   ]
  },
  {
   "cell_type": "code",
   "execution_count": null,
   "id": "7d033cfb",
   "metadata": {},
   "outputs": [],
   "source": [
    "import granad\n",
    "import jax\n",
    "import jax.numpy as jnp\n",
    "import numpy as np\n",
    "import diffrax\n",
    "import matplotlib.pyplot as plt\n",
    "\n",
    "# build stack\n",
    "sb = granad.StackBuilder()\n",
    "\n",
    "# add graphene\n",
    "graphene = granad.Lattice(\n",
    "    shape=granad.Chain(16),\n",
    "    lattice_type=granad.LatticeType.CHAIN,\n",
    "    lattice_edge=granad.LatticeEdge.NONE,\n",
    "    lattice_constant=1.42,\n",
    ")\n",
    "sb.add(\"pz\", graphene)\n",
    "\n",
    "hopping_graphene = granad.LatticeCoupling(\n",
    "    orbital_id1=\"pz\", orbital_id2=\"pz\", lattice=graphene, couplings=[0, -2.66]\n",
    ")\n",
    "sb.set_hopping(hopping_graphene)\n",
    "\n",
    "\n",
    "coulomb_graphene = granad.LatticeCoupling(\n",
    "    orbital_id1=\"pz\",\n",
    "    orbital_id2=\"pz\",\n",
    "    lattice=graphene,\n",
    "    couplings=[16.522, 8.64, 5.333],\n",
    "    coupling_function=lambda d: 14.399 / d + 0j,\n",
    ")\n",
    "sb.set_coulomb(coulomb_graphene)\n",
    "\n",
    "# create the stack object\n",
    "stack = sb.get_stack( from_state = 0, to_state = 2, doping = 1 )\n",
    "\n",
    "# get a stack object where the hamiltonian and density matrices are self-consistently evaluated\n",
    "stack_new = granad.get_self_consistent( stack )\n",
    "print( jnp.linalg.norm(stack.energies - stack_new.energies ) )\n",
    "print( jnp.linalg.norm(stack.hamiltonian - stack_new.hamiltonian ) )"
   ]
  }
 ],
 "metadata": {
  "kernelspec": {
   "display_name": "base",
   "language": "python",
   "name": "base"
  }
 },
 "nbformat": 4,
 "nbformat_minor": 5
}
