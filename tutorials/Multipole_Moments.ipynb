{
 "cells": [
  {
   "cell_type": "markdown",
   "id": "96d1bd11",
   "metadata": {},
   "source": [
    "## Dynamical multipole moments\n",
    "\n",
    "We want to track the evolution of multipole moments.\n",
    "\n",
    "### Set up the Stack\n",
    "\n",
    "We consider a 6-atom chain like in the publication."
   ]
  },
  {
   "cell_type": "code",
   "execution_count": null,
   "id": "ddf57db3",
   "metadata": {},
   "outputs": [],
   "source": [
    "\n",
    "import granad\n",
    "\n",
    "import jax\n",
    "import jax.numpy as jnp\n",
    "import numpy as np\n",
    "import matplotlib.pyplot as plt\n",
    "\n",
    "\n",
    "sb = granad.StackBuilder()\n",
    "\n",
    "# geometry\n",
    "triangle = granad.Triangle(7.4) \n",
    "# graphene = granad.Lattice(\n",
    "#     shape=triangle,\n",
    "#     lattice_type=granad.LatticeType.HONEYCOMB,\n",
    "#     lattice_edge=granad.LatticeEdge.ARMCHAIR,\n",
    "#     lattice_constant=2.46,\n",
    "# )\n",
    "graphene = granad.Lattice(\n",
    "    shape=granad.Chain(6),\n",
    "    lattice_type=granad.LatticeType.CHAIN,\n",
    "    lattice_edge=granad.LatticeEdge.NONE,\n",
    "    lattice_constant=1,\n",
    ")\n",
    "sb.add(\"pz\", graphene)\n",
    "\n",
    "# couplings\n",
    "hopping_graphene = granad.LatticeCoupling(\n",
    "    orbital_id1=\"pz\", orbital_id2=\"pz\", lattice=graphene, couplings=[0, -2.66] # list of hopping amplitudes like [onsite, nn, ...]\n",
    ")\n",
    "sb.set_hopping(hopping_graphene)\n",
    "coulomb_graphene = granad.LatticeCoupling(\n",
    "    orbital_id1=\"pz\",\n",
    "    orbital_id2=\"pz\",\n",
    "    lattice=graphene,\n",
    "    couplings=[16.522, 8.64, 5.333],\n",
    "    coupling_function=lambda d: 14.399 / d + 0j,\n",
    ")\n",
    "sb.set_coulomb(coulomb_graphene)\n",
    "\n",
    "stack = sb.get_stack()\n"
   ]
  },
  {
   "cell_type": "markdown",
   "id": "e3e5deca",
   "metadata": {},
   "source": [
    "Now, we obtain the (matrix representations of) electric multipole moment operators"
   ]
  },
  {
   "cell_type": "code",
   "execution_count": null,
   "id": "5223c292",
   "metadata": {},
   "outputs": [],
   "source": [
    "\n",
    "dip = granad.position_operator(stack)\n",
    "quad = granad.quadrupole_operator(stack)\n"
   ]
  },
  {
   "cell_type": "markdown",
   "id": "22a238d3",
   "metadata": {},
   "source": [
    "Higher moments follow the same pattern. The results are matrices of shape NxNx3x..., where the first two components are the TB-matrix components and the last are Cartesian components indexing the particular multipole component."
   ]
  },
  {
   "cell_type": "code",
   "execution_count": null,
   "id": "e2f7d871",
   "metadata": {},
   "outputs": [],
   "source": [
    "\n",
    "def vector_potential( r, omega ):\n",
    "    A_0 = 1e-3 * jnp.ones_like( r )\n",
    "    return lambda t : A_0 * jnp.sin( omega * t )\n",
    "\n",
    "def uniform_e_field( r, omega ):\n",
    "    A_0 = jnp.ones_like( r )\n",
    "    return lambda t : A_0.T * (omega * jnp.cos( omega * t ) ) \n",
    "\n",
    "field_func = vector_potential( stack.positions, 1 )\n",
    "field_func = uniform_e_field( stack.positions, 1 )\n",
    "\n",
    "# run the simulation\n",
    "gamma = 1\n",
    "time_axis = jnp.linspace(0, 1/gamma, int(1e6))\n",
    "saveat = time_axis[::100]\n",
    "# stack_new, sol = granad.evolution(\n",
    "#     stack, time_axis, field_func, spatial = True, saveat = saveat)\n",
    "stack_new, sol = granad.evolution(\n",
    "    stack, time_axis, field_func, spatial = False, saveat = saveat)\n"
   ]
  },
  {
   "cell_type": "markdown",
   "id": "d25ec99e",
   "metadata": {},
   "source": [
    "We compare the dipole components obtained in the old way (just summing density matrix components and multiplying by position) with the expectation value of the position operator. These should agree in the absence of coupled orbitals, because here x_ij = x_i \\delta_ij and since Tr[r x] = r_ij x_ji = r_ii x_i"
   ]
  },
  {
   "cell_type": "code",
   "execution_count": null,
   "id": "7ed7fce6",
   "metadata": {},
   "outputs": [],
   "source": [
    "\n",
    "occupations = jnp.diagonal(sol.ys, axis1=1, axis2=2)\n",
    "dipole_moment = granad.induced_dipole_moment(stack, occupations)\n",
    "dipole_moment_from_trace = jnp.einsum( 'ijk,kjr->ir', -stack.electrons*(sol.ys - granad.to_site_basis(stack, stack.rho_stat)[None,:,:]), dip )\n",
    "plt.plot( saveat, dipole_moment, '-', label = 'occupations' )\n",
    "plt.plot( saveat, dipole_moment_from_trace, '--', label = 'trace' )\n",
    "plt.legend()\n",
    "plt.show()\n"
   ]
  },
  {
   "cell_type": "markdown",
   "id": "ba3a4c77",
   "metadata": {},
   "source": [
    "Now we check what happens to quadrupoles"
   ]
  },
  {
   "cell_type": "code",
   "execution_count": null,
   "id": "6a362816",
   "metadata": {
    "lines_to_next_cell": 0
   },
   "outputs": [],
   "source": [
    "\n",
    "quadrupole_moments = jnp.einsum( 'ijk,kjxy->ixy', -stack.electrons*(sol.ys - granad.to_site_basis(stack, stack.rho_stat)[None,:,:]), quad )\n",
    "plt.plot( saveat, dipole_moment_from_trace, '-', label = 'dip' )\n",
    "plt.plot( saveat, quadrupole_moments.diagonal(axis1=1, axis2=2), '--', label = 'quad' )\n",
    "plt.legend()\n",
    "plt.savefig('quad.pdf')\n",
    "plt.show()\n"
   ]
  },
  {
   "cell_type": "code",
   "execution_count": null,
   "id": "06b59dcf",
   "metadata": {},
   "outputs": [],
   "source": []
  },
  {
   "cell_type": "code",
   "execution_count": null,
   "id": "5a3e51ea",
   "metadata": {
    "lines_to_next_cell": 2
   },
   "outputs": [],
   "source": []
  }
 ],
 "metadata": {
  "kernelspec": {
   "display_name": "base",
   "language": "python",
   "name": "base"
  }
 },
 "nbformat": 4,
 "nbformat_minor": 5
}
