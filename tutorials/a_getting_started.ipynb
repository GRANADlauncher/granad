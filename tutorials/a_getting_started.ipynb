{
 "cells": [
  {
   "cell_type": "markdown",
   "id": "caacaf0e",
   "metadata": {},
   "source": [
    "# Getting started\n",
    "\n",
    "We introduce the basics of GRANAD and do a quick simulation."
   ]
  },
  {
   "cell_type": "markdown",
   "id": "661cc418",
   "metadata": {},
   "source": [
    "\n",
    "## Orbitals\n",
    "\n",
    "At its core, GRANAD is all about orbitals. Let's create one at the origin and inspect it.\n"
   ]
  },
  {
   "cell_type": "code",
   "execution_count": 1,
   "id": "2e791479",
   "metadata": {
    "execution": {
     "iopub.execute_input": "2024-04-27T11:54:59.739408Z",
     "iopub.status.busy": "2024-04-27T11:54:59.739212Z",
     "iopub.status.idle": "2024-04-27T11:55:00.910186Z",
     "shell.execute_reply": "2024-04-27T11:55:00.909588Z"
    }
   },
   "outputs": [
    {
     "name": "stdout",
     "output_type": "stream",
     "text": [
      "{'position': Array([0., 0., 0.], dtype=float64),\n",
      " 'layer_index': None,\n",
      " 'tag': 'a tag contains arbitrary information',\n",
      " 'energy_level': None,\n",
      " 'angular_momentum': None,\n",
      " 'angular_momentum_z': None,\n",
      " 'spin': None,\n",
      " 'atom_name': None,\n",
      " 'group_id': 1}\n"
     ]
    }
   ],
   "source": [
    "from granad import Orbital\n",
    "\n",
    "my_first_orbital = Orbital(\n",
    "    position = (0, 0, 0),\n",
    "    tag = \"a tag contains arbitrary information\",\n",
    ")\n",
    "print(my_first_orbital)"
   ]
  },
  {
   "cell_type": "markdown",
   "id": "f15a962e",
   "metadata": {},
   "source": [
    "The group_id, unsurprisingly, groups orbitals. For example: if you create a two-level adatom, you need two orbitals that share the same group_id. In the same way, all orbitals in a graphene sheet share the same group_id."
   ]
  },
  {
   "cell_type": "code",
   "execution_count": 2,
   "id": "fcacf4c9",
   "metadata": {
    "execution": {
     "iopub.execute_input": "2024-04-27T11:55:00.912838Z",
     "iopub.status.busy": "2024-04-27T11:55:00.912426Z",
     "iopub.status.idle": "2024-04-27T11:55:00.916869Z",
     "shell.execute_reply": "2024-04-27T11:55:00.916325Z"
    }
   },
   "outputs": [
    {
     "name": "stdout",
     "output_type": "stream",
     "text": [
      "{'position': Array([1., 1., 1.], dtype=float64),\n",
      " 'layer_index': None,\n",
      " 'tag': 'a new, shifted orbital',\n",
      " 'energy_level': None,\n",
      " 'angular_momentum': None,\n",
      " 'angular_momentum_z': None,\n",
      " 'spin': None,\n",
      " 'atom_name': None,\n",
      " 'group_id': 2}\n"
     ]
    }
   ],
   "source": [
    "\n",
    "my_second_orbital = Orbital(\n",
    "    position = (1, 1, 1),\n",
    "    tag = \"a new, shifted orbital\",\n",
    ")\n",
    "print(my_second_orbital)\n"
   ]
  },
  {
   "cell_type": "markdown",
   "id": "60ae0b40",
   "metadata": {},
   "source": [
    "This is all there is to know about orbitals!"
   ]
  },
  {
   "cell_type": "markdown",
   "id": "4d73b6af",
   "metadata": {},
   "source": [
    "\n",
    "## Materials\n",
    "\n",
    "Materials are stuff you can cut orbitals from. You can define one yourself or import a prebuilt one. We will use the latter option."
   ]
  },
  {
   "cell_type": "code",
   "execution_count": 3,
   "id": "ba8869e4",
   "metadata": {
    "execution": {
     "iopub.execute_input": "2024-04-27T11:55:00.919153Z",
     "iopub.status.busy": "2024-04-27T11:55:00.918836Z",
     "iopub.status.idle": "2024-04-27T11:55:00.922201Z",
     "shell.execute_reply": "2024-04-27T11:55:00.921625Z"
    }
   },
   "outputs": [
    {
     "name": "stdout",
     "output_type": "stream",
     "text": [
      "Available materials:\n",
      "graphene\n",
      "ssh\n",
      "metal_1d\n",
      "MoS2\n",
      "hBN\n"
     ]
    }
   ],
   "source": [
    "from granad import MaterialCatalog\n",
    "MaterialCatalog.available()"
   ]
  },
  {
   "cell_type": "markdown",
   "id": "013275ac",
   "metadata": {},
   "source": [
    "Let's inspect a material."
   ]
  },
  {
   "cell_type": "code",
   "execution_count": 4,
   "id": "25d8aa7c",
   "metadata": {
    "execution": {
     "iopub.execute_input": "2024-04-27T11:55:00.924564Z",
     "iopub.status.busy": "2024-04-27T11:55:00.924234Z",
     "iopub.status.idle": "2024-04-27T11:55:00.927937Z",
     "shell.execute_reply": "2024-04-27T11:55:00.927263Z"
    }
   },
   "outputs": [
    {
     "name": "stdout",
     "output_type": "stream",
     "text": [
      "Material: graphene\n",
      "  Lattice Constant: 2.46 Å\n",
      "  Lattice Basis: [[ 1.         0.         0.       ]\n",
      " [-0.5        0.8660254  0.       ]]\n",
      "  Orbital Species:\n",
      "    pz characterized by (n,l,m,s, atom name) = (0, 1, 0, 0, 'C')\n",
      "  Orbitals:\n",
      "    Position: (0, 0), Tag: sublattice_1, Species: pz\n",
      "    Position: (-0.3333333333333333, -0.6666666666666666), Tag: sublattice_2, Species: pz\n",
      "  Interactions:\n",
      "    Type: hopping, Participants: ('pz', 'pz'), Couplings (neighbor, function): ([0.0, 2.66], <function Material.add_interaction.<locals>.<lambda> at 0x7ff338dbeac0>)\n",
      "    Type: coulomb, Participants: ('pz', 'pz'), Couplings (neighbor, function): ([16.522, 8.64, 5.333], <function Material.add_interaction.<locals>.<lambda> at 0x7ff338dbec00>)\n",
      "\n"
     ]
    }
   ],
   "source": [
    "MaterialCatalog.describe(\"graphene\")"
   ]
  },
  {
   "cell_type": "markdown",
   "id": "76e05925",
   "metadata": {},
   "source": [
    "There are parameters regarding the geometry, the type of the involved orbitals (the built-in graphene model contains only a single spin polarized pz orbital) , the position of orbitals in the unit cell and the interactions (currently, GRANAD supports hoppings and Coulomb interactions). Let's pick a concrete material."
   ]
  },
  {
   "cell_type": "code",
   "execution_count": 5,
   "id": "3c727d4c",
   "metadata": {
    "execution": {
     "iopub.execute_input": "2024-04-27T11:55:00.930103Z",
     "iopub.status.busy": "2024-04-27T11:55:00.929773Z",
     "iopub.status.idle": "2024-04-27T11:55:00.932688Z",
     "shell.execute_reply": "2024-04-27T11:55:00.932091Z"
    }
   },
   "outputs": [],
   "source": [
    "graphene = MaterialCatalog.get(\"graphene\")"
   ]
  },
  {
   "cell_type": "markdown",
   "id": "b22789f9",
   "metadata": {},
   "source": [
    "## OrbitalLists\n",
    "\n",
    "OrbitalLists are the last class you need to know. Unsurprisingly, an OrbitalList is a list of orbitals. You can create one yourself from the two orbitals you created above"
   ]
  },
  {
   "cell_type": "code",
   "execution_count": 6,
   "id": "eda21afc",
   "metadata": {
    "execution": {
     "iopub.execute_input": "2024-04-27T11:55:00.934988Z",
     "iopub.status.busy": "2024-04-27T11:55:00.934650Z",
     "iopub.status.idle": "2024-04-27T11:55:00.947652Z",
     "shell.execute_reply": "2024-04-27T11:55:00.947165Z"
    }
   },
   "outputs": [
    {
     "name": "stdout",
     "output_type": "stream",
     "text": [
      "List with 2 orbitals, 2 electrons.\n",
      "[0] electrons excited from [0] to [0].\n",
      "group id 1 : 1 orbitals\n",
      "group id 2 : 1 orbitals\n"
     ]
    }
   ],
   "source": [
    "from granad import OrbitalList\n",
    "\n",
    "my_first_orbital_list = OrbitalList([my_first_orbital, my_second_orbital])\n",
    "print(my_first_orbital_list)"
   ]
  },
  {
   "cell_type": "markdown",
   "id": "8c261cd4",
   "metadata": {},
   "source": [
    "Alternatively, you get orbital lists if you cut a flake from a material. You do this by specifying the shape of the flake.\n",
    "You can specify any shape you want, but this is covered in a separate tutorial.\n",
    "For now, we will use a built-in shape: an equilateral triangle with a side length of 15 Angström."
   ]
  },
  {
   "cell_type": "code",
   "execution_count": 7,
   "id": "429756d8",
   "metadata": {
    "execution": {
     "iopub.execute_input": "2024-04-27T11:55:00.949940Z",
     "iopub.status.busy": "2024-04-27T11:55:00.949614Z",
     "iopub.status.idle": "2024-04-27T11:55:01.068490Z",
     "shell.execute_reply": "2024-04-27T11:55:01.067975Z"
    }
   },
   "outputs": [],
   "source": [
    "from granad import Triangle\n",
    "import jax.numpy as jnp\n",
    "triangle = Triangle(15, armchair = True)"
   ]
  },
  {
   "cell_type": "markdown",
   "id": "0c8d27c3",
   "metadata": {},
   "source": [
    "Now, our shape is ready and we can start cutting. To make sure that we are satisfied with what we get, we plot the flake. By default, GRANAD cuts any \"dangling\" atoms."
   ]
  },
  {
   "cell_type": "code",
   "execution_count": 8,
   "id": "890e165b",
   "metadata": {
    "execution": {
     "iopub.execute_input": "2024-04-27T11:55:01.071172Z",
     "iopub.status.busy": "2024-04-27T11:55:01.070829Z",
     "iopub.status.idle": "2024-04-27T11:55:04.419624Z",
     "shell.execute_reply": "2024-04-27T11:55:04.419035Z"
    }
   },
   "outputs": [
    {
     "name": "stdout",
     "output_type": "stream",
     "text": [
      "List with 26 orbitals, 26 electrons.\n",
      "[0] electrons excited from [0] to [0].\n",
      "group id 3 : 26 orbitals\n"
     ]
    }
   ],
   "source": [
    "my_first_flake = graphene.cut_flake(triangle, plot = False)\n",
    "print(my_first_flake)"
   ]
  },
  {
   "cell_type": "markdown",
   "id": "308482a2",
   "metadata": {},
   "source": [
    "For more information on cutting, including different edge types and how to keep dangling atoms, have a look at the corresponding tutorial."
   ]
  },
  {
   "cell_type": "markdown",
   "id": "515bee9e",
   "metadata": {},
   "source": [
    "## A first simulation"
   ]
  },
  {
   "cell_type": "markdown",
   "id": "29a0c857",
   "metadata": {},
   "source": [
    "To get a feeling of the setup, we first inspect the energies of the flake"
   ]
  },
  {
   "cell_type": "code",
   "execution_count": 9,
   "id": "604e1b4a",
   "metadata": {
    "execution": {
     "iopub.execute_input": "2024-04-27T11:55:04.422316Z",
     "iopub.status.busy": "2024-04-27T11:55:04.421971Z",
     "iopub.status.idle": "2024-04-27T11:55:06.451386Z",
     "shell.execute_reply": "2024-04-27T11:55:06.450779Z"
    }
   },
   "outputs": [
    {
     "data": {
      "image/png": "[encoded data removed]",
      "text/plain": [
       "<Figure size 640x480 with 2 Axes>"
      ]
     },
     "metadata": {},
     "output_type": "display_data"
    }
   ],
   "source": [
    "my_first_flake.show_energies()"
   ]
  },
  {
   "cell_type": "markdown",
   "id": "172b435d",
   "metadata": {},
   "source": [
    "Physical observables are expectation values of Hermitian operators. GRANAD offers access to the time-resolved density matrix $\\rho(t)$ of a system by integrating a nonlinear master equation. As a result, it is possible to track the evolution of the physical observable associated with a Hermitian operator $A$ by computing $a(t) = Tr[\\rho(t) A]$. Optical properties in particular are largely determined by the polarization or dipole operator $\\hat{P}$ and they are usually expressed in frequency domain. To this end, GRANAD offers a way to compute the Fourier transform $a(\\omega)$ directly after time propagation. We will look at an example tracking the time evolution of the dipole operator below, where the computation proceeds in two steps:"
   ]
  },
  {
   "cell_type": "markdown",
   "id": "55f19627",
   "metadata": {},
   "source": [
    "\n",
    "1. Excite the flake with an electric field.\n",
    "2. Compute its dipole moment $p(\\omega)$ from the expectation value of its dipole operator."
   ]
  },
  {
   "cell_type": "markdown",
   "id": "d461ace9",
   "metadata": {},
   "source": [
    "We first do step 1. To obtain a broad frequency spectrum, we must pick a narrow pulse in time-domain"
   ]
  },
  {
   "cell_type": "code",
   "execution_count": 10,
   "id": "041fda1c",
   "metadata": {
    "execution": {
     "iopub.execute_input": "2024-04-27T11:55:06.454117Z",
     "iopub.status.busy": "2024-04-27T11:55:06.453736Z",
     "iopub.status.idle": "2024-04-27T11:55:06.494751Z",
     "shell.execute_reply": "2024-04-27T11:55:06.494257Z"
    }
   },
   "outputs": [],
   "source": [
    "from granad import Pulse\n",
    "\n",
    "my_first_illumination = Pulse(\n",
    "    amplitudes=[1e-5, 0, 0], frequency=2.3, peak=5, fwhm=2\n",
    ") "
   ]
  },
  {
   "cell_type": "markdown",
   "id": "a2f3052d",
   "metadata": {},
   "source": [
    "For step 2, a few parameters have to be chosen\n",
    "\n",
    "1. Simulation duration: we go from 0 to 40 in 1e5 steps.\n",
    "2. Relaxation rate: this is $r$ in the dissipation term $D[\\rho] = r \\cdot(\\rho - \\rho_0)$ in the master equation.\n",
    "3. Frequency domain limits: we choose the interval [0, 16].\n",
    "4. Density matrix sampling rate: producing 1e5 density matrices can quickly exhaust RAM ressources. So we only save every 100th density matrix, such that we get 1000 density matrices."
   ]
  },
  {
   "cell_type": "markdown",
   "id": "4432ea67",
   "metadata": {},
   "source": [
    "A simulation is just passing all of these parameters to the corresponding method of our flake."
   ]
  },
  {
   "cell_type": "code",
   "execution_count": 11,
   "id": "0a359a1c",
   "metadata": {
    "execution": {
     "iopub.execute_input": "2024-04-27T11:55:06.497675Z",
     "iopub.status.busy": "2024-04-27T11:55:06.497195Z",
     "iopub.status.idle": "2024-04-27T11:55:08.585582Z",
     "shell.execute_reply": "2024-04-27T11:55:08.584929Z"
    }
   },
   "outputs": [],
   "source": [
    "omegas, dipole_omega, pulse_omega =  my_first_flake.get_expectation_value_frequency_domain(\n",
    "        operator=my_first_flake.dipole_operator, \n",
    "        end_time=40,\n",
    "        steps_time=1e5,\n",
    "        relaxation_rate=1 / 10,\n",
    "        illumination=my_first_illumination,\n",
    "        omega_min=0,\n",
    "        omega_max=10,\n",
    "        skip=100,\n",
    "    )"
   ]
  },
  {
   "cell_type": "markdown",
   "id": "c6b4774e",
   "metadata": {},
   "source": [
    "We see that three variables are returned: the omega axis we have specified, the dipole moment and the pulse in freqeuency domain. There is no way to control the number of points in the omega axis, because it is the result of a Fourier transform."
   ]
  },
  {
   "cell_type": "markdown",
   "id": "2f16e36a",
   "metadata": {},
   "source": [
    "We now plot the dipole moment and the pulse in frequency domain."
   ]
  },
  {
   "cell_type": "code",
   "execution_count": 12,
   "id": "e4889172",
   "metadata": {
    "execution": {
     "iopub.execute_input": "2024-04-27T11:55:08.588549Z",
     "iopub.status.busy": "2024-04-27T11:55:08.588203Z",
     "iopub.status.idle": "2024-04-27T11:55:09.155698Z",
     "shell.execute_reply": "2024-04-27T11:55:09.155104Z"
    }
   },
   "outputs": [
    {
     "data": {
      "image/png": "[encoded data removed]",
      "text/plain": [
       "<Figure size 640x480 with 1 Axes>"
      ]
     },
     "metadata": {},
     "output_type": "display_data"
    }
   ],
   "source": [
    "import matplotlib.pyplot as plt\n",
    "\n",
    "plt.plot(omegas, dipole_omega)\n",
    "plt.plot(omegas, pulse_omega, \"--\")\n",
    "plt.show()"
   ]
  }
 ],
 "metadata": {
  "kernelspec": {
   "display_name": "base",
   "language": "python",
   "name": "base"
  },
  "language_info": {
   "codemirror_mode": {
    "name": "ipython",
    "version": 3
   },
   "file_extension": ".py",
   "mimetype": "text/x-python",
   "name": "python",
   "nbconvert_exporter": "python",
   "pygments_lexer": "ipython3",
   "version": "3.12.3"
  }
 },
 "nbformat": 4,
 "nbformat_minor": 5
}
