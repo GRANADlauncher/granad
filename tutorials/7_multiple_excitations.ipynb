{
 "cells": [
  {
   "cell_type": "markdown",
   "id": "6919e933",
   "metadata": {},
   "source": [
    "## Multiple electrons in the initially excited state\n",
    "\n",
    "This example demonstrates how to initially excite more than one electron. You can do this by passing lists to the arguements of get_stack."
   ]
  },
  {
   "cell_type": "code",
   "execution_count": null,
   "id": "dc35ee63",
   "metadata": {},
   "outputs": [],
   "source": [
    "# build stack\n",
    "sb = granad.StackBuilder()\n",
    "\n",
    "# add graphene\n",
    "graphene = granad.Lattice(\n",
    "shape=granad.Triangle(4.1),\n",
    "lattice_edge=granad.LatticeEdge.ARMCHAIR,\n",
    "lattice_type=granad.LatticeType.HONEYCOMB,\n",
    "lattice_constant=2.46,\n",
    ")\n",
    "sb.add(\"pz\", graphene)\n",
    "\n",
    "u = granad.LatticeCoupling(\n",
    "    orbital_id1=\"pz\", orbital_id2=\"pz\", lattice=graphene, couplings=[0, -2.66]\n",
    ")\n",
    "\n",
    "sb.set_hopping(u)\n",
    "\n",
    "c = granad.LatticeCoupling(\n",
    "    orbital_id1=\"pz\",\n",
    "    orbital_id2=\"pz\",\n",
    "    lattice=graphene,\n",
    "    couplings=[16.522, 8.64, 5.333],\n",
    "    coupling_function=lambda d: 14.399 / d + 0j,\n",
    ")\n",
    "sb.set_coulomb(c)\n",
    "\n",
    "# create the stack object\n",
    "stack = sb.get_stack()\n",
    "print(stack.rho_0.diagonal() * stack.electrons, stack.homo)\n",
    "\n",
    "# create the stack object with a single excitation involving two electrons\n",
    "stack = sb.get_stack( from_state = [1], to_state = [2], excited_electrons = [2], doping = 0 )\n",
    "print(stack.rho_0.diagonal() * stack.electrons, stack.homo)\n",
    "\n",
    "# create the stack object with two excitations\n",
    "stack = sb.get_stack( from_state = [1,0], to_state = [2,4], excited_electrons = [2,1], doping = 0 )\n",
    "print(stack.rho_0.diagonal() * stack.electrons, stack.homo)"
   ]
  }
 ],
 "metadata": {
  "kernelspec": {
   "display_name": "base",
   "language": "python",
   "name": "base"
  }
 },
 "nbformat": 4,
 "nbformat_minor": 5
}
