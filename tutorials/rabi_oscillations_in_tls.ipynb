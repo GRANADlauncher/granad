{
 "cells": [
  {
   "cell_type": "markdown",
   "id": "e6f3e112",
   "metadata": {},
   "source": [
    "## Rabi Oscillations in TLS\n",
    "\n",
    "We study Rabi oscillations in isolated two-level system.\n",
    "\n",
    "NOTE: this tutorial makes heavy use of the liberal way GRANAD lets you group orbitals. You might want to consult the tutorial on orbital lists first."
   ]
  },
  {
   "cell_type": "markdown",
   "id": "c66b835d",
   "metadata": {},
   "source": [
    "## Building a two-level system\n",
    "\n",
    "Consider an isolated atom, modelled as a two-level system. Each level is an orbital, so let's combine them in a list."
   ]
  },
  {
   "cell_type": "code",
   "execution_count": 1,
   "id": "8c05a3b9",
   "metadata": {
    "execution": {
     "iopub.execute_input": "2024-04-23T20:40:24.716999Z",
     "iopub.status.busy": "2024-04-23T20:40:24.716552Z",
     "iopub.status.idle": "2024-04-23T20:40:25.932410Z",
     "shell.execute_reply": "2024-04-23T20:40:25.931751Z"
    }
   },
   "outputs": [],
   "source": [
    "from granad import Orbital, OrbitalList\n",
    "\n",
    "lower_level = Orbital(tag=\"atom\")\n",
    "upper_level = Orbital(tag=\"atom\")\n",
    "atom = OrbitalList([lower_level, upper_level])"
   ]
  },
  {
   "cell_type": "markdown",
   "id": "33d2a2aa",
   "metadata": {},
   "source": [
    "We have used a tag to signify that these the orbitals belong to the same atom. Let's see what we have done."
   ]
  },
  {
   "cell_type": "code",
   "execution_count": 2,
   "id": "71c9b6bb",
   "metadata": {
    "execution": {
     "iopub.execute_input": "2024-04-23T20:40:25.935546Z",
     "iopub.status.busy": "2024-04-23T20:40:25.935100Z",
     "iopub.status.idle": "2024-04-23T20:40:25.939637Z",
     "shell.execute_reply": "2024-04-23T20:40:25.939038Z"
    }
   },
   "outputs": [
    {
     "name": "stdout",
     "output_type": "stream",
     "text": [
      "List with 2 orbitals, 2 electrons.\n",
      "[0] electrons excited from [0] to [0].\n",
      "group id 1 : 1 orbitals\n",
      "group id 2 : 1 orbitals\n"
     ]
    }
   ],
   "source": [
    "print(atom)"
   ]
  },
  {
   "cell_type": "markdown",
   "id": "c6e203cf",
   "metadata": {},
   "source": [
    "We see that GRANAD assumes that every orbital is filled. But we want only the one of the levels filled. So, we set the electron number to 1."
   ]
  },
  {
   "cell_type": "code",
   "execution_count": 3,
   "id": "583bec9d",
   "metadata": {
    "execution": {
     "iopub.execute_input": "2024-04-23T20:40:25.942019Z",
     "iopub.status.busy": "2024-04-23T20:40:25.941564Z",
     "iopub.status.idle": "2024-04-23T20:40:25.945246Z",
     "shell.execute_reply": "2024-04-23T20:40:25.944572Z"
    }
   },
   "outputs": [
    {
     "name": "stdout",
     "output_type": "stream",
     "text": [
      "List with 2 orbitals, 1 electrons.\n",
      "[0] electrons excited from [0] to [0].\n",
      "group id 1 : 1 orbitals\n",
      "group id 2 : 1 orbitals\n"
     ]
    }
   ],
   "source": [
    "atom.simulation_params.electrons = 1\n",
    "print(atom)"
   ]
  },
  {
   "cell_type": "markdown",
   "id": "ab6f4c39",
   "metadata": {},
   "source": [
    "We now need to specify the Hamiltonian. We can do so by setting the elements corresponding to the orbitals."
   ]
  },
  {
   "cell_type": "code",
   "execution_count": 4,
   "id": "ae1acd9b",
   "metadata": {
    "execution": {
     "iopub.execute_input": "2024-04-23T20:40:25.947570Z",
     "iopub.status.busy": "2024-04-23T20:40:25.947210Z",
     "iopub.status.idle": "2024-04-23T20:40:27.003167Z",
     "shell.execute_reply": "2024-04-23T20:40:27.002507Z"
    }
   },
   "outputs": [
    {
     "name": "stdout",
     "output_type": "stream",
     "text": [
      "List with 2 orbitals, 1 electrons.\n",
      "[0] electrons excited from [0] to [0].\n",
      "group id 1 : 1 orbitals\n",
      "group id 2 : 1 orbitals\n"
     ]
    },
    {
     "name": "stdout",
     "output_type": "stream",
     "text": [
      "[[-0.5+0.j  2. +0.j]\n",
      " [ 2. +0.j  0.5+0.j]]\n"
     ]
    }
   ],
   "source": [
    "atom.set_hamiltonian_element(upper_level, lower_level, 2.0)\n",
    "atom.set_hamiltonian_element(upper_level, upper_level, 0.5)\n",
    "atom.set_hamiltonian_element(lower_level, lower_level, -0.5)\n",
    "print(atom)\n",
    "print(atom.hamiltonian)"
   ]
  },
  {
   "cell_type": "markdown",
   "id": "51d20c84",
   "metadata": {},
   "source": [
    "Setting dipole transitions is similar. We want the lower and upper level to be connected by a dipole transition in z-direction."
   ]
  },
  {
   "cell_type": "code",
   "execution_count": 5,
   "id": "f1277bc8",
   "metadata": {
    "execution": {
     "iopub.execute_input": "2024-04-23T20:40:27.006054Z",
     "iopub.status.busy": "2024-04-23T20:40:27.005570Z",
     "iopub.status.idle": "2024-04-23T20:40:27.022923Z",
     "shell.execute_reply": "2024-04-23T20:40:27.022281Z"
    }
   },
   "outputs": [
    {
     "name": "stdout",
     "output_type": "stream",
     "text": [
      "List with 2 orbitals, 1 electrons.\n",
      "[0] electrons excited from [0] to [0].\n",
      "group id 1 : 1 orbitals\n",
      "group id 2 : 1 orbitals\n"
     ]
    }
   ],
   "source": [
    "atom.set_dipole_transition(upper_level, lower_level, [1, 0, 0])\n",
    "print(atom)"
   ]
  },
  {
   "cell_type": "markdown",
   "id": "c07ee1ef",
   "metadata": {},
   "source": [
    "We set the initial excited state (in our point of view, this is a HOMO-LUMO transition)."
   ]
  },
  {
   "cell_type": "code",
   "execution_count": 6,
   "id": "83584db7",
   "metadata": {
    "execution": {
     "iopub.execute_input": "2024-04-23T20:40:27.025380Z",
     "iopub.status.busy": "2024-04-23T20:40:27.025026Z",
     "iopub.status.idle": "2024-04-23T20:40:27.491593Z",
     "shell.execute_reply": "2024-04-23T20:40:27.490979Z"
    }
   },
   "outputs": [
    {
     "name": "stdout",
     "output_type": "stream",
     "text": [
      "List with 2 orbitals, 1 electrons.\n",
      "[1] electrons excited from [0] to [1].\n",
      "group id 1 : 1 orbitals\n",
      "group id 2 : 1 orbitals\n"
     ]
    }
   ],
   "source": [
    "atom.set_excitation(atom.homo, atom.homo + 1, 1)\n",
    "print(atom)"
   ]
  },
  {
   "cell_type": "markdown",
   "id": "a069a9cb",
   "metadata": {},
   "source": [
    "We consider a continuous wave as an external illumination."
   ]
  },
  {
   "cell_type": "code",
   "execution_count": 7,
   "id": "4cc34af4",
   "metadata": {
    "execution": {
     "iopub.execute_input": "2024-04-23T20:40:27.494121Z",
     "iopub.status.busy": "2024-04-23T20:40:27.493705Z",
     "iopub.status.idle": "2024-04-23T20:40:27.498071Z",
     "shell.execute_reply": "2024-04-23T20:40:27.497411Z"
    }
   },
   "outputs": [],
   "source": [
    "from granad import Wave\n",
    "\n",
    "wave = Wave(amplitudes=[0.05, 0, 0], frequency=2)"
   ]
  },
  {
   "cell_type": "markdown",
   "id": "03152356",
   "metadata": {},
   "source": [
    "We propagate the system in time."
   ]
  },
  {
   "cell_type": "code",
   "execution_count": 8,
   "id": "4e109f5d",
   "metadata": {
    "execution": {
     "iopub.execute_input": "2024-04-23T20:40:27.500370Z",
     "iopub.status.busy": "2024-04-23T20:40:27.500003Z",
     "iopub.status.idle": "2024-04-23T20:40:30.610494Z",
     "shell.execute_reply": "2024-04-23T20:40:30.609849Z"
    }
   },
   "outputs": [
    {
     "data": {
      "image/png": "[encoded data removed]",
      "text/plain": [
       "<Figure size 640x480 with 1 Axes>"
      ]
     },
     "metadata": {},
     "output_type": "display_data"
    }
   ],
   "source": [
    "time, density_matrices = atom.get_density_matrix_time_domain(\n",
    "    end_time=10, relaxation_rate=1, illumination=wave, use_rwa=True\n",
    ")\n",
    "atom.show_time_dependence(density_matrices, time=time)"
   ]
  }
 ],
 "metadata": {
  "kernelspec": {
   "display_name": "base",
   "language": "python",
   "name": "base"
  },
  "language_info": {
   "codemirror_mode": {
    "name": "ipython",
    "version": 3
   },
   "file_extension": ".py",
   "mimetype": "text/x-python",
   "name": "python",
   "nbconvert_exporter": "python",
   "pygments_lexer": "ipython3",
   "version": "3.12.3"
  }
 },
 "nbformat": 4,
 "nbformat_minor": 5
}
