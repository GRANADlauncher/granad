{
 "cells": [
  {
   "cell_type": "markdown",
   "id": "dc4a40ea",
   "metadata": {},
   "source": [
    "## Absorption spectrum of graphene nanoflakes\n",
    "\n",
    "This example demonstrates an advanced simulation. We will initialize a triangular graphene nanoflake, specify the couplings, simulate it under pulsed illumination and compute the absorption spectrum. \n",
    "\n",
    "### Set up the Stack\n",
    "\n",
    "The setup is analogous to the first tutorial. We build the Stack using the StackBuilder, which needs to know the material (a triangular armchair graphene nanoflake of 7.4 Å) and the coupling between the pz-orbitals (hopping rates and Coulomb interaction)."
   ]
  },
  {
   "cell_type": "code",
   "execution_count": null,
   "id": "1bead0ab",
   "metadata": {},
   "outputs": [],
   "source": [
    "import granad\n",
    "import jax.numpy as jnp\n",
    "import numpy as np\n",
    "import matplotlib.pyplot as plt\n",
    "\n",
    "sb = granad.StackBuilder()\n",
    "\n",
    "# geometry\n",
    "triangle = granad.Triangle(7.4) \n",
    "graphene = granad.Lattice(\n",
    "    shape=triangle,\n",
    "    lattice_type=granad.LatticeType.HONEYCOMB,\n",
    "    lattice_edge=granad.LatticeEdge.ARMCHAIR,\n",
    "    lattice_constant=2.46,\n",
    ")\n",
    "sb.add(\"pz\", graphene)\n",
    "\n",
    "# couplings\n",
    "hopping_graphene = granad.LatticeCoupling(\n",
    "    orbital_id1=\"pz\", orbital_id2=\"pz\", lattice=graphene, couplings=[0, -2.66] # list of hopping amplitudes like [onsite, nn, ...]\n",
    ")\n",
    "sb.set_hopping(hopping_graphene)\n",
    "coulomb_graphene = granad.LatticeCoupling(\n",
    "    orbital_id1=\"pz\",\n",
    "    orbital_id2=\"pz\",\n",
    "    lattice=graphene,\n",
    "    couplings=[16.522, 8.64, 5.333],\n",
    "    coupling_function=lambda d: 14.399 / d + 0j,\n",
    ")\n",
    "sb.set_coulomb(coulomb_graphene)\n",
    "\n",
    "stack = sb.get_stack()"
   ]
  },
  {
   "cell_type": "markdown",
   "id": "2f265aa6",
   "metadata": {},
   "source": [
    "We now define the electric field as an x-polarized pulse of frequency peaking at 2, with fwhm of 0.5."
   ]
  },
  {
   "cell_type": "code",
   "execution_count": null,
   "id": "465c8360",
   "metadata": {},
   "outputs": [],
   "source": [
    "amplitudes = [1, 0, 0]\n",
    "frequency = 1\n",
    "peak = 2\n",
    "fwhm = 0.5\n",
    "field_func = granad.electric_field_pulse(\n",
    "    amplitudes, frequency, stack.positions[0, :], peak, fwhm\n",
    ")"
   ]
  },
  {
   "cell_type": "markdown",
   "id": "c170d86e",
   "metadata": {},
   "source": [
    "We assume the structure looses energy relaxing across all channels with a rate of 0.1"
   ]
  },
  {
   "cell_type": "code",
   "execution_count": null,
   "id": "3b034302",
   "metadata": {},
   "outputs": [],
   "source": [
    "loss_function = granad.relaxation( 0.1 )"
   ]
  },
  {
   "cell_type": "markdown",
   "id": "8074fc42",
   "metadata": {},
   "source": [
    "We propagate the structure in time. The function evolution returns a tuple. First is a new stack with its initial state given by the last state in the time evolution.  Second is a solution object provided by the diffrax library GRANAD uses for solving the underlying ODE with Dormand-Prince's 5/4 method and a PID controller for adapting the step size. It contains the density matrices, accessible via its attribute soltuion.ys. The saveat argument controls at which times we want to sample the density matrix. Here, we take it at all times, but for larger structures, a more sparse sampling grid is appropriate."
   ]
  },
  {
   "cell_type": "code",
   "execution_count": null,
   "id": "9f21e5a2",
   "metadata": {},
   "outputs": [],
   "source": [
    "time_axis = jnp.linspace(0, 10, int(1e5))\n",
    "import time\n",
    "saveat = time_axis[::100]\n",
    "start = time.time()\n",
    "new_stack, sol = granad.evolution(\n",
    "    stack,\n",
    "    time_axis,\n",
    "    field_func,\n",
    "    loss_function,\n",
    "    saveat = saveat,\n",
    "    atol = 1e-10,\n",
    "    rtol = 1e-10\n",
    ")\n",
    "print( time.time() - start )\n",
    "# Unpack the solutions. sol.ys contains the density matrices stacked into an array of shape T x N x N, where T is the number of timesteps, N is the number of orbitals. We only need the diagonal elements for the occupation numbers."
   ]
  },
  {
   "cell_type": "code",
   "execution_count": null,
   "id": "0a94419e",
   "metadata": {},
   "outputs": [],
   "source": [
    "occupations_new = jnp.diagonal(sol.ys, axis1=1, axis2=2)"
   ]
  },
  {
   "cell_type": "code",
   "execution_count": null,
   "id": "62fac452",
   "metadata": {
    "lines_to_next_cell": 1
   },
   "outputs": [],
   "source": [
    "# We can also calculate the solution without diffrax with the previous solver, equivalent to first order Runge-Kutta\n",
    "_, occupations_old = granad.evolution_old(\n",
    "    stack,\n",
    "    time_axis,\n",
    "    field_func,\n",
    "    loss_function,\n",
    "    postprocess = jnp.diag\n",
    ")"
   ]
  },
  {
   "cell_type": "markdown",
   "id": "b58ac1be",
   "metadata": {},
   "source": [
    "We now plot the absorption "
   ]
  },
  {
   "cell_type": "code",
   "execution_count": null,
   "id": "7cd53372",
   "metadata": {},
   "outputs": [],
   "source": [
    "## custom function for performing the fourier transform\n",
    "def get_fourier_transform(t_linspace, function_of_time):\n",
    "    function_of_omega = np.fft.fft(function_of_time) / len(t_linspace)\n",
    "    omega_axis = (\n",
    "        2\n",
    "        * np.pi\n",
    "        * len(t_linspace)\n",
    "        / np.max(t_linspace)\n",
    "        * np.fft.fftfreq(function_of_omega.shape[-1])\n",
    "    )\n",
    "    return omega_axis, function_of_omega\n",
    "\n",
    "# dipole moments in fourier space\n",
    "dipole_moment_new = granad.induced_dipole_moment(stack, occupations_new)\n",
    "omega_axis_new, dipole_omega_new = get_fourier_transform(saveat, dipole_moment_new[:, 0])\n",
    "dipole_moment_old = granad.induced_dipole_moment(stack, occupations_old)\n",
    "omega_axis_old, dipole_omega_old = get_fourier_transform(time_axis, dipole_moment_old[:, 0])\n",
    "\n",
    "# we also need the x-component of the electric field as a single function\n",
    "electric_field = granad.electric_field(\n",
    "    amplitudes, frequency, stack.positions[0, :]\n",
    ")(saveat)\n",
    "_, field_omega_new = get_fourier_transform(saveat, electric_field[0])\n",
    "\n",
    "electric_field = granad.electric_field(\n",
    "    amplitudes, frequency, stack.positions[0, :]\n",
    ")(time_axis)\n",
    "_, field_omega_old = get_fourier_transform(time_axis, electric_field[0])\n",
    "\n",
    "\n",
    "omega_max = 100\n",
    "component = 0\n",
    "# alpha = p / E\n",
    "polarizability = dipole_omega_new / field_omega_new\n",
    "polarizability_old = dipole_omega_old / field_omega_old\n",
    "# sigma ~ Im[alpha]\n",
    "spectrum_old = -omega_axis_old[:omega_max] * np.imag(polarizability_old[:omega_max])\n",
    "spectrum = -omega_axis_new[:omega_max] * np.imag(polarizability[:omega_max])\n",
    "plt.plot(omega_axis_old[:omega_max], np.abs(spectrum_old) ** (1 / 2), label = 'old')\n",
    "plt.plot(omega_axis_new[:omega_max], np.abs(spectrum) ** (1 / 2), '--', label = 'new')\n",
    "plt.legend()\n",
    "plt.xlabel(r\"$\\hbar\\omega$\", fontsize=20)\n",
    "plt.ylabel(r\"$\\sigma(\\omega)$\", fontsize=25)\n",
    "plt.show()"
   ]
  }
 ],
 "metadata": {
  "kernelspec": {
   "display_name": "base",
   "language": "python",
   "name": "base"
  }
 },
 "nbformat": 4,
 "nbformat_minor": 5
}
