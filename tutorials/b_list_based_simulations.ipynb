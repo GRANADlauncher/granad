{
 "cells": [
  {
   "cell_type": "markdown",
   "id": "81b01241",
   "metadata": {},
   "source": [
    "# List-based Simulations \n",
    "\n",
    "Every GRANAD simulation dependens on orbitals and their interactions. To make orbitals interact and spatially displace them, you need to put them into list, which is what this tutorial is about."
   ]
  },
  {
   "cell_type": "markdown",
   "id": "0e1d5cfa",
   "metadata": {},
   "source": [
    "## Orbitals: A Recap\n",
    "\n",
    "As already explained in the \"Getting Started\" Tutorial, Orbitals are the basic building blocks of orbital lists. They are book keeping devices containing quantum numbers, position and a user-defined string. "
   ]
  },
  {
   "cell_type": "markdown",
   "id": "e670f8a3",
   "metadata": {},
   "source": [
    "## Orbital lists"
   ]
  },
  {
   "cell_type": "markdown",
   "id": "40946790",
   "metadata": {},
   "source": [
    "We can make orbitals interact by putting them into a list. The class we need for this is called `OrbitalList` It allows us to"
   ]
  },
  {
   "cell_type": "markdown",
   "id": "67aa0ee0",
   "metadata": {},
   "source": [
    "1. couple orbitals \n",
    "2. set simulation parameters\n",
    "3. compute and plot physical observables (such as energy spectra or time-domain simulations)"
   ]
  },
  {
   "cell_type": "markdown",
   "id": "2cd63d2d",
   "metadata": {},
   "source": [
    "## Coupling orbitals"
   ]
  },
  {
   "cell_type": "markdown",
   "id": "e969e722",
   "metadata": {},
   "source": [
    "We already learned in the first tutorial that there are two ways of making an orbital list:"
   ]
  },
  {
   "cell_type": "markdown",
   "id": "d7de6d39",
   "metadata": {},
   "source": [
    "1. creating it\n",
    "2. cutting it from a bulk material"
   ]
  },
  {
   "cell_type": "markdown",
   "id": "70a274b0",
   "metadata": {},
   "source": [
    "In the former case, we have to specify all couplings ourselves. In the latter case, this information is extracted from the material."
   ]
  },
  {
   "cell_type": "markdown",
   "id": "c4321ab7",
   "metadata": {},
   "source": [
    "Say we want to specify an isolated atom representing a quantum optical two-level system (TLS). We will create two orbitals with two energy levels that belong to the same atom."
   ]
  },
  {
   "cell_type": "code",
   "execution_count": 1,
   "id": "37bc5222",
   "metadata": {
    "execution": {
     "iopub.execute_input": "2025-01-27T17:10:39.433534Z",
     "iopub.status.busy": "2025-01-27T17:10:39.433360Z",
     "iopub.status.idle": "2025-01-27T17:10:40.463881Z",
     "shell.execute_reply": "2025-01-27T17:10:40.463396Z"
    }
   },
   "outputs": [],
   "source": [
    "from granad import Orbital\n",
    "lower_level = Orbital(tag=\"atom\")\n",
    "upper_level = Orbital(tag=\"atom\")"
   ]
  },
  {
   "cell_type": "markdown",
   "id": "10971aca",
   "metadata": {},
   "source": [
    "To use the Orbitals in a simulation, we group them into a list"
   ]
  },
  {
   "cell_type": "code",
   "execution_count": 2,
   "id": "a98f6e8a",
   "metadata": {
    "execution": {
     "iopub.execute_input": "2025-01-27T17:10:40.466226Z",
     "iopub.status.busy": "2025-01-27T17:10:40.465672Z",
     "iopub.status.idle": "2025-01-27T17:10:40.478738Z",
     "shell.execute_reply": "2025-01-27T17:10:40.478247Z"
    }
   },
   "outputs": [
    {
     "name": "stdout",
     "output_type": "stream",
     "text": [
      "List with 2 orbitals, 2 electrons.\n",
      "Excitation: [0] electrons excited from energy levels [0] to [0].\n",
      "Included tags with number of orbitals: {'atom': 2}\n"
     ]
    }
   ],
   "source": [
    "from granad import OrbitalList\n",
    "atom = OrbitalList([lower_level, upper_level])\n",
    "print(atom)"
   ]
  },
  {
   "cell_type": "markdown",
   "id": "5b859c29",
   "metadata": {},
   "source": [
    "We can tell that the total electron number in our system is 2, since by default GRANAD considers each orbital to contribute 1 electron. This can be changed as follows"
   ]
  },
  {
   "cell_type": "code",
   "execution_count": 3,
   "id": "7ff63d12",
   "metadata": {
    "execution": {
     "iopub.execute_input": "2025-01-27T17:10:40.480738Z",
     "iopub.status.busy": "2025-01-27T17:10:40.480277Z",
     "iopub.status.idle": "2025-01-27T17:10:40.483921Z",
     "shell.execute_reply": "2025-01-27T17:10:40.483365Z"
    }
   },
   "outputs": [
    {
     "name": "stdout",
     "output_type": "stream",
     "text": [
      "List with 2 orbitals, 1 electrons.\n",
      "Excitation: [0] electrons excited from energy levels [0] to [0].\n",
      "Included tags with number of orbitals: {'atom': 2}\n"
     ]
    }
   ],
   "source": [
    "atom.set_electrons(1)\n",
    "print(atom)"
   ]
  },
  {
   "cell_type": "markdown",
   "id": "d7cf0c3e",
   "metadata": {},
   "source": [
    "We can compute static quantities of the atom, like its energies. By default, GRANAD considers all couplings to be zero unless stated otherwise. "
   ]
  },
  {
   "cell_type": "code",
   "execution_count": 4,
   "id": "731fabfb",
   "metadata": {
    "execution": {
     "iopub.execute_input": "2025-01-27T17:10:40.485562Z",
     "iopub.status.busy": "2025-01-27T17:10:40.485391Z",
     "iopub.status.idle": "2025-01-27T17:10:41.399496Z",
     "shell.execute_reply": "2025-01-27T17:10:41.398961Z"
    }
   },
   "outputs": [
    {
     "name": "stdout",
     "output_type": "stream",
     "text": [
      "[0. 0.]\n"
     ]
    }
   ],
   "source": [
    "print(atom.energies)"
   ]
  },
  {
   "cell_type": "markdown",
   "id": "8521b40a",
   "metadata": {},
   "source": [
    "As no couplings are specified, only zero energies are obtained. "
   ]
  },
  {
   "cell_type": "markdown",
   "id": "779beae5",
   "metadata": {},
   "source": [
    "GRANAD lets us explicitly set elements of the Hamiltonian and Coulomb matrices by their list indices. We have put the Orbital called `lower_level` in the 0-th position, so we can assign it an an energy of -0.5. "
   ]
  },
  {
   "cell_type": "code",
   "execution_count": 5,
   "id": "706a996e",
   "metadata": {
    "execution": {
     "iopub.execute_input": "2025-01-27T17:10:41.401490Z",
     "iopub.status.busy": "2025-01-27T17:10:41.401046Z",
     "iopub.status.idle": "2025-01-27T17:10:41.404348Z",
     "shell.execute_reply": "2025-01-27T17:10:41.403599Z"
    }
   },
   "outputs": [],
   "source": [
    "atom.set_hamiltonian_element( 0, 0, -0.5)"
   ]
  },
  {
   "cell_type": "markdown",
   "id": "e8e71763",
   "metadata": {},
   "source": [
    "Similarly, we can assign the energy to the upper level"
   ]
  },
  {
   "cell_type": "code",
   "execution_count": 6,
   "id": "04b28e05",
   "metadata": {
    "execution": {
     "iopub.execute_input": "2025-01-27T17:10:41.406070Z",
     "iopub.status.busy": "2025-01-27T17:10:41.405893Z",
     "iopub.status.idle": "2025-01-27T17:10:41.408732Z",
     "shell.execute_reply": "2025-01-27T17:10:41.408283Z"
    }
   },
   "outputs": [],
   "source": [
    "atom.set_hamiltonian_element( 1, 1, 0.5)"
   ]
  },
  {
   "cell_type": "markdown",
   "id": "a724ae9b",
   "metadata": {},
   "source": [
    "If we now check the energies, we see that they have updated automatically"
   ]
  },
  {
   "cell_type": "code",
   "execution_count": 7,
   "id": "7df31a33",
   "metadata": {
    "execution": {
     "iopub.execute_input": "2025-01-27T17:10:41.410507Z",
     "iopub.status.busy": "2025-01-27T17:10:41.410165Z",
     "iopub.status.idle": "2025-01-27T17:10:41.691595Z",
     "shell.execute_reply": "2025-01-27T17:10:41.691069Z"
    }
   },
   "outputs": [
    {
     "name": "stdout",
     "output_type": "stream",
     "text": [
      "[-0.5  0.5]\n"
     ]
    }
   ],
   "source": [
    "print(atom.energies)"
   ]
  },
  {
   "cell_type": "markdown",
   "id": "c33cb757",
   "metadata": {},
   "source": [
    "You might have realized that you didn't have to call any function to get the energies with the updated couplings. This is because GRANAD evaluates lazily:  physical quantities that depend on the couplings (like the energies or a Coulomb matrix entry) will be computed when they are needed. Aside from using list indices for setting couplings, you can also use the orbitals themselves. This takes some time to get used to, but is quite practical."
   ]
  },
  {
   "cell_type": "markdown",
   "id": "f4041c0d",
   "metadata": {},
   "source": [
    "For illustration, we couple the upper and lower level. This could be achieved as follows"
   ]
  },
  {
   "cell_type": "code",
   "execution_count": 8,
   "id": "e4b3a2ac",
   "metadata": {
    "execution": {
     "iopub.execute_input": "2025-01-27T17:10:41.693589Z",
     "iopub.status.busy": "2025-01-27T17:10:41.693219Z",
     "iopub.status.idle": "2025-01-27T17:10:41.696563Z",
     "shell.execute_reply": "2025-01-27T17:10:41.695968Z"
    }
   },
   "outputs": [],
   "source": [
    "atom.set_hamiltonian_element( 1, 0, 0.5j)"
   ]
  },
  {
   "cell_type": "markdown",
   "id": "dcc3f8c3",
   "metadata": {},
   "source": [
    "Or like this"
   ]
  },
  {
   "cell_type": "code",
   "execution_count": 9,
   "id": "29c0aabf",
   "metadata": {
    "execution": {
     "iopub.execute_input": "2025-01-27T17:10:41.698294Z",
     "iopub.status.busy": "2025-01-27T17:10:41.697919Z",
     "iopub.status.idle": "2025-01-27T17:10:41.985924Z",
     "shell.execute_reply": "2025-01-27T17:10:41.985420Z"
    }
   },
   "outputs": [
    {
     "name": "stdout",
     "output_type": "stream",
     "text": [
      "[[-0.5-0.j   0. +0.1j]\n",
      " [ 0. -0.1j  0.5-0.j ]]\n"
     ]
    }
   ],
   "source": [
    "atom.set_hamiltonian_element( upper_level, lower_level, 0.1j) # changes the same element \n",
    "print(atom.hamiltonian)"
   ]
  },
  {
   "cell_type": "markdown",
   "id": "908c8c4b",
   "metadata": {},
   "source": [
    "Setting Coulomb matrix elements proceeds analogously by calling `atom.set_coulomb_element`."
   ]
  },
  {
   "cell_type": "markdown",
   "id": "cafa2091",
   "metadata": {},
   "source": [
    "We see that the matrix entry corresponding to the inter-level coupling is now modified accordingly, with hermiticity of the hamiltonian taken into account properly."
   ]
  },
  {
   "cell_type": "markdown",
   "id": "90ad1898",
   "metadata": {},
   "source": [
    "Introducing dipole transitions works similarly: We  have to remember to pass in a vector for the transition"
   ]
  },
  {
   "cell_type": "code",
   "execution_count": 10,
   "id": "55fce71d",
   "metadata": {
    "execution": {
     "iopub.execute_input": "2025-01-27T17:10:41.987869Z",
     "iopub.status.busy": "2025-01-27T17:10:41.987682Z",
     "iopub.status.idle": "2025-01-27T17:10:42.726798Z",
     "shell.execute_reply": "2025-01-27T17:10:42.726272Z"
    }
   },
   "outputs": [
    {
     "name": "stdout",
     "output_type": "stream",
     "text": [
      "[[0.+0.j 1.+0.j]\n",
      " [1.+0.j 0.+0.j]]\n"
     ]
    }
   ],
   "source": [
    "atom.set_dipole_element( upper_level, lower_level, [0,0,1] ) # transition dipole oriented in z-direction\n",
    "print(atom.dipole_operator[2])"
   ]
  },
  {
   "cell_type": "markdown",
   "id": "46a6e92e",
   "metadata": {},
   "source": [
    "Let's look at the position of the atom"
   ]
  },
  {
   "cell_type": "code",
   "execution_count": 11,
   "id": "75a67c1a",
   "metadata": {
    "execution": {
     "iopub.execute_input": "2025-01-27T17:10:42.728684Z",
     "iopub.status.busy": "2025-01-27T17:10:42.728328Z",
     "iopub.status.idle": "2025-01-27T17:10:42.732740Z",
     "shell.execute_reply": "2025-01-27T17:10:42.732176Z"
    }
   },
   "outputs": [
    {
     "name": "stdout",
     "output_type": "stream",
     "text": [
      "[[0. 0. 0.]\n",
      " [0. 0. 0.]]\n"
     ]
    }
   ],
   "source": [
    "print(atom.positions)"
   ]
  },
  {
   "cell_type": "markdown",
   "id": "511f7a39",
   "metadata": {},
   "source": [
    "It is located at the origin. Let's shift it. We can manipulate the \"position\" attribute of the two orbitals by hand (not recommended) or we can use the tag we have defined, like so"
   ]
  },
  {
   "cell_type": "code",
   "execution_count": 12,
   "id": "46c3fe4d",
   "metadata": {
    "execution": {
     "iopub.execute_input": "2025-01-27T17:10:42.734625Z",
     "iopub.status.busy": "2025-01-27T17:10:42.734276Z",
     "iopub.status.idle": "2025-01-27T17:10:42.750322Z",
     "shell.execute_reply": "2025-01-27T17:10:42.749802Z"
    }
   },
   "outputs": [
    {
     "name": "stdout",
     "output_type": "stream",
     "text": [
      "[[0. 0. 1.]\n",
      " [0. 0. 1.]]\n"
     ]
    }
   ],
   "source": [
    "atom.shift_by_vector( [0, 0, 1] )\n",
    "print(atom.positions)"
   ]
  },
  {
   "cell_type": "markdown",
   "id": "17550b05",
   "metadata": {},
   "source": [
    "Every orbital we have annotated by this tag will be shifted. "
   ]
  },
  {
   "cell_type": "markdown",
   "id": "3e918165",
   "metadata": {},
   "source": [
    "Consider a slightly more involved geometric example, i.e. stacking two graphene flakes."
   ]
  },
  {
   "cell_type": "markdown",
   "id": "31b6d7da",
   "metadata": {},
   "source": [
    "We chose simple rectangles"
   ]
  },
  {
   "cell_type": "code",
   "execution_count": 13,
   "id": "6320942b",
   "metadata": {
    "execution": {
     "iopub.execute_input": "2025-01-27T17:10:42.752108Z",
     "iopub.status.busy": "2025-01-27T17:10:42.751929Z",
     "iopub.status.idle": "2025-01-27T17:10:46.347267Z",
     "shell.execute_reply": "2025-01-27T17:10:46.346700Z"
    }
   },
   "outputs": [
    {
     "data": {
      "image/png": "[encoded data removed]",
      "text/plain": [
       "<Figure size 640x480 with 1 Axes>"
      ]
     },
     "metadata": {},
     "output_type": "display_data"
    }
   ],
   "source": [
    "from granad import MaterialCatalog, Rectangle\n",
    "flake = MaterialCatalog.get(\"graphene\").cut_flake( Rectangle(10, 10), plot = True )"
   ]
  },
  {
   "cell_type": "markdown",
   "id": "43ba9dd1",
   "metadata": {},
   "source": [
    "By default, graphene flakes are created in the xy - plane. They contain pz Orbitals which are grouped together by an id. You can directly apply shifts to groups of orbitals. We want to shift the entire flake"
   ]
  },
  {
   "cell_type": "code",
   "execution_count": 14,
   "id": "8db20120",
   "metadata": {
    "execution": {
     "iopub.execute_input": "2025-01-27T17:10:46.349435Z",
     "iopub.status.busy": "2025-01-27T17:10:46.349071Z",
     "iopub.status.idle": "2025-01-27T17:10:46.390076Z",
     "shell.execute_reply": "2025-01-27T17:10:46.389549Z"
    }
   },
   "outputs": [
    {
     "name": "stdout",
     "output_type": "stream",
     "text": [
      "[[-7.38       -4.26084499  1.        ]\n",
      " [-8.61       -2.13042249  1.        ]\n",
      " [-9.84        0.          1.        ]\n",
      " [-4.92       -4.26084499  1.        ]\n",
      " [-6.15       -2.13042249  1.        ]\n",
      " [-7.38        0.          1.        ]\n",
      " [-8.61        2.13042249  1.        ]\n",
      " [-2.46       -4.26084499  1.        ]\n",
      " [-3.69       -2.13042249  1.        ]\n",
      " [-4.92        0.          1.        ]\n",
      " [-6.15        2.13042249  1.        ]\n",
      " [ 0.         -4.26084499  1.        ]\n",
      " [-1.23       -2.13042249  1.        ]\n",
      " [-2.46        0.          1.        ]\n",
      " [-3.69        2.13042249  1.        ]\n",
      " [ 2.46       -4.26084499  1.        ]\n",
      " [ 1.23       -2.13042249  1.        ]\n",
      " [ 0.          0.          1.        ]\n",
      " [-1.23        2.13042249  1.        ]\n",
      " [ 4.92       -4.26084499  1.        ]\n",
      " [ 3.69       -2.13042249  1.        ]\n",
      " [ 2.46        0.          1.        ]\n",
      " [ 1.23        2.13042249  1.        ]\n",
      " [ 7.38       -4.26084499  1.        ]\n",
      " [ 6.15       -2.13042249  1.        ]\n",
      " [ 4.92        0.          1.        ]\n",
      " [ 3.69        2.13042249  1.        ]\n",
      " [ 8.61       -2.13042249  1.        ]\n",
      " [ 7.38        0.          1.        ]\n",
      " [ 6.15        2.13042249  1.        ]\n",
      " [ 9.84        0.          1.        ]\n",
      " [ 8.61        2.13042249  1.        ]\n",
      " [-8.61       -3.55070416  1.        ]\n",
      " [-9.84       -1.42028166  1.        ]\n",
      " [-6.15       -3.55070416  1.        ]\n",
      " [-7.38       -1.42028166  1.        ]\n",
      " [-8.61        0.71014083  1.        ]\n",
      " [-3.69       -3.55070416  1.        ]\n",
      " [-4.92       -1.42028166  1.        ]\n",
      " [-6.15        0.71014083  1.        ]\n",
      " [-7.38        2.84056332  1.        ]\n",
      " [-1.23       -3.55070416  1.        ]\n",
      " [-2.46       -1.42028166  1.        ]\n",
      " [-3.69        0.71014083  1.        ]\n",
      " [-4.92        2.84056332  1.        ]\n",
      " [ 1.23       -3.55070416  1.        ]\n",
      " [ 0.         -1.42028166  1.        ]\n",
      " [-1.23        0.71014083  1.        ]\n",
      " [-2.46        2.84056332  1.        ]\n",
      " [ 3.69       -3.55070416  1.        ]\n",
      " [ 2.46       -1.42028166  1.        ]\n",
      " [ 1.23        0.71014083  1.        ]\n",
      " [ 0.          2.84056332  1.        ]\n",
      " [ 6.15       -3.55070416  1.        ]\n",
      " [ 4.92       -1.42028166  1.        ]\n",
      " [ 3.69        0.71014083  1.        ]\n",
      " [ 2.46        2.84056332  1.        ]\n",
      " [ 8.61       -3.55070416  1.        ]\n",
      " [ 7.38       -1.42028166  1.        ]\n",
      " [ 6.15        0.71014083  1.        ]\n",
      " [ 4.92        2.84056332  1.        ]\n",
      " [ 9.84       -1.42028166  1.        ]\n",
      " [ 8.61        0.71014083  1.        ]\n",
      " [ 7.38        2.84056332  1.        ]]\n"
     ]
    }
   ],
   "source": [
    "flake.shift_by_vector( [0,0,1]  )\n",
    "print(flake.positions)"
   ]
  },
  {
   "cell_type": "markdown",
   "id": "88cb4206",
   "metadata": {},
   "source": [
    "Now we have shifted the entire flake. But we actually wanted a stack, so we need a new flake at the bottom."
   ]
  },
  {
   "cell_type": "code",
   "execution_count": 15,
   "id": "4c3ed05a",
   "metadata": {
    "execution": {
     "iopub.execute_input": "2025-01-27T17:10:46.392106Z",
     "iopub.status.busy": "2025-01-27T17:10:46.391668Z",
     "iopub.status.idle": "2025-01-27T17:10:46.424811Z",
     "shell.execute_reply": "2025-01-27T17:10:46.424346Z"
    }
   },
   "outputs": [],
   "source": [
    "second_flake = MaterialCatalog.get(\"graphene\").cut_flake( Rectangle(10, 10) )"
   ]
  },
  {
   "cell_type": "markdown",
   "id": "15c03423",
   "metadata": {},
   "source": [
    "How do we combine the flakes? Well, both are lists, so we can  add them"
   ]
  },
  {
   "cell_type": "code",
   "execution_count": 16,
   "id": "2cd0fd4d",
   "metadata": {
    "execution": {
     "iopub.execute_input": "2025-01-27T17:10:46.426758Z",
     "iopub.status.busy": "2025-01-27T17:10:46.426393Z",
     "iopub.status.idle": "2025-01-27T17:10:46.710076Z",
     "shell.execute_reply": "2025-01-27T17:10:46.708097Z"
    }
   },
   "outputs": [
    {
     "data": {
      "image/png": "[encoded data removed]",
      "text/plain": [
       "<Figure size 640x480 with 1 Axes>"
      ]
     },
     "metadata": {},
     "output_type": "display_data"
    }
   ],
   "source": [
    "stack = flake + second_flake\n",
    "stack.show_3d()"
   ]
  },
  {
   "cell_type": "markdown",
   "id": "9a37169f",
   "metadata": {},
   "source": [
    "This is the first step. Now, we need to set couplings. For simplicity, we will couple nearest neighbors in different layers by setting their hopping rate in the Hamiltonian to 2.0. Interlayer nearest neighbors are separated by a distance of 1 Angström."
   ]
  },
  {
   "cell_type": "markdown",
   "id": "2dcff20b",
   "metadata": {},
   "source": [
    "To achieve this, we could"
   ]
  },
  {
   "cell_type": "markdown",
   "id": "a2a0e573",
   "metadata": {},
   "source": [
    "1. loop over all orbitals in the lower flake.\n",
    "2. get their nearest neighbor in the upper flake.\n",
    "3. call stack.set_hamiltonian_element to set the coupling to 1.0."
   ]
  },
  {
   "cell_type": "markdown",
   "id": "778915f7",
   "metadata": {},
   "source": [
    "This is very cumbersome, so we take a more flexible approach: specifying the coupling by a function dependent on the distance vector. We want a function that is 2.0 for a distance of 1.0 and 0.0 else. One way to express this is a narrow gaussian around 1.0."
   ]
  },
  {
   "cell_type": "code",
   "execution_count": 17,
   "id": "165a5f2a",
   "metadata": {
    "execution": {
     "iopub.execute_input": "2025-01-27T17:10:46.713347Z",
     "iopub.status.busy": "2025-01-27T17:10:46.712292Z",
     "iopub.status.idle": "2025-01-27T17:10:46.716916Z",
     "shell.execute_reply": "2025-01-27T17:10:46.716438Z"
    },
    "lines_to_end_of_cell_marker": 0,
    "lines_to_next_cell": 1
   },
   "outputs": [],
   "source": [
    "import jax.numpy as jnp\n",
    "def interlayer_hopping( distance ):\n",
    "    return 2.0 * jnp.exp( -100*(jnp.linalg.norm(distance) - 1.0)**2 )"
   ]
  },
  {
   "cell_type": "markdown",
   "id": "54241ab4",
   "metadata": {},
   "source": [
    "To set the coupling, we do"
   ]
  },
  {
   "cell_type": "code",
   "execution_count": 18,
   "id": "601c824f",
   "metadata": {
    "execution": {
     "iopub.execute_input": "2025-01-27T17:10:46.719470Z",
     "iopub.status.busy": "2025-01-27T17:10:46.719000Z",
     "iopub.status.idle": "2025-01-27T17:10:46.731007Z",
     "shell.execute_reply": "2025-01-27T17:10:46.730544Z"
    },
    "lines_to_end_of_cell_marker": 0,
    "lines_to_next_cell": 1
   },
   "outputs": [],
   "source": [
    "stack.set_hamiltonian_groups( flake, second_flake, interlayer_hopping )"
   ]
  },
  {
   "cell_type": "markdown",
   "id": "27091429",
   "metadata": {},
   "source": [
    "We can perform a slightly more interesting simulation by looping over a bunch of nearest-neighbor couplings and study the impact on the energy landscape. To this end, we rewrite the coupling function: "
   ]
  },
  {
   "cell_type": "code",
   "execution_count": 19,
   "id": "9337b561",
   "metadata": {
    "execution": {
     "iopub.execute_input": "2025-01-27T17:10:46.733623Z",
     "iopub.status.busy": "2025-01-27T17:10:46.733139Z",
     "iopub.status.idle": "2025-01-27T17:10:46.737619Z",
     "shell.execute_reply": "2025-01-27T17:10:46.737101Z"
    },
    "lines_to_end_of_cell_marker": 0,
    "lines_to_next_cell": 1
   },
   "outputs": [],
   "source": [
    "def interlayer_hopping_factory( coupling ):\n",
    "    def interlayer_hopping( distance ):\n",
    "        return coupling * jnp.exp( -100*(jnp.linalg.norm(distance) - 1.0)**2 )    \n",
    "    return interlayer_hopping"
   ]
  },
  {
   "cell_type": "markdown",
   "id": "4c3faf52",
   "metadata": {},
   "source": [
    "We now loop and plot"
   ]
  },
  {
   "cell_type": "code",
   "execution_count": 20,
   "id": "45106ef2",
   "metadata": {
    "execution": {
     "iopub.execute_input": "2025-01-27T17:10:46.740726Z",
     "iopub.status.busy": "2025-01-27T17:10:46.739728Z",
     "iopub.status.idle": "2025-01-27T17:10:49.816499Z",
     "shell.execute_reply": "2025-01-27T17:10:49.815980Z"
    }
   },
   "outputs": [
    {
     "data": {
      "image/png": "[encoded data removed]",
      "text/plain": [
       "<Figure size 640x480 with 1 Axes>"
      ]
     },
     "metadata": {},
     "output_type": "display_data"
    }
   ],
   "source": [
    "import matplotlib.pyplot as plt\n",
    "n_orbs = len(stack)\n",
    "for coupling in [0, 1.0, 1.5, 2.0, 3.0]:\n",
    "    interlayer_hopping = interlayer_hopping_factory( coupling )\n",
    "    stack.set_hamiltonian_groups( flake, second_flake, interlayer_hopping )    \n",
    "    plt.plot( stack.energies, 'o', label = coupling )\n",
    "plt.title(\"Energy landscape dependent on interlayer cc-hopping\")\n",
    "plt.legend()\n",
    "plt.show()"
   ]
  },
  {
   "cell_type": "markdown",
   "id": "8d87dbfa",
   "metadata": {},
   "source": [
    "Admittedly, this way of specifying couplings gets some time to get used to, but it is really flexible. "
   ]
  },
  {
   "cell_type": "markdown",
   "id": "c9cef0d1",
   "metadata": {},
   "source": [
    "To recap: we have learned that there are three different ways to address orbitals in a list, corresponding to varying levels of granularity:"
   ]
  },
  {
   "cell_type": "markdown",
   "id": "7f3c7cb7",
   "metadata": {},
   "source": [
    "1. *Single Orbitals* may be accessed by their list index or directly.\n",
    "2. *User-grouped Orbitals* may be accessed by their tag.\n",
    "3. *Auto-grouped Orbitals* may be accessed by their group_id."
   ]
  },
  {
   "cell_type": "markdown",
   "id": "5834dd9f",
   "metadata": {},
   "source": [
    "Based on this information, you can manipulate orbitals, e.g. shift them around."
   ]
  },
  {
   "cell_type": "markdown",
   "id": "64d1793b",
   "metadata": {},
   "source": [
    "## Pitfalls"
   ]
  },
  {
   "cell_type": "markdown",
   "id": "41b0657a",
   "metadata": {},
   "source": [
    "Deleting and modifying state is dangerous."
   ]
  },
  {
   "cell_type": "code",
   "execution_count": 21,
   "id": "7b6e52a2",
   "metadata": {
    "execution": {
     "iopub.execute_input": "2025-01-27T17:10:49.818382Z",
     "iopub.status.busy": "2025-01-27T17:10:49.818201Z",
     "iopub.status.idle": "2025-01-27T17:10:49.823360Z",
     "shell.execute_reply": "2025-01-27T17:10:49.822777Z"
    }
   },
   "outputs": [
    {
     "name": "stdout",
     "output_type": "stream",
     "text": [
      "0\n"
     ]
    }
   ],
   "source": [
    "atom = OrbitalList( [Orbital(), Orbital()] )\n",
    "atom.set_electrons(1)\n",
    "del atom[0] # ALWAYS removes 1 electron\n",
    "print(atom.electrons) # you have an empty atom"
   ]
  },
  {
   "cell_type": "markdown",
   "id": "b9cf7076",
   "metadata": {},
   "source": [
    "For this reason, the deletion (and append) operation on the orbital list may change or be removed entirely, meaning it wont be possible to add single orbitals or remove them from the structure. A likely and less dangerous replacement would be immutable, copyable data structures."
   ]
  }
 ],
 "metadata": {
  "kernelspec": {
   "display_name": "base",
   "language": "python",
   "name": "base"
  },
  "language_info": {
   "codemirror_mode": {
    "name": "ipython",
    "version": 3
   },
   "file_extension": ".py",
   "mimetype": "text/x-python",
   "name": "python",
   "nbconvert_exporter": "python",
   "pygments_lexer": "ipython3",
   "version": "3.12.8"
  }
 },
 "nbformat": 4,
 "nbformat_minor": 5
}
