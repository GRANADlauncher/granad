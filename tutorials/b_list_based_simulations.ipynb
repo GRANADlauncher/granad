{
 "cells": [
  {
   "cell_type": "markdown",
   "id": "8b2fcacf",
   "metadata": {},
   "source": [
    "# List-based Simulations \n",
    "\n",
    "Every GRANAD simulation dependens on orbitals and their interactions. To make orbitals interact and spatially displace them, you need to put them into list, which is what this tutorial is about."
   ]
  },
  {
   "cell_type": "markdown",
   "id": "66cafeb1",
   "metadata": {},
   "source": [
    "## Orbitals: A Recap\n",
    "\n",
    "As already explained in the \"Getting Started\" Tutorial, Orbitals are the basic building blocks of orbital lists. They are book keeping devices containing quantum numbers, position and a user-defined string. "
   ]
  },
  {
   "cell_type": "markdown",
   "id": "c730e1d2",
   "metadata": {},
   "source": [
    "## Orbital lists"
   ]
  },
  {
   "cell_type": "markdown",
   "id": "6d3c79ee",
   "metadata": {},
   "source": [
    "We can make orbitals interact by putting them into a list. The class we need for this is called `OrbitalList` It allows us to"
   ]
  },
  {
   "cell_type": "markdown",
   "id": "8064c389",
   "metadata": {},
   "source": [
    "1. couple orbitals \n",
    "2. set simulation parameters\n",
    "3. compute and plot physical observables (such as energy spectra or time-domain simulations)"
   ]
  },
  {
   "cell_type": "markdown",
   "id": "2c2d8159",
   "metadata": {},
   "source": [
    "## Coupling orbitals"
   ]
  },
  {
   "cell_type": "markdown",
   "id": "531e6fbb",
   "metadata": {},
   "source": [
    "We already learned in the first tutorial that there are two ways of making an orbital list:"
   ]
  },
  {
   "cell_type": "markdown",
   "id": "b3311187",
   "metadata": {},
   "source": [
    "1. creating it\n",
    "2. cutting it from a bulk material"
   ]
  },
  {
   "cell_type": "markdown",
   "id": "e1e067ca",
   "metadata": {},
   "source": [
    "In the former case, we have to specify all couplings ourselves. In the latter case, this information is extracted from the material."
   ]
  },
  {
   "cell_type": "markdown",
   "id": "602022ed",
   "metadata": {},
   "source": [
    "Say we want to specify an isolated atom representing a quantum optical two-level system (TLS). We will create two orbitals with two energy levels that belong to the same atom."
   ]
  },
  {
   "cell_type": "code",
   "execution_count": 1,
   "id": "a6d116d6",
   "metadata": {
    "execution": {
     "iopub.execute_input": "2025-02-03T13:12:42.093960Z",
     "iopub.status.busy": "2025-02-03T13:12:42.093784Z",
     "iopub.status.idle": "2025-02-03T13:12:43.219485Z",
     "shell.execute_reply": "2025-02-03T13:12:43.218994Z"
    }
   },
   "outputs": [],
   "source": [
    "from granad import Orbital\n",
    "lower_level = Orbital(tag=\"atom\")\n",
    "upper_level = Orbital(tag=\"atom\")"
   ]
  },
  {
   "cell_type": "markdown",
   "id": "76dcd6d6",
   "metadata": {},
   "source": [
    "To use the Orbitals in a simulation, we group them into a list"
   ]
  },
  {
   "cell_type": "code",
   "execution_count": 2,
   "id": "6fd377e8",
   "metadata": {
    "execution": {
     "iopub.execute_input": "2025-02-03T13:12:43.221758Z",
     "iopub.status.busy": "2025-02-03T13:12:43.221325Z",
     "iopub.status.idle": "2025-02-03T13:12:43.233276Z",
     "shell.execute_reply": "2025-02-03T13:12:43.232829Z"
    }
   },
   "outputs": [
    {
     "name": "stdout",
     "output_type": "stream",
     "text": [
      "List with 2 orbitals, 2 electrons.\n",
      "Excitation: [0] electrons excited from energy levels [0] to [0].\n",
      "Included tags with number of orbitals: {'atom': 2}\n"
     ]
    }
   ],
   "source": [
    "from granad import OrbitalList\n",
    "atom = OrbitalList([lower_level, upper_level])\n",
    "print(atom)"
   ]
  },
  {
   "cell_type": "markdown",
   "id": "8c7e7fbf",
   "metadata": {},
   "source": [
    "We can tell that the total electron number in our system is 2, since by default GRANAD considers each orbital to contribute 1 electron. This can be changed as follows"
   ]
  },
  {
   "cell_type": "code",
   "execution_count": 3,
   "id": "089e9fba",
   "metadata": {
    "execution": {
     "iopub.execute_input": "2025-02-03T13:12:43.235071Z",
     "iopub.status.busy": "2025-02-03T13:12:43.234718Z",
     "iopub.status.idle": "2025-02-03T13:12:43.238014Z",
     "shell.execute_reply": "2025-02-03T13:12:43.237390Z"
    }
   },
   "outputs": [
    {
     "name": "stdout",
     "output_type": "stream",
     "text": [
      "List with 2 orbitals, 1 electrons.\n",
      "Excitation: [0] electrons excited from energy levels [0] to [0].\n",
      "Included tags with number of orbitals: {'atom': 2}\n"
     ]
    }
   ],
   "source": [
    "atom.set_electrons(1)\n",
    "print(atom)"
   ]
  },
  {
   "cell_type": "markdown",
   "id": "d794669d",
   "metadata": {},
   "source": [
    "We can compute static quantities of the atom, like its energies. By default, GRANAD considers all couplings to be zero unless stated otherwise. "
   ]
  },
  {
   "cell_type": "code",
   "execution_count": 4,
   "id": "ce8046e8",
   "metadata": {
    "execution": {
     "iopub.execute_input": "2025-02-03T13:12:43.239662Z",
     "iopub.status.busy": "2025-02-03T13:12:43.239346Z",
     "iopub.status.idle": "2025-02-03T13:12:44.043589Z",
     "shell.execute_reply": "2025-02-03T13:12:44.043073Z"
    }
   },
   "outputs": [
    {
     "name": "stdout",
     "output_type": "stream",
     "text": [
      "[0. 0.]\n"
     ]
    }
   ],
   "source": [
    "print(atom.energies)"
   ]
  },
  {
   "cell_type": "markdown",
   "id": "dd9f0af8",
   "metadata": {},
   "source": [
    "As no couplings are specified, only zero energies are obtained. "
   ]
  },
  {
   "cell_type": "markdown",
   "id": "1b3ca5b4",
   "metadata": {},
   "source": [
    "GRANAD lets us explicitly set elements of the Hamiltonian and Coulomb matrices by their list indices. We have put the Orbital called `lower_level` in the 0-th position, so we can assign it an an energy of -0.5. "
   ]
  },
  {
   "cell_type": "code",
   "execution_count": 5,
   "id": "8d565f6d",
   "metadata": {
    "execution": {
     "iopub.execute_input": "2025-02-03T13:12:44.045558Z",
     "iopub.status.busy": "2025-02-03T13:12:44.045187Z",
     "iopub.status.idle": "2025-02-03T13:12:44.048464Z",
     "shell.execute_reply": "2025-02-03T13:12:44.047772Z"
    }
   },
   "outputs": [],
   "source": [
    "atom.set_hamiltonian_element( 0, 0, -0.5)"
   ]
  },
  {
   "cell_type": "markdown",
   "id": "05d9fa7d",
   "metadata": {},
   "source": [
    "Similarly, we can assign the energy to the upper level"
   ]
  },
  {
   "cell_type": "code",
   "execution_count": 6,
   "id": "058ab9dc",
   "metadata": {
    "execution": {
     "iopub.execute_input": "2025-02-03T13:12:44.050158Z",
     "iopub.status.busy": "2025-02-03T13:12:44.049885Z",
     "iopub.status.idle": "2025-02-03T13:12:44.052891Z",
     "shell.execute_reply": "2025-02-03T13:12:44.052399Z"
    }
   },
   "outputs": [],
   "source": [
    "atom.set_hamiltonian_element( 1, 1, 0.5)"
   ]
  },
  {
   "cell_type": "markdown",
   "id": "c05bf177",
   "metadata": {},
   "source": [
    "If we now check the energies, we see that they have updated automatically"
   ]
  },
  {
   "cell_type": "code",
   "execution_count": 7,
   "id": "efe2186d",
   "metadata": {
    "execution": {
     "iopub.execute_input": "2025-02-03T13:12:44.054520Z",
     "iopub.status.busy": "2025-02-03T13:12:44.054344Z",
     "iopub.status.idle": "2025-02-03T13:12:44.324992Z",
     "shell.execute_reply": "2025-02-03T13:12:44.324477Z"
    }
   },
   "outputs": [
    {
     "name": "stdout",
     "output_type": "stream",
     "text": [
      "[-0.5  0.5]\n"
     ]
    }
   ],
   "source": [
    "print(atom.energies)"
   ]
  },
  {
   "cell_type": "markdown",
   "id": "8211167f",
   "metadata": {},
   "source": [
    "You might have realized that you didn't have to call any function to get the energies with the updated couplings. This is because GRANAD evaluates lazily:  physical quantities that depend on the couplings (like the energies or a Coulomb matrix entry) will be computed when they are needed. Aside from using list indices for setting couplings, you can also use the orbitals themselves. This takes some time to get used to, but is quite practical."
   ]
  },
  {
   "cell_type": "markdown",
   "id": "72d85a16",
   "metadata": {},
   "source": [
    "For illustration, we couple the upper and lower level. This could be achieved as follows"
   ]
  },
  {
   "cell_type": "code",
   "execution_count": 8,
   "id": "16458021",
   "metadata": {
    "execution": {
     "iopub.execute_input": "2025-02-03T13:12:44.326844Z",
     "iopub.status.busy": "2025-02-03T13:12:44.326628Z",
     "iopub.status.idle": "2025-02-03T13:12:44.329854Z",
     "shell.execute_reply": "2025-02-03T13:12:44.329262Z"
    }
   },
   "outputs": [],
   "source": [
    "atom.set_hamiltonian_element( 1, 0, 0.5j)"
   ]
  },
  {
   "cell_type": "markdown",
   "id": "fa1648ab",
   "metadata": {},
   "source": [
    "Or like this"
   ]
  },
  {
   "cell_type": "code",
   "execution_count": 9,
   "id": "4da0a33e",
   "metadata": {
    "execution": {
     "iopub.execute_input": "2025-02-03T13:12:44.331578Z",
     "iopub.status.busy": "2025-02-03T13:12:44.331231Z",
     "iopub.status.idle": "2025-02-03T13:12:44.670728Z",
     "shell.execute_reply": "2025-02-03T13:12:44.670190Z"
    }
   },
   "outputs": [
    {
     "name": "stdout",
     "output_type": "stream",
     "text": [
      "[[-0.5-0.j   0. +0.1j]\n",
      " [ 0. -0.1j  0.5-0.j ]]\n"
     ]
    }
   ],
   "source": [
    "atom.set_hamiltonian_element( upper_level, lower_level, 0.1j) # changes the same element \n",
    "print(atom.hamiltonian)"
   ]
  },
  {
   "cell_type": "markdown",
   "id": "4e7c3e5e",
   "metadata": {},
   "source": [
    "Setting Coulomb matrix elements proceeds analogously by calling `atom.set_coulomb_element`."
   ]
  },
  {
   "cell_type": "markdown",
   "id": "f75b8659",
   "metadata": {},
   "source": [
    "We see that the matrix entry corresponding to the inter-level coupling is now modified accordingly, with hermiticity of the Hamiltonian taken into account properly."
   ]
  },
  {
   "cell_type": "markdown",
   "id": "5e8925a6",
   "metadata": {},
   "source": [
    "Introducing dipole transitions works similarly: We  have to remember to pass in a vector for the transition"
   ]
  },
  {
   "cell_type": "code",
   "execution_count": 10,
   "id": "d3df4f46",
   "metadata": {
    "execution": {
     "iopub.execute_input": "2025-02-03T13:12:44.672547Z",
     "iopub.status.busy": "2025-02-03T13:12:44.672362Z",
     "iopub.status.idle": "2025-02-03T13:12:45.319883Z",
     "shell.execute_reply": "2025-02-03T13:12:45.319332Z"
    }
   },
   "outputs": [
    {
     "name": "stdout",
     "output_type": "stream",
     "text": [
      "[[0.+0.j 1.+0.j]\n",
      " [1.+0.j 0.+0.j]]\n"
     ]
    }
   ],
   "source": [
    "atom.set_dipole_element( upper_level, lower_level, [0,0,1] ) # transition dipole oriented in z-direction\n",
    "print(atom.dipole_operator[2])"
   ]
  },
  {
   "cell_type": "markdown",
   "id": "1878cac5",
   "metadata": {},
   "source": [
    "Let's look at the position of the atom"
   ]
  },
  {
   "cell_type": "code",
   "execution_count": 11,
   "id": "aa9cafe7",
   "metadata": {
    "execution": {
     "iopub.execute_input": "2025-02-03T13:12:45.322031Z",
     "iopub.status.busy": "2025-02-03T13:12:45.321539Z",
     "iopub.status.idle": "2025-02-03T13:12:45.325629Z",
     "shell.execute_reply": "2025-02-03T13:12:45.325168Z"
    }
   },
   "outputs": [
    {
     "name": "stdout",
     "output_type": "stream",
     "text": [
      "[[0. 0. 0.]\n",
      " [0. 0. 0.]]\n"
     ]
    }
   ],
   "source": [
    "print(atom.positions)"
   ]
  },
  {
   "cell_type": "markdown",
   "id": "fa4d3666",
   "metadata": {},
   "source": [
    "It is located at the origin. Let's shift it. We can manipulate the \"position\" attribute of the two orbitals by hand (not recommended) or we can use the tag we have defined, like so"
   ]
  },
  {
   "cell_type": "code",
   "execution_count": 12,
   "id": "09af3211",
   "metadata": {
    "execution": {
     "iopub.execute_input": "2025-02-03T13:12:45.327277Z",
     "iopub.status.busy": "2025-02-03T13:12:45.327101Z",
     "iopub.status.idle": "2025-02-03T13:12:45.342308Z",
     "shell.execute_reply": "2025-02-03T13:12:45.341857Z"
    }
   },
   "outputs": [
    {
     "name": "stdout",
     "output_type": "stream",
     "text": [
      "[[0. 0. 1.]\n",
      " [0. 0. 1.]]\n"
     ]
    }
   ],
   "source": [
    "atom.shift_by_vector( [0, 0, 1] )\n",
    "print(atom.positions)"
   ]
  },
  {
   "cell_type": "markdown",
   "id": "913c0470",
   "metadata": {},
   "source": [
    "Every orbital we have annotated by this tag will be shifted. "
   ]
  },
  {
   "cell_type": "markdown",
   "id": "3bf31d58",
   "metadata": {},
   "source": [
    "Consider a slightly more involved geometric example, i.e. stacking two graphene flakes."
   ]
  },
  {
   "cell_type": "markdown",
   "id": "51ffbbae",
   "metadata": {},
   "source": [
    "We choose rectangles"
   ]
  },
  {
   "cell_type": "code",
   "execution_count": 13,
   "id": "1357fad6",
   "metadata": {
    "execution": {
     "iopub.execute_input": "2025-02-03T13:12:45.344194Z",
     "iopub.status.busy": "2025-02-03T13:12:45.343863Z",
     "iopub.status.idle": "2025-02-03T13:12:48.926633Z",
     "shell.execute_reply": "2025-02-03T13:12:48.926063Z"
    }
   },
   "outputs": [
    {
     "data": {
      "image/png": "[encoded data removed]",
      "text/plain": [
       "<Figure size 640x480 with 1 Axes>"
      ]
     },
     "metadata": {},
     "output_type": "display_data"
    }
   ],
   "source": [
    "from granad import MaterialCatalog, Rectangle\n",
    "flake = MaterialCatalog.get(\"graphene\").cut_flake( Rectangle(10, 10), plot = True )"
   ]
  },
  {
   "cell_type": "markdown",
   "id": "408039b9",
   "metadata": {},
   "source": [
    "By default, graphene flakes are created in the xy - plane. They contain pz Orbitals which are grouped together by an id. You can directly apply shifts to groups of orbitals. We want to shift the entire flake"
   ]
  },
  {
   "cell_type": "code",
   "execution_count": 14,
   "id": "c74fb762",
   "metadata": {
    "execution": {
     "iopub.execute_input": "2025-02-03T13:12:48.928624Z",
     "iopub.status.busy": "2025-02-03T13:12:48.928293Z",
     "iopub.status.idle": "2025-02-03T13:12:48.968701Z",
     "shell.execute_reply": "2025-02-03T13:12:48.968211Z"
    }
   },
   "outputs": [
    {
     "name": "stdout",
     "output_type": "stream",
     "text": [
      "[[-7.38       -4.26084499  1.        ]\n",
      " [-8.61       -2.13042249  1.        ]\n",
      " [-9.84        0.          1.        ]\n",
      " [-4.92       -4.26084499  1.        ]\n",
      " [-6.15       -2.13042249  1.        ]\n",
      " [-7.38        0.          1.        ]\n",
      " [-8.61        2.13042249  1.        ]\n",
      " [-2.46       -4.26084499  1.        ]\n",
      " [-3.69       -2.13042249  1.        ]\n",
      " [-4.92        0.          1.        ]\n",
      " [-6.15        2.13042249  1.        ]\n",
      " [ 0.         -4.26084499  1.        ]\n",
      " [-1.23       -2.13042249  1.        ]\n",
      " [-2.46        0.          1.        ]\n",
      " [-3.69        2.13042249  1.        ]\n",
      " [ 2.46       -4.26084499  1.        ]\n",
      " [ 1.23       -2.13042249  1.        ]\n",
      " [ 0.          0.          1.        ]\n",
      " [-1.23        2.13042249  1.        ]\n",
      " [ 4.92       -4.26084499  1.        ]\n",
      " [ 3.69       -2.13042249  1.        ]\n",
      " [ 2.46        0.          1.        ]\n",
      " [ 1.23        2.13042249  1.        ]\n",
      " [ 7.38       -4.26084499  1.        ]\n",
      " [ 6.15       -2.13042249  1.        ]\n",
      " [ 4.92        0.          1.        ]\n",
      " [ 3.69        2.13042249  1.        ]\n",
      " [ 8.61       -2.13042249  1.        ]\n",
      " [ 7.38        0.          1.        ]\n",
      " [ 6.15        2.13042249  1.        ]\n",
      " [ 9.84        0.          1.        ]\n",
      " [ 8.61        2.13042249  1.        ]\n",
      " [-8.61       -3.55070416  1.        ]\n",
      " [-9.84       -1.42028166  1.        ]\n",
      " [-6.15       -3.55070416  1.        ]\n",
      " [-7.38       -1.42028166  1.        ]\n",
      " [-8.61        0.71014083  1.        ]\n",
      " [-3.69       -3.55070416  1.        ]\n",
      " [-4.92       -1.42028166  1.        ]\n",
      " [-6.15        0.71014083  1.        ]\n",
      " [-7.38        2.84056332  1.        ]\n",
      " [-1.23       -3.55070416  1.        ]\n",
      " [-2.46       -1.42028166  1.        ]\n",
      " [-3.69        0.71014083  1.        ]\n",
      " [-4.92        2.84056332  1.        ]\n",
      " [ 1.23       -3.55070416  1.        ]\n",
      " [ 0.         -1.42028166  1.        ]\n",
      " [-1.23        0.71014083  1.        ]\n",
      " [-2.46        2.84056332  1.        ]\n",
      " [ 3.69       -3.55070416  1.        ]\n",
      " [ 2.46       -1.42028166  1.        ]\n",
      " [ 1.23        0.71014083  1.        ]\n",
      " [ 0.          2.84056332  1.        ]\n",
      " [ 6.15       -3.55070416  1.        ]\n",
      " [ 4.92       -1.42028166  1.        ]\n",
      " [ 3.69        0.71014083  1.        ]\n",
      " [ 2.46        2.84056332  1.        ]\n",
      " [ 8.61       -3.55070416  1.        ]\n",
      " [ 7.38       -1.42028166  1.        ]\n",
      " [ 6.15        0.71014083  1.        ]\n",
      " [ 4.92        2.84056332  1.        ]\n",
      " [ 9.84       -1.42028166  1.        ]\n",
      " [ 8.61        0.71014083  1.        ]\n",
      " [ 7.38        2.84056332  1.        ]]\n"
     ]
    }
   ],
   "source": [
    "flake.shift_by_vector( [0,0,1]  )\n",
    "print(flake.positions)"
   ]
  },
  {
   "cell_type": "markdown",
   "id": "49192c36",
   "metadata": {},
   "source": [
    "Now we have shifted the entire flake. But we actually wanted a stack, so we need a new flake at the bottom."
   ]
  },
  {
   "cell_type": "code",
   "execution_count": 15,
   "id": "410e9612",
   "metadata": {
    "execution": {
     "iopub.execute_input": "2025-02-03T13:12:48.970705Z",
     "iopub.status.busy": "2025-02-03T13:12:48.970349Z",
     "iopub.status.idle": "2025-02-03T13:12:49.003530Z",
     "shell.execute_reply": "2025-02-03T13:12:49.003089Z"
    }
   },
   "outputs": [],
   "source": [
    "second_flake = MaterialCatalog.get(\"graphene\").cut_flake( Rectangle(10, 10) )"
   ]
  },
  {
   "cell_type": "markdown",
   "id": "dda45c9c",
   "metadata": {},
   "source": [
    "How do we combine the flakes? Well, both are lists, so we can  add them"
   ]
  },
  {
   "cell_type": "code",
   "execution_count": 16,
   "id": "644dfda1",
   "metadata": {
    "execution": {
     "iopub.execute_input": "2025-02-03T13:12:49.005307Z",
     "iopub.status.busy": "2025-02-03T13:12:49.005129Z",
     "iopub.status.idle": "2025-02-03T13:12:49.209019Z",
     "shell.execute_reply": "2025-02-03T13:12:49.207953Z"
    }
   },
   "outputs": [
    {
     "data": {
      "image/png": "[encoded data removed]",
      "text/plain": [
       "<Figure size 640x480 with 1 Axes>"
      ]
     },
     "metadata": {},
     "output_type": "display_data"
    }
   ],
   "source": [
    "stack = flake + second_flake\n",
    "stack.show_3d()"
   ]
  },
  {
   "cell_type": "markdown",
   "id": "075af8ba",
   "metadata": {},
   "source": [
    "This is the first step. Now, we need to set couplings. For simplicity, we will couple nearest neighbors in different layers by setting their hopping rate in the Hamiltonian to 2.0. Interlayer nearest neighbors are separated by a distance of 1 Angström."
   ]
  },
  {
   "cell_type": "markdown",
   "id": "9e4e42f3",
   "metadata": {},
   "source": [
    "To achieve this, we could"
   ]
  },
  {
   "cell_type": "markdown",
   "id": "0f04f05b",
   "metadata": {},
   "source": [
    "1. loop over all orbitals in the lower flake.\n",
    "2. get their nearest neighbor in the upper flake.\n",
    "3. call stack.set_hamiltonian_element to set the coupling to 1.0."
   ]
  },
  {
   "cell_type": "markdown",
   "id": "aab8f40d",
   "metadata": {},
   "source": [
    "This is very cumbersome, so we take a more flexible approach: specifying the coupling by a function dependent on the distance vector. We want a function that is 2.0 for a distance of 1.0 and 0.0 else. One way to express this is a narrow gaussian around 1.0."
   ]
  },
  {
   "cell_type": "code",
   "execution_count": 17,
   "id": "ea40aea6",
   "metadata": {
    "execution": {
     "iopub.execute_input": "2025-02-03T13:12:49.212544Z",
     "iopub.status.busy": "2025-02-03T13:12:49.212316Z",
     "iopub.status.idle": "2025-02-03T13:12:49.217266Z",
     "shell.execute_reply": "2025-02-03T13:12:49.216710Z"
    },
    "lines_to_end_of_cell_marker": 0,
    "lines_to_next_cell": 1
   },
   "outputs": [],
   "source": [
    "import jax.numpy as jnp\n",
    "def interlayer_hopping( distance ):\n",
    "    return 2.0 * jnp.exp( -100*(jnp.linalg.norm(distance) - 1.0)**2 )"
   ]
  },
  {
   "cell_type": "markdown",
   "id": "8feb3440",
   "metadata": {},
   "source": [
    "To set the coupling, we do"
   ]
  },
  {
   "cell_type": "code",
   "execution_count": 18,
   "id": "6ecfa2d6",
   "metadata": {
    "execution": {
     "iopub.execute_input": "2025-02-03T13:12:49.219629Z",
     "iopub.status.busy": "2025-02-03T13:12:49.219387Z",
     "iopub.status.idle": "2025-02-03T13:12:49.230771Z",
     "shell.execute_reply": "2025-02-03T13:12:49.230064Z"
    },
    "lines_to_end_of_cell_marker": 0,
    "lines_to_next_cell": 1
   },
   "outputs": [],
   "source": [
    "stack.set_hamiltonian_groups( flake, second_flake, interlayer_hopping )"
   ]
  },
  {
   "cell_type": "markdown",
   "id": "9f58a374",
   "metadata": {},
   "source": [
    "We can perform a slightly more interesting simulation by looping over a bunch of nearest-neighbor couplings and study the impact on the energy landscape. To this end, we rewrite the coupling function: "
   ]
  },
  {
   "cell_type": "code",
   "execution_count": 19,
   "id": "3699fa19",
   "metadata": {
    "execution": {
     "iopub.execute_input": "2025-02-03T13:12:49.233269Z",
     "iopub.status.busy": "2025-02-03T13:12:49.232747Z",
     "iopub.status.idle": "2025-02-03T13:12:49.236562Z",
     "shell.execute_reply": "2025-02-03T13:12:49.236048Z"
    },
    "lines_to_end_of_cell_marker": 0,
    "lines_to_next_cell": 1
   },
   "outputs": [],
   "source": [
    "def interlayer_hopping_factory( coupling ):\n",
    "    def interlayer_hopping( distance ):\n",
    "        return coupling * jnp.exp( -100*(jnp.linalg.norm(distance) - 1.0)**2 )    \n",
    "    return interlayer_hopping"
   ]
  },
  {
   "cell_type": "markdown",
   "id": "041f46c9",
   "metadata": {},
   "source": [
    "We now loop and plot"
   ]
  },
  {
   "cell_type": "code",
   "execution_count": 20,
   "id": "00925748",
   "metadata": {
    "execution": {
     "iopub.execute_input": "2025-02-03T13:12:49.238585Z",
     "iopub.status.busy": "2025-02-03T13:12:49.238389Z",
     "iopub.status.idle": "2025-02-03T13:12:52.434296Z",
     "shell.execute_reply": "2025-02-03T13:12:52.433617Z"
    }
   },
   "outputs": [
    {
     "data": {
      "image/png": "[encoded data removed]",
      "text/plain": [
       "<Figure size 640x480 with 1 Axes>"
      ]
     },
     "metadata": {},
     "output_type": "display_data"
    }
   ],
   "source": [
    "import matplotlib.pyplot as plt\n",
    "n_orbs = len(stack)\n",
    "for coupling in [0, 1.0, 1.5, 2.0, 3.0]:\n",
    "    interlayer_hopping = interlayer_hopping_factory( coupling )\n",
    "    stack.set_hamiltonian_groups( flake, second_flake, interlayer_hopping )    \n",
    "    plt.plot( stack.energies, 'o', label = coupling )\n",
    "plt.title(\"Energy landscape dependent on interlayer cc-hopping\")\n",
    "plt.legend()\n",
    "plt.show()"
   ]
  },
  {
   "cell_type": "markdown",
   "id": "7a293ae2",
   "metadata": {},
   "source": [
    "Admittedly, this way of specifying couplings gets some time to get used to, but it is really flexible. "
   ]
  },
  {
   "cell_type": "markdown",
   "id": "031ecfb3",
   "metadata": {},
   "source": [
    "To recap: we have learned that there are three different ways to address orbitals in a list, corresponding to varying levels of granularity:"
   ]
  },
  {
   "cell_type": "markdown",
   "id": "76288dee",
   "metadata": {},
   "source": [
    "1. *Single Orbitals* may be accessed by their list index or directly.\n",
    "2. *User-grouped Orbitals* may be accessed by their tag.\n",
    "3. *Auto-grouped Orbitals* may be accessed by their group_id."
   ]
  },
  {
   "cell_type": "markdown",
   "id": "544f4138",
   "metadata": {},
   "source": [
    "Based on this information, you can manipulate orbitals, e.g. shift them around."
   ]
  },
  {
   "cell_type": "markdown",
   "id": "ae934ff6",
   "metadata": {},
   "source": [
    "## Pitfalls"
   ]
  },
  {
   "cell_type": "markdown",
   "id": "7726c61f",
   "metadata": {},
   "source": [
    "Deleting and modifying state is dangerous."
   ]
  },
  {
   "cell_type": "code",
   "execution_count": 21,
   "id": "02bc2460",
   "metadata": {
    "execution": {
     "iopub.execute_input": "2025-02-03T13:12:52.436652Z",
     "iopub.status.busy": "2025-02-03T13:12:52.436288Z",
     "iopub.status.idle": "2025-02-03T13:12:52.441544Z",
     "shell.execute_reply": "2025-02-03T13:12:52.441082Z"
    }
   },
   "outputs": [
    {
     "name": "stdout",
     "output_type": "stream",
     "text": [
      "0\n"
     ]
    }
   ],
   "source": [
    "atom = OrbitalList( [Orbital(), Orbital()] )\n",
    "atom.set_electrons(1)\n",
    "del atom[0] # ALWAYS removes 1 electron\n",
    "print(atom.electrons) # you have an empty atom"
   ]
  },
  {
   "cell_type": "markdown",
   "id": "82b6fbbb",
   "metadata": {},
   "source": [
    "For this reason, the deletion (and append) operation on the orbital list may change or be removed entirely, meaning it wont be possible to add single orbitals or remove them from the structure. A likely and less dangerous replacement would be immutable, copyable data structures."
   ]
  }
 ],
 "metadata": {
  "kernelspec": {
   "display_name": "base",
   "language": "python",
   "name": "base"
  },
  "language_info": {
   "codemirror_mode": {
    "name": "ipython",
    "version": 3
   },
   "file_extension": ".py",
   "mimetype": "text/x-python",
   "name": "python",
   "nbconvert_exporter": "python",
   "pygments_lexer": "ipython3",
   "version": "3.12.8"
  }
 },
 "nbformat": 4,
 "nbformat_minor": 5
}
