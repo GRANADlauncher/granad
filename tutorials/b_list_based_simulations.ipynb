{
 "cells": [
  {
   "cell_type": "markdown",
   "id": "65d02b6d",
   "metadata": {},
   "source": [
    "# List-based Simulations \n",
    "\n",
    "Every GRANAD simulation dependens on orbitals and their interactions. To make orbitals interact and spatially displace them, you need to put them into list, which is what this tutorial is about."
   ]
  },
  {
   "cell_type": "markdown",
   "id": "7b239ed5",
   "metadata": {},
   "source": [
    "## Orbitals: A Recap\n",
    "\n",
    "As already explained in the \"Getting Started\" Tutorial, Orbitals are the basic building blocks of orbital lists. They are book keeping devices containing quantum numbers, position and a user-defined string. "
   ]
  },
  {
   "cell_type": "markdown",
   "id": "6d686fe7",
   "metadata": {},
   "source": [
    "## Orbital lists"
   ]
  },
  {
   "cell_type": "markdown",
   "id": "558b8436",
   "metadata": {},
   "source": [
    "We can make orbitals interact by putting them into a list. The class we need for this is called `OrbitalList` It allows us to"
   ]
  },
  {
   "cell_type": "markdown",
   "id": "247551ea",
   "metadata": {},
   "source": [
    "1. couple orbitals \n",
    "2. set simulation parameters\n",
    "3. compute and plot physical observables (such as energy spectra or time-domain simulations)"
   ]
  },
  {
   "cell_type": "markdown",
   "id": "b67c8580",
   "metadata": {},
   "source": [
    "## Coupling orbitals"
   ]
  },
  {
   "cell_type": "markdown",
   "id": "3f15d08e",
   "metadata": {},
   "source": [
    "We already learned in the first tutorial that there are two ways of making an orbital list:"
   ]
  },
  {
   "cell_type": "markdown",
   "id": "abdbac00",
   "metadata": {},
   "source": [
    "1. creating it\n",
    "2. cutting it from a bulk material"
   ]
  },
  {
   "cell_type": "markdown",
   "id": "aa4369b6",
   "metadata": {},
   "source": [
    "In the former case, we have to specify all couplings ourselves. In the latter case, this information is extracted from the material."
   ]
  },
  {
   "cell_type": "markdown",
   "id": "18745193",
   "metadata": {},
   "source": [
    "Say we want to specify an isolated atom representing a quantum optical two-level system (TLS). We will create two orbitals with two energy levels that belong to the same atom."
   ]
  },
  {
   "cell_type": "code",
   "execution_count": 1,
   "id": "083ade3b",
   "metadata": {
    "execution": {
     "iopub.execute_input": "2024-06-13T10:51:52.630460Z",
     "iopub.status.busy": "2024-06-13T10:51:52.630260Z",
     "iopub.status.idle": "2024-06-13T10:51:53.738465Z",
     "shell.execute_reply": "2024-06-13T10:51:53.737940Z"
    }
   },
   "outputs": [],
   "source": [
    "from granad import Orbital\n",
    "lower_level = Orbital(tag=\"atom\")\n",
    "upper_level = Orbital(tag=\"atom\")"
   ]
  },
  {
   "cell_type": "markdown",
   "id": "b586e316",
   "metadata": {},
   "source": [
    "To use the Orbitals in a simulation, we group them into a list"
   ]
  },
  {
   "cell_type": "code",
   "execution_count": 2,
   "id": "2d991216",
   "metadata": {
    "execution": {
     "iopub.execute_input": "2024-06-13T10:51:53.741446Z",
     "iopub.status.busy": "2024-06-13T10:51:53.740907Z",
     "iopub.status.idle": "2024-06-13T10:51:53.753780Z",
     "shell.execute_reply": "2024-06-13T10:51:53.753278Z"
    }
   },
   "outputs": [
    {
     "name": "stdout",
     "output_type": "stream",
     "text": [
      "List with 2 orbitals, 2 electrons.Excitation: f[Array([0], dtype=int64), Array([0], dtype=int64), Array([0], dtype=int64)]\n"
     ]
    }
   ],
   "source": [
    "from granad import OrbitalList\n",
    "atom = OrbitalList([lower_level, upper_level])\n",
    "print(atom)"
   ]
  },
  {
   "cell_type": "markdown",
   "id": "08670a09",
   "metadata": {},
   "source": [
    "We can tell that the total electron number in our system is 2, since by default GRANAD considers each orbital to contribute 1 electron. This can be changed as follows"
   ]
  },
  {
   "cell_type": "code",
   "execution_count": 3,
   "id": "8a8a3238",
   "metadata": {
    "execution": {
     "iopub.execute_input": "2024-06-13T10:51:53.756128Z",
     "iopub.status.busy": "2024-06-13T10:51:53.755729Z",
     "iopub.status.idle": "2024-06-13T10:51:53.759576Z",
     "shell.execute_reply": "2024-06-13T10:51:53.758911Z"
    }
   },
   "outputs": [
    {
     "name": "stdout",
     "output_type": "stream",
     "text": [
      "List with 2 orbitals, 1 electrons.Excitation: f[Array([0], dtype=int64), Array([0], dtype=int64), Array([0], dtype=int64)]\n"
     ]
    }
   ],
   "source": [
    "atom.set_electrons(1)\n",
    "print(atom)"
   ]
  },
  {
   "cell_type": "markdown",
   "id": "ba9ca211",
   "metadata": {},
   "source": [
    "We can compute static quantities of the atom, like its energies. By default, GRANAD considers all couplings to be zero unless stated otherwise. "
   ]
  },
  {
   "cell_type": "code",
   "execution_count": 4,
   "id": "cb125fd9",
   "metadata": {
    "execution": {
     "iopub.execute_input": "2024-06-13T10:51:53.761775Z",
     "iopub.status.busy": "2024-06-13T10:51:53.761437Z",
     "iopub.status.idle": "2024-06-13T10:51:54.674870Z",
     "shell.execute_reply": "2024-06-13T10:51:54.674238Z"
    }
   },
   "outputs": [
    {
     "name": "stdout",
     "output_type": "stream",
     "text": [
      "[0. 0.]\n"
     ]
    }
   ],
   "source": [
    "print(atom.energies)"
   ]
  },
  {
   "cell_type": "markdown",
   "id": "1ba9595a",
   "metadata": {},
   "source": [
    "As no couplings are specified, only zero energies are obtained. "
   ]
  },
  {
   "cell_type": "markdown",
   "id": "742031be",
   "metadata": {},
   "source": [
    "GRANAD lets us explicitly set elements of the Hamiltonian and Coulomb matrices by their list indices. We have put the Orbital called `lower_level` in the 0-th position, so we can assign it an an energy of -0.5. "
   ]
  },
  {
   "cell_type": "code",
   "execution_count": 5,
   "id": "6b1a5228",
   "metadata": {
    "execution": {
     "iopub.execute_input": "2024-06-13T10:51:54.677522Z",
     "iopub.status.busy": "2024-06-13T10:51:54.677069Z",
     "iopub.status.idle": "2024-06-13T10:51:54.680501Z",
     "shell.execute_reply": "2024-06-13T10:51:54.679799Z"
    }
   },
   "outputs": [],
   "source": [
    "atom.set_hamiltonian_element( 0, 0, -0.5)"
   ]
  },
  {
   "cell_type": "markdown",
   "id": "154db3ea",
   "metadata": {},
   "source": [
    "Similarly, we can assign the energy to the upper level"
   ]
  },
  {
   "cell_type": "code",
   "execution_count": 6,
   "id": "d22848b6",
   "metadata": {
    "execution": {
     "iopub.execute_input": "2024-06-13T10:51:54.682766Z",
     "iopub.status.busy": "2024-06-13T10:51:54.682409Z",
     "iopub.status.idle": "2024-06-13T10:51:54.685636Z",
     "shell.execute_reply": "2024-06-13T10:51:54.684988Z"
    }
   },
   "outputs": [],
   "source": [
    "atom.set_hamiltonian_element( 1, 1, 0.5)"
   ]
  },
  {
   "cell_type": "markdown",
   "id": "98e48816",
   "metadata": {},
   "source": [
    "If we now check the energies, we see that they have updated automatically"
   ]
  },
  {
   "cell_type": "code",
   "execution_count": 7,
   "id": "cd5ec096",
   "metadata": {
    "execution": {
     "iopub.execute_input": "2024-06-13T10:51:54.687851Z",
     "iopub.status.busy": "2024-06-13T10:51:54.687500Z",
     "iopub.status.idle": "2024-06-13T10:51:54.972999Z",
     "shell.execute_reply": "2024-06-13T10:51:54.972451Z"
    }
   },
   "outputs": [
    {
     "name": "stdout",
     "output_type": "stream",
     "text": [
      "[-0.5  0.5]\n"
     ]
    }
   ],
   "source": [
    "print(atom.energies)"
   ]
  },
  {
   "cell_type": "markdown",
   "id": "cb6ffde0",
   "metadata": {},
   "source": [
    "You might have realized that you didn't have to call any function to get the energies with the updated couplings. This is because GRANAD evaluates lazily:  physical quantities that depend on the couplings (like the energies or a Coulomb matrix entry) will be computed when they are needed. Aside from using list indices for setting couplings, you can also use the orbitals themselves. This takes some time to get used to, but is quite practical."
   ]
  },
  {
   "cell_type": "markdown",
   "id": "22ad1b25",
   "metadata": {},
   "source": [
    "For illustration, we couple the upper and lower level. This could be achieved as follows"
   ]
  },
  {
   "cell_type": "code",
   "execution_count": 8,
   "id": "e4c719f8",
   "metadata": {
    "execution": {
     "iopub.execute_input": "2024-06-13T10:51:54.975521Z",
     "iopub.status.busy": "2024-06-13T10:51:54.975127Z",
     "iopub.status.idle": "2024-06-13T10:51:54.978682Z",
     "shell.execute_reply": "2024-06-13T10:51:54.977965Z"
    }
   },
   "outputs": [],
   "source": [
    "atom.set_hamiltonian_element( 1, 0, 0.5j)"
   ]
  },
  {
   "cell_type": "markdown",
   "id": "bde9e82f",
   "metadata": {},
   "source": [
    "Or like this"
   ]
  },
  {
   "cell_type": "code",
   "execution_count": 9,
   "id": "8dec04a1",
   "metadata": {
    "execution": {
     "iopub.execute_input": "2024-06-13T10:51:54.980941Z",
     "iopub.status.busy": "2024-06-13T10:51:54.980613Z",
     "iopub.status.idle": "2024-06-13T10:51:55.271728Z",
     "shell.execute_reply": "2024-06-13T10:51:55.271131Z"
    }
   },
   "outputs": [
    {
     "name": "stdout",
     "output_type": "stream",
     "text": [
      "[[-0.5-0.j   0. +0.1j]\n",
      " [ 0. -0.1j  0.5-0.j ]]\n"
     ]
    }
   ],
   "source": [
    "atom.set_hamiltonian_element( upper_level, lower_level, 0.1j) # changes the same element \n",
    "print(atom.hamiltonian)"
   ]
  },
  {
   "cell_type": "markdown",
   "id": "f5d1ac80",
   "metadata": {},
   "source": [
    "Setting Coulomb matrix elements proceeds analogously by calling `atom.set_coulomb_element`."
   ]
  },
  {
   "cell_type": "markdown",
   "id": "19dbf7d5",
   "metadata": {},
   "source": [
    "We see that the matrix entry corresponding to the inter-level coupling is now modified accordingly, with hermiticity of the hamiltonian taken into account properly."
   ]
  },
  {
   "cell_type": "markdown",
   "id": "583395d7",
   "metadata": {},
   "source": [
    "Introducing dipole transitions works similarly: We  have to remember to pass in a vector for the transition"
   ]
  },
  {
   "cell_type": "code",
   "execution_count": 10,
   "id": "865a75f6",
   "metadata": {
    "execution": {
     "iopub.execute_input": "2024-06-13T10:51:55.274320Z",
     "iopub.status.busy": "2024-06-13T10:51:55.273976Z",
     "iopub.status.idle": "2024-06-13T10:51:55.996669Z",
     "shell.execute_reply": "2024-06-13T10:51:55.996050Z"
    }
   },
   "outputs": [
    {
     "name": "stdout",
     "output_type": "stream",
     "text": [
      "[[0.+0.j 1.+0.j]\n",
      " [1.+0.j 0.+0.j]]\n"
     ]
    }
   ],
   "source": [
    "atom.set_dipole_element( upper_level, lower_level, [0,0,1] ) # transition dipole oriented in z-direction\n",
    "print(atom.dipole_operator[2])"
   ]
  },
  {
   "cell_type": "markdown",
   "id": "0c265dfa",
   "metadata": {},
   "source": [
    "Let's look at the position of the atom"
   ]
  },
  {
   "cell_type": "code",
   "execution_count": 11,
   "id": "f04715c7",
   "metadata": {
    "execution": {
     "iopub.execute_input": "2024-06-13T10:51:55.999563Z",
     "iopub.status.busy": "2024-06-13T10:51:55.999033Z",
     "iopub.status.idle": "2024-06-13T10:51:56.003568Z",
     "shell.execute_reply": "2024-06-13T10:51:56.002965Z"
    }
   },
   "outputs": [
    {
     "name": "stdout",
     "output_type": "stream",
     "text": [
      "[[0. 0. 0.]\n",
      " [0. 0. 0.]]\n"
     ]
    }
   ],
   "source": [
    "print(atom.positions)"
   ]
  },
  {
   "cell_type": "markdown",
   "id": "c1cfc61c",
   "metadata": {},
   "source": [
    "It is located at the origin. Let's shift it. We can manipulate the \"position\" attribute of the two orbitals by hand (not recommended) or we can use the tag we have defined, like so"
   ]
  },
  {
   "cell_type": "code",
   "execution_count": 12,
   "id": "d7c595c3",
   "metadata": {
    "execution": {
     "iopub.execute_input": "2024-06-13T10:51:56.005883Z",
     "iopub.status.busy": "2024-06-13T10:51:56.005459Z",
     "iopub.status.idle": "2024-06-13T10:51:56.022057Z",
     "shell.execute_reply": "2024-06-13T10:51:56.021459Z"
    }
   },
   "outputs": [
    {
     "name": "stdout",
     "output_type": "stream",
     "text": [
      "[[0. 0. 1.]\n",
      " [0. 0. 1.]]\n"
     ]
    }
   ],
   "source": [
    "atom.shift_by_vector( [0, 0, 1] )\n",
    "print(atom.positions)"
   ]
  },
  {
   "cell_type": "markdown",
   "id": "d849b36b",
   "metadata": {},
   "source": [
    "Every orbital we have annotated by this tag will be shifted. "
   ]
  },
  {
   "cell_type": "markdown",
   "id": "67d71c61",
   "metadata": {},
   "source": [
    "Consider a slightly more involved geometric example, i.e. stacking two graphene flakes."
   ]
  },
  {
   "cell_type": "markdown",
   "id": "082ed4bb",
   "metadata": {},
   "source": [
    "We chose simple rectangles"
   ]
  },
  {
   "cell_type": "code",
   "execution_count": 13,
   "id": "1b1229d6",
   "metadata": {
    "execution": {
     "iopub.execute_input": "2024-06-13T10:51:56.025570Z",
     "iopub.status.busy": "2024-06-13T10:51:56.024158Z",
     "iopub.status.idle": "2024-06-13T10:51:59.537665Z",
     "shell.execute_reply": "2024-06-13T10:51:59.537031Z"
    }
   },
   "outputs": [
    {
     "data": {
      "image/png": "[encoded data removed]",
      "text/plain": [
       "<Figure size 640x480 with 1 Axes>"
      ]
     },
     "metadata": {},
     "output_type": "display_data"
    }
   ],
   "source": [
    "from granad import MaterialCatalog, Rectangle\n",
    "flake = MaterialCatalog.get(\"graphene\").cut_flake( Rectangle(10, 10), plot = True )"
   ]
  },
  {
   "cell_type": "markdown",
   "id": "4e2ece38",
   "metadata": {},
   "source": [
    "By default, graphene flakes are created in the xy - plane. They contain pz Orbitals which are grouped together by an id. You can directly apply shifts to groups of orbitals. We want to shift the entire flake"
   ]
  },
  {
   "cell_type": "code",
   "execution_count": 14,
   "id": "cfbf699c",
   "metadata": {
    "execution": {
     "iopub.execute_input": "2024-06-13T10:51:59.540729Z",
     "iopub.status.busy": "2024-06-13T10:51:59.540229Z",
     "iopub.status.idle": "2024-06-13T10:51:59.581652Z",
     "shell.execute_reply": "2024-06-13T10:51:59.581049Z"
    }
   },
   "outputs": [
    {
     "name": "stdout",
     "output_type": "stream",
     "text": [
      "[[-7.38       -4.26084499  1.        ]\n",
      " [-8.61       -2.13042249  1.        ]\n",
      " [-9.84        0.          1.        ]\n",
      " [-4.92       -4.26084499  1.        ]\n",
      " [-6.15       -2.13042249  1.        ]\n",
      " [-7.38        0.          1.        ]\n",
      " [-8.61        2.13042249  1.        ]\n",
      " [-2.46       -4.26084499  1.        ]\n",
      " [-3.69       -2.13042249  1.        ]\n",
      " [-4.92        0.          1.        ]\n",
      " [-6.15        2.13042249  1.        ]\n",
      " [ 0.         -4.26084499  1.        ]\n",
      " [-1.23       -2.13042249  1.        ]\n",
      " [-2.46        0.          1.        ]\n",
      " [-3.69        2.13042249  1.        ]\n",
      " [ 2.46       -4.26084499  1.        ]\n",
      " [ 1.23       -2.13042249  1.        ]\n",
      " [ 0.          0.          1.        ]\n",
      " [-1.23        2.13042249  1.        ]\n",
      " [ 4.92       -4.26084499  1.        ]\n",
      " [ 3.69       -2.13042249  1.        ]\n",
      " [ 2.46        0.          1.        ]\n",
      " [ 1.23        2.13042249  1.        ]\n",
      " [ 7.38       -4.26084499  1.        ]\n",
      " [ 6.15       -2.13042249  1.        ]\n",
      " [ 4.92        0.          1.        ]\n",
      " [ 3.69        2.13042249  1.        ]\n",
      " [ 8.61       -2.13042249  1.        ]\n",
      " [ 7.38        0.          1.        ]\n",
      " [ 6.15        2.13042249  1.        ]\n",
      " [ 9.84        0.          1.        ]\n",
      " [ 8.61        2.13042249  1.        ]\n",
      " [-8.61       -3.55070416  1.        ]\n",
      " [-9.84       -1.42028166  1.        ]\n",
      " [-6.15       -3.55070416  1.        ]\n",
      " [-7.38       -1.42028166  1.        ]\n",
      " [-8.61        0.71014083  1.        ]\n",
      " [-3.69       -3.55070416  1.        ]\n",
      " [-4.92       -1.42028166  1.        ]\n",
      " [-6.15        0.71014083  1.        ]\n",
      " [-7.38        2.84056332  1.        ]\n",
      " [-1.23       -3.55070416  1.        ]\n",
      " [-2.46       -1.42028166  1.        ]\n",
      " [-3.69        0.71014083  1.        ]\n",
      " [-4.92        2.84056332  1.        ]\n",
      " [ 1.23       -3.55070416  1.        ]\n",
      " [ 0.         -1.42028166  1.        ]\n",
      " [-1.23        0.71014083  1.        ]\n",
      " [-2.46        2.84056332  1.        ]\n",
      " [ 3.69       -3.55070416  1.        ]\n",
      " [ 2.46       -1.42028166  1.        ]\n",
      " [ 1.23        0.71014083  1.        ]\n",
      " [ 0.          2.84056332  1.        ]\n",
      " [ 6.15       -3.55070416  1.        ]\n",
      " [ 4.92       -1.42028166  1.        ]\n",
      " [ 3.69        0.71014083  1.        ]\n",
      " [ 2.46        2.84056332  1.        ]\n",
      " [ 8.61       -3.55070416  1.        ]\n",
      " [ 7.38       -1.42028166  1.        ]\n",
      " [ 6.15        0.71014083  1.        ]\n",
      " [ 4.92        2.84056332  1.        ]\n",
      " [ 9.84       -1.42028166  1.        ]\n",
      " [ 8.61        0.71014083  1.        ]\n",
      " [ 7.38        2.84056332  1.        ]]\n"
     ]
    }
   ],
   "source": [
    "flake.shift_by_vector( [0,0,1]  )\n",
    "print(flake.positions)"
   ]
  },
  {
   "cell_type": "markdown",
   "id": "31dd1d15",
   "metadata": {},
   "source": [
    "Now we have shifted the entire flake. But we actually wanted a stack, so we need a new flake at the bottom."
   ]
  },
  {
   "cell_type": "code",
   "execution_count": 15,
   "id": "80f035ae",
   "metadata": {
    "execution": {
     "iopub.execute_input": "2024-06-13T10:51:59.584295Z",
     "iopub.status.busy": "2024-06-13T10:51:59.583923Z",
     "iopub.status.idle": "2024-06-13T10:51:59.618466Z",
     "shell.execute_reply": "2024-06-13T10:51:59.617839Z"
    }
   },
   "outputs": [],
   "source": [
    "second_flake = MaterialCatalog.get(\"graphene\").cut_flake( Rectangle(10, 10) )"
   ]
  },
  {
   "cell_type": "markdown",
   "id": "f69127ad",
   "metadata": {},
   "source": [
    "How do we combine the flakes? Well, both are lists, so we can  add them"
   ]
  },
  {
   "cell_type": "code",
   "execution_count": 16,
   "id": "d5dd4a03",
   "metadata": {
    "execution": {
     "iopub.execute_input": "2024-06-13T10:51:59.620757Z",
     "iopub.status.busy": "2024-06-13T10:51:59.620564Z",
     "iopub.status.idle": "2024-06-13T10:51:59.930323Z",
     "shell.execute_reply": "2024-06-13T10:51:59.929662Z"
    }
   },
   "outputs": [
    {
     "data": {
      "image/png": "[encoded data removed]",
      "text/plain": [
       "<Figure size 640x480 with 1 Axes>"
      ]
     },
     "metadata": {},
     "output_type": "display_data"
    }
   ],
   "source": [
    "stack = flake + second_flake\n",
    "stack.show_3d()"
   ]
  },
  {
   "cell_type": "markdown",
   "id": "61cd433e",
   "metadata": {},
   "source": [
    "This is the first step. Now, we need to set couplings. For simplicity, we will couple nearest neighbors in different layers by setting their hopping rate in the Hamiltonian to 2.0. Interlayer nearest neighbors are separated by a distance of 1 Angström."
   ]
  },
  {
   "cell_type": "markdown",
   "id": "9a14a2ed",
   "metadata": {},
   "source": [
    "To achieve this, we could"
   ]
  },
  {
   "cell_type": "markdown",
   "id": "41bed98e",
   "metadata": {},
   "source": [
    "1. loop over all orbitals in the lower flake.\n",
    "2. get their nearest neighbor in the upper flake.\n",
    "3. call stack.set_hamiltonian_element to set the coupling to 1.0."
   ]
  },
  {
   "cell_type": "markdown",
   "id": "89e58198",
   "metadata": {},
   "source": [
    "This is very cumbersome, so we take a more flexible approach: specifying the coupling by a distance-dependent function. We want a function that is 2.0 for a distance of 1.0 and 0.0 else. One way to express this is a narrow gaussian around 1.0."
   ]
  },
  {
   "cell_type": "code",
   "execution_count": 17,
   "id": "15384761",
   "metadata": {
    "execution": {
     "iopub.execute_input": "2024-06-13T10:51:59.933901Z",
     "iopub.status.busy": "2024-06-13T10:51:59.933563Z",
     "iopub.status.idle": "2024-06-13T10:51:59.937647Z",
     "shell.execute_reply": "2024-06-13T10:51:59.937042Z"
    },
    "lines_to_end_of_cell_marker": 0,
    "lines_to_next_cell": 1
   },
   "outputs": [],
   "source": [
    "import jax.numpy as jnp\n",
    "def interlayer_hopping( distance ):\n",
    "    return 2.0 * jnp.exp( -100*(distance - 1.0)**2 )"
   ]
  },
  {
   "cell_type": "markdown",
   "id": "7b379577",
   "metadata": {},
   "source": [
    "To set the coupling, we do"
   ]
  },
  {
   "cell_type": "code",
   "execution_count": 18,
   "id": "cda0eec4",
   "metadata": {
    "execution": {
     "iopub.execute_input": "2024-06-13T10:51:59.940520Z",
     "iopub.status.busy": "2024-06-13T10:51:59.939966Z",
     "iopub.status.idle": "2024-06-13T10:51:59.954009Z",
     "shell.execute_reply": "2024-06-13T10:51:59.953461Z"
    },
    "lines_to_end_of_cell_marker": 0,
    "lines_to_next_cell": 1
   },
   "outputs": [],
   "source": [
    "stack.set_hamiltonian_groups( flake, second_flake, interlayer_hopping )"
   ]
  },
  {
   "cell_type": "markdown",
   "id": "d66d2fa8",
   "metadata": {},
   "source": [
    "We can perform a slightly more interesting simulation by looping over a bunch of nearest-neighbor couplings and study the impact on the energy landscape. To this end, we rewrite the coupling function: TODO: explain more"
   ]
  },
  {
   "cell_type": "code",
   "execution_count": 19,
   "id": "fe2f86f2",
   "metadata": {
    "execution": {
     "iopub.execute_input": "2024-06-13T10:51:59.956825Z",
     "iopub.status.busy": "2024-06-13T10:51:59.956376Z",
     "iopub.status.idle": "2024-06-13T10:51:59.959457Z",
     "shell.execute_reply": "2024-06-13T10:51:59.959019Z"
    },
    "lines_to_end_of_cell_marker": 0,
    "lines_to_next_cell": 1
   },
   "outputs": [],
   "source": [
    "def interlayer_hopping_factory( coupling ):\n",
    "    def interlayer_hopping( distance ):\n",
    "        return coupling * jnp.exp( -100*(distance - 1.0)**2 )    \n",
    "    return interlayer_hopping"
   ]
  },
  {
   "cell_type": "markdown",
   "id": "263058d4",
   "metadata": {},
   "source": [
    "We now loop and plot"
   ]
  },
  {
   "cell_type": "code",
   "execution_count": 20,
   "id": "46b3714d",
   "metadata": {
    "execution": {
     "iopub.execute_input": "2024-06-13T10:51:59.961639Z",
     "iopub.status.busy": "2024-06-13T10:51:59.961213Z",
     "iopub.status.idle": "2024-06-13T10:52:03.009580Z",
     "shell.execute_reply": "2024-06-13T10:52:03.008946Z"
    }
   },
   "outputs": [
    {
     "data": {
      "image/png": "[encoded data removed]",
      "text/plain": [
       "<Figure size 640x480 with 1 Axes>"
      ]
     },
     "metadata": {},
     "output_type": "display_data"
    }
   ],
   "source": [
    "import matplotlib.pyplot as plt\n",
    "n_orbs = len(stack)\n",
    "for coupling in [0, 1.0, 1.5, 2.0, 3.0]:\n",
    "    interlayer_hopping = interlayer_hopping_factory( coupling )\n",
    "    stack.set_hamiltonian_groups( flake, second_flake, interlayer_hopping )    \n",
    "    plt.plot( stack.energies, 'o', label = coupling )\n",
    "plt.title(\"Energy landscape dependent on interlayer cc-hopping\")\n",
    "plt.legend()\n",
    "plt.show()"
   ]
  },
  {
   "cell_type": "markdown",
   "id": "4faa605b",
   "metadata": {},
   "source": [
    "Admittedly, this way of specifying couplings gets some time to get used to, but it is really flexible. "
   ]
  },
  {
   "cell_type": "markdown",
   "id": "13c445f7",
   "metadata": {},
   "source": [
    "To recap: we have learned that there are three different ways to address orbitals in a list, corresponding to varying levels of granularity:"
   ]
  },
  {
   "cell_type": "markdown",
   "id": "b2cc708c",
   "metadata": {},
   "source": [
    "1. *Single Orbitals* may be accessed by their list index or directly.\n",
    "2. *User-grouped Orbitals* may be accessed by their tag.\n",
    "3. *Auto-grouped Orbitals* may be accessed by their group_id."
   ]
  },
  {
   "cell_type": "markdown",
   "id": "1efd664f",
   "metadata": {},
   "source": [
    "Based on this information, you can manipulate orbitals, e.g. shift them around."
   ]
  },
  {
   "cell_type": "markdown",
   "id": "38edcd99",
   "metadata": {},
   "source": [
    "## Pitfalls"
   ]
  },
  {
   "cell_type": "markdown",
   "id": "bcc042b1",
   "metadata": {},
   "source": [
    "Deleting and modifying state is dangerous."
   ]
  },
  {
   "cell_type": "code",
   "execution_count": 21,
   "id": "a2da0c95",
   "metadata": {
    "execution": {
     "iopub.execute_input": "2024-06-13T10:52:03.012430Z",
     "iopub.status.busy": "2024-06-13T10:52:03.012054Z",
     "iopub.status.idle": "2024-06-13T10:52:03.017398Z",
     "shell.execute_reply": "2024-06-13T10:52:03.016897Z"
    }
   },
   "outputs": [
    {
     "name": "stdout",
     "output_type": "stream",
     "text": [
      "0\n"
     ]
    }
   ],
   "source": [
    "atom = OrbitalList( [Orbital(), Orbital()] )\n",
    "atom.set_electrons(1)\n",
    "del atom[0] # ALWAYS removes 1 electron\n",
    "print(atom.electrons) # you have an empty atom"
   ]
  },
  {
   "cell_type": "markdown",
   "id": "9508918f",
   "metadata": {},
   "source": [
    "For this reason, the deletion (and append) operation on the orbital list may change or be removed entirely, meaning it wont be possible to add single orbitals or remove them from the structure. A likely and less dangerous replacement would be immutable, copyable data structures."
   ]
  }
 ],
 "metadata": {
  "kernelspec": {
   "display_name": "base",
   "language": "python",
   "name": "base"
  },
  "language_info": {
   "codemirror_mode": {
    "name": "ipython",
    "version": 3
   },
   "file_extension": ".py",
   "mimetype": "text/x-python",
   "name": "python",
   "nbconvert_exporter": "python",
   "pygments_lexer": "ipython3",
   "version": "3.12.3"
  }
 },
 "nbformat": 4,
 "nbformat_minor": 5
}
