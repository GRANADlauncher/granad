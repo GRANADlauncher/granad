{
 "cells": [
  {
   "cell_type": "markdown",
   "id": "c31c75b8",
   "metadata": {},
   "source": [
    "# List-based Simulations \n",
    "\n",
    "Every GRANAD simulation dependens on orbitals and their interactions. To make orbitals interact and spatially displace them, you need to put them into list, which is what this tutorial is about."
   ]
  },
  {
   "cell_type": "markdown",
   "id": "67020f8c",
   "metadata": {},
   "source": [
    "## Orbitals: A Recap\n",
    "\n",
    "As already explained in the \"Getting Started\" Tutorial, Orbitals are the basic building blocks of orbital lists. They are book keeping devices containing quantum numbers, position and a user-defined string. "
   ]
  },
  {
   "cell_type": "markdown",
   "id": "013c4a32",
   "metadata": {},
   "source": [
    "## Orbital lists"
   ]
  },
  {
   "cell_type": "markdown",
   "id": "6fcc6a8f",
   "metadata": {},
   "source": [
    "We can make orbitals interact by putting them into a list. The class we need for this is called `OrbitalList` It allows us to"
   ]
  },
  {
   "cell_type": "markdown",
   "id": "ef49030f",
   "metadata": {},
   "source": [
    "1. couple orbitals \n",
    "2. set simulation parameters\n",
    "3. compute and plot physical observables (such as energy spectra or time-domain simulations)"
   ]
  },
  {
   "cell_type": "markdown",
   "id": "765a6bb1",
   "metadata": {},
   "source": [
    "## Coupling orbitals"
   ]
  },
  {
   "cell_type": "markdown",
   "id": "09ca01d3",
   "metadata": {},
   "source": [
    "We already learned in the first tutorial that there are two ways of making an orbital list:"
   ]
  },
  {
   "cell_type": "markdown",
   "id": "ddb0f1f1",
   "metadata": {},
   "source": [
    "1. creating it\n",
    "2. cutting it from a bulk material"
   ]
  },
  {
   "cell_type": "markdown",
   "id": "62e174bb",
   "metadata": {},
   "source": [
    "In the former case, we have to specify all couplings ourselves. In the latter case, this information is extracted from the material."
   ]
  },
  {
   "cell_type": "markdown",
   "id": "3a35fb09",
   "metadata": {},
   "source": [
    "Say we want to specify an isolated atom representing a quantum optical two-level system (TLS). We will create two orbitals with two energy levels that belong to the same atom."
   ]
  },
  {
   "cell_type": "code",
   "execution_count": 1,
   "id": "e1a0ea53",
   "metadata": {
    "execution": {
     "iopub.execute_input": "2025-01-27T16:48:09.931222Z",
     "iopub.status.busy": "2025-01-27T16:48:09.931044Z",
     "iopub.status.idle": "2025-01-27T16:48:11.086867Z",
     "shell.execute_reply": "2025-01-27T16:48:11.086199Z"
    }
   },
   "outputs": [],
   "source": [
    "from granad import Orbital\n",
    "lower_level = Orbital(tag=\"atom\")\n",
    "upper_level = Orbital(tag=\"atom\")"
   ]
  },
  {
   "cell_type": "markdown",
   "id": "553a7b09",
   "metadata": {},
   "source": [
    "To use the Orbitals in a simulation, we group them into a list"
   ]
  },
  {
   "cell_type": "code",
   "execution_count": 2,
   "id": "23b746b5",
   "metadata": {
    "execution": {
     "iopub.execute_input": "2025-01-27T16:48:11.089338Z",
     "iopub.status.busy": "2025-01-27T16:48:11.088858Z",
     "iopub.status.idle": "2025-01-27T16:48:11.103909Z",
     "shell.execute_reply": "2025-01-27T16:48:11.103356Z"
    }
   },
   "outputs": [
    {
     "name": "stdout",
     "output_type": "stream",
     "text": [
      "List with 2 orbitals, 2 electrons.\n",
      "Excitation: [0] electrons excited from energy levels [0] to [0].\n"
     ]
    }
   ],
   "source": [
    "from granad import OrbitalList\n",
    "atom = OrbitalList([lower_level, upper_level])\n",
    "print(atom)"
   ]
  },
  {
   "cell_type": "markdown",
   "id": "4387c0d1",
   "metadata": {},
   "source": [
    "We can tell that the total electron number in our system is 2, since by default GRANAD considers each orbital to contribute 1 electron. This can be changed as follows"
   ]
  },
  {
   "cell_type": "code",
   "execution_count": 3,
   "id": "1146e81c",
   "metadata": {
    "execution": {
     "iopub.execute_input": "2025-01-27T16:48:11.105825Z",
     "iopub.status.busy": "2025-01-27T16:48:11.105626Z",
     "iopub.status.idle": "2025-01-27T16:48:11.109247Z",
     "shell.execute_reply": "2025-01-27T16:48:11.108772Z"
    }
   },
   "outputs": [
    {
     "name": "stdout",
     "output_type": "stream",
     "text": [
      "List with 2 orbitals, 1 electrons.\n",
      "Excitation: [0] electrons excited from energy levels [0] to [0].\n"
     ]
    }
   ],
   "source": [
    "atom.set_electrons(1)\n",
    "print(atom)"
   ]
  },
  {
   "cell_type": "markdown",
   "id": "7786b42b",
   "metadata": {},
   "source": [
    "We can compute static quantities of the atom, like its energies. By default, GRANAD considers all couplings to be zero unless stated otherwise. "
   ]
  },
  {
   "cell_type": "code",
   "execution_count": 4,
   "id": "bffdf40e",
   "metadata": {
    "execution": {
     "iopub.execute_input": "2025-01-27T16:48:11.111129Z",
     "iopub.status.busy": "2025-01-27T16:48:11.110804Z",
     "iopub.status.idle": "2025-01-27T16:48:12.184452Z",
     "shell.execute_reply": "2025-01-27T16:48:12.183833Z"
    }
   },
   "outputs": [
    {
     "name": "stdout",
     "output_type": "stream",
     "text": [
      "[0. 0.]\n"
     ]
    }
   ],
   "source": [
    "print(atom.energies)"
   ]
  },
  {
   "cell_type": "markdown",
   "id": "8802823d",
   "metadata": {},
   "source": [
    "As no couplings are specified, only zero energies are obtained. "
   ]
  },
  {
   "cell_type": "markdown",
   "id": "661756df",
   "metadata": {},
   "source": [
    "GRANAD lets us explicitly set elements of the Hamiltonian and Coulomb matrices by their list indices. We have put the Orbital called `lower_level` in the 0-th position, so we can assign it an an energy of -0.5. "
   ]
  },
  {
   "cell_type": "code",
   "execution_count": 5,
   "id": "132ca27b",
   "metadata": {
    "execution": {
     "iopub.execute_input": "2025-01-27T16:48:12.186702Z",
     "iopub.status.busy": "2025-01-27T16:48:12.186303Z",
     "iopub.status.idle": "2025-01-27T16:48:12.189982Z",
     "shell.execute_reply": "2025-01-27T16:48:12.189153Z"
    }
   },
   "outputs": [],
   "source": [
    "atom.set_hamiltonian_element( 0, 0, -0.5)"
   ]
  },
  {
   "cell_type": "markdown",
   "id": "f8293981",
   "metadata": {},
   "source": [
    "Similarly, we can assign the energy to the upper level"
   ]
  },
  {
   "cell_type": "code",
   "execution_count": 6,
   "id": "bea6c080",
   "metadata": {
    "execution": {
     "iopub.execute_input": "2025-01-27T16:48:12.192255Z",
     "iopub.status.busy": "2025-01-27T16:48:12.191812Z",
     "iopub.status.idle": "2025-01-27T16:48:12.194966Z",
     "shell.execute_reply": "2025-01-27T16:48:12.194411Z"
    }
   },
   "outputs": [],
   "source": [
    "atom.set_hamiltonian_element( 1, 1, 0.5)"
   ]
  },
  {
   "cell_type": "markdown",
   "id": "620fdc1a",
   "metadata": {},
   "source": [
    "If we now check the energies, we see that they have updated automatically"
   ]
  },
  {
   "cell_type": "code",
   "execution_count": 7,
   "id": "26cfe168",
   "metadata": {
    "execution": {
     "iopub.execute_input": "2025-01-27T16:48:12.196936Z",
     "iopub.status.busy": "2025-01-27T16:48:12.196575Z",
     "iopub.status.idle": "2025-01-27T16:48:12.511792Z",
     "shell.execute_reply": "2025-01-27T16:48:12.511127Z"
    }
   },
   "outputs": [
    {
     "name": "stdout",
     "output_type": "stream",
     "text": [
      "[-0.5  0.5]\n"
     ]
    }
   ],
   "source": [
    "print(atom.energies)"
   ]
  },
  {
   "cell_type": "markdown",
   "id": "a04039c7",
   "metadata": {},
   "source": [
    "You might have realized that you didn't have to call any function to get the energies with the updated couplings. This is because GRANAD evaluates lazily:  physical quantities that depend on the couplings (like the energies or a Coulomb matrix entry) will be computed when they are needed. Aside from using list indices for setting couplings, you can also use the orbitals themselves. This takes some time to get used to, but is quite practical."
   ]
  },
  {
   "cell_type": "markdown",
   "id": "1203909a",
   "metadata": {},
   "source": [
    "For illustration, we couple the upper and lower level. This could be achieved as follows"
   ]
  },
  {
   "cell_type": "code",
   "execution_count": 8,
   "id": "ae9822d3",
   "metadata": {
    "execution": {
     "iopub.execute_input": "2025-01-27T16:48:12.513755Z",
     "iopub.status.busy": "2025-01-27T16:48:12.513557Z",
     "iopub.status.idle": "2025-01-27T16:48:12.516913Z",
     "shell.execute_reply": "2025-01-27T16:48:12.516301Z"
    }
   },
   "outputs": [],
   "source": [
    "atom.set_hamiltonian_element( 1, 0, 0.5j)"
   ]
  },
  {
   "cell_type": "markdown",
   "id": "63c8857d",
   "metadata": {},
   "source": [
    "Or like this"
   ]
  },
  {
   "cell_type": "code",
   "execution_count": 9,
   "id": "016bb004",
   "metadata": {
    "execution": {
     "iopub.execute_input": "2025-01-27T16:48:12.518766Z",
     "iopub.status.busy": "2025-01-27T16:48:12.518405Z",
     "iopub.status.idle": "2025-01-27T16:48:12.836674Z",
     "shell.execute_reply": "2025-01-27T16:48:12.836139Z"
    }
   },
   "outputs": [
    {
     "name": "stdout",
     "output_type": "stream",
     "text": [
      "[[-0.5-0.j   0. +0.1j]\n",
      " [ 0. -0.1j  0.5-0.j ]]\n"
     ]
    }
   ],
   "source": [
    "atom.set_hamiltonian_element( upper_level, lower_level, 0.1j) # changes the same element \n",
    "print(atom.hamiltonian)"
   ]
  },
  {
   "cell_type": "markdown",
   "id": "ce1c23c5",
   "metadata": {},
   "source": [
    "Setting Coulomb matrix elements proceeds analogously by calling `atom.set_coulomb_element`."
   ]
  },
  {
   "cell_type": "markdown",
   "id": "ef850bc4",
   "metadata": {},
   "source": [
    "We see that the matrix entry corresponding to the inter-level coupling is now modified accordingly, with hermiticity of the hamiltonian taken into account properly."
   ]
  },
  {
   "cell_type": "markdown",
   "id": "a599a12c",
   "metadata": {},
   "source": [
    "Introducing dipole transitions works similarly: We  have to remember to pass in a vector for the transition"
   ]
  },
  {
   "cell_type": "code",
   "execution_count": 10,
   "id": "aa1943cd",
   "metadata": {
    "execution": {
     "iopub.execute_input": "2025-01-27T16:48:12.838803Z",
     "iopub.status.busy": "2025-01-27T16:48:12.838492Z",
     "iopub.status.idle": "2025-01-27T16:48:13.732019Z",
     "shell.execute_reply": "2025-01-27T16:48:13.731481Z"
    }
   },
   "outputs": [
    {
     "name": "stdout",
     "output_type": "stream",
     "text": [
      "[[0.+0.j 1.+0.j]\n",
      " [1.+0.j 0.+0.j]]\n"
     ]
    }
   ],
   "source": [
    "atom.set_dipole_element( upper_level, lower_level, [0,0,1] ) # transition dipole oriented in z-direction\n",
    "print(atom.dipole_operator[2])"
   ]
  },
  {
   "cell_type": "markdown",
   "id": "f63e4005",
   "metadata": {},
   "source": [
    "Let's look at the position of the atom"
   ]
  },
  {
   "cell_type": "code",
   "execution_count": 11,
   "id": "34d4525d",
   "metadata": {
    "execution": {
     "iopub.execute_input": "2025-01-27T16:48:13.734118Z",
     "iopub.status.busy": "2025-01-27T16:48:13.733719Z",
     "iopub.status.idle": "2025-01-27T16:48:13.738509Z",
     "shell.execute_reply": "2025-01-27T16:48:13.737900Z"
    }
   },
   "outputs": [
    {
     "name": "stdout",
     "output_type": "stream",
     "text": [
      "[[0. 0. 0.]\n",
      " [0. 0. 0.]]\n"
     ]
    }
   ],
   "source": [
    "print(atom.positions)"
   ]
  },
  {
   "cell_type": "markdown",
   "id": "5d654a59",
   "metadata": {},
   "source": [
    "It is located at the origin. Let's shift it. We can manipulate the \"position\" attribute of the two orbitals by hand (not recommended) or we can use the tag we have defined, like so"
   ]
  },
  {
   "cell_type": "code",
   "execution_count": 12,
   "id": "22ad3ef8",
   "metadata": {
    "execution": {
     "iopub.execute_input": "2025-01-27T16:48:13.740582Z",
     "iopub.status.busy": "2025-01-27T16:48:13.740147Z",
     "iopub.status.idle": "2025-01-27T16:48:13.759582Z",
     "shell.execute_reply": "2025-01-27T16:48:13.758955Z"
    }
   },
   "outputs": [
    {
     "name": "stdout",
     "output_type": "stream",
     "text": [
      "[[0. 0. 1.]\n",
      " [0. 0. 1.]]\n"
     ]
    }
   ],
   "source": [
    "atom.shift_by_vector( [0, 0, 1] )\n",
    "print(atom.positions)"
   ]
  },
  {
   "cell_type": "markdown",
   "id": "f50da29a",
   "metadata": {},
   "source": [
    "Every orbital we have annotated by this tag will be shifted. "
   ]
  },
  {
   "cell_type": "markdown",
   "id": "05b22d0e",
   "metadata": {},
   "source": [
    "Consider a slightly more involved geometric example, i.e. stacking two graphene flakes."
   ]
  },
  {
   "cell_type": "markdown",
   "id": "688a6969",
   "metadata": {},
   "source": [
    "We chose simple rectangles"
   ]
  },
  {
   "cell_type": "code",
   "execution_count": 13,
   "id": "39289605",
   "metadata": {
    "execution": {
     "iopub.execute_input": "2025-01-27T16:48:13.761629Z",
     "iopub.status.busy": "2025-01-27T16:48:13.761252Z",
     "iopub.status.idle": "2025-01-27T16:48:17.772537Z",
     "shell.execute_reply": "2025-01-27T16:48:17.772015Z"
    }
   },
   "outputs": [
    {
     "data": {
      "image/png": "[encoded data removed]",
      "text/plain": [
       "<Figure size 640x480 with 1 Axes>"
      ]
     },
     "metadata": {},
     "output_type": "display_data"
    }
   ],
   "source": [
    "from granad import MaterialCatalog, Rectangle\n",
    "flake = MaterialCatalog.get(\"graphene\").cut_flake( Rectangle(10, 10), plot = True )"
   ]
  },
  {
   "cell_type": "markdown",
   "id": "b6fb1f33",
   "metadata": {},
   "source": [
    "By default, graphene flakes are created in the xy - plane. They contain pz Orbitals which are grouped together by an id. You can directly apply shifts to groups of orbitals. We want to shift the entire flake"
   ]
  },
  {
   "cell_type": "code",
   "execution_count": 14,
   "id": "40511a73",
   "metadata": {
    "execution": {
     "iopub.execute_input": "2025-01-27T16:48:17.774831Z",
     "iopub.status.busy": "2025-01-27T16:48:17.774474Z",
     "iopub.status.idle": "2025-01-27T16:48:17.817447Z",
     "shell.execute_reply": "2025-01-27T16:48:17.816842Z"
    }
   },
   "outputs": [
    {
     "name": "stdout",
     "output_type": "stream",
     "text": [
      "[[-7.38       -4.26084499  1.        ]\n",
      " [-8.61       -2.13042249  1.        ]\n",
      " [-9.84        0.          1.        ]\n",
      " [-4.92       -4.26084499  1.        ]\n",
      " [-6.15       -2.13042249  1.        ]\n",
      " [-7.38        0.          1.        ]\n",
      " [-8.61        2.13042249  1.        ]\n",
      " [-2.46       -4.26084499  1.        ]\n",
      " [-3.69       -2.13042249  1.        ]\n",
      " [-4.92        0.          1.        ]\n",
      " [-6.15        2.13042249  1.        ]\n",
      " [ 0.         -4.26084499  1.        ]\n",
      " [-1.23       -2.13042249  1.        ]\n",
      " [-2.46        0.          1.        ]\n",
      " [-3.69        2.13042249  1.        ]\n",
      " [ 2.46       -4.26084499  1.        ]\n",
      " [ 1.23       -2.13042249  1.        ]\n",
      " [ 0.          0.          1.        ]\n",
      " [-1.23        2.13042249  1.        ]\n",
      " [ 4.92       -4.26084499  1.        ]\n",
      " [ 3.69       -2.13042249  1.        ]\n",
      " [ 2.46        0.          1.        ]\n",
      " [ 1.23        2.13042249  1.        ]\n",
      " [ 7.38       -4.26084499  1.        ]\n",
      " [ 6.15       -2.13042249  1.        ]\n",
      " [ 4.92        0.          1.        ]\n",
      " [ 3.69        2.13042249  1.        ]\n",
      " [ 8.61       -2.13042249  1.        ]\n",
      " [ 7.38        0.          1.        ]\n",
      " [ 6.15        2.13042249  1.        ]\n",
      " [ 9.84        0.          1.        ]\n",
      " [ 8.61        2.13042249  1.        ]\n",
      " [-8.61       -3.55070416  1.        ]\n",
      " [-9.84       -1.42028166  1.        ]\n",
      " [-6.15       -3.55070416  1.        ]\n",
      " [-7.38       -1.42028166  1.        ]\n",
      " [-8.61        0.71014083  1.        ]\n",
      " [-3.69       -3.55070416  1.        ]\n",
      " [-4.92       -1.42028166  1.        ]\n",
      " [-6.15        0.71014083  1.        ]\n",
      " [-7.38        2.84056332  1.        ]\n",
      " [-1.23       -3.55070416  1.        ]\n",
      " [-2.46       -1.42028166  1.        ]\n",
      " [-3.69        0.71014083  1.        ]\n",
      " [-4.92        2.84056332  1.        ]\n",
      " [ 1.23       -3.55070416  1.        ]\n",
      " [ 0.         -1.42028166  1.        ]\n",
      " [-1.23        0.71014083  1.        ]\n",
      " [-2.46        2.84056332  1.        ]\n",
      " [ 3.69       -3.55070416  1.        ]\n",
      " [ 2.46       -1.42028166  1.        ]\n",
      " [ 1.23        0.71014083  1.        ]\n",
      " [ 0.          2.84056332  1.        ]\n",
      " [ 6.15       -3.55070416  1.        ]\n",
      " [ 4.92       -1.42028166  1.        ]\n",
      " [ 3.69        0.71014083  1.        ]\n",
      " [ 2.46        2.84056332  1.        ]\n",
      " [ 8.61       -3.55070416  1.        ]\n",
      " [ 7.38       -1.42028166  1.        ]\n",
      " [ 6.15        0.71014083  1.        ]\n",
      " [ 4.92        2.84056332  1.        ]\n",
      " [ 9.84       -1.42028166  1.        ]\n",
      " [ 8.61        0.71014083  1.        ]\n",
      " [ 7.38        2.84056332  1.        ]]\n"
     ]
    }
   ],
   "source": [
    "flake.shift_by_vector( [0,0,1]  )\n",
    "print(flake.positions)"
   ]
  },
  {
   "cell_type": "markdown",
   "id": "570b74f4",
   "metadata": {},
   "source": [
    "Now we have shifted the entire flake. But we actually wanted a stack, so we need a new flake at the bottom."
   ]
  },
  {
   "cell_type": "code",
   "execution_count": 15,
   "id": "29cf9f68",
   "metadata": {
    "execution": {
     "iopub.execute_input": "2025-01-27T16:48:17.819486Z",
     "iopub.status.busy": "2025-01-27T16:48:17.819122Z",
     "iopub.status.idle": "2025-01-27T16:48:17.852981Z",
     "shell.execute_reply": "2025-01-27T16:48:17.852387Z"
    }
   },
   "outputs": [],
   "source": [
    "second_flake = MaterialCatalog.get(\"graphene\").cut_flake( Rectangle(10, 10) )"
   ]
  },
  {
   "cell_type": "markdown",
   "id": "f0256487",
   "metadata": {},
   "source": [
    "How do we combine the flakes? Well, both are lists, so we can  add them"
   ]
  },
  {
   "cell_type": "code",
   "execution_count": 16,
   "id": "6c58cb8a",
   "metadata": {
    "execution": {
     "iopub.execute_input": "2025-01-27T16:48:17.855303Z",
     "iopub.status.busy": "2025-01-27T16:48:17.854945Z",
     "iopub.status.idle": "2025-01-27T16:48:18.184546Z",
     "shell.execute_reply": "2025-01-27T16:48:18.181731Z"
    }
   },
   "outputs": [
    {
     "data": {
      "image/png": "[encoded data removed]",
      "text/plain": [
       "<Figure size 640x480 with 1 Axes>"
      ]
     },
     "metadata": {},
     "output_type": "display_data"
    }
   ],
   "source": [
    "stack = flake + second_flake\n",
    "stack.show_3d()"
   ]
  },
  {
   "cell_type": "markdown",
   "id": "bf7c376c",
   "metadata": {},
   "source": [
    "This is the first step. Now, we need to set couplings. For simplicity, we will couple nearest neighbors in different layers by setting their hopping rate in the Hamiltonian to 2.0. Interlayer nearest neighbors are separated by a distance of 1 Angström."
   ]
  },
  {
   "cell_type": "markdown",
   "id": "8fa36beb",
   "metadata": {},
   "source": [
    "To achieve this, we could"
   ]
  },
  {
   "cell_type": "markdown",
   "id": "69883724",
   "metadata": {},
   "source": [
    "1. loop over all orbitals in the lower flake.\n",
    "2. get their nearest neighbor in the upper flake.\n",
    "3. call stack.set_hamiltonian_element to set the coupling to 1.0."
   ]
  },
  {
   "cell_type": "markdown",
   "id": "ea58ecd1",
   "metadata": {},
   "source": [
    "This is very cumbersome, so we take a more flexible approach: specifying the coupling by a function dependent on the distance vector. We want a function that is 2.0 for a distance of 1.0 and 0.0 else. One way to express this is a narrow gaussian around 1.0."
   ]
  },
  {
   "cell_type": "code",
   "execution_count": 17,
   "id": "d57244cd",
   "metadata": {
    "execution": {
     "iopub.execute_input": "2025-01-27T16:48:18.189482Z",
     "iopub.status.busy": "2025-01-27T16:48:18.188951Z",
     "iopub.status.idle": "2025-01-27T16:48:18.193190Z",
     "shell.execute_reply": "2025-01-27T16:48:18.192428Z"
    },
    "lines_to_end_of_cell_marker": 0,
    "lines_to_next_cell": 1
   },
   "outputs": [],
   "source": [
    "import jax.numpy as jnp\n",
    "def interlayer_hopping( distance ):\n",
    "    return 2.0 * jnp.exp( -100*(jnp.linalg.norm(distance) - 1.0)**2 )"
   ]
  },
  {
   "cell_type": "markdown",
   "id": "4a8da799",
   "metadata": {},
   "source": [
    "To set the coupling, we do"
   ]
  },
  {
   "cell_type": "code",
   "execution_count": 18,
   "id": "e50ece40",
   "metadata": {
    "execution": {
     "iopub.execute_input": "2025-01-27T16:48:18.195299Z",
     "iopub.status.busy": "2025-01-27T16:48:18.195051Z",
     "iopub.status.idle": "2025-01-27T16:48:18.207021Z",
     "shell.execute_reply": "2025-01-27T16:48:18.206547Z"
    },
    "lines_to_end_of_cell_marker": 0,
    "lines_to_next_cell": 1
   },
   "outputs": [],
   "source": [
    "stack.set_hamiltonian_groups( flake, second_flake, interlayer_hopping )"
   ]
  },
  {
   "cell_type": "markdown",
   "id": "94a3a7d5",
   "metadata": {},
   "source": [
    "We can perform a slightly more interesting simulation by looping over a bunch of nearest-neighbor couplings and study the impact on the energy landscape. To this end, we rewrite the coupling function: "
   ]
  },
  {
   "cell_type": "code",
   "execution_count": 19,
   "id": "020205b6",
   "metadata": {
    "execution": {
     "iopub.execute_input": "2025-01-27T16:48:18.209542Z",
     "iopub.status.busy": "2025-01-27T16:48:18.209173Z",
     "iopub.status.idle": "2025-01-27T16:48:18.213132Z",
     "shell.execute_reply": "2025-01-27T16:48:18.212399Z"
    },
    "lines_to_end_of_cell_marker": 0,
    "lines_to_next_cell": 1
   },
   "outputs": [],
   "source": [
    "def interlayer_hopping_factory( coupling ):\n",
    "    def interlayer_hopping( distance ):\n",
    "        return coupling * jnp.exp( -100*(jnp.linalg.norm(distance) - 1.0)**2 )    \n",
    "    return interlayer_hopping"
   ]
  },
  {
   "cell_type": "markdown",
   "id": "80b5f785",
   "metadata": {},
   "source": [
    "We now loop and plot"
   ]
  },
  {
   "cell_type": "code",
   "execution_count": 20,
   "id": "b429c29a",
   "metadata": {
    "execution": {
     "iopub.execute_input": "2025-01-27T16:48:18.215050Z",
     "iopub.status.busy": "2025-01-27T16:48:18.214878Z",
     "iopub.status.idle": "2025-01-27T16:48:21.617346Z",
     "shell.execute_reply": "2025-01-27T16:48:21.616718Z"
    }
   },
   "outputs": [
    {
     "data": {
      "image/png": "[encoded data removed]",
      "text/plain": [
       "<Figure size 640x480 with 1 Axes>"
      ]
     },
     "metadata": {},
     "output_type": "display_data"
    }
   ],
   "source": [
    "import matplotlib.pyplot as plt\n",
    "n_orbs = len(stack)\n",
    "for coupling in [0, 1.0, 1.5, 2.0, 3.0]:\n",
    "    interlayer_hopping = interlayer_hopping_factory( coupling )\n",
    "    stack.set_hamiltonian_groups( flake, second_flake, interlayer_hopping )    \n",
    "    plt.plot( stack.energies, 'o', label = coupling )\n",
    "plt.title(\"Energy landscape dependent on interlayer cc-hopping\")\n",
    "plt.legend()\n",
    "plt.show()"
   ]
  },
  {
   "cell_type": "markdown",
   "id": "569e90a0",
   "metadata": {},
   "source": [
    "Admittedly, this way of specifying couplings gets some time to get used to, but it is really flexible. "
   ]
  },
  {
   "cell_type": "markdown",
   "id": "99239bf5",
   "metadata": {},
   "source": [
    "To recap: we have learned that there are three different ways to address orbitals in a list, corresponding to varying levels of granularity:"
   ]
  },
  {
   "cell_type": "markdown",
   "id": "6f8e3681",
   "metadata": {},
   "source": [
    "1. *Single Orbitals* may be accessed by their list index or directly.\n",
    "2. *User-grouped Orbitals* may be accessed by their tag.\n",
    "3. *Auto-grouped Orbitals* may be accessed by their group_id."
   ]
  },
  {
   "cell_type": "markdown",
   "id": "f2b08075",
   "metadata": {},
   "source": [
    "Based on this information, you can manipulate orbitals, e.g. shift them around."
   ]
  },
  {
   "cell_type": "markdown",
   "id": "4c311094",
   "metadata": {},
   "source": [
    "## Pitfalls"
   ]
  },
  {
   "cell_type": "markdown",
   "id": "ac0b7e4d",
   "metadata": {},
   "source": [
    "Deleting and modifying state is dangerous."
   ]
  },
  {
   "cell_type": "code",
   "execution_count": 21,
   "id": "720c9676",
   "metadata": {
    "execution": {
     "iopub.execute_input": "2025-01-27T16:48:21.619699Z",
     "iopub.status.busy": "2025-01-27T16:48:21.619236Z",
     "iopub.status.idle": "2025-01-27T16:48:21.624596Z",
     "shell.execute_reply": "2025-01-27T16:48:21.624115Z"
    }
   },
   "outputs": [
    {
     "name": "stdout",
     "output_type": "stream",
     "text": [
      "0\n"
     ]
    }
   ],
   "source": [
    "atom = OrbitalList( [Orbital(), Orbital()] )\n",
    "atom.set_electrons(1)\n",
    "del atom[0] # ALWAYS removes 1 electron\n",
    "print(atom.electrons) # you have an empty atom"
   ]
  },
  {
   "cell_type": "markdown",
   "id": "95214e68",
   "metadata": {},
   "source": [
    "For this reason, the deletion (and append) operation on the orbital list may change or be removed entirely, meaning it wont be possible to add single orbitals or remove them from the structure. A likely and less dangerous replacement would be immutable, copyable data structures."
   ]
  }
 ],
 "metadata": {
  "kernelspec": {
   "display_name": "base",
   "language": "python",
   "name": "base"
  },
  "language_info": {
   "codemirror_mode": {
    "name": "ipython",
    "version": 3
   },
   "file_extension": ".py",
   "mimetype": "text/x-python",
   "name": "python",
   "nbconvert_exporter": "python",
   "pygments_lexer": "ipython3",
   "version": "3.12.8"
  }
 },
 "nbformat": 4,
 "nbformat_minor": 5
}
