{
 "cells": [
  {
   "cell_type": "markdown",
   "id": "b98a71c5",
   "metadata": {},
   "source": [
    "# List-based Simulations \n",
    "\n",
    "Every GRANAD simulation dependens on orbitals and their interactions. To make orbitals interact and spatially displace them, you need to put them into list, which is what this tutorial is about."
   ]
  },
  {
   "cell_type": "markdown",
   "id": "0d05fc96",
   "metadata": {},
   "source": [
    "## Orbitals: A Recap\n",
    "\n",
    "As already explained in the \"Getting Started\" Tutorial, Orbitals are the basic building blocks of orbital lists. They are book keeping devices containing quantum numbers, position and a user-defined string. "
   ]
  },
  {
   "cell_type": "markdown",
   "id": "cbdddea8",
   "metadata": {},
   "source": [
    "## Orbital lists"
   ]
  },
  {
   "cell_type": "markdown",
   "id": "d059f10f",
   "metadata": {},
   "source": [
    "We can make orbitals interact by putting them into a list. The class we need for this is called `OrbitalList` It allows us to"
   ]
  },
  {
   "cell_type": "markdown",
   "id": "0e20ec4b",
   "metadata": {},
   "source": [
    "1. couple orbitals \n",
    "2. set simulation parameters\n",
    "3. compute and plot physical observables (such as energy spectra or time-domain simulations)"
   ]
  },
  {
   "cell_type": "markdown",
   "id": "a0d93c5e",
   "metadata": {},
   "source": [
    "## Coupling orbitals"
   ]
  },
  {
   "cell_type": "markdown",
   "id": "93f432b1",
   "metadata": {},
   "source": [
    "We already learned in the first tutorial that there are two ways of making an orbital list:"
   ]
  },
  {
   "cell_type": "markdown",
   "id": "e9a9e12d",
   "metadata": {},
   "source": [
    "1. creating it\n",
    "2. cutting it from a bulk material"
   ]
  },
  {
   "cell_type": "markdown",
   "id": "b51227ba",
   "metadata": {},
   "source": [
    "In the former case, we have to specify all couplings ourselves. In the latter case, this information is extracted from the material."
   ]
  },
  {
   "cell_type": "markdown",
   "id": "6ff17977",
   "metadata": {},
   "source": [
    "Say we want to specify an isolated atom representing a quantum optical two-level system (TLS). We will create two orbitals with two energy levels that belong to the same atom."
   ]
  },
  {
   "cell_type": "code",
   "execution_count": 1,
   "id": "54317d2f",
   "metadata": {
    "execution": {
     "iopub.execute_input": "2025-01-30T11:08:19.914898Z",
     "iopub.status.busy": "2025-01-30T11:08:19.914716Z",
     "iopub.status.idle": "2025-01-30T11:08:21.060632Z",
     "shell.execute_reply": "2025-01-30T11:08:21.060016Z"
    }
   },
   "outputs": [],
   "source": [
    "from granad import Orbital\n",
    "lower_level = Orbital(tag=\"atom\")\n",
    "upper_level = Orbital(tag=\"atom\")"
   ]
  },
  {
   "cell_type": "markdown",
   "id": "c8daa836",
   "metadata": {},
   "source": [
    "To use the Orbitals in a simulation, we group them into a list"
   ]
  },
  {
   "cell_type": "code",
   "execution_count": 2,
   "id": "40d78a63",
   "metadata": {
    "execution": {
     "iopub.execute_input": "2025-01-30T11:08:21.063094Z",
     "iopub.status.busy": "2025-01-30T11:08:21.062641Z",
     "iopub.status.idle": "2025-01-30T11:08:21.076317Z",
     "shell.execute_reply": "2025-01-30T11:08:21.075831Z"
    }
   },
   "outputs": [
    {
     "name": "stdout",
     "output_type": "stream",
     "text": [
      "List with 2 orbitals, 2 electrons.\n",
      "Excitation: [0] electrons excited from energy levels [0] to [0].\n",
      "Included tags with number of orbitals: {'atom': 2}\n"
     ]
    }
   ],
   "source": [
    "from granad import OrbitalList\n",
    "atom = OrbitalList([lower_level, upper_level])\n",
    "print(atom)"
   ]
  },
  {
   "cell_type": "markdown",
   "id": "f8ca1ef5",
   "metadata": {},
   "source": [
    "We can tell that the total electron number in our system is 2, since by default GRANAD considers each orbital to contribute 1 electron. This can be changed as follows"
   ]
  },
  {
   "cell_type": "code",
   "execution_count": 3,
   "id": "f38af688",
   "metadata": {
    "execution": {
     "iopub.execute_input": "2025-01-30T11:08:21.078151Z",
     "iopub.status.busy": "2025-01-30T11:08:21.077935Z",
     "iopub.status.idle": "2025-01-30T11:08:21.081792Z",
     "shell.execute_reply": "2025-01-30T11:08:21.081266Z"
    }
   },
   "outputs": [
    {
     "name": "stdout",
     "output_type": "stream",
     "text": [
      "List with 2 orbitals, 1 electrons.\n",
      "Excitation: [0] electrons excited from energy levels [0] to [0].\n",
      "Included tags with number of orbitals: {'atom': 2}\n"
     ]
    }
   ],
   "source": [
    "atom.set_electrons(1)\n",
    "print(atom)"
   ]
  },
  {
   "cell_type": "markdown",
   "id": "12f48bc0",
   "metadata": {},
   "source": [
    "We can compute static quantities of the atom, like its energies. By default, GRANAD considers all couplings to be zero unless stated otherwise. "
   ]
  },
  {
   "cell_type": "code",
   "execution_count": 4,
   "id": "8c912f2b",
   "metadata": {
    "execution": {
     "iopub.execute_input": "2025-01-30T11:08:21.083684Z",
     "iopub.status.busy": "2025-01-30T11:08:21.083296Z",
     "iopub.status.idle": "2025-01-30T11:08:21.987120Z",
     "shell.execute_reply": "2025-01-30T11:08:21.986497Z"
    }
   },
   "outputs": [
    {
     "name": "stdout",
     "output_type": "stream",
     "text": [
      "[0. 0.]\n"
     ]
    }
   ],
   "source": [
    "print(atom.energies)"
   ]
  },
  {
   "cell_type": "markdown",
   "id": "64e523e4",
   "metadata": {},
   "source": [
    "As no couplings are specified, only zero energies are obtained. "
   ]
  },
  {
   "cell_type": "markdown",
   "id": "f2159b48",
   "metadata": {},
   "source": [
    "GRANAD lets us explicitly set elements of the Hamiltonian and Coulomb matrices by their list indices. We have put the Orbital called `lower_level` in the 0-th position, so we can assign it an an energy of -0.5. "
   ]
  },
  {
   "cell_type": "code",
   "execution_count": 5,
   "id": "89fff291",
   "metadata": {
    "execution": {
     "iopub.execute_input": "2025-01-30T11:08:21.989203Z",
     "iopub.status.busy": "2025-01-30T11:08:21.988881Z",
     "iopub.status.idle": "2025-01-30T11:08:21.992107Z",
     "shell.execute_reply": "2025-01-30T11:08:21.991465Z"
    }
   },
   "outputs": [],
   "source": [
    "atom.set_hamiltonian_element( 0, 0, -0.5)"
   ]
  },
  {
   "cell_type": "markdown",
   "id": "45b0b7f5",
   "metadata": {},
   "source": [
    "Similarly, we can assign the energy to the upper level"
   ]
  },
  {
   "cell_type": "code",
   "execution_count": 6,
   "id": "b97f723f",
   "metadata": {
    "execution": {
     "iopub.execute_input": "2025-01-30T11:08:21.994043Z",
     "iopub.status.busy": "2025-01-30T11:08:21.993673Z",
     "iopub.status.idle": "2025-01-30T11:08:21.996456Z",
     "shell.execute_reply": "2025-01-30T11:08:21.995918Z"
    }
   },
   "outputs": [],
   "source": [
    "atom.set_hamiltonian_element( 1, 1, 0.5)"
   ]
  },
  {
   "cell_type": "markdown",
   "id": "231845a9",
   "metadata": {},
   "source": [
    "If we now check the energies, we see that they have updated automatically"
   ]
  },
  {
   "cell_type": "code",
   "execution_count": 7,
   "id": "e00af63a",
   "metadata": {
    "execution": {
     "iopub.execute_input": "2025-01-30T11:08:21.998377Z",
     "iopub.status.busy": "2025-01-30T11:08:21.998027Z",
     "iopub.status.idle": "2025-01-30T11:08:22.290872Z",
     "shell.execute_reply": "2025-01-30T11:08:22.290274Z"
    }
   },
   "outputs": [
    {
     "name": "stdout",
     "output_type": "stream",
     "text": [
      "[-0.5  0.5]\n"
     ]
    }
   ],
   "source": [
    "print(atom.energies)"
   ]
  },
  {
   "cell_type": "markdown",
   "id": "5b9fd86b",
   "metadata": {},
   "source": [
    "You might have realized that you didn't have to call any function to get the energies with the updated couplings. This is because GRANAD evaluates lazily:  physical quantities that depend on the couplings (like the energies or a Coulomb matrix entry) will be computed when they are needed. Aside from using list indices for setting couplings, you can also use the orbitals themselves. This takes some time to get used to, but is quite practical."
   ]
  },
  {
   "cell_type": "markdown",
   "id": "6a0fac95",
   "metadata": {},
   "source": [
    "For illustration, we couple the upper and lower level. This could be achieved as follows"
   ]
  },
  {
   "cell_type": "code",
   "execution_count": 8,
   "id": "1b6501ab",
   "metadata": {
    "execution": {
     "iopub.execute_input": "2025-01-30T11:08:22.292919Z",
     "iopub.status.busy": "2025-01-30T11:08:22.292554Z",
     "iopub.status.idle": "2025-01-30T11:08:22.295698Z",
     "shell.execute_reply": "2025-01-30T11:08:22.295188Z"
    }
   },
   "outputs": [],
   "source": [
    "atom.set_hamiltonian_element( 1, 0, 0.5j)"
   ]
  },
  {
   "cell_type": "markdown",
   "id": "eb6d4750",
   "metadata": {},
   "source": [
    "Or like this"
   ]
  },
  {
   "cell_type": "code",
   "execution_count": 9,
   "id": "e816b531",
   "metadata": {
    "execution": {
     "iopub.execute_input": "2025-01-30T11:08:22.297588Z",
     "iopub.status.busy": "2025-01-30T11:08:22.297222Z",
     "iopub.status.idle": "2025-01-30T11:08:22.665562Z",
     "shell.execute_reply": "2025-01-30T11:08:22.664927Z"
    }
   },
   "outputs": [
    {
     "name": "stdout",
     "output_type": "stream",
     "text": [
      "[[-0.5-0.j   0. +0.1j]\n",
      " [ 0. -0.1j  0.5-0.j ]]\n"
     ]
    }
   ],
   "source": [
    "atom.set_hamiltonian_element( upper_level, lower_level, 0.1j) # changes the same element \n",
    "print(atom.hamiltonian)"
   ]
  },
  {
   "cell_type": "markdown",
   "id": "9a834c75",
   "metadata": {},
   "source": [
    "Setting Coulomb matrix elements proceeds analogously by calling `atom.set_coulomb_element`."
   ]
  },
  {
   "cell_type": "markdown",
   "id": "7d08e2b1",
   "metadata": {},
   "source": [
    "We see that the matrix entry corresponding to the inter-level coupling is now modified accordingly, with hermiticity of the hamiltonian taken into account properly."
   ]
  },
  {
   "cell_type": "markdown",
   "id": "d3308659",
   "metadata": {},
   "source": [
    "Introducing dipole transitions works similarly: We  have to remember to pass in a vector for the transition"
   ]
  },
  {
   "cell_type": "code",
   "execution_count": 10,
   "id": "a46ad5a6",
   "metadata": {
    "execution": {
     "iopub.execute_input": "2025-01-30T11:08:22.667522Z",
     "iopub.status.busy": "2025-01-30T11:08:22.667336Z",
     "iopub.status.idle": "2025-01-30T11:08:23.351246Z",
     "shell.execute_reply": "2025-01-30T11:08:23.350705Z"
    }
   },
   "outputs": [
    {
     "name": "stdout",
     "output_type": "stream",
     "text": [
      "[[0.+0.j 1.+0.j]\n",
      " [1.+0.j 0.+0.j]]\n"
     ]
    }
   ],
   "source": [
    "atom.set_dipole_element( upper_level, lower_level, [0,0,1] ) # transition dipole oriented in z-direction\n",
    "print(atom.dipole_operator[2])"
   ]
  },
  {
   "cell_type": "markdown",
   "id": "6c60874a",
   "metadata": {},
   "source": [
    "Let's look at the position of the atom"
   ]
  },
  {
   "cell_type": "code",
   "execution_count": 11,
   "id": "b36489af",
   "metadata": {
    "execution": {
     "iopub.execute_input": "2025-01-30T11:08:23.353275Z",
     "iopub.status.busy": "2025-01-30T11:08:23.352918Z",
     "iopub.status.idle": "2025-01-30T11:08:23.357264Z",
     "shell.execute_reply": "2025-01-30T11:08:23.356770Z"
    }
   },
   "outputs": [
    {
     "name": "stdout",
     "output_type": "stream",
     "text": [
      "[[0. 0. 0.]\n",
      " [0. 0. 0.]]\n"
     ]
    }
   ],
   "source": [
    "print(atom.positions)"
   ]
  },
  {
   "cell_type": "markdown",
   "id": "9963709b",
   "metadata": {},
   "source": [
    "It is located at the origin. Let's shift it. We can manipulate the \"position\" attribute of the two orbitals by hand (not recommended) or we can use the tag we have defined, like so"
   ]
  },
  {
   "cell_type": "code",
   "execution_count": 12,
   "id": "f1676831",
   "metadata": {
    "execution": {
     "iopub.execute_input": "2025-01-30T11:08:23.359095Z",
     "iopub.status.busy": "2025-01-30T11:08:23.358647Z",
     "iopub.status.idle": "2025-01-30T11:08:23.375500Z",
     "shell.execute_reply": "2025-01-30T11:08:23.374856Z"
    }
   },
   "outputs": [
    {
     "name": "stdout",
     "output_type": "stream",
     "text": [
      "[[0. 0. 1.]\n",
      " [0. 0. 1.]]\n"
     ]
    }
   ],
   "source": [
    "atom.shift_by_vector( [0, 0, 1] )\n",
    "print(atom.positions)"
   ]
  },
  {
   "cell_type": "markdown",
   "id": "f4ea29f3",
   "metadata": {},
   "source": [
    "Every orbital we have annotated by this tag will be shifted. "
   ]
  },
  {
   "cell_type": "markdown",
   "id": "9f2730fe",
   "metadata": {},
   "source": [
    "Consider a slightly more involved geometric example, i.e. stacking two graphene flakes."
   ]
  },
  {
   "cell_type": "markdown",
   "id": "28a9b83c",
   "metadata": {},
   "source": [
    "We chose simple rectangles"
   ]
  },
  {
   "cell_type": "code",
   "execution_count": 13,
   "id": "29bf8a02",
   "metadata": {
    "execution": {
     "iopub.execute_input": "2025-01-30T11:08:23.377451Z",
     "iopub.status.busy": "2025-01-30T11:08:23.377264Z",
     "iopub.status.idle": "2025-01-30T11:08:27.122946Z",
     "shell.execute_reply": "2025-01-30T11:08:27.122350Z"
    }
   },
   "outputs": [
    {
     "data": {
      "image/png": "[encoded data removed]",
      "text/plain": [
       "<Figure size 640x480 with 1 Axes>"
      ]
     },
     "metadata": {},
     "output_type": "display_data"
    }
   ],
   "source": [
    "from granad import MaterialCatalog, Rectangle\n",
    "flake = MaterialCatalog.get(\"graphene\").cut_flake( Rectangle(10, 10), plot = True )"
   ]
  },
  {
   "cell_type": "markdown",
   "id": "9bf0cb15",
   "metadata": {},
   "source": [
    "By default, graphene flakes are created in the xy - plane. They contain pz Orbitals which are grouped together by an id. You can directly apply shifts to groups of orbitals. We want to shift the entire flake"
   ]
  },
  {
   "cell_type": "code",
   "execution_count": 14,
   "id": "a89fed2d",
   "metadata": {
    "execution": {
     "iopub.execute_input": "2025-01-30T11:08:27.125046Z",
     "iopub.status.busy": "2025-01-30T11:08:27.124680Z",
     "iopub.status.idle": "2025-01-30T11:08:27.169660Z",
     "shell.execute_reply": "2025-01-30T11:08:27.169164Z"
    }
   },
   "outputs": [
    {
     "name": "stdout",
     "output_type": "stream",
     "text": [
      "[[-7.38       -4.26084499  1.        ]\n",
      " [-8.61       -2.13042249  1.        ]\n",
      " [-9.84        0.          1.        ]\n",
      " [-4.92       -4.26084499  1.        ]\n",
      " [-6.15       -2.13042249  1.        ]\n",
      " [-7.38        0.          1.        ]\n",
      " [-8.61        2.13042249  1.        ]\n",
      " [-2.46       -4.26084499  1.        ]\n",
      " [-3.69       -2.13042249  1.        ]\n",
      " [-4.92        0.          1.        ]\n",
      " [-6.15        2.13042249  1.        ]\n",
      " [ 0.         -4.26084499  1.        ]\n",
      " [-1.23       -2.13042249  1.        ]\n",
      " [-2.46        0.          1.        ]\n",
      " [-3.69        2.13042249  1.        ]\n",
      " [ 2.46       -4.26084499  1.        ]\n",
      " [ 1.23       -2.13042249  1.        ]\n",
      " [ 0.          0.          1.        ]\n",
      " [-1.23        2.13042249  1.        ]\n",
      " [ 4.92       -4.26084499  1.        ]\n",
      " [ 3.69       -2.13042249  1.        ]\n",
      " [ 2.46        0.          1.        ]\n",
      " [ 1.23        2.13042249  1.        ]\n",
      " [ 7.38       -4.26084499  1.        ]\n",
      " [ 6.15       -2.13042249  1.        ]\n",
      " [ 4.92        0.          1.        ]\n",
      " [ 3.69        2.13042249  1.        ]\n",
      " [ 8.61       -2.13042249  1.        ]\n",
      " [ 7.38        0.          1.        ]\n",
      " [ 6.15        2.13042249  1.        ]\n",
      " [ 9.84        0.          1.        ]\n",
      " [ 8.61        2.13042249  1.        ]\n",
      " [-8.61       -3.55070416  1.        ]\n",
      " [-9.84       -1.42028166  1.        ]\n",
      " [-6.15       -3.55070416  1.        ]\n",
      " [-7.38       -1.42028166  1.        ]\n",
      " [-8.61        0.71014083  1.        ]\n",
      " [-3.69       -3.55070416  1.        ]\n",
      " [-4.92       -1.42028166  1.        ]\n",
      " [-6.15        0.71014083  1.        ]\n",
      " [-7.38        2.84056332  1.        ]\n",
      " [-1.23       -3.55070416  1.        ]\n",
      " [-2.46       -1.42028166  1.        ]\n",
      " [-3.69        0.71014083  1.        ]\n",
      " [-4.92        2.84056332  1.        ]\n",
      " [ 1.23       -3.55070416  1.        ]\n",
      " [ 0.         -1.42028166  1.        ]\n",
      " [-1.23        0.71014083  1.        ]\n",
      " [-2.46        2.84056332  1.        ]\n",
      " [ 3.69       -3.55070416  1.        ]\n",
      " [ 2.46       -1.42028166  1.        ]\n",
      " [ 1.23        0.71014083  1.        ]\n",
      " [ 0.          2.84056332  1.        ]\n",
      " [ 6.15       -3.55070416  1.        ]\n",
      " [ 4.92       -1.42028166  1.        ]\n",
      " [ 3.69        0.71014083  1.        ]\n",
      " [ 2.46        2.84056332  1.        ]\n",
      " [ 8.61       -3.55070416  1.        ]\n",
      " [ 7.38       -1.42028166  1.        ]\n",
      " [ 6.15        0.71014083  1.        ]\n",
      " [ 4.92        2.84056332  1.        ]\n",
      " [ 9.84       -1.42028166  1.        ]\n",
      " [ 8.61        0.71014083  1.        ]\n",
      " [ 7.38        2.84056332  1.        ]]\n"
     ]
    }
   ],
   "source": [
    "flake.shift_by_vector( [0,0,1]  )\n",
    "print(flake.positions)"
   ]
  },
  {
   "cell_type": "markdown",
   "id": "3c6809e0",
   "metadata": {},
   "source": [
    "Now we have shifted the entire flake. But we actually wanted a stack, so we need a new flake at the bottom."
   ]
  },
  {
   "cell_type": "code",
   "execution_count": 15,
   "id": "3ce77c69",
   "metadata": {
    "execution": {
     "iopub.execute_input": "2025-01-30T11:08:27.171604Z",
     "iopub.status.busy": "2025-01-30T11:08:27.171240Z",
     "iopub.status.idle": "2025-01-30T11:08:27.204702Z",
     "shell.execute_reply": "2025-01-30T11:08:27.204241Z"
    }
   },
   "outputs": [],
   "source": [
    "second_flake = MaterialCatalog.get(\"graphene\").cut_flake( Rectangle(10, 10) )"
   ]
  },
  {
   "cell_type": "markdown",
   "id": "ade52875",
   "metadata": {},
   "source": [
    "How do we combine the flakes? Well, both are lists, so we can  add them"
   ]
  },
  {
   "cell_type": "code",
   "execution_count": 16,
   "id": "dff65897",
   "metadata": {
    "execution": {
     "iopub.execute_input": "2025-01-30T11:08:27.206540Z",
     "iopub.status.busy": "2025-01-30T11:08:27.206185Z",
     "iopub.status.idle": "2025-01-30T11:08:27.407217Z",
     "shell.execute_reply": "2025-01-30T11:08:27.406297Z"
    }
   },
   "outputs": [
    {
     "data": {
      "image/png": "[encoded data removed]",
      "text/plain": [
       "<Figure size 640x480 with 1 Axes>"
      ]
     },
     "metadata": {},
     "output_type": "display_data"
    }
   ],
   "source": [
    "stack = flake + second_flake\n",
    "stack.show_3d()"
   ]
  },
  {
   "cell_type": "markdown",
   "id": "ad79798b",
   "metadata": {},
   "source": [
    "This is the first step. Now, we need to set couplings. For simplicity, we will couple nearest neighbors in different layers by setting their hopping rate in the Hamiltonian to 2.0. Interlayer nearest neighbors are separated by a distance of 1 Angström."
   ]
  },
  {
   "cell_type": "markdown",
   "id": "a38c9830",
   "metadata": {},
   "source": [
    "To achieve this, we could"
   ]
  },
  {
   "cell_type": "markdown",
   "id": "78e5a5b2",
   "metadata": {},
   "source": [
    "1. loop over all orbitals in the lower flake.\n",
    "2. get their nearest neighbor in the upper flake.\n",
    "3. call stack.set_hamiltonian_element to set the coupling to 1.0."
   ]
  },
  {
   "cell_type": "markdown",
   "id": "0d5cf7e8",
   "metadata": {},
   "source": [
    "This is very cumbersome, so we take a more flexible approach: specifying the coupling by a function dependent on the distance vector. We want a function that is 2.0 for a distance of 1.0 and 0.0 else. One way to express this is a narrow gaussian around 1.0."
   ]
  },
  {
   "cell_type": "code",
   "execution_count": 17,
   "id": "6fec54e7",
   "metadata": {
    "execution": {
     "iopub.execute_input": "2025-01-30T11:08:27.409632Z",
     "iopub.status.busy": "2025-01-30T11:08:27.409375Z",
     "iopub.status.idle": "2025-01-30T11:08:27.413398Z",
     "shell.execute_reply": "2025-01-30T11:08:27.412889Z"
    },
    "lines_to_end_of_cell_marker": 0,
    "lines_to_next_cell": 1
   },
   "outputs": [],
   "source": [
    "import jax.numpy as jnp\n",
    "def interlayer_hopping( distance ):\n",
    "    return 2.0 * jnp.exp( -100*(jnp.linalg.norm(distance) - 1.0)**2 )"
   ]
  },
  {
   "cell_type": "markdown",
   "id": "27c3981a",
   "metadata": {},
   "source": [
    "To set the coupling, we do"
   ]
  },
  {
   "cell_type": "code",
   "execution_count": 18,
   "id": "4138f19e",
   "metadata": {
    "execution": {
     "iopub.execute_input": "2025-01-30T11:08:27.416469Z",
     "iopub.status.busy": "2025-01-30T11:08:27.415416Z",
     "iopub.status.idle": "2025-01-30T11:08:27.427560Z",
     "shell.execute_reply": "2025-01-30T11:08:27.427093Z"
    },
    "lines_to_end_of_cell_marker": 0,
    "lines_to_next_cell": 1
   },
   "outputs": [],
   "source": [
    "stack.set_hamiltonian_groups( flake, second_flake, interlayer_hopping )"
   ]
  },
  {
   "cell_type": "markdown",
   "id": "49465286",
   "metadata": {},
   "source": [
    "We can perform a slightly more interesting simulation by looping over a bunch of nearest-neighbor couplings and study the impact on the energy landscape. To this end, we rewrite the coupling function: "
   ]
  },
  {
   "cell_type": "code",
   "execution_count": 19,
   "id": "7c088299",
   "metadata": {
    "execution": {
     "iopub.execute_input": "2025-01-30T11:08:27.430015Z",
     "iopub.status.busy": "2025-01-30T11:08:27.429792Z",
     "iopub.status.idle": "2025-01-30T11:08:27.433675Z",
     "shell.execute_reply": "2025-01-30T11:08:27.433251Z"
    },
    "lines_to_end_of_cell_marker": 0,
    "lines_to_next_cell": 1
   },
   "outputs": [],
   "source": [
    "def interlayer_hopping_factory( coupling ):\n",
    "    def interlayer_hopping( distance ):\n",
    "        return coupling * jnp.exp( -100*(jnp.linalg.norm(distance) - 1.0)**2 )    \n",
    "    return interlayer_hopping"
   ]
  },
  {
   "cell_type": "markdown",
   "id": "56d3a1bb",
   "metadata": {},
   "source": [
    "We now loop and plot"
   ]
  },
  {
   "cell_type": "code",
   "execution_count": 20,
   "id": "20381759",
   "metadata": {
    "execution": {
     "iopub.execute_input": "2025-01-30T11:08:27.436195Z",
     "iopub.status.busy": "2025-01-30T11:08:27.435924Z",
     "iopub.status.idle": "2025-01-30T11:08:30.567829Z",
     "shell.execute_reply": "2025-01-30T11:08:30.567292Z"
    }
   },
   "outputs": [
    {
     "data": {
      "image/png": "[encoded data removed]",
      "text/plain": [
       "<Figure size 640x480 with 1 Axes>"
      ]
     },
     "metadata": {},
     "output_type": "display_data"
    }
   ],
   "source": [
    "import matplotlib.pyplot as plt\n",
    "n_orbs = len(stack)\n",
    "for coupling in [0, 1.0, 1.5, 2.0, 3.0]:\n",
    "    interlayer_hopping = interlayer_hopping_factory( coupling )\n",
    "    stack.set_hamiltonian_groups( flake, second_flake, interlayer_hopping )    \n",
    "    plt.plot( stack.energies, 'o', label = coupling )\n",
    "plt.title(\"Energy landscape dependent on interlayer cc-hopping\")\n",
    "plt.legend()\n",
    "plt.show()"
   ]
  },
  {
   "cell_type": "markdown",
   "id": "8a4f668f",
   "metadata": {},
   "source": [
    "Admittedly, this way of specifying couplings gets some time to get used to, but it is really flexible. "
   ]
  },
  {
   "cell_type": "markdown",
   "id": "272961ee",
   "metadata": {},
   "source": [
    "To recap: we have learned that there are three different ways to address orbitals in a list, corresponding to varying levels of granularity:"
   ]
  },
  {
   "cell_type": "markdown",
   "id": "b160d970",
   "metadata": {},
   "source": [
    "1. *Single Orbitals* may be accessed by their list index or directly.\n",
    "2. *User-grouped Orbitals* may be accessed by their tag.\n",
    "3. *Auto-grouped Orbitals* may be accessed by their group_id."
   ]
  },
  {
   "cell_type": "markdown",
   "id": "32ba9c31",
   "metadata": {},
   "source": [
    "Based on this information, you can manipulate orbitals, e.g. shift them around."
   ]
  },
  {
   "cell_type": "markdown",
   "id": "4ffab195",
   "metadata": {},
   "source": [
    "## Pitfalls"
   ]
  },
  {
   "cell_type": "markdown",
   "id": "59bef529",
   "metadata": {},
   "source": [
    "Deleting and modifying state is dangerous."
   ]
  },
  {
   "cell_type": "code",
   "execution_count": 21,
   "id": "ec0e0924",
   "metadata": {
    "execution": {
     "iopub.execute_input": "2025-01-30T11:08:30.569885Z",
     "iopub.status.busy": "2025-01-30T11:08:30.569522Z",
     "iopub.status.idle": "2025-01-30T11:08:30.574420Z",
     "shell.execute_reply": "2025-01-30T11:08:30.573857Z"
    }
   },
   "outputs": [
    {
     "name": "stdout",
     "output_type": "stream",
     "text": [
      "0\n"
     ]
    }
   ],
   "source": [
    "atom = OrbitalList( [Orbital(), Orbital()] )\n",
    "atom.set_electrons(1)\n",
    "del atom[0] # ALWAYS removes 1 electron\n",
    "print(atom.electrons) # you have an empty atom"
   ]
  },
  {
   "cell_type": "markdown",
   "id": "8209a28d",
   "metadata": {},
   "source": [
    "For this reason, the deletion (and append) operation on the orbital list may change or be removed entirely, meaning it wont be possible to add single orbitals or remove them from the structure. A likely and less dangerous replacement would be immutable, copyable data structures."
   ]
  }
 ],
 "metadata": {
  "kernelspec": {
   "display_name": "base",
   "language": "python",
   "name": "base"
  },
  "language_info": {
   "codemirror_mode": {
    "name": "ipython",
    "version": 3
   },
   "file_extension": ".py",
   "mimetype": "text/x-python",
   "name": "python",
   "nbconvert_exporter": "python",
   "pygments_lexer": "ipython3",
   "version": "3.12.8"
  }
 },
 "nbformat": 4,
 "nbformat_minor": 5
}
