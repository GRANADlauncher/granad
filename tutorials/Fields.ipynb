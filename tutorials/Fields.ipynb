{
 "cells": [
  {
   "cell_type": "markdown",
   "id": "aa37f112",
   "metadata": {},
   "source": [
    "## Spatially varying fields\n",
    "\n",
    "This example demonstrates how to include spatially varying fields.\n",
    "\n",
    "### Set up the Stack\n",
    "\n",
    "We look at a small chain."
   ]
  },
  {
   "cell_type": "code",
   "execution_count": null,
   "id": "b6209b6b",
   "metadata": {},
   "outputs": [],
   "source": [
    "\n",
    "import granad\n",
    "import jax\n",
    "import jax.numpy as jnp\n",
    "import numpy as np\n",
    "import diffrax\n",
    "import matplotlib.pyplot as plt\n",
    "\n",
    "# build stack\n",
    "sb = granad.StackBuilder()\n",
    "\n",
    "# add graphene\n",
    "graphene = granad.Lattice(\n",
    "    shape=granad.Chain(6),\n",
    "    lattice_type=granad.LatticeType.CHAIN,\n",
    "    lattice_edge=granad.LatticeEdge.NONE,\n",
    "    lattice_constant=1,\n",
    ")\n",
    "sb.add(\"pz\", graphene)\n",
    "\n",
    "hopping_graphene = granad.LatticeCoupling(\n",
    "    orbital_id1=\"pz\", orbital_id2=\"pz\", lattice=graphene, couplings=[0, -2.66]\n",
    ")\n",
    "sb.set_hopping(hopping_graphene)\n",
    "\n",
    "\n",
    "coulomb_graphene = granad.LatticeCoupling(\n",
    "    orbital_id1=\"pz\",\n",
    "    orbital_id2=\"pz\",\n",
    "    lattice=graphene,\n",
    "    couplings=[16.522, 8.64, 5.333],\n",
    "    coupling_function=lambda d: 14.399 / d + 0j,\n",
    ")\n",
    "sb.set_coulomb(coulomb_graphene)\n",
    "\n",
    "# create the stack object\n",
    "stack = sb.get_stack( from_state = 0, to_state = 2)\n"
   ]
  },
  {
   "cell_type": "markdown",
   "id": "04e54fc8",
   "metadata": {},
   "source": [
    "We now define two functions: a uniform vector potential and the e field it generates."
   ]
  },
  {
   "cell_type": "code",
   "execution_count": null,
   "id": "5c67dcdd",
   "metadata": {},
   "outputs": [],
   "source": [
    "\n",
    "def uniform_vector_potential( r, omega ):\n",
    "    A_0 = jnp.ones_like( r )\n",
    "    return lambda t : A_0 * jnp.sin( omega * t )\n",
    "\n",
    "def uniform_e_field( r, omega ):\n",
    "    A_0 = jnp.ones_like( r )\n",
    "    return lambda t : A_0.T * (omega * jnp.cos( omega * t ) ) \n",
    "\n",
    "frequency = 100\n",
    "field_func = uniform_vector_potential( stack.positions, frequency )\n",
    "e_field_func = uniform_e_field( stack.positions, frequency )\n",
    "\n",
    "# propagate in time\n",
    "gamma = 10\n",
    "time_axis = jnp.linspace(0, 10/gamma, int(1e8))\n",
    "saveat = time_axis[::int(1e3)]\n"
   ]
  },
  {
   "cell_type": "markdown",
   "id": "0e7a475f",
   "metadata": {},
   "source": [
    "For fields that can vary in space, it is important that you pass the vector potential as a function together with the arguent spatial = True."
   ]
  },
  {
   "cell_type": "code",
   "execution_count": null,
   "id": "3562a3b5",
   "metadata": {},
   "outputs": [],
   "source": [
    "\n",
    "# time propagation\n",
    "stack_new, sol = granad.evolution(\n",
    "    stack, time_axis, e_field_func, granad.relaxation(gamma),\n",
    "    saveat = saveat, spatial = False )\n",
    "\n",
    "# calculate dipole moment\n",
    "occupations = jnp.diagonal( sol.ys, axis1=1, axis2=2 ).real\n",
    "dipole_moment = granad.induced_dipole_moment(stack, occupations )\n",
    "plt.plot( saveat, dipole_moment, '-', label = 'E' )    \n",
    "\n",
    "# time propagation\n",
    "stack_new, sol = granad.evolution(\n",
    "    stack, time_axis, field_func, granad.relaxation(gamma),\n",
    "    saveat = saveat, spatial = True )\n",
    "\n",
    "# calculate dipole moment\n",
    "occupations = jnp.diagonal( sol.ys, axis1=1, axis2=2 ).real\n",
    "dipole_moment = granad.induced_dipole_moment(stack, occupations )\n",
    "plt.plot( saveat, dipole_moment, '--', label = 'A' )\n",
    "plt.legend()\n",
    "plt.show()\n"
   ]
  }
 ],
 "metadata": {
  "kernelspec": {
   "display_name": "base",
   "language": "python",
   "name": "base"
  }
 },
 "nbformat": 4,
 "nbformat_minor": 5
}
