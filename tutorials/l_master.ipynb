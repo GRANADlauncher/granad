{
 "cells": [
  {
   "cell_type": "markdown",
   "id": "03213e7c",
   "metadata": {},
   "source": [
    "# Custom Time Evolution\n",
    "\n",
    "GRANAD lets you customize the Master Equation you simulate and extract any information from it."
   ]
  },
  {
   "cell_type": "markdown",
   "id": "f35c82a8",
   "metadata": {},
   "source": [
    "*Note*: Please consult the tutorial on potentials first."
   ]
  },
  {
   "cell_type": "markdown",
   "id": "e627c4e1",
   "metadata": {},
   "source": [
    "*Note*: While a bit more complicated, this tutorial can help you make your simulations not only more versatile, but also increase their efficiency."
   ]
  },
  {
   "cell_type": "markdown",
   "id": "222e931e",
   "metadata": {},
   "source": [
    "*Note*: This is still rough. In the future, I might package the functions into a \"Term\" object or sth like that, but this will be purely cosmetic. The underlying functions won't change."
   ]
  },
  {
   "cell_type": "markdown",
   "id": "38713e3d",
   "metadata": {},
   "source": [
    "## Hamiltonian"
   ]
  },
  {
   "cell_type": "markdown",
   "id": "2faafdb3",
   "metadata": {},
   "source": [
    "When calling the integration for the master equation, you can give an optional argument, `hamiltonian`. As already discussed, this argument represents a Hamiltonian as a dictionary of functions."
   ]
  },
  {
   "cell_type": "markdown",
   "id": "52673cda",
   "metadata": {},
   "source": [
    "Up to now, we just wanted to use custom potentials, so we simply added them to the dictionary. Let's look more closely at what is going on by considering a flake under CW illumination."
   ]
  },
  {
   "cell_type": "code",
   "execution_count": 1,
   "id": "25fb6486",
   "metadata": {
    "execution": {
     "iopub.execute_input": "2024-06-13T10:51:39.466872Z",
     "iopub.status.busy": "2024-06-13T10:51:39.466435Z",
     "iopub.status.idle": "2024-06-13T10:51:43.701054Z",
     "shell.execute_reply": "2024-06-13T10:51:43.700516Z"
    }
   },
   "outputs": [
    {
     "name": "stdout",
     "output_type": "stream",
     "text": [
      "dict_keys(['bare_hamiltonian', 'coulomb', 'potential'])\n"
     ]
    }
   ],
   "source": [
    "from granad import MaterialCatalog, Triangle, Wave\n",
    "flake = MaterialCatalog.get( \"graphene\" ).cut_flake( Triangle(15)  )\n",
    "wave = Wave( amplitudes = [1.0, 0., 0.], frequency = 1.0 )\n",
    "hamiltonian_model = flake.get_hamiltonian(illumination = wave)\n",
    "print(hamiltonian_model.keys())"
   ]
  },
  {
   "cell_type": "markdown",
   "id": "106a58a9",
   "metadata": {},
   "source": [
    "As discussed, the default Hamiltonian just has three terms:"
   ]
  },
  {
   "cell_type": "markdown",
   "id": "bb591295",
   "metadata": {},
   "source": [
    "1. a bare hamiltonian.\n",
    "2. an induced coulomb interaction.\n",
    "3. an external potential."
   ]
  },
  {
   "cell_type": "markdown",
   "id": "93d84538",
   "metadata": {},
   "source": [
    "Each of these terms is represented by a function. Every function accepts the following three arguments:"
   ]
  },
  {
   "cell_type": "markdown",
   "id": "ed327593",
   "metadata": {},
   "source": [
    "1. time\n",
    "2. the density matrix at this time\n",
    "3. an argument object `args`. It contains all required \"static\" information, like relaxation rates, energies or operators (remember we use the Schrödinger picture, so, e.g. the dipole operator does not depend on time)."
   ]
  },
  {
   "cell_type": "markdown",
   "id": "a4633b82",
   "metadata": {},
   "source": [
    "Every function maps these arguments to a complex matrix. Before running a simulation, the functions in the dictionary get turned into a list `func_list`. "
   ]
  },
  {
   "cell_type": "markdown",
   "id": "939fdd9e",
   "metadata": {},
   "source": [
    "The matrix representation of the Hamiltonian is then given by applying and adding these functions, like so `H[time] = sum( f(times[time], density_matrix[time], args) for f in func_list )`."
   ]
  },
  {
   "cell_type": "markdown",
   "id": "9bbb60a2",
   "metadata": {},
   "source": [
    "## Argument Objects"
   ]
  },
  {
   "cell_type": "markdown",
   "id": "5e975f99",
   "metadata": {},
   "source": [
    "What does the `args` object contain, exactly? We can create this object ourselves. It is just a named tuple (like a C struct) and we can inspect its contents by looking at its fields "
   ]
  },
  {
   "cell_type": "code",
   "execution_count": 2,
   "id": "65572518",
   "metadata": {
    "execution": {
     "iopub.execute_input": "2024-06-13T10:51:43.704008Z",
     "iopub.status.busy": "2024-06-13T10:51:43.703427Z",
     "iopub.status.idle": "2024-06-13T10:51:45.565504Z",
     "shell.execute_reply": "2024-06-13T10:51:45.564894Z"
    }
   },
   "outputs": [
    {
     "name": "stdout",
     "output_type": "stream",
     "text": [
      "('hamiltonian', 'energies', 'coulomb_scaled', 'initial_density_matrix', 'stationary_density_matrix', 'eigenvectors', 'dipole_operator', 'electrons', 'relaxation_rate', 'propagator', 'spin_degeneracy', 'positions')\n"
     ]
    }
   ],
   "source": [
    "args = flake.get_args()\n",
    "print(args._fields)"
   ]
  },
  {
   "cell_type": "markdown",
   "id": "bb2163d8",
   "metadata": {},
   "source": [
    "We can access individual entries"
   ]
  },
  {
   "cell_type": "code",
   "execution_count": 3,
   "id": "04f4f20e",
   "metadata": {
    "execution": {
     "iopub.execute_input": "2024-06-13T10:51:45.568047Z",
     "iopub.status.busy": "2024-06-13T10:51:45.567639Z",
     "iopub.status.idle": "2024-06-13T10:51:45.571449Z",
     "shell.execute_reply": "2024-06-13T10:51:45.570858Z"
    }
   },
   "outputs": [
    {
     "name": "stdout",
     "output_type": "stream",
     "text": [
      "(3, 46, 46)\n"
     ]
    }
   ],
   "source": [
    "print(args.dipole_operator.shape)"
   ]
  },
  {
   "cell_type": "markdown",
   "id": "976d1fcd",
   "metadata": {},
   "source": [
    "The `args` object is a lower-level representation of our OrbitalList object: a collection of numbers and arrays that represent the structure we are simulating."
   ]
  },
  {
   "cell_type": "markdown",
   "id": "1a7fcd08",
   "metadata": {},
   "source": [
    "The time evolution depends on time, the density matrix and the structure we are simulating. This is directly reflected in the signature of a \"term\". As discussed above, a single function in the Hamiltonian\n",
    "looks like `term: time, density_matrix, args -> matrix`."
   ]
  },
  {
   "cell_type": "markdown",
   "id": "dcf557b8",
   "metadata": {},
   "source": [
    "## Computing Terms"
   ]
  },
  {
   "cell_type": "markdown",
   "id": "589659f7",
   "metadata": {},
   "source": [
    "Now that we know everything, we can take out and apply individual terms of the default Hamiltonian. First, let's check that the bare hamiltonian is correct"
   ]
  },
  {
   "cell_type": "code",
   "execution_count": 4,
   "id": "c9391ea3",
   "metadata": {
    "execution": {
     "iopub.execute_input": "2024-06-13T10:51:45.573731Z",
     "iopub.status.busy": "2024-06-13T10:51:45.573372Z",
     "iopub.status.idle": "2024-06-13T10:51:45.617673Z",
     "shell.execute_reply": "2024-06-13T10:51:45.617129Z"
    }
   },
   "outputs": [
    {
     "data": {
      "text/plain": [
       "Array(True, dtype=bool)"
      ]
     },
     "execution_count": 4,
     "metadata": {},
     "output_type": "execute_result"
    }
   ],
   "source": [
    "import jax.numpy as jnp\n",
    "h_bare = hamiltonian_model[\"bare_hamiltonian\"]\n",
    "time = 0.0\n",
    "jnp.all(flake.hamiltonian == h_bare( time, args.initial_density_matrix, args ))"
   ]
  },
  {
   "cell_type": "markdown",
   "id": "fac19ba6",
   "metadata": {},
   "source": [
    "The function just returns the bare hamiltonian, independent of the time and density matrix. Let's compute the coulomb potential at the initial time"
   ]
  },
  {
   "cell_type": "code",
   "execution_count": 5,
   "id": "49f77d77",
   "metadata": {
    "execution": {
     "iopub.execute_input": "2024-06-13T10:51:45.619912Z",
     "iopub.status.busy": "2024-06-13T10:51:45.619699Z",
     "iopub.status.idle": "2024-06-13T10:51:45.686599Z",
     "shell.execute_reply": "2024-06-13T10:51:45.685998Z"
    }
   },
   "outputs": [
    {
     "data": {
      "text/plain": [
       "Array(True, dtype=bool)"
      ]
     },
     "execution_count": 5,
     "metadata": {},
     "output_type": "execute_result"
    }
   ],
   "source": [
    "coulomb = hamiltonian_model[\"coulomb\"]\n",
    "coulomb_matrix = coulomb( time, args.initial_density_matrix, args ) \n",
    "jnp.all( coulomb_matrix == 0.0 )"
   ]
  },
  {
   "cell_type": "markdown",
   "id": "674596a7",
   "metadata": {},
   "source": [
    "Right at the beginning, there is no induced coulomb potential (all entries in the matrix are zero), because the system is initially in its ground state. Last, there is the external potential. Since we do not have transition dipole moments, it will be entirely diagonal"
   ]
  },
  {
   "cell_type": "code",
   "execution_count": 6,
   "id": "1788d794",
   "metadata": {
    "execution": {
     "iopub.execute_input": "2024-06-13T10:51:45.689121Z",
     "iopub.status.busy": "2024-06-13T10:51:45.688779Z",
     "iopub.status.idle": "2024-06-13T10:51:45.718695Z",
     "shell.execute_reply": "2024-06-13T10:51:45.718209Z"
    }
   },
   "outputs": [
    {
     "data": {
      "text/plain": [
       "Array(True, dtype=bool)"
      ]
     },
     "execution_count": 6,
     "metadata": {},
     "output_type": "execute_result"
    }
   ],
   "source": [
    "potential = hamiltonian_model[\"potential\"]\n",
    "potential_matrix = potential( time, args.initial_density_matrix, args )\n",
    "jnp.all( potential_matrix == jnp.diag(potential_matrix.diagonal()) )"
   ]
  },
  {
   "cell_type": "markdown",
   "id": "f8b12adf",
   "metadata": {},
   "source": [
    "## Modelling Terms"
   ]
  },
  {
   "cell_type": "markdown",
   "id": "929f9f01",
   "metadata": {},
   "source": [
    "Now we know how to inject arbitrary terms in the time evolution. We must define a function that"
   ]
  },
  {
   "cell_type": "markdown",
   "id": "f9e73125",
   "metadata": {},
   "source": [
    "1. Accepts `time, density_matrix, args`\n",
    "2. Returns a NxN complex matrix\n",
    "3. Additionally, the function must be JAX-JIT compatible. In essence, use only Python and jax.numpy operations."
   ]
  },
  {
   "cell_type": "markdown",
   "id": "fbc9079f",
   "metadata": {},
   "source": [
    "Then we just insert it in the dictionary, potentially overwriting a default key (remember the keys don't matter, you can add as many functions as you want and name them however you want)."
   ]
  },
  {
   "cell_type": "markdown",
   "id": "c481f7c1",
   "metadata": {},
   "source": [
    "Let's illustrate this at the example of a custom scalar potential. We want to replace the dipole-gauge coupling $E P$ with a scalar potential representing a plane-wave pulse. Let's define this potential first"
   ]
  },
  {
   "cell_type": "code",
   "execution_count": 7,
   "id": "0444ce41",
   "metadata": {
    "execution": {
     "iopub.execute_input": "2024-06-13T10:51:45.721424Z",
     "iopub.status.busy": "2024-06-13T10:51:45.720932Z",
     "iopub.status.idle": "2024-06-13T10:51:45.725232Z",
     "shell.execute_reply": "2024-06-13T10:51:45.724619Z"
    },
    "lines_to_end_of_cell_marker": 0,
    "lines_to_next_cell": 1
   },
   "outputs": [],
   "source": [
    "amplitudes = jnp.array([1e-5, 0, 0])\n",
    "omega = 2*jnp.pi\n",
    "sigma = 1\n",
    "t0 = 4\n",
    "def pulsed_potential( time, density_matrix, args ):\n",
    "    field = (amplitudes * jnp.cos(omega * time) * jnp.exp( -(time-t0)**2 / sigma**2 ) )\n",
    "    diagonal_part = args.positions @ field\n",
    "    return jnp.diag( diagonal_part )"
   ]
  },
  {
   "cell_type": "markdown",
   "id": "aef5add5",
   "metadata": {},
   "source": [
    "Now, we replace the default potential with our custom term, just as we did before in the case of the pulsed dipole."
   ]
  },
  {
   "cell_type": "code",
   "execution_count": 8,
   "id": "d50de7ae",
   "metadata": {
    "execution": {
     "iopub.execute_input": "2024-06-13T10:51:45.727572Z",
     "iopub.status.busy": "2024-06-13T10:51:45.727174Z",
     "iopub.status.idle": "2024-06-13T10:51:45.730628Z",
     "shell.execute_reply": "2024-06-13T10:51:45.730029Z"
    }
   },
   "outputs": [],
   "source": [
    "hamiltonian_model[\"potential\"] = pulsed_potential"
   ]
  },
  {
   "cell_type": "markdown",
   "id": "f36ffc49",
   "metadata": {},
   "source": [
    "To run a time-domain simulation, we just pass the modified hamiltonian dictionary directly, as demonstrated in the first section"
   ]
  },
  {
   "cell_type": "code",
   "execution_count": 9,
   "id": "24994368",
   "metadata": {
    "execution": {
     "iopub.execute_input": "2024-06-13T10:51:45.732953Z",
     "iopub.status.busy": "2024-06-13T10:51:45.732577Z",
     "iopub.status.idle": "2024-06-13T10:51:48.209198Z",
     "shell.execute_reply": "2024-06-13T10:51:48.208581Z"
    }
   },
   "outputs": [
    {
     "name": "stdout",
     "output_type": "stream",
     "text": [
      "RHS compiled\n",
      "RHS compiled\n"
     ]
    },
    {
     "name": "stdout",
     "output_type": "stream",
     "text": [
      "100.0 %\n"
     ]
    },
    {
     "data": {
      "image/png": "[encoded data removed]",
      "text/plain": [
       "<Figure size 640x480 with 1 Axes>"
      ]
     },
     "metadata": {},
     "output_type": "display_data"
    }
   ],
   "source": [
    "result = flake.master_equation( hamiltonian = hamiltonian_model, expectation_values = [flake.dipole_operator], relaxation_rate = 1/10, end_time = 40)\n",
    "flake.show_res( result )"
   ]
  },
  {
   "cell_type": "markdown",
   "id": "b65efeb4",
   "metadata": {},
   "source": [
    "That's it."
   ]
  },
  {
   "cell_type": "markdown",
   "id": "0260339a",
   "metadata": {},
   "source": [
    "## Custom Argument Objects"
   ]
  },
  {
   "cell_type": "markdown",
   "id": "3390cb47",
   "metadata": {},
   "source": [
    "TBD"
   ]
  },
  {
   "cell_type": "markdown",
   "id": "2e1faac8",
   "metadata": {},
   "source": [
    "## Modelling Dissipators"
   ]
  },
  {
   "cell_type": "markdown",
   "id": "9ec656d5",
   "metadata": {},
   "source": [
    "Dissipators work exactly like the Hamiltonian."
   ]
  },
  {
   "cell_type": "markdown",
   "id": "ea703aa8",
   "metadata": {},
   "source": [
    "1. Define a function `diss : time, density_matrix, args -> jax.Array`\n",
    "2. put it in a dictionary `dissipator_model[\"diss\"] = diss`\n",
    "3. Pass `dissipator = dissipator_model` to the integrator function. "
   ]
  },
  {
   "cell_type": "markdown",
   "id": "058e5ac8",
   "metadata": {},
   "source": [
    "You can also get defaults"
   ]
  },
  {
   "cell_type": "code",
   "execution_count": 10,
   "id": "95eae93f",
   "metadata": {
    "execution": {
     "iopub.execute_input": "2024-06-13T10:51:48.212145Z",
     "iopub.status.busy": "2024-06-13T10:51:48.211606Z",
     "iopub.status.idle": "2024-06-13T10:51:48.216353Z",
     "shell.execute_reply": "2024-06-13T10:51:48.215785Z"
    },
    "lines_to_end_of_cell_marker": 0,
    "lines_to_next_cell": 1
   },
   "outputs": [
    {
     "name": "stdout",
     "output_type": "stream",
     "text": [
      "{'decoherence_time': <function DecoherenceTime.<locals>.<lambda> at 0x7f45e7f48720>}\n"
     ]
    }
   ],
   "source": [
    "dissipator_model = flake.get_dissipator(relaxation_rate = 1/10)\n",
    "print( dissipator_model )"
   ]
  },
  {
   "cell_type": "markdown",
   "id": "a0f0f21b",
   "metadata": {},
   "source": [
    "NOTE: just passing this default to the master equation won't work. You have to specify the relaxation rate again. This will likely change in the future, but ows to the separation of computation and data GRANAD tries to adhere to."
   ]
  },
  {
   "cell_type": "markdown",
   "id": "b150ed8d",
   "metadata": {},
   "source": [
    "## Postprocesses"
   ]
  },
  {
   "cell_type": "markdown",
   "id": "589bc672",
   "metadata": {},
   "source": [
    "You can define custom postprocesses. These are functions with the signature `postprocess : density_matrix_batch, args -> array`. The `density_matrix_batch` is an array of shape `TxNxN`, where `T` encodes time."
   ]
  },
  {
   "cell_type": "markdown",
   "id": "5119538a",
   "metadata": {},
   "source": [
    "For example, if you are only interested in the occupation of the 0-th state"
   ]
  },
  {
   "cell_type": "code",
   "execution_count": 11,
   "id": "06f587ad",
   "metadata": {
    "execution": {
     "iopub.execute_input": "2024-06-13T10:51:48.218635Z",
     "iopub.status.busy": "2024-06-13T10:51:48.218265Z",
     "iopub.status.idle": "2024-06-13T10:51:48.221383Z",
     "shell.execute_reply": "2024-06-13T10:51:48.220884Z"
    },
    "lines_to_end_of_cell_marker": 0,
    "lines_to_next_cell": 1
   },
   "outputs": [],
   "source": [
    "def extract_element(density_matrices, args):\n",
    "    return density_matrices[:,0,0]"
   ]
  },
  {
   "cell_type": "code",
   "execution_count": 12,
   "id": "017f98e0",
   "metadata": {
    "execution": {
     "iopub.execute_input": "2024-06-13T10:51:48.223526Z",
     "iopub.status.busy": "2024-06-13T10:51:48.223160Z",
     "iopub.status.idle": "2024-06-13T10:51:49.292512Z",
     "shell.execute_reply": "2024-06-13T10:51:49.291950Z"
    }
   },
   "outputs": [
    {
     "name": "stdout",
     "output_type": "stream",
     "text": [
      "RHS compiled\n",
      "RHS compiled\n"
     ]
    },
    {
     "name": "stdout",
     "output_type": "stream",
     "text": [
      "100.0 %\n",
      "(4000,)\n"
     ]
    }
   ],
   "source": [
    "result = flake.master_equation( postprocesses = {\"element\" : extract_element},  relaxation_rate = 1/10, end_time = 40 )\n",
    "print(result.output[0].shape)"
   ]
  }
 ],
 "metadata": {
  "kernelspec": {
   "display_name": "base",
   "language": "python",
   "name": "base"
  },
  "language_info": {
   "codemirror_mode": {
    "name": "ipython",
    "version": 3
   },
   "file_extension": ".py",
   "mimetype": "text/x-python",
   "name": "python",
   "nbconvert_exporter": "python",
   "pygments_lexer": "ipython3",
   "version": "3.12.3"
  }
 },
 "nbformat": 4,
 "nbformat_minor": 5
}
