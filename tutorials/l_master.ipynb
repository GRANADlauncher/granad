{
 "cells": [
  {
   "cell_type": "markdown",
   "id": "c7428a26",
   "metadata": {},
   "source": [
    "# Custom Time Evolution\n",
    "\n",
    "GRANAD lets you customize the Master Equation you simulate and extract any information from it."
   ]
  },
  {
   "cell_type": "markdown",
   "id": "6442c322",
   "metadata": {},
   "source": [
    "*Note*: Please consult the tutorial on potentials first."
   ]
  },
  {
   "cell_type": "markdown",
   "id": "1c44b185",
   "metadata": {},
   "source": [
    "*Note*: While a bit more complicated, this tutorial can help you make your simulations not only more versatile, but also increase their efficiency."
   ]
  },
  {
   "cell_type": "markdown",
   "id": "30fa8d5e",
   "metadata": {},
   "source": [
    "## Hamiltonian"
   ]
  },
  {
   "cell_type": "markdown",
   "id": "6d51b396",
   "metadata": {},
   "source": [
    "When calling the integration for the master equation, you can give an optional argument, `hamiltonian`. As already discussed, this argument represents a Hamiltonian as a dictionary of functions."
   ]
  },
  {
   "cell_type": "markdown",
   "id": "683af09b",
   "metadata": {},
   "source": [
    "Up to now, we  wanted to use custom potentials, so we  added them to the dictionary. Let's look more closely at what is going on by considering a flake under plane wave illumination."
   ]
  },
  {
   "cell_type": "code",
   "execution_count": 1,
   "id": "84a567cf",
   "metadata": {
    "execution": {
     "iopub.execute_input": "2025-01-28T08:01:20.043667Z",
     "iopub.status.busy": "2025-01-28T08:01:20.043223Z",
     "iopub.status.idle": "2025-01-28T08:01:24.422824Z",
     "shell.execute_reply": "2025-01-28T08:01:24.422180Z"
    }
   },
   "outputs": [
    {
     "name": "stdout",
     "output_type": "stream",
     "text": [
      "dict_keys(['bare_hamiltonian', 'coulomb', 'potential'])\n"
     ]
    }
   ],
   "source": [
    "from granad import MaterialCatalog, Triangle, Wave\n",
    "flake = MaterialCatalog.get( \"graphene\" ).cut_flake( Triangle(15)  )\n",
    "wave = Wave( amplitudes = [1.0, 0., 0.], frequency = 1.0 )\n",
    "hamiltonian_model = flake.get_hamiltonian(illumination = wave)\n",
    "print(hamiltonian_model.keys())"
   ]
  },
  {
   "cell_type": "markdown",
   "id": "4175fd01",
   "metadata": {},
   "source": [
    "As discussed, the default Hamiltonian  has three terms:"
   ]
  },
  {
   "cell_type": "markdown",
   "id": "c0e82bd2",
   "metadata": {},
   "source": [
    "1. a bare hamiltonian.\n",
    "2. an induced coulomb interaction.\n",
    "3. an external potential."
   ]
  },
  {
   "cell_type": "markdown",
   "id": "a568ae12",
   "metadata": {},
   "source": [
    "Each of these terms is represented by a function. Every function accepts the following three arguments:"
   ]
  },
  {
   "cell_type": "markdown",
   "id": "d4007fd9",
   "metadata": {},
   "source": [
    "1. time\n",
    "2. the density matrix at this time\n",
    "3. an argument object `args`. It contains all required \"static\" information, like relaxation rates, energies or operators in the Schrödinger picture."
   ]
  },
  {
   "cell_type": "markdown",
   "id": "00dd7a80",
   "metadata": {},
   "source": [
    "Every function maps these arguments to a complex matrix. Before running a simulation, the functions in the dictionary get turned into a list `func_list`. "
   ]
  },
  {
   "cell_type": "markdown",
   "id": "5ec4b564",
   "metadata": {},
   "source": [
    "The matrix representation of the Hamiltonian is then given by applying and adding these functions, like so `H[time] = sum( f(times[time], density_matrix[time], args) for f in func_list )`."
   ]
  },
  {
   "cell_type": "markdown",
   "id": "cd061e81",
   "metadata": {},
   "source": [
    "## Argument Objects"
   ]
  },
  {
   "cell_type": "markdown",
   "id": "f12f72bc",
   "metadata": {},
   "source": [
    "The `args` object is a named tuple (like a struct in the C programming language) and we can inspect its contents by looking at its fields "
   ]
  },
  {
   "cell_type": "code",
   "execution_count": 2,
   "id": "9ba57d7e",
   "metadata": {
    "execution": {
     "iopub.execute_input": "2025-01-28T08:01:24.425056Z",
     "iopub.status.busy": "2025-01-28T08:01:24.424769Z",
     "iopub.status.idle": "2025-01-28T08:01:26.365532Z",
     "shell.execute_reply": "2025-01-28T08:01:26.364900Z"
    }
   },
   "outputs": [
    {
     "name": "stdout",
     "output_type": "stream",
     "text": [
      "('hamiltonian', 'energies', 'coulomb_scaled', 'initial_density_matrix', 'stationary_density_matrix', 'eigenvectors', 'dipole_operator', 'electrons', 'relaxation_rate', 'propagator', 'spin_degeneracy', 'positions')\n"
     ]
    }
   ],
   "source": [
    "args = flake.get_args()\n",
    "print(args._fields)"
   ]
  },
  {
   "cell_type": "markdown",
   "id": "116e5a6a",
   "metadata": {},
   "source": [
    "We can access individual entries"
   ]
  },
  {
   "cell_type": "code",
   "execution_count": 3,
   "id": "ab9497d4",
   "metadata": {
    "execution": {
     "iopub.execute_input": "2025-01-28T08:01:26.367458Z",
     "iopub.status.busy": "2025-01-28T08:01:26.367225Z",
     "iopub.status.idle": "2025-01-28T08:01:26.370718Z",
     "shell.execute_reply": "2025-01-28T08:01:26.370119Z"
    }
   },
   "outputs": [
    {
     "name": "stdout",
     "output_type": "stream",
     "text": [
      "(3, 46, 46)\n"
     ]
    }
   ],
   "source": [
    "print(args.dipole_operator.shape)"
   ]
  },
  {
   "cell_type": "markdown",
   "id": "952b35a0",
   "metadata": {},
   "source": [
    "The `args` object is a lower-level representation of the OrbitalList object: a collection of numbers and arrays that represent the structure."
   ]
  },
  {
   "cell_type": "markdown",
   "id": "27be9fe5",
   "metadata": {},
   "source": [
    "The evolution is determined by the Hamiltonian. It is given by an addition of functions. Each of these functions depends on time, the density matrix and the simulated structure. So, a single function representing a term in the Hamiltonian has the following signature `term: time, density_matrix, args -> matrix`."
   ]
  },
  {
   "cell_type": "markdown",
   "id": "459536e2",
   "metadata": {},
   "source": [
    "## Computing Terms"
   ]
  },
  {
   "cell_type": "markdown",
   "id": "83d2b1a2",
   "metadata": {},
   "source": [
    "Individual terms of the default Hamiltonian can be inspected and since these are functions, applied to arguments. First, consider the bare Hamiltonian"
   ]
  },
  {
   "cell_type": "code",
   "execution_count": 4,
   "id": "620f824c",
   "metadata": {
    "execution": {
     "iopub.execute_input": "2025-01-28T08:01:26.372624Z",
     "iopub.status.busy": "2025-01-28T08:01:26.372183Z",
     "iopub.status.idle": "2025-01-28T08:01:26.417606Z",
     "shell.execute_reply": "2025-01-28T08:01:26.417067Z"
    }
   },
   "outputs": [
    {
     "data": {
      "text/plain": [
       "Array(True, dtype=bool)"
      ]
     },
     "execution_count": 4,
     "metadata": {},
     "output_type": "execute_result"
    }
   ],
   "source": [
    "import jax.numpy as jnp\n",
    "h_bare = hamiltonian_model[\"bare_hamiltonian\"]\n",
    "time = 0.0\n",
    "jnp.all(flake.hamiltonian == h_bare( time, args.initial_density_matrix, args ))"
   ]
  },
  {
   "cell_type": "markdown",
   "id": "e12aed94",
   "metadata": {},
   "source": [
    "The function returns the bare Hamiltonian, independent of the time and density matrix. Let's compute the Coulomb potential at the initial time"
   ]
  },
  {
   "cell_type": "code",
   "execution_count": 5,
   "id": "c14d7e48",
   "metadata": {
    "execution": {
     "iopub.execute_input": "2025-01-28T08:01:26.419288Z",
     "iopub.status.busy": "2025-01-28T08:01:26.419120Z",
     "iopub.status.idle": "2025-01-28T08:01:26.487648Z",
     "shell.execute_reply": "2025-01-28T08:01:26.487105Z"
    }
   },
   "outputs": [
    {
     "data": {
      "text/plain": [
       "Array(True, dtype=bool)"
      ]
     },
     "execution_count": 5,
     "metadata": {},
     "output_type": "execute_result"
    }
   ],
   "source": [
    "coulomb = hamiltonian_model[\"coulomb\"]\n",
    "coulomb_matrix = coulomb( time, args.initial_density_matrix, args ) \n",
    "jnp.all( coulomb_matrix == 0.0 )"
   ]
  },
  {
   "cell_type": "markdown",
   "id": "555b0c33",
   "metadata": {},
   "source": [
    "At the start of the simulation, there is no induced Coulomb potential (all entries in the matrix are zero), because the system is in its ground state."
   ]
  },
  {
   "cell_type": "markdown",
   "id": "280920b6",
   "metadata": {},
   "source": [
    "Last, there is the external potential. Since no transition dipole moments are considered, it will be entirely diagonal in site basis"
   ]
  },
  {
   "cell_type": "code",
   "execution_count": 6,
   "id": "fb602dbe",
   "metadata": {
    "execution": {
     "iopub.execute_input": "2025-01-28T08:01:26.489613Z",
     "iopub.status.busy": "2025-01-28T08:01:26.489226Z",
     "iopub.status.idle": "2025-01-28T08:01:26.519130Z",
     "shell.execute_reply": "2025-01-28T08:01:26.518605Z"
    }
   },
   "outputs": [
    {
     "data": {
      "text/plain": [
       "Array(True, dtype=bool)"
      ]
     },
     "execution_count": 6,
     "metadata": {},
     "output_type": "execute_result"
    }
   ],
   "source": [
    "potential = hamiltonian_model[\"potential\"]\n",
    "potential_matrix = potential( time, args.initial_density_matrix, args )\n",
    "jnp.all( potential_matrix == jnp.diag(potential_matrix.diagonal()) )"
   ]
  },
  {
   "cell_type": "markdown",
   "id": "d198d066",
   "metadata": {},
   "source": [
    "## Modelling Terms"
   ]
  },
  {
   "cell_type": "markdown",
   "id": "365dd8f1",
   "metadata": {},
   "source": [
    "To include arbitrary terms in the time evolution, we define a function that"
   ]
  },
  {
   "cell_type": "markdown",
   "id": "2fa0a76e",
   "metadata": {},
   "source": [
    "1. Accepts `time, density_matrix, args`\n",
    "2. Returns a NxN complex matrix\n",
    "3. Additionally, the function must be JAX-JIT compatible. In essence, only Python and jax.numpy operations must be used."
   ]
  },
  {
   "cell_type": "markdown",
   "id": "792a0897",
   "metadata": {},
   "source": [
    "Then, we insert it in the dictionary, potentially overwriting a default key."
   ]
  },
  {
   "cell_type": "markdown",
   "id": "e559704d",
   "metadata": {},
   "source": [
    "Let's illustrate this at the example of a custom scalar potential. We want to replace the dipole-gauge coupling $\\vec{E} \\vec{P}$ with a scalar potential representing a plane-wave pulse. Let's define this potential first"
   ]
  },
  {
   "cell_type": "code",
   "execution_count": 7,
   "id": "d0de65dc",
   "metadata": {
    "execution": {
     "iopub.execute_input": "2025-01-28T08:01:26.521397Z",
     "iopub.status.busy": "2025-01-28T08:01:26.520823Z",
     "iopub.status.idle": "2025-01-28T08:01:26.525115Z",
     "shell.execute_reply": "2025-01-28T08:01:26.524462Z"
    },
    "lines_to_end_of_cell_marker": 0,
    "lines_to_next_cell": 1
   },
   "outputs": [],
   "source": [
    "amplitudes = jnp.array([1e-5, 0, 0])\n",
    "omega = 2*jnp.pi\n",
    "sigma = 1\n",
    "t0 = 4\n",
    "def pulsed_potential( time, density_matrix, args ):\n",
    "    field = (amplitudes * jnp.cos(omega * time) * jnp.exp( -(time-t0)**2 / sigma**2 ) )\n",
    "    diagonal_part = args.positions @ field\n",
    "    return jnp.diag( diagonal_part )"
   ]
  },
  {
   "cell_type": "markdown",
   "id": "4e23f158",
   "metadata": {},
   "source": [
    "Now, we replace the default potential with our custom term,  as we did before in the case of the pulsed dipole."
   ]
  },
  {
   "cell_type": "code",
   "execution_count": 8,
   "id": "85cd2b99",
   "metadata": {
    "execution": {
     "iopub.execute_input": "2025-01-28T08:01:26.526933Z",
     "iopub.status.busy": "2025-01-28T08:01:26.526560Z",
     "iopub.status.idle": "2025-01-28T08:01:26.529634Z",
     "shell.execute_reply": "2025-01-28T08:01:26.529132Z"
    }
   },
   "outputs": [],
   "source": [
    "hamiltonian_model[\"potential\"] = pulsed_potential"
   ]
  },
  {
   "cell_type": "markdown",
   "id": "ebfd8834",
   "metadata": {},
   "source": [
    "To run a time-domain simulation, we  pass the modified Hamiltonian dictionary directly, as demonstrated in the first section"
   ]
  },
  {
   "cell_type": "code",
   "execution_count": 9,
   "id": "fc52ba89",
   "metadata": {
    "execution": {
     "iopub.execute_input": "2025-01-28T08:01:26.531413Z",
     "iopub.status.busy": "2025-01-28T08:01:26.531048Z",
     "iopub.status.idle": "2025-01-28T08:01:29.165880Z",
     "shell.execute_reply": "2025-01-28T08:01:29.165261Z"
    }
   },
   "outputs": [
    {
     "name": "stdout",
     "output_type": "stream",
     "text": [
      "RHS compiled\n",
      "RHS compiled\n"
     ]
    },
    {
     "name": "stdout",
     "output_type": "stream",
     "text": [
      "100.0 %\n"
     ]
    },
    {
     "name": "stderr",
     "output_type": "stream",
     "text": [
      "No artists with labels found to put in legend.  Note that artists whose label start with an underscore are ignored when legend() is called with no argument.\n"
     ]
    },
    {
     "data": {
      "image/png": "[encoded data removed]",
      "text/plain": [
       "<Figure size 640x480 with 1 Axes>"
      ]
     },
     "metadata": {},
     "output_type": "display_data"
    }
   ],
   "source": [
    "result = flake.master_equation( hamiltonian = hamiltonian_model, expectation_values = [flake.dipole_operator], relaxation_rate = 1/10, end_time = 40)\n",
    "flake.show_res( result )"
   ]
  },
  {
   "cell_type": "markdown",
   "id": "25a3ef1b",
   "metadata": {},
   "source": [
    "## Modelling Dissipators"
   ]
  },
  {
   "cell_type": "markdown",
   "id": "c60a8c80",
   "metadata": {},
   "source": [
    "Dissipators are modelled as functions with the same signature as terms in the Hamiltonian, i.e. to model a custom dissipator"
   ]
  },
  {
   "cell_type": "markdown",
   "id": "fb803e5e",
   "metadata": {},
   "source": [
    "1. Define a function `diss : time, density_matrix, args -> jax.Array`\n",
    "2. put it in a dictionary `dissipator_model[\"diss\"] = diss`\n",
    "3. Pass `dissipator = dissipator_model` to the integrator function. "
   ]
  },
  {
   "cell_type": "markdown",
   "id": "752fad7b",
   "metadata": {},
   "source": [
    "You can also get defaults"
   ]
  },
  {
   "cell_type": "code",
   "execution_count": 10,
   "id": "1fd45038",
   "metadata": {
    "execution": {
     "iopub.execute_input": "2025-01-28T08:01:29.167916Z",
     "iopub.status.busy": "2025-01-28T08:01:29.167544Z",
     "iopub.status.idle": "2025-01-28T08:01:29.171117Z",
     "shell.execute_reply": "2025-01-28T08:01:29.170636Z"
    },
    "lines_to_end_of_cell_marker": 0,
    "lines_to_next_cell": 1
   },
   "outputs": [
    {
     "name": "stdout",
     "output_type": "stream",
     "text": [
      "{'decoherence_time': <function DecoherenceTime.<locals>.<lambda> at 0x7f59a01bf560>}\n"
     ]
    }
   ],
   "source": [
    "dissipator_model = flake.get_dissipator(relaxation_rate = 1/10)\n",
    "print( dissipator_model )"
   ]
  },
  {
   "cell_type": "markdown",
   "id": "44dec055",
   "metadata": {},
   "source": [
    "NOTE: To pass the dissipator above to the `master_equation` method, you have to specify the relaxation rate again. "
   ]
  },
  {
   "cell_type": "markdown",
   "id": "e18afa4f",
   "metadata": {},
   "source": [
    "## Postprocesses"
   ]
  },
  {
   "cell_type": "markdown",
   "id": "eacc700e",
   "metadata": {},
   "source": [
    "You can define custom postprocesses. These are functions with the signature `postprocess : density_matrix_batch, args -> array`. The `density_matrix_batch` is an array of shape `TxNxN`, where `T` encodes time."
   ]
  },
  {
   "cell_type": "markdown",
   "id": "ebb153f9",
   "metadata": {},
   "source": [
    "For example, if you are only interested in the occupation of the 0-th state"
   ]
  },
  {
   "cell_type": "code",
   "execution_count": 11,
   "id": "58b67b07",
   "metadata": {
    "execution": {
     "iopub.execute_input": "2025-01-28T08:01:29.173035Z",
     "iopub.status.busy": "2025-01-28T08:01:29.172622Z",
     "iopub.status.idle": "2025-01-28T08:01:29.175616Z",
     "shell.execute_reply": "2025-01-28T08:01:29.175031Z"
    },
    "lines_to_end_of_cell_marker": 0,
    "lines_to_next_cell": 1
   },
   "outputs": [],
   "source": [
    "def extract_element(density_matrices, args):\n",
    "    return density_matrices[:,0,0]"
   ]
  },
  {
   "cell_type": "code",
   "execution_count": 12,
   "id": "a48e23e6",
   "metadata": {
    "execution": {
     "iopub.execute_input": "2025-01-28T08:01:29.177408Z",
     "iopub.status.busy": "2025-01-28T08:01:29.177050Z",
     "iopub.status.idle": "2025-01-28T08:01:30.231342Z",
     "shell.execute_reply": "2025-01-28T08:01:30.230788Z"
    }
   },
   "outputs": [
    {
     "name": "stdout",
     "output_type": "stream",
     "text": [
      "RHS compiled\n",
      "RHS compiled\n"
     ]
    },
    {
     "name": "stdout",
     "output_type": "stream",
     "text": [
      "100.0 %\n",
      "(4000,)\n"
     ]
    }
   ],
   "source": [
    "result = flake.master_equation( postprocesses = {\"element\" : extract_element},  relaxation_rate = 1/10, end_time = 40 )\n",
    "print(result.output[0].shape)"
   ]
  }
 ],
 "metadata": {
  "kernelspec": {
   "display_name": "base",
   "language": "python",
   "name": "base"
  },
  "language_info": {
   "codemirror_mode": {
    "name": "ipython",
    "version": 3
   },
   "file_extension": ".py",
   "mimetype": "text/x-python",
   "name": "python",
   "nbconvert_exporter": "python",
   "pygments_lexer": "ipython3",
   "version": "3.12.8"
  }
 },
 "nbformat": 4,
 "nbformat_minor": 5
}
