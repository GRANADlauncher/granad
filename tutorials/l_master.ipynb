{
 "cells": [
  {
   "cell_type": "markdown",
   "id": "8cd9b98c",
   "metadata": {},
   "source": [
    "# Custom Time Evolution\n",
    "\n",
    "GRANAD lets you customize the Master Equation you simulate and extract any information from it."
   ]
  },
  {
   "cell_type": "markdown",
   "id": "6fda95bb",
   "metadata": {},
   "source": [
    "*Note*: Please consult the tutorial on potentials first."
   ]
  },
  {
   "cell_type": "markdown",
   "id": "e8fe99d5",
   "metadata": {},
   "source": [
    "*Note*: While a bit more complicated, this tutorial can help you make your simulations not only more versatile, but also increase their efficiency."
   ]
  },
  {
   "cell_type": "markdown",
   "id": "9cb27ce4",
   "metadata": {},
   "source": [
    "*Note*: This is still rough. In the future, I might package the functions into a \"Term\" object or sth like that, but this will be purely cosmetic. The underlying functions won't change."
   ]
  },
  {
   "cell_type": "markdown",
   "id": "9d431d29",
   "metadata": {},
   "source": [
    "## Hamiltonian"
   ]
  },
  {
   "cell_type": "markdown",
   "id": "7076ee33",
   "metadata": {},
   "source": [
    "When calling the integration for the master equation, you can give an optional argument, `hamiltonian`. As already discussed, this argument represents a Hamiltonian as a dictionary of functions."
   ]
  },
  {
   "cell_type": "markdown",
   "id": "87a0ed89",
   "metadata": {},
   "source": [
    "Up to now, we just wanted to use custom potentials, so we simply added them to the dictionary. Let's look more closely at what is going on by considering a flake under CW illumination."
   ]
  },
  {
   "cell_type": "code",
   "execution_count": 1,
   "id": "cb4bd157",
   "metadata": {
    "execution": {
     "iopub.execute_input": "2024-05-24T17:11:11.245246Z",
     "iopub.status.busy": "2024-05-24T17:11:11.245050Z",
     "iopub.status.idle": "2024-05-24T17:11:15.585518Z",
     "shell.execute_reply": "2024-05-24T17:11:15.584900Z"
    }
   },
   "outputs": [
    {
     "name": "stdout",
     "output_type": "stream",
     "text": [
      "dict_keys(['bare_hamiltonian', 'coulomb', 'potential'])\n"
     ]
    }
   ],
   "source": [
    "from granad import MaterialCatalog, Triangle, Wave\n",
    "flake = MaterialCatalog.get( \"graphene\" ).cut_flake( Triangle(15)  )\n",
    "wave = Wave( amplitudes = [1.0, 0., 0.], frequency = 1.0 )\n",
    "hamiltonian_model = flake.get_hamiltonian(illumination = wave)\n",
    "print(hamiltonian_model.keys())"
   ]
  },
  {
   "cell_type": "markdown",
   "id": "dc7c4d71",
   "metadata": {},
   "source": [
    "As discussed, the default Hamiltonian just has three terms:"
   ]
  },
  {
   "cell_type": "markdown",
   "id": "8d0ff42e",
   "metadata": {},
   "source": [
    "1. a bare hamiltonian.\n",
    "2. an induced coulomb interaction.\n",
    "3. an external potential."
   ]
  },
  {
   "cell_type": "markdown",
   "id": "307740f9",
   "metadata": {},
   "source": [
    "Each of these terms is represented by a function. Every function accepts the following three arguments:"
   ]
  },
  {
   "cell_type": "markdown",
   "id": "143b915d",
   "metadata": {},
   "source": [
    "1. time\n",
    "2. the density matrix at this time\n",
    "3. an argument object `args`. It contains all required \"static\" information, like relaxation rates, energies or operators (remember we use the Schrödinger picture, so, e.g. the dipole operator does not depend on time)."
   ]
  },
  {
   "cell_type": "markdown",
   "id": "6b23b86d",
   "metadata": {},
   "source": [
    "Every function maps these arguments to a complex matrix. Before running a simulation, the functions in the dictionary get turned into a list `func_list`. "
   ]
  },
  {
   "cell_type": "markdown",
   "id": "154be1fe",
   "metadata": {},
   "source": [
    "The matrix representation of the Hamiltonian is then given by applying and adding these functions, like so `H[time] = sum( f(times[time], density_matrix[time], args) for f in func_list )`."
   ]
  },
  {
   "cell_type": "markdown",
   "id": "b6efccd8",
   "metadata": {},
   "source": [
    "## Argument Objects"
   ]
  },
  {
   "cell_type": "markdown",
   "id": "2bf472b0",
   "metadata": {},
   "source": [
    "What does the `args` object contain, exactly? We can create this object ourselves. It is just a named tuple (like a C struct) and we can inspect its contents by looking at its fields "
   ]
  },
  {
   "cell_type": "code",
   "execution_count": 2,
   "id": "195e755c",
   "metadata": {
    "execution": {
     "iopub.execute_input": "2024-05-24T17:11:15.588656Z",
     "iopub.status.busy": "2024-05-24T17:11:15.588062Z",
     "iopub.status.idle": "2024-05-24T17:11:17.478006Z",
     "shell.execute_reply": "2024-05-24T17:11:17.477460Z"
    }
   },
   "outputs": [
    {
     "name": "stdout",
     "output_type": "stream",
     "text": [
      "('hamiltonian', 'energies', 'coulomb_scaled', 'initial_density_matrix', 'stationary_density_matrix', 'eigenvectors', 'dipole_operator', 'electrons', 'relaxation_rate', 'propagator', 'spin_degeneracy', 'positions')\n"
     ]
    }
   ],
   "source": [
    "args = flake.get_args()\n",
    "print(args._fields)"
   ]
  },
  {
   "cell_type": "markdown",
   "id": "83d9d45c",
   "metadata": {},
   "source": [
    "We can access individual entries"
   ]
  },
  {
   "cell_type": "code",
   "execution_count": 3,
   "id": "6cae26fc",
   "metadata": {
    "execution": {
     "iopub.execute_input": "2024-05-24T17:11:17.480575Z",
     "iopub.status.busy": "2024-05-24T17:11:17.480186Z",
     "iopub.status.idle": "2024-05-24T17:11:17.484112Z",
     "shell.execute_reply": "2024-05-24T17:11:17.483343Z"
    }
   },
   "outputs": [
    {
     "name": "stdout",
     "output_type": "stream",
     "text": [
      "(3, 46, 46)\n"
     ]
    }
   ],
   "source": [
    "print(args.dipole_operator.shape)"
   ]
  },
  {
   "cell_type": "markdown",
   "id": "45699788",
   "metadata": {},
   "source": [
    "The `args` object is a lower-level representation of our OrbitalList object: a collection of numbers and arrays that represent the structure we are simulating."
   ]
  },
  {
   "cell_type": "markdown",
   "id": "bc2d48aa",
   "metadata": {},
   "source": [
    "The time evolution depends on time, the density matrix and the structure we are simulating. This is directly reflected in the signature of a \"term\". As discussed above, a single function in the Hamiltonian\n",
    "looks like `term: time, density_matrix, args -> matrix`."
   ]
  },
  {
   "cell_type": "markdown",
   "id": "c60f3902",
   "metadata": {},
   "source": [
    "## Computing Terms"
   ]
  },
  {
   "cell_type": "markdown",
   "id": "c2d9b09c",
   "metadata": {},
   "source": [
    "Now that we know everything, we can take out and apply individual terms of the default Hamiltonian. First, let's check that the bare hamiltonian is correct"
   ]
  },
  {
   "cell_type": "code",
   "execution_count": 4,
   "id": "4bc15fa6",
   "metadata": {
    "execution": {
     "iopub.execute_input": "2024-05-24T17:11:17.486759Z",
     "iopub.status.busy": "2024-05-24T17:11:17.486254Z",
     "iopub.status.idle": "2024-05-24T17:11:17.531543Z",
     "shell.execute_reply": "2024-05-24T17:11:17.530862Z"
    }
   },
   "outputs": [
    {
     "data": {
      "text/plain": [
       "Array(True, dtype=bool)"
      ]
     },
     "execution_count": 4,
     "metadata": {},
     "output_type": "execute_result"
    }
   ],
   "source": [
    "import jax.numpy as jnp\n",
    "h_bare = hamiltonian_model[\"bare_hamiltonian\"]\n",
    "time = 0.0\n",
    "jnp.all(flake.hamiltonian == h_bare( time, args.initial_density_matrix, args ))"
   ]
  },
  {
   "cell_type": "markdown",
   "id": "cd5196a4",
   "metadata": {},
   "source": [
    "The function just returns the bare hamiltonian, independent of the time and density matrix. Let's compute the coulomb potential at the initial time"
   ]
  },
  {
   "cell_type": "code",
   "execution_count": 5,
   "id": "eec7e945",
   "metadata": {
    "execution": {
     "iopub.execute_input": "2024-05-24T17:11:17.534234Z",
     "iopub.status.busy": "2024-05-24T17:11:17.533770Z",
     "iopub.status.idle": "2024-05-24T17:11:17.601275Z",
     "shell.execute_reply": "2024-05-24T17:11:17.600682Z"
    }
   },
   "outputs": [
    {
     "data": {
      "text/plain": [
       "Array(True, dtype=bool)"
      ]
     },
     "execution_count": 5,
     "metadata": {},
     "output_type": "execute_result"
    }
   ],
   "source": [
    "coulomb = hamiltonian_model[\"coulomb\"]\n",
    "coulomb_matrix = coulomb( time, args.initial_density_matrix, args ) \n",
    "jnp.all( coulomb_matrix == 0.0 )"
   ]
  },
  {
   "cell_type": "markdown",
   "id": "4ffcb3a8",
   "metadata": {},
   "source": [
    "Right at the beginning, there is no induced coulomb potential (all entries in the matrix are zero), because the system is initially in its ground state. Last, there is the external potential. Since we do not have transition dipole moments, it will be entirely diagonal"
   ]
  },
  {
   "cell_type": "code",
   "execution_count": 6,
   "id": "00e05eaf",
   "metadata": {
    "execution": {
     "iopub.execute_input": "2024-05-24T17:11:17.603935Z",
     "iopub.status.busy": "2024-05-24T17:11:17.603425Z",
     "iopub.status.idle": "2024-05-24T17:11:17.633762Z",
     "shell.execute_reply": "2024-05-24T17:11:17.633157Z"
    }
   },
   "outputs": [
    {
     "data": {
      "text/plain": [
       "Array(True, dtype=bool)"
      ]
     },
     "execution_count": 6,
     "metadata": {},
     "output_type": "execute_result"
    }
   ],
   "source": [
    "potential = hamiltonian_model[\"potential\"]\n",
    "potential_matrix = potential( time, args.initial_density_matrix, args )\n",
    "jnp.all( potential_matrix == jnp.diag(potential_matrix.diagonal()) )"
   ]
  },
  {
   "cell_type": "markdown",
   "id": "57ffe775",
   "metadata": {},
   "source": [
    "## Modelling Terms"
   ]
  },
  {
   "cell_type": "markdown",
   "id": "de0d3c9d",
   "metadata": {},
   "source": [
    "Now we know how to inject arbitrary terms in the time evolution. We must define a function that"
   ]
  },
  {
   "cell_type": "markdown",
   "id": "e317013a",
   "metadata": {},
   "source": [
    "1. Accepts `time, density_matrix, args`\n",
    "2. Returns a NxN complex matrix\n",
    "3. Additionally, the function must be JAX-JIT compatible. In essence, use only Python and jax.numpy operations."
   ]
  },
  {
   "cell_type": "markdown",
   "id": "9c5d99a4",
   "metadata": {},
   "source": [
    "Then we just insert it in the dictionary, potentially overwriting a default key (remember the keys don't matter, you can add as many functions as you want and name them however you want)."
   ]
  },
  {
   "cell_type": "markdown",
   "id": "099c26ea",
   "metadata": {},
   "source": [
    "Let's illustrate this at the example of a custom scalar potential. We want to replace the dipole-gauge coupling $E P$ with a scalar potential representing a plane-wave pulse. Let's define this potential first"
   ]
  },
  {
   "cell_type": "code",
   "execution_count": 7,
   "id": "35963b2c",
   "metadata": {
    "execution": {
     "iopub.execute_input": "2024-05-24T17:11:17.636504Z",
     "iopub.status.busy": "2024-05-24T17:11:17.636163Z",
     "iopub.status.idle": "2024-05-24T17:11:17.640624Z",
     "shell.execute_reply": "2024-05-24T17:11:17.640046Z"
    },
    "lines_to_end_of_cell_marker": 0,
    "lines_to_next_cell": 1
   },
   "outputs": [],
   "source": [
    "amplitudes = jnp.array([1e-5, 0, 0])\n",
    "omega = 2*jnp.pi\n",
    "sigma = 1\n",
    "t0 = 4\n",
    "def pulsed_potential( time, density_matrix, args ):\n",
    "    field = (amplitudes * jnp.cos(omega * time) * jnp.exp( -(time-t0)**2 / sigma**2 ) )\n",
    "    diagonal_part = args.positions @ field\n",
    "    return jnp.diag( diagonal_part )"
   ]
  },
  {
   "cell_type": "markdown",
   "id": "6f8bc770",
   "metadata": {},
   "source": [
    "Now, we replace the default potential with our custom term, just as we did before in the case of the pulsed dipole."
   ]
  },
  {
   "cell_type": "code",
   "execution_count": 8,
   "id": "fb268790",
   "metadata": {
    "execution": {
     "iopub.execute_input": "2024-05-24T17:11:17.643114Z",
     "iopub.status.busy": "2024-05-24T17:11:17.642765Z",
     "iopub.status.idle": "2024-05-24T17:11:17.645944Z",
     "shell.execute_reply": "2024-05-24T17:11:17.645297Z"
    }
   },
   "outputs": [],
   "source": [
    "hamiltonian_model[\"potential\"] = pulsed_potential"
   ]
  },
  {
   "cell_type": "markdown",
   "id": "158a80c5",
   "metadata": {},
   "source": [
    "To run a time-domain simulation, we just pass the modified hamiltonian dictionary directly, as demonstrated in the first section"
   ]
  },
  {
   "cell_type": "code",
   "execution_count": 9,
   "id": "d678b429",
   "metadata": {
    "execution": {
     "iopub.execute_input": "2024-05-24T17:11:17.648241Z",
     "iopub.status.busy": "2024-05-24T17:11:17.647884Z",
     "iopub.status.idle": "2024-05-24T17:11:19.472701Z",
     "shell.execute_reply": "2024-05-24T17:11:19.472082Z"
    }
   },
   "outputs": [
    {
     "name": "stdout",
     "output_type": "stream",
     "text": [
      "RHS compiled\n",
      "RHS compiled\n"
     ]
    },
    {
     "name": "stdout",
     "output_type": "stream",
     "text": [
      "100.0 %\n"
     ]
    },
    {
     "data": {
      "image/png": "[encoded data removed]",
      "text/plain": [
       "<Figure size 640x480 with 1 Axes>"
      ]
     },
     "metadata": {},
     "output_type": "display_data"
    }
   ],
   "source": [
    "result = flake.master_equation( hamiltonian = hamiltonian_model, expectation_values = [flake.dipole_operator], relaxation_rate = 1/10, end_time = 40)\n",
    "flake.show_res( result )"
   ]
  },
  {
   "cell_type": "markdown",
   "id": "26380c9b",
   "metadata": {},
   "source": [
    "That's it."
   ]
  },
  {
   "cell_type": "markdown",
   "id": "8a7a327b",
   "metadata": {},
   "source": [
    "## Custom Argument Objects"
   ]
  },
  {
   "cell_type": "markdown",
   "id": "bb73c8d7",
   "metadata": {},
   "source": [
    "TBD"
   ]
  },
  {
   "cell_type": "markdown",
   "id": "41b40712",
   "metadata": {},
   "source": [
    "## Modelling Dissipators"
   ]
  },
  {
   "cell_type": "markdown",
   "id": "03b0a39c",
   "metadata": {},
   "source": [
    "Dissipators work exactly like the Hamiltonian."
   ]
  },
  {
   "cell_type": "markdown",
   "id": "567e1b06",
   "metadata": {},
   "source": [
    "1. Define a function `diss : time, density_matrix, args -> jax.Array`\n",
    "2. put it in a dictionary `dissipator_model[\"diss\"] = diss`\n",
    "3. Pass `dissipator = dissipator_model` to the integrator function. "
   ]
  },
  {
   "cell_type": "markdown",
   "id": "58c3ca07",
   "metadata": {},
   "source": [
    "You can also get defaults"
   ]
  },
  {
   "cell_type": "code",
   "execution_count": 10,
   "id": "a2a46a1e",
   "metadata": {
    "execution": {
     "iopub.execute_input": "2024-05-24T17:11:19.475466Z",
     "iopub.status.busy": "2024-05-24T17:11:19.475081Z",
     "iopub.status.idle": "2024-05-24T17:11:19.479123Z",
     "shell.execute_reply": "2024-05-24T17:11:19.478509Z"
    },
    "lines_to_end_of_cell_marker": 0,
    "lines_to_next_cell": 1
   },
   "outputs": [
    {
     "name": "stdout",
     "output_type": "stream",
     "text": [
      "{'decoherence_time': <function DecoherenceTime.<locals>.<lambda> at 0x7f4f95d8a2a0>}\n"
     ]
    }
   ],
   "source": [
    "dissipator_model = flake.get_dissipator( relaxation_rate = 1/10 )\n",
    "print( dissipator_model )"
   ]
  },
  {
   "cell_type": "markdown",
   "id": "4218e197",
   "metadata": {},
   "source": [
    "## Postprocesses"
   ]
  },
  {
   "cell_type": "markdown",
   "id": "a97fb4bc",
   "metadata": {},
   "source": [
    "You can define custom postprocesses. These are functions with the signature `postprocess : density_matrix_batch, args -> array`. The `density_matrix_batch` is an array of shape `TxNxN`, where `T` encodes time."
   ]
  },
  {
   "cell_type": "markdown",
   "id": "cd5f53b3",
   "metadata": {},
   "source": [
    "For example, if you are only interested in the occupation of the 0-th state"
   ]
  },
  {
   "cell_type": "code",
   "execution_count": 11,
   "id": "13bf64c4",
   "metadata": {
    "execution": {
     "iopub.execute_input": "2024-05-24T17:11:19.481590Z",
     "iopub.status.busy": "2024-05-24T17:11:19.481230Z",
     "iopub.status.idle": "2024-05-24T17:11:19.484389Z",
     "shell.execute_reply": "2024-05-24T17:11:19.483758Z"
    },
    "lines_to_end_of_cell_marker": 0,
    "lines_to_next_cell": 1
   },
   "outputs": [],
   "source": [
    "def extract_element(density_matrices, args):\n",
    "    return density_matrices[:,0,0]"
   ]
  },
  {
   "cell_type": "code",
   "execution_count": 12,
   "id": "e1bd350a",
   "metadata": {
    "execution": {
     "iopub.execute_input": "2024-05-24T17:11:19.486533Z",
     "iopub.status.busy": "2024-05-24T17:11:19.486339Z",
     "iopub.status.idle": "2024-05-24T17:11:20.556784Z",
     "shell.execute_reply": "2024-05-24T17:11:20.556148Z"
    }
   },
   "outputs": [
    {
     "name": "stdout",
     "output_type": "stream",
     "text": [
      "RHS compiled\n",
      "RHS compiled\n"
     ]
    },
    {
     "name": "stdout",
     "output_type": "stream",
     "text": [
      "100.0 %\n",
      "(4000,)\n"
     ]
    }
   ],
   "source": [
    "result = flake.master_equation( postprocesses = {\"element\" : extract_element},  relaxation_rate = 1/10, end_time = 40 )\n",
    "print(result.output[0].shape)"
   ]
  }
 ],
 "metadata": {
  "kernelspec": {
   "display_name": "base",
   "language": "python",
   "name": "base"
  },
  "language_info": {
   "codemirror_mode": {
    "name": "ipython",
    "version": 3
   },
   "file_extension": ".py",
   "mimetype": "text/x-python",
   "name": "python",
   "nbconvert_exporter": "python",
   "pygments_lexer": "ipython3",
   "version": "3.12.3"
  }
 },
 "nbformat": 4,
 "nbformat_minor": 5
}
