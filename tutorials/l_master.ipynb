{
 "cells": [
  {
   "cell_type": "markdown",
   "id": "2fae6840",
   "metadata": {},
   "source": [
    "# Custom Time Evolution\n",
    "\n",
    "GRANAD lets you customize the Master Equation you simulate and extract any information from it."
   ]
  },
  {
   "cell_type": "markdown",
   "id": "e946c08a",
   "metadata": {},
   "source": [
    "*Note*: Please consult the tutorial on potentials first."
   ]
  },
  {
   "cell_type": "markdown",
   "id": "1da7ff21",
   "metadata": {},
   "source": [
    "*Note*: While a bit more complicated, this tutorial can help you make your simulations not only more versatile, but also increase their efficiency."
   ]
  },
  {
   "cell_type": "markdown",
   "id": "bfe7ae9f",
   "metadata": {},
   "source": [
    "## Hamiltonian"
   ]
  },
  {
   "cell_type": "markdown",
   "id": "cc8d7689",
   "metadata": {},
   "source": [
    "When calling the integration for the master equation, you can give an optional argument, `hamiltonian`. As already discussed, this argument represents a Hamiltonian as a dictionary of functions."
   ]
  },
  {
   "cell_type": "markdown",
   "id": "cf775d42",
   "metadata": {},
   "source": [
    "Up to now, we  wanted to use custom potentials, so we  added them to the dictionary. Let's look more closely at what is going on by considering a flake under plane wave illumination."
   ]
  },
  {
   "cell_type": "code",
   "execution_count": 1,
   "id": "b9a44190",
   "metadata": {
    "execution": {
     "iopub.execute_input": "2025-02-04T10:36:52.184251Z",
     "iopub.status.busy": "2025-02-04T10:36:52.184081Z",
     "iopub.status.idle": "2025-02-04T10:36:55.157922Z",
     "shell.execute_reply": "2025-02-04T10:36:55.157335Z"
    }
   },
   "outputs": [
    {
     "name": "stdout",
     "output_type": "stream",
     "text": [
      "dict_keys(['bare_hamiltonian', 'coulomb', 'potential'])\n"
     ]
    }
   ],
   "source": [
    "from granad import MaterialCatalog, Triangle, Wave\n",
    "flake = MaterialCatalog.get( \"graphene\" ).cut_flake( Triangle(15)  )\n",
    "wave = Wave( amplitudes = [1.0, 0., 0.], frequency = 1.0 )\n",
    "hamiltonian_model = flake.get_hamiltonian(illumination = wave)\n",
    "print(hamiltonian_model.keys())"
   ]
  },
  {
   "cell_type": "markdown",
   "id": "caff2a50",
   "metadata": {},
   "source": [
    "As discussed, the default Hamiltonian  has three terms:"
   ]
  },
  {
   "cell_type": "markdown",
   "id": "1e5b28b6",
   "metadata": {},
   "source": [
    "1. a bare Hamiltonian.\n",
    "2. an induced Coulomb interaction.\n",
    "3. an external potential."
   ]
  },
  {
   "cell_type": "markdown",
   "id": "c5c82828",
   "metadata": {},
   "source": [
    "Each of these terms is represented by a function. Every function accepts the following three arguments:"
   ]
  },
  {
   "cell_type": "markdown",
   "id": "5b15f08c",
   "metadata": {},
   "source": [
    "1. time\n",
    "2. the density matrix at this time\n",
    "3. an argument object `args`. It contains all required \"static\" information, like relaxation rates, energies or operators in the Schrödinger picture."
   ]
  },
  {
   "cell_type": "markdown",
   "id": "6bc0c097",
   "metadata": {},
   "source": [
    "Every function maps these arguments to a complex matrix. Before running a simulation, the functions in the dictionary get turned into a list `func_list`. "
   ]
  },
  {
   "cell_type": "markdown",
   "id": "42d384d2",
   "metadata": {},
   "source": [
    "The matrix representation of the Hamiltonian is then given by applying and adding these functions, like so `H[time] = sum( f(times[time], density_matrix[time], args) for f in func_list )`."
   ]
  },
  {
   "cell_type": "markdown",
   "id": "70dc80da",
   "metadata": {},
   "source": [
    "## Argument Objects"
   ]
  },
  {
   "cell_type": "markdown",
   "id": "94a64adb",
   "metadata": {},
   "source": [
    "The `args` object is a named tuple (like a struct in the C programming language) and we can inspect its contents by looking at its fields "
   ]
  },
  {
   "cell_type": "code",
   "execution_count": 2,
   "id": "95301dbe",
   "metadata": {
    "execution": {
     "iopub.execute_input": "2025-02-04T10:36:55.160226Z",
     "iopub.status.busy": "2025-02-04T10:36:55.159725Z",
     "iopub.status.idle": "2025-02-04T10:36:57.051746Z",
     "shell.execute_reply": "2025-02-04T10:36:57.051222Z"
    }
   },
   "outputs": [
    {
     "name": "stdout",
     "output_type": "stream",
     "text": [
      "('hamiltonian', 'energies', 'coulomb_scaled', 'initial_density_matrix', 'stationary_density_matrix', 'eigenvectors', 'dipole_operator', 'electrons', 'relaxation_rate', 'propagator', 'spin_degeneracy', 'positions')\n"
     ]
    }
   ],
   "source": [
    "args = flake.get_args()\n",
    "print(args._fields)"
   ]
  },
  {
   "cell_type": "markdown",
   "id": "057cbb66",
   "metadata": {},
   "source": [
    "We can access individual entries"
   ]
  },
  {
   "cell_type": "code",
   "execution_count": 3,
   "id": "8cd4c709",
   "metadata": {
    "execution": {
     "iopub.execute_input": "2025-02-04T10:36:57.053657Z",
     "iopub.status.busy": "2025-02-04T10:36:57.053292Z",
     "iopub.status.idle": "2025-02-04T10:36:57.056950Z",
     "shell.execute_reply": "2025-02-04T10:36:57.056358Z"
    }
   },
   "outputs": [
    {
     "name": "stdout",
     "output_type": "stream",
     "text": [
      "(3, 46, 46)\n"
     ]
    }
   ],
   "source": [
    "print(args.dipole_operator.shape)"
   ]
  },
  {
   "cell_type": "markdown",
   "id": "ce8223d5",
   "metadata": {},
   "source": [
    "The `args` object is a lower-level representation of the OrbitalList object: a collection of numbers and arrays that represent the structure."
   ]
  },
  {
   "cell_type": "markdown",
   "id": "3770a59e",
   "metadata": {},
   "source": [
    "The evolution is determined by the Hamiltonian. It is given by an addition of functions. Each of these functions depends on time, the density matrix and the simulated structure. So, a single function representing a term in the Hamiltonian has the following signature `term: time, density_matrix, args -> matrix`."
   ]
  },
  {
   "cell_type": "markdown",
   "id": "b0f31d9e",
   "metadata": {},
   "source": [
    "## Computing Terms"
   ]
  },
  {
   "cell_type": "markdown",
   "id": "771fbb4d",
   "metadata": {},
   "source": [
    "Individual terms of the default Hamiltonian can be inspected and since these are functions, applied to arguments. First, consider the bare Hamiltonian"
   ]
  },
  {
   "cell_type": "code",
   "execution_count": 4,
   "id": "a23ba7e9",
   "metadata": {
    "execution": {
     "iopub.execute_input": "2025-02-04T10:36:57.058743Z",
     "iopub.status.busy": "2025-02-04T10:36:57.058434Z",
     "iopub.status.idle": "2025-02-04T10:36:57.100818Z",
     "shell.execute_reply": "2025-02-04T10:36:57.100201Z"
    }
   },
   "outputs": [
    {
     "data": {
      "text/plain": [
       "Array(True, dtype=bool)"
      ]
     },
     "execution_count": 4,
     "metadata": {},
     "output_type": "execute_result"
    }
   ],
   "source": [
    "import jax.numpy as jnp\n",
    "h_bare = hamiltonian_model[\"bare_hamiltonian\"]\n",
    "time = 0.0\n",
    "jnp.all(flake.hamiltonian == h_bare( time, args.initial_density_matrix, args ))"
   ]
  },
  {
   "cell_type": "markdown",
   "id": "a5009f4b",
   "metadata": {},
   "source": [
    "The function returns the bare Hamiltonian, independent of the time and density matrix. Let's compute the Coulomb potential at the initial time"
   ]
  },
  {
   "cell_type": "code",
   "execution_count": 5,
   "id": "61264250",
   "metadata": {
    "execution": {
     "iopub.execute_input": "2025-02-04T10:36:57.102789Z",
     "iopub.status.busy": "2025-02-04T10:36:57.102338Z",
     "iopub.status.idle": "2025-02-04T10:36:57.167558Z",
     "shell.execute_reply": "2025-02-04T10:36:57.167040Z"
    }
   },
   "outputs": [
    {
     "data": {
      "text/plain": [
       "Array(True, dtype=bool)"
      ]
     },
     "execution_count": 5,
     "metadata": {},
     "output_type": "execute_result"
    }
   ],
   "source": [
    "coulomb = hamiltonian_model[\"coulomb\"]\n",
    "coulomb_matrix = coulomb( time, args.initial_density_matrix, args ) \n",
    "jnp.all( coulomb_matrix == 0.0 )"
   ]
  },
  {
   "cell_type": "markdown",
   "id": "023967ec",
   "metadata": {},
   "source": [
    "At the start of the simulation, there is no induced Coulomb potential (all entries in the matrix are zero), because the system is in its ground state."
   ]
  },
  {
   "cell_type": "markdown",
   "id": "beac3460",
   "metadata": {},
   "source": [
    "Last, there is the external potential. Since no transition dipole moments are considered, it will be entirely diagonal in site basis"
   ]
  },
  {
   "cell_type": "code",
   "execution_count": 6,
   "id": "7530d032",
   "metadata": {
    "execution": {
     "iopub.execute_input": "2025-02-04T10:36:57.169317Z",
     "iopub.status.busy": "2025-02-04T10:36:57.169135Z",
     "iopub.status.idle": "2025-02-04T10:36:57.194575Z",
     "shell.execute_reply": "2025-02-04T10:36:57.194021Z"
    }
   },
   "outputs": [
    {
     "data": {
      "text/plain": [
       "Array(True, dtype=bool)"
      ]
     },
     "execution_count": 6,
     "metadata": {},
     "output_type": "execute_result"
    }
   ],
   "source": [
    "potential = hamiltonian_model[\"potential\"]\n",
    "potential_matrix = potential( time, args.initial_density_matrix, args )\n",
    "jnp.all( potential_matrix == jnp.diag(potential_matrix.diagonal()) )"
   ]
  },
  {
   "cell_type": "markdown",
   "id": "543ec6fa",
   "metadata": {},
   "source": [
    "## Modelling Terms"
   ]
  },
  {
   "cell_type": "markdown",
   "id": "5330ed75",
   "metadata": {},
   "source": [
    "To include arbitrary terms in the time evolution, we define a function that"
   ]
  },
  {
   "cell_type": "markdown",
   "id": "3ad2e8c2",
   "metadata": {},
   "source": [
    "1. Accepts `time, density_matrix, args`\n",
    "2. Returns a NxN complex matrix\n",
    "3. Additionally, the function must be JAX-JIT compatible. In essence, only Python and jax.numpy operations must be used."
   ]
  },
  {
   "cell_type": "markdown",
   "id": "5c164145",
   "metadata": {},
   "source": [
    "Then, we insert it in the dictionary, potentially overwriting a default key."
   ]
  },
  {
   "cell_type": "markdown",
   "id": "28ef9603",
   "metadata": {},
   "source": [
    "Let's illustrate this at the example of a custom scalar potential. We want to replace the dipole-gauge coupling $\\vec{E} \\vec{P}$ with a scalar potential representing a plane-wave pulse. Let's define this potential first"
   ]
  },
  {
   "cell_type": "code",
   "execution_count": 7,
   "id": "b053643c",
   "metadata": {
    "execution": {
     "iopub.execute_input": "2025-02-04T10:36:57.196482Z",
     "iopub.status.busy": "2025-02-04T10:36:57.196281Z",
     "iopub.status.idle": "2025-02-04T10:36:57.200703Z",
     "shell.execute_reply": "2025-02-04T10:36:57.200061Z"
    },
    "lines_to_end_of_cell_marker": 0,
    "lines_to_next_cell": 1
   },
   "outputs": [],
   "source": [
    "amplitudes = jnp.array([1e-5, 0, 0])\n",
    "omega = 2*jnp.pi\n",
    "sigma = 1\n",
    "t0 = 4\n",
    "def pulsed_potential( time, density_matrix, args ):\n",
    "    field = (amplitudes * jnp.cos(omega * time) * jnp.exp( -(time-t0)**2 / sigma**2 ) )\n",
    "    diagonal_part = args.positions @ field\n",
    "    return jnp.diag( diagonal_part )"
   ]
  },
  {
   "cell_type": "markdown",
   "id": "489d79d7",
   "metadata": {},
   "source": [
    "Now, we replace the default potential with our custom term,  as we did before in the case of the pulsed dipole."
   ]
  },
  {
   "cell_type": "code",
   "execution_count": 8,
   "id": "1d65392a",
   "metadata": {
    "execution": {
     "iopub.execute_input": "2025-02-04T10:36:57.202306Z",
     "iopub.status.busy": "2025-02-04T10:36:57.202133Z",
     "iopub.status.idle": "2025-02-04T10:36:57.205145Z",
     "shell.execute_reply": "2025-02-04T10:36:57.204470Z"
    }
   },
   "outputs": [],
   "source": [
    "hamiltonian_model[\"potential\"] = pulsed_potential"
   ]
  },
  {
   "cell_type": "markdown",
   "id": "21ae7228",
   "metadata": {},
   "source": [
    "To run a time-domain simulation, we  pass the modified Hamiltonian dictionary directly, as demonstrated in the first section"
   ]
  },
  {
   "cell_type": "code",
   "execution_count": 9,
   "id": "d0c37fb5",
   "metadata": {
    "execution": {
     "iopub.execute_input": "2025-02-04T10:36:57.206934Z",
     "iopub.status.busy": "2025-02-04T10:36:57.206623Z",
     "iopub.status.idle": "2025-02-04T10:36:59.742307Z",
     "shell.execute_reply": "2025-02-04T10:36:59.741713Z"
    }
   },
   "outputs": [
    {
     "name": "stdout",
     "output_type": "stream",
     "text": [
      "RHS compiled\n",
      "RHS compiled\n"
     ]
    },
    {
     "name": "stdout",
     "output_type": "stream",
     "text": [
      "100.0 %\n"
     ]
    },
    {
     "name": "stderr",
     "output_type": "stream",
     "text": [
      "No artists with labels found to put in legend.  Note that artists whose label start with an underscore are ignored when legend() is called with no argument.\n"
     ]
    },
    {
     "data": {
      "image/png": "[encoded data removed]",
      "text/plain": [
       "<Figure size 640x480 with 1 Axes>"
      ]
     },
     "metadata": {},
     "output_type": "display_data"
    }
   ],
   "source": [
    "result = flake.master_equation( hamiltonian = hamiltonian_model, expectation_values = [flake.dipole_operator], relaxation_rate = 1/10, end_time = 40)\n",
    "flake.show_res( result )"
   ]
  },
  {
   "cell_type": "markdown",
   "id": "33f447a4",
   "metadata": {},
   "source": [
    "## Modelling Dissipators"
   ]
  },
  {
   "cell_type": "markdown",
   "id": "d520ceb7",
   "metadata": {},
   "source": [
    "Dissipators are modelled as functions with the same signature as terms in the Hamiltonian, i.e. to model a custom dissipator"
   ]
  },
  {
   "cell_type": "markdown",
   "id": "afed1fce",
   "metadata": {},
   "source": [
    "1. Define a function `diss : time, density_matrix, args -> jax.Array`\n",
    "2. put it in a dictionary `dissipator_model[\"diss\"] = diss`\n",
    "3. Pass `dissipator = dissipator_model` to the integrator function. "
   ]
  },
  {
   "cell_type": "markdown",
   "id": "28907e37",
   "metadata": {},
   "source": [
    "You can also get defaults"
   ]
  },
  {
   "cell_type": "code",
   "execution_count": 10,
   "id": "2847cf42",
   "metadata": {
    "execution": {
     "iopub.execute_input": "2025-02-04T10:36:59.744582Z",
     "iopub.status.busy": "2025-02-04T10:36:59.744133Z",
     "iopub.status.idle": "2025-02-04T10:36:59.747742Z",
     "shell.execute_reply": "2025-02-04T10:36:59.747140Z"
    },
    "lines_to_end_of_cell_marker": 0,
    "lines_to_next_cell": 1
   },
   "outputs": [
    {
     "name": "stdout",
     "output_type": "stream",
     "text": [
      "{'decoherence_time': <function DecoherenceTime.<locals>.<lambda> at 0x7f424fef3e20>}\n"
     ]
    }
   ],
   "source": [
    "dissipator_model = flake.get_dissipator(relaxation_rate = 1/10)\n",
    "print( dissipator_model )"
   ]
  },
  {
   "cell_type": "markdown",
   "id": "d3aa1a56",
   "metadata": {},
   "source": [
    "NOTE: To pass the dissipator above to the `master_equation` method, you have to specify the relaxation rate again. "
   ]
  },
  {
   "cell_type": "markdown",
   "id": "488781a7",
   "metadata": {},
   "source": [
    "## Postprocessing"
   ]
  },
  {
   "cell_type": "markdown",
   "id": "85b2ef01",
   "metadata": {},
   "source": [
    "You can define custom postprocessing. These are functions with the signature `postprocess : density_matrix_batch, args -> array`. The `density_matrix_batch` is an array of shape `TxNxN`, where `T` encodes time."
   ]
  },
  {
   "cell_type": "markdown",
   "id": "646d6249",
   "metadata": {},
   "source": [
    "For example, if you are only interested in the occupation of the 0-th state"
   ]
  },
  {
   "cell_type": "code",
   "execution_count": 11,
   "id": "0a2fffe1",
   "metadata": {
    "execution": {
     "iopub.execute_input": "2025-02-04T10:36:59.749816Z",
     "iopub.status.busy": "2025-02-04T10:36:59.749499Z",
     "iopub.status.idle": "2025-02-04T10:36:59.752363Z",
     "shell.execute_reply": "2025-02-04T10:36:59.751900Z"
    },
    "lines_to_end_of_cell_marker": 0,
    "lines_to_next_cell": 1
   },
   "outputs": [],
   "source": [
    "def extract_element(density_matrices, args):\n",
    "    return density_matrices[:,0,0]"
   ]
  },
  {
   "cell_type": "code",
   "execution_count": 12,
   "id": "244e72d4",
   "metadata": {
    "execution": {
     "iopub.execute_input": "2025-02-04T10:36:59.754318Z",
     "iopub.status.busy": "2025-02-04T10:36:59.753985Z",
     "iopub.status.idle": "2025-02-04T10:37:00.804312Z",
     "shell.execute_reply": "2025-02-04T10:37:00.803726Z"
    }
   },
   "outputs": [
    {
     "name": "stdout",
     "output_type": "stream",
     "text": [
      "RHS compiled\n",
      "RHS compiled\n"
     ]
    },
    {
     "name": "stdout",
     "output_type": "stream",
     "text": [
      "100.0 %\n",
      "(4000,)\n"
     ]
    }
   ],
   "source": [
    "result = flake.master_equation( postprocesses = {\"element\" : extract_element},  relaxation_rate = 1/10, end_time = 40 )\n",
    "print(result.output[0].shape)"
   ]
  }
 ],
 "metadata": {
  "kernelspec": {
   "display_name": "base",
   "language": "python",
   "name": "base"
  },
  "language_info": {
   "codemirror_mode": {
    "name": "ipython",
    "version": 3
   },
   "file_extension": ".py",
   "mimetype": "text/x-python",
   "name": "python",
   "nbconvert_exporter": "python",
   "pygments_lexer": "ipython3",
   "version": "3.12.8"
  }
 },
 "nbformat": 4,
 "nbformat_minor": 5
}
