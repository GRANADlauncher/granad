{
 "cells": [
  {
   "cell_type": "markdown",
   "id": "96d2f5ee",
   "metadata": {},
   "source": [
    "# Time-Domain simulations\n"
   ]
  },
  {
   "cell_type": "markdown",
   "id": "48b170e8",
   "metadata": {},
   "source": [
    "We introduce time-domain simulations, which are based on GRANAD's default master equation"
   ]
  },
  {
   "cell_type": "markdown",
   "id": "391b6bf0",
   "metadata": {},
   "source": [
    "$$\\dot{\\rho}(t) = -i [H[t,\\rho(t)], \\rho] + \\mathcal{D}[t, \\rho]$$"
   ]
  },
  {
   "cell_type": "markdown",
   "id": "f6996bf7",
   "metadata": {},
   "source": [
    "The non-linear Hamiltonian is given by"
   ]
  },
  {
   "cell_type": "markdown",
   "id": "cf1f6809",
   "metadata": {},
   "source": [
    "$$H[t,\\rho(t)] = h^{0} + \\vec{E} \\vec{P} + C(\\rho(t) - \\rho^{0})$$"
   ]
  },
  {
   "cell_type": "markdown",
   "id": "619e55b7",
   "metadata": {},
   "source": [
    "where "
   ]
  },
  {
   "cell_type": "markdown",
   "id": "8987fea1",
   "metadata": {},
   "source": [
    "1. $h^{0}$ is the unperturbed or bare Hamiltonian constructed from localized orbitals.\n",
    "2. $\\vec{P}$ is the polarization operator depending on space $\\vec{r}$ and transition dipole moments $\\vec{d}$, leading to an interatomic potential $\\vec{E}\\vec{r}$ and an intra-atomic potential $\\vec{E} \\vec{d}$.\n",
    "3. $\\rho^{0}$ is the stationary density matrix of the system's ground state, and $C$ is the Coulomb matrix (a subset of two-body matrix elements)."
   ]
  },
  {
   "cell_type": "markdown",
   "id": "022eb5d5",
   "metadata": {},
   "source": [
    "This expression is the dipole-gauge expression for the Hamiltonian including an external electric field $\\vec{E}$."
   ]
  },
  {
   "cell_type": "markdown",
   "id": "f433659e",
   "metadata": {
    "lines_to_next_cell": 2
   },
   "source": [
    "## Observables"
   ]
  },
  {
   "cell_type": "markdown",
   "id": "b04dc665",
   "metadata": {},
   "source": [
    "You can compute multiple observables in one simulation run"
   ]
  },
  {
   "cell_type": "code",
   "execution_count": 1,
   "id": "3015b755",
   "metadata": {
    "execution": {
     "iopub.execute_input": "2024-06-13T11:30:59.289629Z",
     "iopub.status.busy": "2024-06-13T11:30:59.289429Z",
     "iopub.status.idle": "2024-06-13T11:31:09.365875Z",
     "shell.execute_reply": "2024-06-13T11:31:09.365257Z"
    }
   },
   "outputs": [
    {
     "name": "stdout",
     "output_type": "stream",
     "text": [
      "RHS compiled\n",
      "RHS compiled\n"
     ]
    },
    {
     "name": "stdout",
     "output_type": "stream",
     "text": [
      "49.992928864375614 %\n"
     ]
    },
    {
     "name": "stdout",
     "output_type": "stream",
     "text": [
      "100.0 %\n"
     ]
    }
   ],
   "source": [
    "from granad import MaterialCatalog, Hexagon, Pulse\n",
    "flake = MaterialCatalog.get(\"graphene\").cut_flake( Hexagon(10) )\n",
    "\n",
    "pulse = Pulse(\n",
    "    amplitudes=[1e-5, 0, 0], frequency=2.3, peak=5, fwhm=2\n",
    ")\n",
    "\n",
    "operators = [flake.dipole_operator, flake.velocity_operator]\n",
    "\n",
    "result = flake.master_equation(\n",
    "    relaxation_rate = 1/10,\n",
    "    illumination = pulse,\n",
    "    expectation_values = operators,\n",
    "    end_time = 40,\n",
    "     )"
   ]
  },
  {
   "cell_type": "markdown",
   "id": "09ba2ab5",
   "metadata": {},
   "source": [
    "The result object stores this info. Operators are concatenated in the order you passed them in."
   ]
  },
  {
   "cell_type": "code",
   "execution_count": 2,
   "id": "4879f5ef",
   "metadata": {
    "execution": {
     "iopub.execute_input": "2024-06-13T11:31:09.368522Z",
     "iopub.status.busy": "2024-06-13T11:31:09.368074Z",
     "iopub.status.idle": "2024-06-13T11:31:09.372172Z",
     "shell.execute_reply": "2024-06-13T11:31:09.371521Z"
    }
   },
   "outputs": [
    {
     "name": "stdout",
     "output_type": "stream",
     "text": [
      "1\n",
      "(7072, 6)\n"
     ]
    }
   ],
   "source": [
    "print(len(result.output))\n",
    "print(result.output[0].shape)"
   ]
  },
  {
   "cell_type": "markdown",
   "id": "b2dad700",
   "metadata": {},
   "source": [
    "The induced dipole moment at timestep 10 is given by"
   ]
  },
  {
   "cell_type": "code",
   "execution_count": 3,
   "id": "5340e794",
   "metadata": {
    "execution": {
     "iopub.execute_input": "2024-06-13T11:31:09.374401Z",
     "iopub.status.busy": "2024-06-13T11:31:09.374044Z",
     "iopub.status.idle": "2024-06-13T11:31:09.399509Z",
     "shell.execute_reply": "2024-06-13T11:31:09.398927Z"
    }
   },
   "outputs": [
    {
     "name": "stdout",
     "output_type": "stream",
     "text": [
      "[5.19272438e-13+0.j 7.16792153e-14+0.j 0.00000000e+00+0.j]\n"
     ]
    }
   ],
   "source": [
    "print(result.output[0][10,:3])"
   ]
  },
  {
   "cell_type": "markdown",
   "id": "d28719dc",
   "metadata": {},
   "source": [
    "Induced current at timestep 10"
   ]
  },
  {
   "cell_type": "code",
   "execution_count": 4,
   "id": "aa5f5a6e",
   "metadata": {
    "execution": {
     "iopub.execute_input": "2024-06-13T11:31:09.402202Z",
     "iopub.status.busy": "2024-06-13T11:31:09.401705Z",
     "iopub.status.idle": "2024-06-13T11:31:09.407196Z",
     "shell.execute_reply": "2024-06-13T11:31:09.406254Z"
    },
    "lines_to_next_cell": 2
   },
   "outputs": [
    {
     "name": "stdout",
     "output_type": "stream",
     "text": [
      "[ 1.41707761e-11-5.33512817e-15j -4.31137844e-15+8.93268929e-15j\n",
      "  0.00000000e+00+0.00000000e+00j]\n"
     ]
    }
   ],
   "source": [
    "print(result.output[0][10,3:])"
   ]
  },
  {
   "cell_type": "markdown",
   "id": "9ab7c613",
   "metadata": {},
   "source": [
    "We can access the Fourier transform as"
   ]
  },
  {
   "cell_type": "code",
   "execution_count": 5,
   "id": "9918a1ff",
   "metadata": {
    "execution": {
     "iopub.execute_input": "2024-06-13T11:31:09.410097Z",
     "iopub.status.busy": "2024-06-13T11:31:09.409599Z",
     "iopub.status.idle": "2024-06-13T11:31:09.724617Z",
     "shell.execute_reply": "2024-06-13T11:31:09.724057Z"
    }
   },
   "outputs": [],
   "source": [
    "omega_min, omega_max = 0, 5\n",
    "omegas, pulse_omega = result.ft_illumination( omega_min = omega_min, omega_max = omega_max )\n",
    "output_omega = result.ft_output( omega_min = omega_min, omega_max = omega_max )[0]"
   ]
  },
  {
   "cell_type": "markdown",
   "id": "c33870fe",
   "metadata": {},
   "source": [
    "From the classical continuity equation, we have"
   ]
  },
  {
   "cell_type": "markdown",
   "id": "bf1c1901",
   "metadata": {},
   "source": [
    "$$\\dot{\\rho}(x, t) = -\\nabla \\vec{j}(x, t) = \\nabla \\dot{\\vec{p}}(t) \\implies \\dot{\\vec{p}}(x,t) = \\vec{j}(x,t) \\implies \\omega \\vec{p}(x, \\omega) = \\vec{j}(x, \\omega)$$"
   ]
  },
  {
   "cell_type": "markdown",
   "id": "3fae86b9",
   "metadata": {},
   "source": [
    "Or, in its integrated form"
   ]
  },
  {
   "cell_type": "markdown",
   "id": "354be961",
   "metadata": {},
   "source": [
    "$$\\int dx \\dot{\\vec{p}}(x,t) = \\dot{\\vec{p}}(t) = \\int dx \\vec{j}(x,t) =  \\vec{j}(t)"
   ]
  },
  {
   "cell_type": "markdown",
   "id": "88719657",
   "metadata": {},
   "source": [
    "Where $\\vec{j}$ and $\\vec{p}$ are the total current and dipole moment respectively. As classical quantities are given by ensemble averages of quantum operators, we can\n",
    "obtain these quantities directly from the time-domain simulations. The (integrated) continuity equation above can be verified as follows"
   ]
  },
  {
   "cell_type": "code",
   "execution_count": 6,
   "id": "f8f074ad",
   "metadata": {
    "execution": {
     "iopub.execute_input": "2024-06-13T11:31:09.727651Z",
     "iopub.status.busy": "2024-06-13T11:31:09.727144Z",
     "iopub.status.idle": "2024-06-13T11:31:10.154100Z",
     "shell.execute_reply": "2024-06-13T11:31:10.153500Z"
    },
    "lines_to_next_cell": 2
   },
   "outputs": [
    {
     "data": {
      "image/png": "[encoded data removed]",
      "text/plain": [
       "<Figure size 640x480 with 1 Axes>"
      ]
     },
     "metadata": {},
     "output_type": "display_data"
    }
   ],
   "source": [
    "import matplotlib.pyplot as plt\n",
    "p = -(omegas * output_omega[:,0]).imag\n",
    "j = output_omega[:,3].real\n",
    "plt.plot(omegas, p, label = r'$- \\text{Im}[\\omega p_x]$')\n",
    "plt.plot(omegas, j, '--', label = r'$\\text{Re}[j_x]$')\n",
    "plt.legend()\n",
    "plt.show()"
   ]
  },
  {
   "cell_type": "markdown",
   "id": "32266d5a",
   "metadata": {},
   "source": [
    "The field is also accessible"
   ]
  },
  {
   "cell_type": "code",
   "execution_count": 7,
   "id": "f004610c",
   "metadata": {
    "execution": {
     "iopub.execute_input": "2024-06-13T11:31:10.156644Z",
     "iopub.status.busy": "2024-06-13T11:31:10.156286Z",
     "iopub.status.idle": "2024-06-13T11:31:10.159954Z",
     "shell.execute_reply": "2024-06-13T11:31:10.159292Z"
    }
   },
   "outputs": [
    {
     "name": "stdout",
     "output_type": "stream",
     "text": [
      "(7072, 3)\n"
     ]
    }
   ],
   "source": [
    "print(result.td_illumination.shape)"
   ]
  },
  {
   "cell_type": "markdown",
   "id": "e43bb7d1",
   "metadata": {},
   "source": [
    "*WARNING: The following behavior might change and the density_matrix argument may be removed*"
   ]
  },
  {
   "cell_type": "markdown",
   "id": "fa26a53c",
   "metadata": {},
   "source": [
    "## Density matrices"
   ]
  },
  {
   "cell_type": "markdown",
   "id": "02df7487",
   "metadata": {},
   "source": [
    "If we want to only get density matrices, we can  omit the operator list. The result object then contains a one-element list."
   ]
  },
  {
   "cell_type": "code",
   "execution_count": 8,
   "id": "9e0db49d",
   "metadata": {
    "execution": {
     "iopub.execute_input": "2024-06-13T11:31:10.162204Z",
     "iopub.status.busy": "2024-06-13T11:31:10.161905Z",
     "iopub.status.idle": "2024-06-13T11:31:12.775820Z",
     "shell.execute_reply": "2024-06-13T11:31:12.775219Z"
    }
   },
   "outputs": [
    {
     "name": "stdout",
     "output_type": "stream",
     "text": [
      "RHS compiled\n",
      "RHS compiled\n"
     ]
    },
    {
     "name": "stdout",
     "output_type": "stream",
     "text": [
      "49.992928864375614 %\n"
     ]
    },
    {
     "name": "stdout",
     "output_type": "stream",
     "text": [
      "100.0 %\n",
      "(7072, 94, 94)\n"
     ]
    }
   ],
   "source": [
    "result = flake.master_equation(\n",
    "    relaxation_rate = 1/10,\n",
    "    illumination = pulse,\n",
    "    end_time = 40,\n",
    "    density_matrix = [\"full\"],\n",
    "     )\n",
    "density_matrix = result.output[0]\n",
    "print(density_matrix.shape)"
   ]
  },
  {
   "cell_type": "markdown",
   "id": "dee700b2",
   "metadata": {},
   "source": [
    "We can convert them to energy basis"
   ]
  },
  {
   "cell_type": "code",
   "execution_count": 9,
   "id": "b08941a7",
   "metadata": {
    "execution": {
     "iopub.execute_input": "2024-06-13T11:31:12.778199Z",
     "iopub.status.busy": "2024-06-13T11:31:12.777848Z",
     "iopub.status.idle": "2024-06-13T11:31:14.677194Z",
     "shell.execute_reply": "2024-06-13T11:31:14.676558Z"
    }
   },
   "outputs": [
    {
     "name": "stdout",
     "output_type": "stream",
     "text": [
      "(7072, 94, 94)\n"
     ]
    }
   ],
   "source": [
    "density_matrix_e = flake.transform_to_energy_basis( density_matrix )\n",
    "print(density_matrix_e.shape)"
   ]
  },
  {
   "cell_type": "markdown",
   "id": "69cb0f8a",
   "metadata": {},
   "source": [
    "## Occupations"
   ]
  },
  {
   "cell_type": "markdown",
   "id": "1f127590",
   "metadata": {},
   "source": [
    "We can extract only site occupations"
   ]
  },
  {
   "cell_type": "code",
   "execution_count": 10,
   "id": "bc93fa91",
   "metadata": {
    "execution": {
     "iopub.execute_input": "2024-06-13T11:31:14.679654Z",
     "iopub.status.busy": "2024-06-13T11:31:14.679311Z",
     "iopub.status.idle": "2024-06-13T11:31:17.341608Z",
     "shell.execute_reply": "2024-06-13T11:31:17.340945Z"
    }
   },
   "outputs": [
    {
     "name": "stdout",
     "output_type": "stream",
     "text": [
      "RHS compiled\n",
      "RHS compiled\n"
     ]
    },
    {
     "name": "stdout",
     "output_type": "stream",
     "text": [
      "49.992928864375614 %\n"
     ]
    },
    {
     "name": "stdout",
     "output_type": "stream",
     "text": [
      "100.0 %\n",
      "(7072, 94)\n"
     ]
    }
   ],
   "source": [
    "result = flake.master_equation(\n",
    "    relaxation_rate = 1/10,\n",
    "    illumination = pulse,\n",
    "    density_matrix = [\"occ_x\"],\n",
    "    end_time = 40,\n",
    "     )\n",
    "occ_x = result.output[0]\n",
    "print(occ_x.shape)"
   ]
  },
  {
   "cell_type": "markdown",
   "id": "7fd8c8f5",
   "metadata": {},
   "source": [
    "We can extract only energy occupations"
   ]
  },
  {
   "cell_type": "markdown",
   "id": "d52c913d",
   "metadata": {},
   "source": [
    "*DANGER*: this introduces additional cubic complexity "
   ]
  },
  {
   "cell_type": "code",
   "execution_count": 11,
   "id": "541f9518",
   "metadata": {
    "execution": {
     "iopub.execute_input": "2024-06-13T11:31:17.344386Z",
     "iopub.status.busy": "2024-06-13T11:31:17.343961Z",
     "iopub.status.idle": "2024-06-13T11:31:24.877246Z",
     "shell.execute_reply": "2024-06-13T11:31:24.876611Z"
    }
   },
   "outputs": [
    {
     "data": {
      "image/png": "[encoded data removed]",
      "text/plain": [
       "<Figure size 640x480 with 2 Axes>"
      ]
     },
     "metadata": {},
     "output_type": "display_data"
    },
    {
     "name": "stdout",
     "output_type": "stream",
     "text": [
      "RHS compiled\n",
      "RHS compiled\n"
     ]
    },
    {
     "name": "stdout",
     "output_type": "stream",
     "text": [
      "49.992928864375614 %\n"
     ]
    },
    {
     "name": "stdout",
     "output_type": "stream",
     "text": [
      "100.0 %\n"
     ]
    },
    {
     "data": {
      "image/png": "[encoded data removed]",
      "text/plain": [
       "<Figure size 640x480 with 1 Axes>"
      ]
     },
     "metadata": {},
     "output_type": "display_data"
    }
   ],
   "source": [
    "flake.set_excitation( flake.homo, flake.homo + 1, 1)\n",
    "flake.show_energies()\n",
    "result = flake.master_equation(\n",
    "    relaxation_rate = 1/10,\n",
    "    density_matrix = [\"occ_e\"],\n",
    "    end_time = 40,\n",
    "     )\n",
    "flake.show_res(result, plot_only = [flake.homo, flake.homo+1], plot_labels = [\"homo\", \"lumo\"], show_illumination = False )"
   ]
  },
  {
   "cell_type": "markdown",
   "id": "2927bb03",
   "metadata": {},
   "source": [
    "## Combinations"
   ]
  },
  {
   "cell_type": "markdown",
   "id": "e50ece0e",
   "metadata": {},
   "source": [
    "We can also extract multiple things at the same time"
   ]
  },
  {
   "cell_type": "code",
   "execution_count": 12,
   "id": "ae549000",
   "metadata": {
    "execution": {
     "iopub.execute_input": "2024-06-13T11:31:24.879845Z",
     "iopub.status.busy": "2024-06-13T11:31:24.879601Z",
     "iopub.status.idle": "2024-06-13T11:31:28.868575Z",
     "shell.execute_reply": "2024-06-13T11:31:28.867928Z"
    }
   },
   "outputs": [
    {
     "name": "stdout",
     "output_type": "stream",
     "text": [
      "RHS compiled\n",
      "RHS compiled\n"
     ]
    },
    {
     "name": "stdout",
     "output_type": "stream",
     "text": [
      "49.992928864375614 %\n"
     ]
    },
    {
     "name": "stdout",
     "output_type": "stream",
     "text": [
      "100.0 %\n"
     ]
    }
   ],
   "source": [
    "result = flake.master_equation(\n",
    "    relaxation_rate = 1/10,\n",
    "    density_matrix = [\"full\", \"occ_x\"],\n",
    "    expectation_values = [flake.dipole_operator],\n",
    "    end_time = 40,\n",
    "    illumination = pulse,\n",
    ")"
   ]
  },
  {
   "cell_type": "markdown",
   "id": "1ff0b23b",
   "metadata": {},
   "source": [
    "The output will now contain three arrays: induced dipole moments, site occupations and full density matrices"
   ]
  },
  {
   "cell_type": "code",
   "execution_count": 13,
   "id": "cc4397af",
   "metadata": {
    "execution": {
     "iopub.execute_input": "2024-06-13T11:31:28.870968Z",
     "iopub.status.busy": "2024-06-13T11:31:28.870618Z",
     "iopub.status.idle": "2024-06-13T11:31:28.874590Z",
     "shell.execute_reply": "2024-06-13T11:31:28.873990Z"
    }
   },
   "outputs": [
    {
     "name": "stdout",
     "output_type": "stream",
     "text": [
      "3\n",
      "(7072, 3)\n",
      "(7072, 94, 94)\n",
      "(7072, 94)\n"
     ]
    }
   ],
   "source": [
    "print(len(result.output))\n",
    "print(result.output[0].shape) # by default, operators come first\n",
    "print(result.output[1].shape) # we specified [\"full\", \"occ_x\"] => full density matrices\n",
    "print(result.output[2].shape) # we specified [\"full\", \"occ_x\"] => site occupations"
   ]
  },
  {
   "cell_type": "markdown",
   "id": "6728b167",
   "metadata": {},
   "source": [
    "## Automatic Convergence Check"
   ]
  },
  {
   "cell_type": "markdown",
   "id": "f8a2893b",
   "metadata": {},
   "source": [
    "TBD"
   ]
  },
  {
   "cell_type": "markdown",
   "id": "381391e9",
   "metadata": {},
   "source": [
    "## Parameters"
   ]
  },
  {
   "cell_type": "markdown",
   "id": "4c40f668",
   "metadata": {},
   "source": [
    "TBD"
   ]
  }
 ],
 "metadata": {
  "kernelspec": {
   "display_name": "base",
   "language": "python",
   "name": "base"
  },
  "language_info": {
   "codemirror_mode": {
    "name": "ipython",
    "version": 3
   },
   "file_extension": ".py",
   "mimetype": "text/x-python",
   "name": "python",
   "nbconvert_exporter": "python",
   "pygments_lexer": "ipython3",
   "version": "3.12.3"
  }
 },
 "nbformat": 4,
 "nbformat_minor": 5
}
