{
 "cells": [
  {
   "cell_type": "markdown",
   "id": "64741bdf",
   "metadata": {},
   "source": [
    "# Time-Domain simulations\n"
   ]
  },
  {
   "cell_type": "markdown",
   "id": "104fed61",
   "metadata": {},
   "source": [
    "We introduce time-domain simulations, which are based on GRANAD's default master equation"
   ]
  },
  {
   "cell_type": "markdown",
   "id": "5e46c46d",
   "metadata": {},
   "source": [
    "$$\\dot{\\rho}(t) = -i [H[t,\\rho(t)], \\rho] + \\mathcal{D}[t, \\rho]$$"
   ]
  },
  {
   "cell_type": "markdown",
   "id": "b2882518",
   "metadata": {},
   "source": [
    "The Hamiltonian is non-linear in the sense that the Coulomb term depends on the charge electronic distribution given by the time-dependent density matrix:"
   ]
  },
  {
   "cell_type": "markdown",
   "id": "667b99d8",
   "metadata": {},
   "source": [
    "$$H[t,\\rho(t)] = h^{0} + \\vec{E} \\vec{P} + C(\\rho(t) - \\rho^{0})$$"
   ]
  },
  {
   "cell_type": "markdown",
   "id": "41298524",
   "metadata": {},
   "source": [
    "where "
   ]
  },
  {
   "cell_type": "markdown",
   "id": "26369e4c",
   "metadata": {},
   "source": [
    "1. $h^{0}$ is the single-particle tight-binding Hamiltonian constructed from localized orbitals.\n",
    "2. $\\vec{P}$ is the dipole moment operator depending on lattice site positions $\\vec{r}$. Additonal dipole moment elements $\\vec{d}_{ij}$ between orbitals $i$, $j$ of the same site can be taken into account. This leads to an interatomic potential with unit charge $e$, given by $e \\vec{E} \\vec{r}$, and an intra-atomic potential $\\vec{E} \\vec{d}$.\n",
    "3. $\\rho^{0}$ is the stationary density matrix representing the system's ground state, and $C$ is the Coulomb matrix."
   ]
  },
  {
   "cell_type": "markdown",
   "id": "2be5eede",
   "metadata": {},
   "source": [
    "This expression is the dipole-gauge expression for the Hamiltonian including an external electric field $\\vec{E}$."
   ]
  },
  {
   "cell_type": "markdown",
   "id": "e8bc53b3",
   "metadata": {
    "lines_to_next_cell": 2
   },
   "source": [
    "## Observables"
   ]
  },
  {
   "cell_type": "markdown",
   "id": "e35e2f21",
   "metadata": {},
   "source": [
    "You can compute multiple observables in one simulation run"
   ]
  },
  {
   "cell_type": "code",
   "execution_count": 1,
   "id": "4130607d",
   "metadata": {
    "execution": {
     "iopub.execute_input": "2025-02-03T13:26:47.401431Z",
     "iopub.status.busy": "2025-02-03T13:26:47.401014Z",
     "iopub.status.idle": "2025-02-03T13:26:55.902354Z",
     "shell.execute_reply": "2025-02-03T13:26:55.901802Z"
    }
   },
   "outputs": [
    {
     "name": "stdout",
     "output_type": "stream",
     "text": [
      "RHS compiled\n",
      "RHS compiled\n"
     ]
    },
    {
     "name": "stdout",
     "output_type": "stream",
     "text": [
      "49.99262428086739 %\n"
     ]
    },
    {
     "name": "stdout",
     "output_type": "stream",
     "text": [
      "100.0 %\n"
     ]
    }
   ],
   "source": [
    "from granad import MaterialCatalog, Hexagon, Pulse\n",
    "flake = MaterialCatalog.get(\"graphene\").cut_flake( Hexagon(10) )\n",
    "\n",
    "pulse = Pulse(\n",
    "    amplitudes=[1e-5, 0, 0], frequency=2.3, peak=5, fwhm=2\n",
    ")\n",
    "\n",
    "operators = [flake.dipole_operator, flake.velocity_operator]\n",
    "\n",
    "result = flake.master_equation(\n",
    "    relaxation_rate = 1/10,\n",
    "    illumination = pulse,\n",
    "    expectation_values = operators,\n",
    "    end_time = 40,\n",
    "     )"
   ]
  },
  {
   "cell_type": "markdown",
   "id": "ad045426",
   "metadata": {},
   "source": [
    "The result object stores this information. Operators are concatenated in the order you passed them in."
   ]
  },
  {
   "cell_type": "code",
   "execution_count": 2,
   "id": "256ade14",
   "metadata": {
    "execution": {
     "iopub.execute_input": "2025-02-03T13:26:55.904190Z",
     "iopub.status.busy": "2025-02-03T13:26:55.904009Z",
     "iopub.status.idle": "2025-02-03T13:26:55.907599Z",
     "shell.execute_reply": "2025-02-03T13:26:55.907062Z"
    }
   },
   "outputs": [
    {
     "name": "stdout",
     "output_type": "stream",
     "text": [
      "1\n",
      "(6780, 6)\n"
     ]
    }
   ],
   "source": [
    "print(len(result.output))\n",
    "print(result.output[0].shape)"
   ]
  },
  {
   "cell_type": "markdown",
   "id": "78dcf202",
   "metadata": {},
   "source": [
    "The induced dipole moment at timestep 10 is given by"
   ]
  },
  {
   "cell_type": "code",
   "execution_count": 3,
   "id": "8459aa2d",
   "metadata": {
    "execution": {
     "iopub.execute_input": "2025-02-03T13:26:55.909289Z",
     "iopub.status.busy": "2025-02-03T13:26:55.908944Z",
     "iopub.status.idle": "2025-02-03T13:26:55.933416Z",
     "shell.execute_reply": "2025-02-03T13:26:55.932853Z"
    }
   },
   "outputs": [
    {
     "name": "stdout",
     "output_type": "stream",
     "text": [
      "[5.33244283e-13+0.j 2.88818969e-14+0.j 0.00000000e+00+0.j]\n"
     ]
    }
   ],
   "source": [
    "print(result.output[0][10,:3])"
   ]
  },
  {
   "cell_type": "markdown",
   "id": "85ed392b",
   "metadata": {},
   "source": [
    "Induced current at timestep 10"
   ]
  },
  {
   "cell_type": "code",
   "execution_count": 4,
   "id": "cc02deee",
   "metadata": {
    "execution": {
     "iopub.execute_input": "2025-02-03T13:26:55.935420Z",
     "iopub.status.busy": "2025-02-03T13:26:55.935078Z",
     "iopub.status.idle": "2025-02-03T13:26:55.939186Z",
     "shell.execute_reply": "2025-02-03T13:26:55.938574Z"
    },
    "lines_to_next_cell": 2
   },
   "outputs": [
    {
     "name": "stdout",
     "output_type": "stream",
     "text": [
      "[ 1.44993249e-11+4.56137326e-15j -8.45204584e-15+7.90053023e-15j\n",
      "  0.00000000e+00+0.00000000e+00j]\n"
     ]
    }
   ],
   "source": [
    "print(result.output[0][10,3:])"
   ]
  },
  {
   "cell_type": "markdown",
   "id": "df7d0bd7",
   "metadata": {},
   "source": [
    "We can access the Fourier transform as"
   ]
  },
  {
   "cell_type": "code",
   "execution_count": 5,
   "id": "b68cbb6f",
   "metadata": {
    "execution": {
     "iopub.execute_input": "2025-02-03T13:26:55.941058Z",
     "iopub.status.busy": "2025-02-03T13:26:55.940612Z",
     "iopub.status.idle": "2025-02-03T13:26:56.309031Z",
     "shell.execute_reply": "2025-02-03T13:26:56.308494Z"
    }
   },
   "outputs": [],
   "source": [
    "omega_min, omega_max = 0, 5\n",
    "omegas, pulse_omega = result.ft_illumination( omega_min = omega_min, omega_max = omega_max )\n",
    "output_omega = result.ft_output( omega_min = omega_min, omega_max = omega_max )[0]"
   ]
  },
  {
   "cell_type": "markdown",
   "id": "3435f907",
   "metadata": {},
   "source": [
    "The incident field is accessible via result.td_illumination, e.g.,"
   ]
  },
  {
   "cell_type": "code",
   "execution_count": 6,
   "id": "7f9025ba",
   "metadata": {
    "execution": {
     "iopub.execute_input": "2025-02-03T13:26:56.311261Z",
     "iopub.status.busy": "2025-02-03T13:26:56.310904Z",
     "iopub.status.idle": "2025-02-03T13:26:56.314319Z",
     "shell.execute_reply": "2025-02-03T13:26:56.313740Z"
    }
   },
   "outputs": [
    {
     "name": "stdout",
     "output_type": "stream",
     "text": [
      "(6780, 3)\n"
     ]
    }
   ],
   "source": [
    "print(result.td_illumination.shape)"
   ]
  },
  {
   "cell_type": "markdown",
   "id": "d18cb259",
   "metadata": {},
   "source": [
    "# Continuity equation example"
   ]
  },
  {
   "cell_type": "markdown",
   "id": "49b3e7c1",
   "metadata": {},
   "source": [
    "From the classical continuity equation for the charge and current density $\\rho(\\vec{r},t), \\vec{j}(\\vec{r},t)$ and dipole moment density $\\vec{p}(\\vec{r},t)$, we have"
   ]
  },
  {
   "cell_type": "markdown",
   "id": "bdd6e05d",
   "metadata": {},
   "source": [
    "$$\\dot{\\rho}(\\vec{r}, t) = -\\nabla \\vec{j}(\\vec{r}, t) = \\nabla \\dot{\\vec{p}}(\\vec{r}, t) \\implies \\dot{\\vec{p}}(\\vec{r},t) = \\vec{j}(\\vec{r},t)$$"
   ]
  },
  {
   "cell_type": "markdown",
   "id": "6176e874",
   "metadata": {},
   "source": [
    "After Fourier transformation, we obtain"
   ]
  },
  {
   "cell_type": "markdown",
   "id": "e5dede9d",
   "metadata": {},
   "source": [
    "$$-i\\omega \\vec{p}(\\vec{r}, \\omega) = \\vec{j}(\\vec{r}, \\omega)$$"
   ]
  },
  {
   "cell_type": "markdown",
   "id": "934b09c5",
   "metadata": {},
   "source": [
    "Its integrated form is given by"
   ]
  },
  {
   "cell_type": "markdown",
   "id": "51ef6a5d",
   "metadata": {},
   "source": [
    "$$\\int d\\vec{r} \\dot{\\vec{p}}(\\vec{r},t) = \\dot{\\vec{p}}(t) = \\int d\\vec{r} \\vec{j}(\\vec{r},t) =  \\vec{j}(t)$$ "
   ]
  },
  {
   "cell_type": "markdown",
   "id": "fce79f35",
   "metadata": {},
   "source": [
    "$\\vec{j}(t)$ and $\\vec{p}(t)$ are the total current and dipole moment respectively. We can\n",
    "obtain their expectation values directly from the time-domain simulations. The continuity equation above can be verified as follows"
   ]
  },
  {
   "cell_type": "code",
   "execution_count": 7,
   "id": "626b51ba",
   "metadata": {
    "execution": {
     "iopub.execute_input": "2025-02-03T13:26:56.316370Z",
     "iopub.status.busy": "2025-02-03T13:26:56.315925Z",
     "iopub.status.idle": "2025-02-03T13:26:56.716604Z",
     "shell.execute_reply": "2025-02-03T13:26:56.716028Z"
    },
    "lines_to_next_cell": 2
   },
   "outputs": [
    {
     "data": {
      "image/png": "[encoded data removed]",
      "text/plain": [
       "<Figure size 640x480 with 1 Axes>"
      ]
     },
     "metadata": {},
     "output_type": "display_data"
    }
   ],
   "source": [
    "import matplotlib.pyplot as plt\n",
    "p = -(omegas * output_omega[:,0]).imag\n",
    "j = output_omega[:,3].real\n",
    "plt.plot(omegas, p, label = r'$- \\text{Im}[\\omega p_x]$')\n",
    "plt.plot(omegas, j, '--', label = r'$\\text{Re}[j_x]$')\n",
    "plt.xlabel(r'$\\omega$ (eV)')\n",
    "plt.ylabel(r'$j$')\n",
    "plt.legend()\n",
    "plt.show()"
   ]
  },
  {
   "cell_type": "markdown",
   "id": "b0f0f120",
   "metadata": {},
   "source": [
    "## Density matrices"
   ]
  },
  {
   "cell_type": "markdown",
   "id": "65e3074f",
   "metadata": {},
   "source": [
    "If we want to find the time-dependent density matrices, we can omit the operator list. The result object then contains a one-element list."
   ]
  },
  {
   "cell_type": "code",
   "execution_count": 8,
   "id": "7d4e0395",
   "metadata": {
    "execution": {
     "iopub.execute_input": "2025-02-03T13:26:56.718679Z",
     "iopub.status.busy": "2025-02-03T13:26:56.718257Z",
     "iopub.status.idle": "2025-02-03T13:26:59.353483Z",
     "shell.execute_reply": "2025-02-03T13:26:59.352969Z"
    }
   },
   "outputs": [
    {
     "name": "stdout",
     "output_type": "stream",
     "text": [
      "RHS compiled\n",
      "RHS compiled\n"
     ]
    },
    {
     "name": "stdout",
     "output_type": "stream",
     "text": [
      "49.99262428086739 %\n"
     ]
    },
    {
     "name": "stdout",
     "output_type": "stream",
     "text": [
      "100.0 %\n",
      "(6780, 96, 96)\n"
     ]
    }
   ],
   "source": [
    "result = flake.master_equation(\n",
    "    relaxation_rate = 1/10,\n",
    "    illumination = pulse,\n",
    "    end_time = 40,\n",
    "    density_matrix = [\"full\"],\n",
    "     )\n",
    "density_matrix = result.output[0]\n",
    "print(density_matrix.shape)"
   ]
  },
  {
   "cell_type": "markdown",
   "id": "c4af178e",
   "metadata": {},
   "source": [
    "We can convert them to energy basis"
   ]
  },
  {
   "cell_type": "code",
   "execution_count": 9,
   "id": "50c631df",
   "metadata": {
    "execution": {
     "iopub.execute_input": "2025-02-03T13:26:59.355505Z",
     "iopub.status.busy": "2025-02-03T13:26:59.355142Z",
     "iopub.status.idle": "2025-02-03T13:27:01.292644Z",
     "shell.execute_reply": "2025-02-03T13:27:01.292185Z"
    }
   },
   "outputs": [
    {
     "name": "stdout",
     "output_type": "stream",
     "text": [
      "(6780, 96, 96)\n"
     ]
    }
   ],
   "source": [
    "density_matrix_e = flake.transform_to_energy_basis( density_matrix )\n",
    "print(density_matrix_e.shape)"
   ]
  },
  {
   "cell_type": "markdown",
   "id": "a03b2252",
   "metadata": {},
   "source": [
    "## Occupations"
   ]
  },
  {
   "cell_type": "markdown",
   "id": "c185abeb",
   "metadata": {},
   "source": [
    "To reduce memory consumption, we can extract only the site occupations to avoid storing the entire stack of density matices in memory."
   ]
  },
  {
   "cell_type": "code",
   "execution_count": 10,
   "id": "3dc35ceb",
   "metadata": {
    "execution": {
     "iopub.execute_input": "2025-02-03T13:27:01.294650Z",
     "iopub.status.busy": "2025-02-03T13:27:01.294139Z",
     "iopub.status.idle": "2025-02-03T13:27:03.878840Z",
     "shell.execute_reply": "2025-02-03T13:27:03.878261Z"
    }
   },
   "outputs": [
    {
     "name": "stdout",
     "output_type": "stream",
     "text": [
      "RHS compiled\n",
      "RHS compiled\n"
     ]
    },
    {
     "name": "stdout",
     "output_type": "stream",
     "text": [
      "49.99262428086739 %\n"
     ]
    },
    {
     "name": "stdout",
     "output_type": "stream",
     "text": [
      "100.0 %\n",
      "(6780, 96)\n"
     ]
    }
   ],
   "source": [
    "result = flake.master_equation(\n",
    "    relaxation_rate = 1/10,\n",
    "    illumination = pulse,\n",
    "    density_matrix = [\"occ_x\"],\n",
    "    end_time = 40,\n",
    "     )\n",
    "occ_x = result.output[0]\n",
    "print(occ_x.shape)"
   ]
  },
  {
   "cell_type": "markdown",
   "id": "df09835b",
   "metadata": {},
   "source": [
    "Further reduction of the memory consumption can be controlled by the grid argument, which describes the density of the time domain sampling grid, explained in the API section on the `master_equation` method."
   ]
  },
  {
   "cell_type": "markdown",
   "id": "dbcadc42",
   "metadata": {},
   "source": [
    "## Energy occupations"
   ]
  },
  {
   "cell_type": "markdown",
   "id": "a75ea82f",
   "metadata": {},
   "source": [
    "Similarly to site occupations, energy occupations can also be obtained from the time-domain simulations."
   ]
  },
  {
   "cell_type": "markdown",
   "id": "a8cd55d8",
   "metadata": {},
   "source": [
    "*Warning*: this introduces additional cubic complexity "
   ]
  },
  {
   "cell_type": "code",
   "execution_count": 11,
   "id": "8927aca2",
   "metadata": {
    "execution": {
     "iopub.execute_input": "2025-02-03T13:27:03.881126Z",
     "iopub.status.busy": "2025-02-03T13:27:03.880616Z",
     "iopub.status.idle": "2025-02-03T13:27:09.620196Z",
     "shell.execute_reply": "2025-02-03T13:27:09.619660Z"
    }
   },
   "outputs": [
    {
     "name": "stdout",
     "output_type": "stream",
     "text": [
      "RHS compiled\n",
      "RHS compiled\n"
     ]
    },
    {
     "name": "stdout",
     "output_type": "stream",
     "text": [
      "49.99262428086739 %\n"
     ]
    },
    {
     "name": "stdout",
     "output_type": "stream",
     "text": [
      "100.0 %\n"
     ]
    },
    {
     "data": {
      "image/png": "[encoded data removed]",
      "text/plain": [
       "<Figure size 640x480 with 1 Axes>"
      ]
     },
     "metadata": {},
     "output_type": "display_data"
    }
   ],
   "source": [
    "result = flake.master_equation(\n",
    "    relaxation_rate = 1/10,\n",
    "    density_matrix = [\"occ_e\"],\n",
    "    end_time = 40,\n",
    "     )\n",
    "flake.show_res(result, plot_only = [flake.homo, flake.homo+1], plot_labels = [\"homo\", \"lumo\"], show_illumination = False )"
   ]
  },
  {
   "cell_type": "markdown",
   "id": "018e6ca4",
   "metadata": {},
   "source": [
    "## Initially excited states"
   ]
  },
  {
   "cell_type": "markdown",
   "id": "421a3c77",
   "metadata": {},
   "source": [
    "GRANAD allows to set initially excited states by specifying the single-particle transition in the density matrix as follows"
   ]
  },
  {
   "cell_type": "code",
   "execution_count": 12,
   "id": "2c65076b",
   "metadata": {
    "execution": {
     "iopub.execute_input": "2025-02-03T13:27:09.622201Z",
     "iopub.status.busy": "2025-02-03T13:27:09.621813Z",
     "iopub.status.idle": "2025-02-03T13:27:11.012818Z",
     "shell.execute_reply": "2025-02-03T13:27:11.012211Z"
    }
   },
   "outputs": [
    {
     "data": {
      "image/png": "[encoded data removed]",
      "text/plain": [
       "<Figure size 640x480 with 2 Axes>"
      ]
     },
     "metadata": {},
     "output_type": "display_data"
    }
   ],
   "source": [
    "flake.set_excitation( flake.homo, flake.lumo, 1)\n",
    "flake.show_energies()"
   ]
  },
  {
   "cell_type": "markdown",
   "id": "c70c5a89",
   "metadata": {},
   "source": [
    "In case of degeneracies, GRANAD distributes electrons equally among all degenerate energy levels, as demonstrated in the figure above."
   ]
  },
  {
   "cell_type": "markdown",
   "id": "ebd49674",
   "metadata": {},
   "source": [
    "## Combinations"
   ]
  },
  {
   "cell_type": "markdown",
   "id": "e9d3f6a0",
   "metadata": {},
   "source": [
    "We can also extract multiple quantities at the same time"
   ]
  },
  {
   "cell_type": "code",
   "execution_count": 13,
   "id": "1055fc1d",
   "metadata": {
    "execution": {
     "iopub.execute_input": "2025-02-03T13:27:11.014727Z",
     "iopub.status.busy": "2025-02-03T13:27:11.014539Z",
     "iopub.status.idle": "2025-02-03T13:27:13.915539Z",
     "shell.execute_reply": "2025-02-03T13:27:13.915032Z"
    }
   },
   "outputs": [
    {
     "name": "stdout",
     "output_type": "stream",
     "text": [
      "RHS compiled\n",
      "RHS compiled\n"
     ]
    },
    {
     "name": "stdout",
     "output_type": "stream",
     "text": [
      "49.99262428086739 %\n"
     ]
    },
    {
     "name": "stdout",
     "output_type": "stream",
     "text": [
      "100.0 %\n"
     ]
    }
   ],
   "source": [
    "result = flake.master_equation(\n",
    "    relaxation_rate = 1/10,\n",
    "    density_matrix = [\"full\", \"occ_x\"],\n",
    "    expectation_values = [flake.dipole_operator],\n",
    "    end_time = 40,\n",
    "    illumination = pulse,\n",
    ")"
   ]
  },
  {
   "cell_type": "markdown",
   "id": "0bca992a",
   "metadata": {},
   "source": [
    "The output will now contain three arrays: induced dipole moments, site occupations and full density matrices"
   ]
  },
  {
   "cell_type": "code",
   "execution_count": 14,
   "id": "1556de9b",
   "metadata": {
    "execution": {
     "iopub.execute_input": "2025-02-03T13:27:13.917554Z",
     "iopub.status.busy": "2025-02-03T13:27:13.917216Z",
     "iopub.status.idle": "2025-02-03T13:27:13.921121Z",
     "shell.execute_reply": "2025-02-03T13:27:13.920500Z"
    }
   },
   "outputs": [
    {
     "name": "stdout",
     "output_type": "stream",
     "text": [
      "3\n",
      "(6780, 3)\n",
      "(6780, 96, 96)\n",
      "(6780, 96)\n"
     ]
    }
   ],
   "source": [
    "print(len(result.output))\n",
    "print(result.output[0].shape) # by default, operators come first\n",
    "print(result.output[1].shape) # we specified [\"full\", \"occ_x\"] => full density matrices\n",
    "print(result.output[2].shape) # we specified [\"full\", \"occ_x\"] => site occupations"
   ]
  },
  {
   "cell_type": "markdown",
   "id": "b96c8c34",
   "metadata": {},
   "source": [
    "## EPI"
   ]
  },
  {
   "cell_type": "markdown",
   "id": "4ab4afce",
   "metadata": {},
   "source": [
    "The energy-based plasmonicity index introduced by [Müller et al.](https://pubs.acs.org/doi/10.1021/acs.jpcc.0c07964) is a quantity to characterize the steady-state plasmonicity. We use plane wave illumination to drive the system into a steady state and then compute the EPI."
   ]
  },
  {
   "cell_type": "code",
   "execution_count": 15,
   "id": "adecf261",
   "metadata": {
    "execution": {
     "iopub.execute_input": "2025-02-03T13:27:13.922893Z",
     "iopub.status.busy": "2025-02-03T13:27:13.922546Z",
     "iopub.status.idle": "2025-02-03T13:27:16.759862Z",
     "shell.execute_reply": "2025-02-03T13:27:16.759375Z"
    },
    "lines_to_next_cell": 2
   },
   "outputs": [
    {
     "name": "stdout",
     "output_type": "stream",
     "text": [
      "RHS compiled\n",
      "RHS compiled\n"
     ]
    },
    {
     "name": "stdout",
     "output_type": "stream",
     "text": [
      "49.99262428086739 %\n"
     ]
    },
    {
     "name": "stdout",
     "output_type": "stream",
     "text": [
      "100.0 %\n"
     ]
    },
    {
     "name": "stdout",
     "output_type": "stream",
     "text": [
      "0.8492060922782898\n"
     ]
    }
   ],
   "source": [
    "import jax.numpy as jnp\n",
    "from granad import Wave\n",
    "\n",
    "omega = 2.5 # we pick the approximate resonance at 2.5 \n",
    "res = flake.master_equation(\n",
    "    relaxation_rate = 1/10,\n",
    "    illumination = Wave(frequency = omega, amplitudes = [1e-5, 0, 0]),\n",
    "    end_time = 40)\n",
    "\n",
    "# numerical broadening parameter of 0.05 eV\n",
    "epsilon = 0.05\n",
    "\n",
    "# print and compute the EPI\n",
    "print(flake.get_epi(res.final_density_matrix, omega = omega, epsilon = epsilon))"
   ]
  },
  {
   "cell_type": "markdown",
   "id": "202f5ccd",
   "metadata": {},
   "source": [
    "## Important note\n",
    "The diffrax solver adjusts the simulation parameters automatically depending on the initial values of physical parameters.\n",
    "Running stable calculations might require some fine tuning.\n",
    "Example scripts providing working setups are provided here."
   ]
  }
 ],
 "metadata": {
  "kernelspec": {
   "display_name": "base",
   "language": "python",
   "name": "base"
  },
  "language_info": {
   "codemirror_mode": {
    "name": "ipython",
    "version": 3
   },
   "file_extension": ".py",
   "mimetype": "text/x-python",
   "name": "python",
   "nbconvert_exporter": "python",
   "pygments_lexer": "ipython3",
   "version": "3.12.8"
  }
 },
 "nbformat": 4,
 "nbformat_minor": 5
}
