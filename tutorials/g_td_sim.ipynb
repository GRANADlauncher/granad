{
 "cells": [
  {
   "cell_type": "markdown",
   "id": "036954a0",
   "metadata": {},
   "source": [
    "# Time-Domain simulations\n"
   ]
  },
  {
   "cell_type": "markdown",
   "id": "be3f8e8d",
   "metadata": {},
   "source": [
    "We introduce time-domain simulations, which are based on GRANAD's default master equation"
   ]
  },
  {
   "cell_type": "markdown",
   "id": "fa2dc0c4",
   "metadata": {},
   "source": [
    "$$\\dot{\\rho}(t) = -i [H[t,\\rho(t)], \\rho] + \\mathcal{D}[t, \\rho]$$"
   ]
  },
  {
   "cell_type": "markdown",
   "id": "ac0e210f",
   "metadata": {},
   "source": [
    "The non-linear Hamiltonian is given by"
   ]
  },
  {
   "cell_type": "markdown",
   "id": "b4373647",
   "metadata": {},
   "source": [
    "$$H[t,\\rho(t)] = h^{0} + \\vec{E} \\vec{P} + C(\\rho(t) - \\rho^{0})$$"
   ]
  },
  {
   "cell_type": "markdown",
   "id": "ddd434c2",
   "metadata": {},
   "source": [
    "where "
   ]
  },
  {
   "cell_type": "markdown",
   "id": "dd7410d7",
   "metadata": {},
   "source": [
    "1. $h^{0}$ is the unperturbed or bare Hamiltonian constructed from localized orbitals.\n",
    "2. $\\vec{P}$ is the dipole moment operator depending on space $\\vec{r}$ and transition dipole moments $\\vec{d}$, leading to an interatomic potential with unit charge $e$, given by $e \\vec{E} \\vec{r}$, and an intra-atomic potential $\\vec{E} \\vec{d}$.\n",
    "3. $\\rho^{0}$ is the stationary density matrix of the system's ground state, and $C$ is the Coulomb matrix (a subset of two-body matrix elements)."
   ]
  },
  {
   "cell_type": "markdown",
   "id": "e38aeb55",
   "metadata": {},
   "source": [
    "This expression is the dipole-gauge expression for the Hamiltonian including an external electric field $\\vec{E}$."
   ]
  },
  {
   "cell_type": "markdown",
   "id": "ec7cb0ef",
   "metadata": {
    "lines_to_next_cell": 2
   },
   "source": [
    "## Observables"
   ]
  },
  {
   "cell_type": "markdown",
   "id": "980d46e1",
   "metadata": {},
   "source": [
    "You can compute multiple observables in one simulation run"
   ]
  },
  {
   "cell_type": "code",
   "execution_count": 1,
   "id": "57b73672",
   "metadata": {
    "execution": {
     "iopub.execute_input": "2024-08-15T13:44:09.854141Z",
     "iopub.status.busy": "2024-08-15T13:44:09.853941Z",
     "iopub.status.idle": "2024-08-15T13:44:20.176245Z",
     "shell.execute_reply": "2024-08-15T13:44:20.175667Z"
    }
   },
   "outputs": [
    {
     "name": "stdout",
     "output_type": "stream",
     "text": [
      "RHS compiled\n",
      "RHS compiled\n"
     ]
    },
    {
     "name": "stdout",
     "output_type": "stream",
     "text": [
      "49.992928864375614 %\n"
     ]
    },
    {
     "name": "stdout",
     "output_type": "stream",
     "text": [
      "100.0 %\n"
     ]
    }
   ],
   "source": [
    "from granad import MaterialCatalog, Hexagon, Pulse\n",
    "flake = MaterialCatalog.get(\"graphene\").cut_flake( Hexagon(10) )\n",
    "\n",
    "pulse = Pulse(\n",
    "    amplitudes=[1e-5, 0, 0], frequency=2.3, peak=5, fwhm=2\n",
    ")\n",
    "\n",
    "operators = [flake.dipole_operator, flake.velocity_operator]\n",
    "\n",
    "result = flake.master_equation(\n",
    "    relaxation_rate = 1/10,\n",
    "    illumination = pulse,\n",
    "    expectation_values = operators,\n",
    "    end_time = 40,\n",
    "     )"
   ]
  },
  {
   "cell_type": "markdown",
   "id": "a82bbee1",
   "metadata": {},
   "source": [
    "The result object stores this info. Operators are concatenated in the order you passed them in."
   ]
  },
  {
   "cell_type": "code",
   "execution_count": 2,
   "id": "7ce49b4a",
   "metadata": {
    "execution": {
     "iopub.execute_input": "2024-08-15T13:44:20.178980Z",
     "iopub.status.busy": "2024-08-15T13:44:20.178508Z",
     "iopub.status.idle": "2024-08-15T13:44:20.182580Z",
     "shell.execute_reply": "2024-08-15T13:44:20.181898Z"
    }
   },
   "outputs": [
    {
     "name": "stdout",
     "output_type": "stream",
     "text": [
      "1\n",
      "(7072, 6)\n"
     ]
    }
   ],
   "source": [
    "print(len(result.output))\n",
    "print(result.output[0].shape)"
   ]
  },
  {
   "cell_type": "markdown",
   "id": "ad027ec8",
   "metadata": {},
   "source": [
    "The induced dipole moment at timestep 10 is given by"
   ]
  },
  {
   "cell_type": "code",
   "execution_count": 3,
   "id": "6aab440e",
   "metadata": {
    "execution": {
     "iopub.execute_input": "2024-08-15T13:44:20.185101Z",
     "iopub.status.busy": "2024-08-15T13:44:20.184587Z",
     "iopub.status.idle": "2024-08-15T13:44:20.212746Z",
     "shell.execute_reply": "2024-08-15T13:44:20.212124Z"
    }
   },
   "outputs": [
    {
     "name": "stdout",
     "output_type": "stream",
     "text": [
      "[5.19272438e-13+0.j 7.16792153e-14+0.j 0.00000000e+00+0.j]\n"
     ]
    }
   ],
   "source": [
    "print(result.output[0][10,:3])"
   ]
  },
  {
   "cell_type": "markdown",
   "id": "565036af",
   "metadata": {},
   "source": [
    "Induced current at timestep 10"
   ]
  },
  {
   "cell_type": "code",
   "execution_count": 4,
   "id": "52a34fdc",
   "metadata": {
    "execution": {
     "iopub.execute_input": "2024-08-15T13:44:20.215450Z",
     "iopub.status.busy": "2024-08-15T13:44:20.214954Z",
     "iopub.status.idle": "2024-08-15T13:44:20.219670Z",
     "shell.execute_reply": "2024-08-15T13:44:20.219043Z"
    },
    "lines_to_next_cell": 2
   },
   "outputs": [
    {
     "name": "stdout",
     "output_type": "stream",
     "text": [
      "[ 1.41707761e-11-5.33512817e-15j -4.31137844e-15+8.93268929e-15j\n",
      "  0.00000000e+00+0.00000000e+00j]\n"
     ]
    }
   ],
   "source": [
    "print(result.output[0][10,3:])"
   ]
  },
  {
   "cell_type": "markdown",
   "id": "95efb4d0",
   "metadata": {},
   "source": [
    "We can access the Fourier transform as"
   ]
  },
  {
   "cell_type": "code",
   "execution_count": 5,
   "id": "f10de4e5",
   "metadata": {
    "execution": {
     "iopub.execute_input": "2024-08-15T13:44:20.222052Z",
     "iopub.status.busy": "2024-08-15T13:44:20.221696Z",
     "iopub.status.idle": "2024-08-15T13:44:20.534161Z",
     "shell.execute_reply": "2024-08-15T13:44:20.533507Z"
    }
   },
   "outputs": [],
   "source": [
    "omega_min, omega_max = 0, 5\n",
    "omegas, pulse_omega = result.ft_illumination( omega_min = omega_min, omega_max = omega_max )\n",
    "output_omega = result.ft_output( omega_min = omega_min, omega_max = omega_max )[0]"
   ]
  },
  {
   "cell_type": "markdown",
   "id": "7077064c",
   "metadata": {},
   "source": [
    "From the classical continuity equation for the charge and current density $\\rho(\\vec{r},t), \\vec{j}(\\vec{r},t)$ and dipole moment density $\\vec{p}(\\vec{r},t)$, we have"
   ]
  },
  {
   "cell_type": "markdown",
   "id": "029b2ec9",
   "metadata": {},
   "source": [
    "$$\\dot{\\rho}(\\vec{r}, t) = -\\nabla \\vec{j}(\\vec{r}, t) = \\nabla \\dot{\\vec{p}}(\\vec{r}, t) \\implies \\dot{\\vec{p}}(\\vec{r},t) = \\vec{j}(\\vec{r},t)$$"
   ]
  },
  {
   "cell_type": "markdown",
   "id": "37f5ea2f",
   "metadata": {},
   "source": [
    "After Fourier transformation, we obtain"
   ]
  },
  {
   "cell_type": "markdown",
   "id": "aafd2239",
   "metadata": {},
   "source": [
    "$$-i\\omega \\vec{p}(\\vec{r}, \\omega) = \\vec{j}(\\vec{r}, \\omega)$$"
   ]
  },
  {
   "cell_type": "markdown",
   "id": "9096cc14",
   "metadata": {},
   "source": [
    "Its integrated form is given by"
   ]
  },
  {
   "cell_type": "markdown",
   "id": "3c55bf16",
   "metadata": {},
   "source": [
    "$$\\int d\\vec{r} \\dot{\\vec{p}}(\\vec{r},t) = \\dot{\\vec{p}}(t) = \\int d\\vec{r} \\vec{j}(\\vec{r},t) =  \\vec{j}(t)$$ "
   ]
  },
  {
   "cell_type": "markdown",
   "id": "d856f92d",
   "metadata": {},
   "source": [
    "$\\vec{j}(t)$ and $\\vec{p}(t)$ are the total current and dipole moment respectively. As classical quantities are given by ensemble averages of quantum operators, we can\n",
    "obtain these quantities directly from the time-domain simulations. The (integrated) continuity equation above can be verified as follows"
   ]
  },
  {
   "cell_type": "code",
   "execution_count": 6,
   "id": "da299fc8",
   "metadata": {
    "execution": {
     "iopub.execute_input": "2024-08-15T13:44:20.537335Z",
     "iopub.status.busy": "2024-08-15T13:44:20.536858Z",
     "iopub.status.idle": "2024-08-15T13:44:20.991325Z",
     "shell.execute_reply": "2024-08-15T13:44:20.990680Z"
    },
    "lines_to_next_cell": 2
   },
   "outputs": [
    {
     "data": {
      "image/png": "[encoded data removed]",
      "text/plain": [
       "<Figure size 640x480 with 1 Axes>"
      ]
     },
     "metadata": {},
     "output_type": "display_data"
    }
   ],
   "source": [
    "import matplotlib.pyplot as plt\n",
    "p = -(omegas * output_omega[:,0]).imag\n",
    "j = output_omega[:,3].real\n",
    "plt.plot(omegas, p, label = r'$- \\text{Im}[\\omega p_x]$')\n",
    "plt.plot(omegas, j, '--', label = r'$\\text{Re}[j_x]$')\n",
    "plt.xlabel(r'$\\omega$ (eV)')\n",
    "plt.ylabel(r'$j$')\n",
    "plt.legend()\n",
    "plt.show()"
   ]
  },
  {
   "cell_type": "markdown",
   "id": "a9753d05",
   "metadata": {},
   "source": [
    "The field is also accessible"
   ]
  },
  {
   "cell_type": "code",
   "execution_count": 7,
   "id": "83f34bfb",
   "metadata": {
    "execution": {
     "iopub.execute_input": "2024-08-15T13:44:20.994195Z",
     "iopub.status.busy": "2024-08-15T13:44:20.993659Z",
     "iopub.status.idle": "2024-08-15T13:44:20.997549Z",
     "shell.execute_reply": "2024-08-15T13:44:20.996932Z"
    }
   },
   "outputs": [
    {
     "name": "stdout",
     "output_type": "stream",
     "text": [
      "(7072, 3)\n"
     ]
    }
   ],
   "source": [
    "print(result.td_illumination.shape)"
   ]
  },
  {
   "cell_type": "markdown",
   "id": "89be8185",
   "metadata": {},
   "source": [
    "## Density matrices"
   ]
  },
  {
   "cell_type": "markdown",
   "id": "2163fb63",
   "metadata": {},
   "source": [
    "If we want to only get density matrices, we can  omit the operator list. The result object then contains a one-element list."
   ]
  },
  {
   "cell_type": "code",
   "execution_count": 8,
   "id": "307c122a",
   "metadata": {
    "execution": {
     "iopub.execute_input": "2024-08-15T13:44:20.999855Z",
     "iopub.status.busy": "2024-08-15T13:44:20.999525Z",
     "iopub.status.idle": "2024-08-15T13:44:23.637085Z",
     "shell.execute_reply": "2024-08-15T13:44:23.636454Z"
    }
   },
   "outputs": [
    {
     "name": "stdout",
     "output_type": "stream",
     "text": [
      "RHS compiled\n",
      "RHS compiled\n"
     ]
    },
    {
     "name": "stdout",
     "output_type": "stream",
     "text": [
      "49.992928864375614 %\n"
     ]
    },
    {
     "name": "stdout",
     "output_type": "stream",
     "text": [
      "100.0 %\n",
      "(7072, 94, 94)\n"
     ]
    }
   ],
   "source": [
    "result = flake.master_equation(\n",
    "    relaxation_rate = 1/10,\n",
    "    illumination = pulse,\n",
    "    end_time = 40,\n",
    "    density_matrix = [\"full\"], # this argument may be removed\n",
    "     )\n",
    "density_matrix = result.output[0]\n",
    "print(density_matrix.shape)"
   ]
  },
  {
   "cell_type": "markdown",
   "id": "127e0461",
   "metadata": {},
   "source": [
    "We can convert them to energy basis"
   ]
  },
  {
   "cell_type": "code",
   "execution_count": 9,
   "id": "86109aa1",
   "metadata": {
    "execution": {
     "iopub.execute_input": "2024-08-15T13:44:23.639589Z",
     "iopub.status.busy": "2024-08-15T13:44:23.639190Z",
     "iopub.status.idle": "2024-08-15T13:44:25.532652Z",
     "shell.execute_reply": "2024-08-15T13:44:25.532060Z"
    }
   },
   "outputs": [
    {
     "name": "stdout",
     "output_type": "stream",
     "text": [
      "(7072, 94, 94)\n"
     ]
    }
   ],
   "source": [
    "density_matrix_e = flake.transform_to_energy_basis( density_matrix )\n",
    "print(density_matrix_e.shape)"
   ]
  },
  {
   "cell_type": "markdown",
   "id": "a2a746b1",
   "metadata": {},
   "source": [
    "## Occupations"
   ]
  },
  {
   "cell_type": "markdown",
   "id": "9c151280",
   "metadata": {},
   "source": [
    "To reduce memory consumption, we can extract only the site occupations to avoid storing the entire stack of density matices in memory. "
   ]
  },
  {
   "cell_type": "code",
   "execution_count": 10,
   "id": "3623fa09",
   "metadata": {
    "execution": {
     "iopub.execute_input": "2024-08-15T13:44:25.535544Z",
     "iopub.status.busy": "2024-08-15T13:44:25.535067Z",
     "iopub.status.idle": "2024-08-15T13:44:28.241286Z",
     "shell.execute_reply": "2024-08-15T13:44:28.240647Z"
    }
   },
   "outputs": [
    {
     "name": "stdout",
     "output_type": "stream",
     "text": [
      "RHS compiled\n",
      "RHS compiled\n"
     ]
    },
    {
     "name": "stdout",
     "output_type": "stream",
     "text": [
      "49.992928864375614 %\n"
     ]
    },
    {
     "name": "stdout",
     "output_type": "stream",
     "text": [
      "100.0 %\n",
      "(7072, 94)\n"
     ]
    }
   ],
   "source": [
    "result = flake.master_equation(\n",
    "    relaxation_rate = 1/10,\n",
    "    illumination = pulse,\n",
    "    density_matrix = [\"occ_x\"],\n",
    "    end_time = 40,\n",
    "     )\n",
    "occ_x = result.output[0]\n",
    "print(occ_x.shape)"
   ]
  },
  {
   "cell_type": "markdown",
   "id": "43321a19",
   "metadata": {},
   "source": [
    "Further reduction of the memory consumption can be controlled by the grid argument, which describes the density of the time domain sampling grid, explained in the API section on the `master_equation` method."
   ]
  },
  {
   "cell_type": "markdown",
   "id": "6f2078cc",
   "metadata": {},
   "source": [
    "## Initially excited states"
   ]
  },
  {
   "cell_type": "markdown",
   "id": "483402c5",
   "metadata": {},
   "source": [
    "GRANAD allows to set initially excited states by specifying the single-particle transition in the density matrix as follows"
   ]
  },
  {
   "cell_type": "code",
   "execution_count": 11,
   "id": "bb993010",
   "metadata": {
    "execution": {
     "iopub.execute_input": "2024-08-15T13:44:28.243701Z",
     "iopub.status.busy": "2024-08-15T13:44:28.243497Z",
     "iopub.status.idle": "2024-08-15T13:44:29.548775Z",
     "shell.execute_reply": "2024-08-15T13:44:29.548082Z"
    }
   },
   "outputs": [
    {
     "data": {
      "image/png": "[encoded data removed]",
      "text/plain": [
       "<Figure size 640x480 with 2 Axes>"
      ]
     },
     "metadata": {},
     "output_type": "display_data"
    }
   ],
   "source": [
    "flake.set_excitation( flake.homo, flake.homo + 1, 1)\n",
    "flake.show_energies()"
   ]
  },
  {
   "cell_type": "markdown",
   "id": "ea0a4aa7",
   "metadata": {},
   "source": [
    "In case of degeneracies, GRANAD distributes electrons equally among all degenerate energy levels, as demonstrated in the figure above."
   ]
  },
  {
   "cell_type": "markdown",
   "id": "dbeeb84a",
   "metadata": {},
   "source": [
    "## Energy occupations"
   ]
  },
  {
   "cell_type": "markdown",
   "id": "3dfd458b",
   "metadata": {},
   "source": [
    "Similarly to site occupations, only energy occupations can also be obtained from the time-domain simulations."
   ]
  },
  {
   "cell_type": "markdown",
   "id": "5dab378c",
   "metadata": {},
   "source": [
    "*Warning*: this introduces additional cubic complexity "
   ]
  },
  {
   "cell_type": "code",
   "execution_count": 12,
   "id": "f5e72ec6",
   "metadata": {
    "execution": {
     "iopub.execute_input": "2024-08-15T13:44:29.551159Z",
     "iopub.status.busy": "2024-08-15T13:44:29.550950Z",
     "iopub.status.idle": "2024-08-15T13:44:35.829328Z",
     "shell.execute_reply": "2024-08-15T13:44:35.828706Z"
    }
   },
   "outputs": [
    {
     "name": "stdout",
     "output_type": "stream",
     "text": [
      "RHS compiled\n",
      "RHS compiled\n"
     ]
    },
    {
     "name": "stdout",
     "output_type": "stream",
     "text": [
      "49.992928864375614 %\n"
     ]
    },
    {
     "name": "stdout",
     "output_type": "stream",
     "text": [
      "100.0 %\n"
     ]
    },
    {
     "data": {
      "image/png": "[encoded data removed]",
      "text/plain": [
       "<Figure size 640x480 with 1 Axes>"
      ]
     },
     "metadata": {},
     "output_type": "display_data"
    }
   ],
   "source": [
    "result = flake.master_equation(\n",
    "    relaxation_rate = 1/10,\n",
    "    density_matrix = [\"occ_e\"],\n",
    "    end_time = 40,\n",
    "     )\n",
    "flake.show_res(result, plot_only = [flake.homo, flake.homo+1], plot_labels = [\"homo\", \"lumo\"], show_illumination = False )"
   ]
  },
  {
   "cell_type": "markdown",
   "id": "167c9af5",
   "metadata": {},
   "source": [
    "## Combinations"
   ]
  },
  {
   "cell_type": "markdown",
   "id": "af209453",
   "metadata": {},
   "source": [
    "We can also extract multiple quantities at the same time"
   ]
  },
  {
   "cell_type": "code",
   "execution_count": 13,
   "id": "54dd5941",
   "metadata": {
    "execution": {
     "iopub.execute_input": "2024-08-15T13:44:35.831897Z",
     "iopub.status.busy": "2024-08-15T13:44:35.831441Z",
     "iopub.status.idle": "2024-08-15T13:44:39.806537Z",
     "shell.execute_reply": "2024-08-15T13:44:39.805901Z"
    }
   },
   "outputs": [
    {
     "name": "stdout",
     "output_type": "stream",
     "text": [
      "RHS compiled\n",
      "RHS compiled\n"
     ]
    },
    {
     "name": "stdout",
     "output_type": "stream",
     "text": [
      "49.992928864375614 %\n"
     ]
    },
    {
     "name": "stdout",
     "output_type": "stream",
     "text": [
      "100.0 %\n"
     ]
    }
   ],
   "source": [
    "result = flake.master_equation(\n",
    "    relaxation_rate = 1/10,\n",
    "    density_matrix = [\"full\", \"occ_x\"],\n",
    "    expectation_values = [flake.dipole_operator],\n",
    "    end_time = 40,\n",
    "    illumination = pulse,\n",
    ")"
   ]
  },
  {
   "cell_type": "markdown",
   "id": "b8b35938",
   "metadata": {},
   "source": [
    "The output will now contain three arrays: induced dipole moments, site occupations and full density matrices"
   ]
  },
  {
   "cell_type": "code",
   "execution_count": 14,
   "id": "bd9050f8",
   "metadata": {
    "execution": {
     "iopub.execute_input": "2024-08-15T13:44:39.809040Z",
     "iopub.status.busy": "2024-08-15T13:44:39.808841Z",
     "iopub.status.idle": "2024-08-15T13:44:39.813017Z",
     "shell.execute_reply": "2024-08-15T13:44:39.812419Z"
    }
   },
   "outputs": [
    {
     "name": "stdout",
     "output_type": "stream",
     "text": [
      "3\n",
      "(7072, 3)\n",
      "(7072, 94, 94)\n",
      "(7072, 94)\n"
     ]
    }
   ],
   "source": [
    "print(len(result.output))\n",
    "print(result.output[0].shape) # by default, operators come first\n",
    "print(result.output[1].shape) # we specified [\"full\", \"occ_x\"] => full density matrices\n",
    "print(result.output[2].shape) # we specified [\"full\", \"occ_x\"] => site occupations"
   ]
  },
  {
   "cell_type": "markdown",
   "id": "a0ad0e69",
   "metadata": {},
   "source": [
    "## EPI"
   ]
  },
  {
   "cell_type": "markdown",
   "id": "ba832a0a",
   "metadata": {},
   "source": [
    "The energy-based plasmonicity index is a quantity to characterize the steady-state plasmonicity. We use plane wave illumination to drive the system into a steady state and then compute the EPI"
   ]
  },
  {
   "cell_type": "code",
   "execution_count": 15,
   "id": "c22737ca",
   "metadata": {
    "execution": {
     "iopub.execute_input": "2024-08-15T13:44:39.815335Z",
     "iopub.status.busy": "2024-08-15T13:44:39.815004Z",
     "iopub.status.idle": "2024-08-15T13:44:43.802014Z",
     "shell.execute_reply": "2024-08-15T13:44:43.801456Z"
    }
   },
   "outputs": [
    {
     "name": "stdout",
     "output_type": "stream",
     "text": [
      "RHS compiled\n",
      "RHS compiled\n"
     ]
    },
    {
     "name": "stdout",
     "output_type": "stream",
     "text": [
      "49.992928864375614 %\n"
     ]
    },
    {
     "name": "stdout",
     "output_type": "stream",
     "text": [
      "100.0 %\n"
     ]
    },
    {
     "name": "stdout",
     "output_type": "stream",
     "text": [
      "0.7619978183025958\n"
     ]
    }
   ],
   "source": [
    "import jax.numpy as jnp\n",
    "from granad import Wave\n",
    "\n",
    "omega = 2.5 # we pick the approximate resonance at 2.5 \n",
    "res = flake.master_equation(\n",
    "    relaxation_rate = 1/10,\n",
    "    illumination = Wave(frequency = omega / 2 * jnp.pi, amplitudes = [1e-5, 0, 0]),\n",
    "    end_time = 40)\n",
    "\n",
    "# numerical broadening parameter of 0.05 eV\n",
    "epsilon = 0.05\n",
    "\n",
    "# print and compute the EPI\n",
    "print(flake.get_epi(res.final_density_matrix, omega = omega, epsilon = epsilon))"
   ]
  }
 ],
 "metadata": {
  "kernelspec": {
   "display_name": "base",
   "language": "python",
   "name": "base"
  },
  "language_info": {
   "codemirror_mode": {
    "name": "ipython",
    "version": 3
   },
   "file_extension": ".py",
   "mimetype": "text/x-python",
   "name": "python",
   "nbconvert_exporter": "python",
   "pygments_lexer": "ipython3",
   "version": "3.12.4"
  }
 },
 "nbformat": 4,
 "nbformat_minor": 5
}
