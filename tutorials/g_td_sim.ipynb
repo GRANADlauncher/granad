{
 "cells": [
  {
   "cell_type": "markdown",
   "id": "841a000c",
   "metadata": {},
   "source": [
    "# Time-Domain simulations\n"
   ]
  },
  {
   "cell_type": "markdown",
   "id": "704442e0",
   "metadata": {},
   "source": [
    "We introduce time-domain simulations, which are based on GRANAD's default master equation"
   ]
  },
  {
   "cell_type": "markdown",
   "id": "c84bdc1c",
   "metadata": {},
   "source": [
    "$$\\dot{\\rho}(t) = -i [H[t,\\rho(t)], \\rho] + \\mathcal{D}[t, \\rho]$$"
   ]
  },
  {
   "cell_type": "markdown",
   "id": "cd82546a",
   "metadata": {},
   "source": [
    "The non-linear Hamiltonian is given by"
   ]
  },
  {
   "cell_type": "markdown",
   "id": "e33b253a",
   "metadata": {},
   "source": [
    "$$H[t,\\rho(t)] = h^{0} + \\vec{E} \\vec{P} + C(\\rho(t) - \\rho^{0})$$"
   ]
  },
  {
   "cell_type": "markdown",
   "id": "a707f574",
   "metadata": {},
   "source": [
    "where "
   ]
  },
  {
   "cell_type": "markdown",
   "id": "9e4aac93",
   "metadata": {},
   "source": [
    "1. $h^{0}$ is the unperturbed or bare Hamiltonian constructed from localized orbitals.\n",
    "2. $\\vec{P}$ is the dipole moment operator depending on space $\\vec{r}$ and transition dipole moments $\\vec{d}$, leading to an interatomic potential with unit charge $e$, given by $e \\vec{E} \\vec{r}$, and an intra-atomic potential $\\vec{E} \\vec{d}$.\n",
    "3. $\\rho^{0}$ is the stationary density matrix of the system's ground state, and $C$ is the Coulomb matrix (a subset of two-body matrix elements)."
   ]
  },
  {
   "cell_type": "markdown",
   "id": "8ebe3c22",
   "metadata": {},
   "source": [
    "This expression is the dipole-gauge expression for the Hamiltonian including an external electric field $\\vec{E}$."
   ]
  },
  {
   "cell_type": "markdown",
   "id": "3a54850c",
   "metadata": {
    "lines_to_next_cell": 2
   },
   "source": [
    "## Observables"
   ]
  },
  {
   "cell_type": "markdown",
   "id": "cdc773ea",
   "metadata": {},
   "source": [
    "You can compute multiple observables in one simulation run"
   ]
  },
  {
   "cell_type": "code",
   "execution_count": 1,
   "id": "043b1454",
   "metadata": {
    "execution": {
     "iopub.execute_input": "2025-01-28T18:46:56.334409Z",
     "iopub.status.busy": "2025-01-28T18:46:56.334230Z",
     "iopub.status.idle": "2025-01-28T18:47:04.865366Z",
     "shell.execute_reply": "2025-01-28T18:47:04.864837Z"
    }
   },
   "outputs": [
    {
     "name": "stdout",
     "output_type": "stream",
     "text": [
      "RHS compiled\n",
      "RHS compiled\n"
     ]
    },
    {
     "name": "stdout",
     "output_type": "stream",
     "text": [
      "49.99262428086739 %\n"
     ]
    },
    {
     "name": "stdout",
     "output_type": "stream",
     "text": [
      "100.0 %\n"
     ]
    }
   ],
   "source": [
    "from granad import MaterialCatalog, Hexagon, Pulse\n",
    "flake = MaterialCatalog.get(\"graphene\").cut_flake( Hexagon(10) )\n",
    "\n",
    "pulse = Pulse(\n",
    "    amplitudes=[1e-5, 0, 0], frequency=2.3, peak=5, fwhm=2\n",
    ")\n",
    "\n",
    "operators = [flake.dipole_operator, flake.velocity_operator]\n",
    "\n",
    "result = flake.master_equation(\n",
    "    relaxation_rate = 1/10,\n",
    "    illumination = pulse,\n",
    "    expectation_values = operators,\n",
    "    end_time = 40,\n",
    "     )"
   ]
  },
  {
   "cell_type": "markdown",
   "id": "a3d9c39d",
   "metadata": {},
   "source": [
    "The result object stores this info. Operators are concatenated in the order you passed them in."
   ]
  },
  {
   "cell_type": "code",
   "execution_count": 2,
   "id": "778c2228",
   "metadata": {
    "execution": {
     "iopub.execute_input": "2025-01-28T18:47:04.867521Z",
     "iopub.status.busy": "2025-01-28T18:47:04.867138Z",
     "iopub.status.idle": "2025-01-28T18:47:04.870837Z",
     "shell.execute_reply": "2025-01-28T18:47:04.870350Z"
    }
   },
   "outputs": [
    {
     "name": "stdout",
     "output_type": "stream",
     "text": [
      "1\n",
      "(6780, 6)\n"
     ]
    }
   ],
   "source": [
    "print(len(result.output))\n",
    "print(result.output[0].shape)"
   ]
  },
  {
   "cell_type": "markdown",
   "id": "9f5394e7",
   "metadata": {},
   "source": [
    "The induced dipole moment at timestep 10 is given by"
   ]
  },
  {
   "cell_type": "code",
   "execution_count": 3,
   "id": "8cb5c9a4",
   "metadata": {
    "execution": {
     "iopub.execute_input": "2025-01-28T18:47:04.872710Z",
     "iopub.status.busy": "2025-01-28T18:47:04.872384Z",
     "iopub.status.idle": "2025-01-28T18:47:04.896231Z",
     "shell.execute_reply": "2025-01-28T18:47:04.895630Z"
    }
   },
   "outputs": [
    {
     "name": "stdout",
     "output_type": "stream",
     "text": [
      "[6.62977922e-13+0.j 1.50349733e-13+0.j 0.00000000e+00+0.j]\n"
     ]
    }
   ],
   "source": [
    "print(result.output[0][10,:3])"
   ]
  },
  {
   "cell_type": "markdown",
   "id": "a7d61851",
   "metadata": {},
   "source": [
    "Induced current at timestep 10"
   ]
  },
  {
   "cell_type": "code",
   "execution_count": 4,
   "id": "b097cc00",
   "metadata": {
    "execution": {
     "iopub.execute_input": "2025-01-28T18:47:04.898230Z",
     "iopub.status.busy": "2025-01-28T18:47:04.897873Z",
     "iopub.status.idle": "2025-01-28T18:47:04.901978Z",
     "shell.execute_reply": "2025-01-28T18:47:04.901360Z"
    },
    "lines_to_next_cell": 2
   },
   "outputs": [
    {
     "name": "stdout",
     "output_type": "stream",
     "text": [
      "[ 1.28393681e-11+8.12875268e-15j -2.04250131e-15+3.10224346e-15j\n",
      "  0.00000000e+00+0.00000000e+00j]\n"
     ]
    }
   ],
   "source": [
    "print(result.output[0][10,3:])"
   ]
  },
  {
   "cell_type": "markdown",
   "id": "2617880d",
   "metadata": {},
   "source": [
    "We can access the Fourier transform as"
   ]
  },
  {
   "cell_type": "code",
   "execution_count": 5,
   "id": "6bd63bb7",
   "metadata": {
    "execution": {
     "iopub.execute_input": "2025-01-28T18:47:04.903852Z",
     "iopub.status.busy": "2025-01-28T18:47:04.903550Z",
     "iopub.status.idle": "2025-01-28T18:47:05.257828Z",
     "shell.execute_reply": "2025-01-28T18:47:05.257221Z"
    }
   },
   "outputs": [],
   "source": [
    "omega_min, omega_max = 0, 5\n",
    "omegas, pulse_omega = result.ft_illumination( omega_min = omega_min, omega_max = omega_max )\n",
    "output_omega = result.ft_output( omega_min = omega_min, omega_max = omega_max )[0]"
   ]
  },
  {
   "cell_type": "markdown",
   "id": "66dec147",
   "metadata": {},
   "source": [
    "From the classical continuity equation for the charge and current density $\\rho(\\vec{r},t), \\vec{j}(\\vec{r},t)$ and dipole moment density $\\vec{p}(\\vec{r},t)$, we have"
   ]
  },
  {
   "cell_type": "markdown",
   "id": "190e7e04",
   "metadata": {},
   "source": [
    "$$\\dot{\\rho}(\\vec{r}, t) = -\\nabla \\vec{j}(\\vec{r}, t) = \\nabla \\dot{\\vec{p}}(\\vec{r}, t) \\implies \\dot{\\vec{p}}(\\vec{r},t) = \\vec{j}(\\vec{r},t)$$"
   ]
  },
  {
   "cell_type": "markdown",
   "id": "d92014f7",
   "metadata": {},
   "source": [
    "After Fourier transformation, we obtain"
   ]
  },
  {
   "cell_type": "markdown",
   "id": "938f59fe",
   "metadata": {},
   "source": [
    "$$-i\\omega \\vec{p}(\\vec{r}, \\omega) = \\vec{j}(\\vec{r}, \\omega)$$"
   ]
  },
  {
   "cell_type": "markdown",
   "id": "06c66125",
   "metadata": {},
   "source": [
    "Its integrated form is given by"
   ]
  },
  {
   "cell_type": "markdown",
   "id": "28a8e6ee",
   "metadata": {},
   "source": [
    "$$\\int d\\vec{r} \\dot{\\vec{p}}(\\vec{r},t) = \\dot{\\vec{p}}(t) = \\int d\\vec{r} \\vec{j}(\\vec{r},t) =  \\vec{j}(t)$$ "
   ]
  },
  {
   "cell_type": "markdown",
   "id": "8f41611d",
   "metadata": {},
   "source": [
    "$\\vec{j}(t)$ and $\\vec{p}(t)$ are the total current and dipole moment respectively. As classical quantities are given by ensemble averages of quantum operators, we can\n",
    "obtain these quantities directly from the time-domain simulations. The (integrated) continuity equation above can be verified as follows"
   ]
  },
  {
   "cell_type": "code",
   "execution_count": 6,
   "id": "a38d621c",
   "metadata": {
    "execution": {
     "iopub.execute_input": "2025-01-28T18:47:05.260077Z",
     "iopub.status.busy": "2025-01-28T18:47:05.259847Z",
     "iopub.status.idle": "2025-01-28T18:47:05.666748Z",
     "shell.execute_reply": "2025-01-28T18:47:05.666158Z"
    },
    "lines_to_next_cell": 2
   },
   "outputs": [
    {
     "data": {
      "image/png": "[encoded data removed]",
      "text/plain": [
       "<Figure size 640x480 with 1 Axes>"
      ]
     },
     "metadata": {},
     "output_type": "display_data"
    }
   ],
   "source": [
    "import matplotlib.pyplot as plt\n",
    "p = -(omegas * output_omega[:,0]).imag\n",
    "j = output_omega[:,3].real\n",
    "plt.plot(omegas, p, label = r'$- \\text{Im}[\\omega p_x]$')\n",
    "plt.plot(omegas, j, '--', label = r'$\\text{Re}[j_x]$')\n",
    "plt.xlabel(r'$\\omega$ (eV)')\n",
    "plt.ylabel(r'$j$')\n",
    "plt.legend()\n",
    "plt.show()"
   ]
  },
  {
   "cell_type": "markdown",
   "id": "9642a16e",
   "metadata": {},
   "source": [
    "The field is also accessible"
   ]
  },
  {
   "cell_type": "code",
   "execution_count": 7,
   "id": "eb8096bc",
   "metadata": {
    "execution": {
     "iopub.execute_input": "2025-01-28T18:47:05.668803Z",
     "iopub.status.busy": "2025-01-28T18:47:05.668460Z",
     "iopub.status.idle": "2025-01-28T18:47:05.671686Z",
     "shell.execute_reply": "2025-01-28T18:47:05.671213Z"
    }
   },
   "outputs": [
    {
     "name": "stdout",
     "output_type": "stream",
     "text": [
      "(6780, 3)\n"
     ]
    }
   ],
   "source": [
    "print(result.td_illumination.shape)"
   ]
  },
  {
   "cell_type": "markdown",
   "id": "f12b2bc0",
   "metadata": {},
   "source": [
    "## Density matrices"
   ]
  },
  {
   "cell_type": "markdown",
   "id": "25fe3f8c",
   "metadata": {},
   "source": [
    "If we want to only get density matrices, we can  omit the operator list. The result object then contains a one-element list."
   ]
  },
  {
   "cell_type": "code",
   "execution_count": 8,
   "id": "21bffe23",
   "metadata": {
    "execution": {
     "iopub.execute_input": "2025-01-28T18:47:05.673501Z",
     "iopub.status.busy": "2025-01-28T18:47:05.673170Z",
     "iopub.status.idle": "2025-01-28T18:47:08.112487Z",
     "shell.execute_reply": "2025-01-28T18:47:08.111966Z"
    }
   },
   "outputs": [
    {
     "name": "stdout",
     "output_type": "stream",
     "text": [
      "RHS compiled\n",
      "RHS compiled\n"
     ]
    },
    {
     "name": "stdout",
     "output_type": "stream",
     "text": [
      "49.99262428086739 %\n"
     ]
    },
    {
     "name": "stdout",
     "output_type": "stream",
     "text": [
      "100.0 %\n",
      "(6780, 96, 96)\n"
     ]
    }
   ],
   "source": [
    "result = flake.master_equation(\n",
    "    relaxation_rate = 1/10,\n",
    "    illumination = pulse,\n",
    "    end_time = 40,\n",
    "    density_matrix = [\"full\"], # this argument may be removed\n",
    "     )\n",
    "density_matrix = result.output[0]\n",
    "print(density_matrix.shape)"
   ]
  },
  {
   "cell_type": "markdown",
   "id": "b5cca216",
   "metadata": {},
   "source": [
    "We can convert them to energy basis"
   ]
  },
  {
   "cell_type": "code",
   "execution_count": 9,
   "id": "a463e11a",
   "metadata": {
    "execution": {
     "iopub.execute_input": "2025-01-28T18:47:08.114438Z",
     "iopub.status.busy": "2025-01-28T18:47:08.114063Z",
     "iopub.status.idle": "2025-01-28T18:47:10.039766Z",
     "shell.execute_reply": "2025-01-28T18:47:10.039165Z"
    }
   },
   "outputs": [
    {
     "name": "stdout",
     "output_type": "stream",
     "text": [
      "(6780, 96, 96)\n"
     ]
    }
   ],
   "source": [
    "density_matrix_e = flake.transform_to_energy_basis( density_matrix )\n",
    "print(density_matrix_e.shape)"
   ]
  },
  {
   "cell_type": "markdown",
   "id": "6eba2226",
   "metadata": {},
   "source": [
    "## Occupations"
   ]
  },
  {
   "cell_type": "markdown",
   "id": "f8bf1f13",
   "metadata": {},
   "source": [
    "To reduce memory consumption, we can extract only the site occupations to avoid storing the entire stack of density matices in memory. "
   ]
  },
  {
   "cell_type": "code",
   "execution_count": 10,
   "id": "4a4dcab3",
   "metadata": {
    "execution": {
     "iopub.execute_input": "2025-01-28T18:47:10.041902Z",
     "iopub.status.busy": "2025-01-28T18:47:10.041459Z",
     "iopub.status.idle": "2025-01-28T18:47:12.517556Z",
     "shell.execute_reply": "2025-01-28T18:47:12.516954Z"
    }
   },
   "outputs": [
    {
     "name": "stdout",
     "output_type": "stream",
     "text": [
      "RHS compiled\n",
      "RHS compiled\n"
     ]
    },
    {
     "name": "stdout",
     "output_type": "stream",
     "text": [
      "49.99262428086739 %\n"
     ]
    },
    {
     "name": "stdout",
     "output_type": "stream",
     "text": [
      "100.0 %\n",
      "(6780, 96)\n"
     ]
    }
   ],
   "source": [
    "result = flake.master_equation(\n",
    "    relaxation_rate = 1/10,\n",
    "    illumination = pulse,\n",
    "    density_matrix = [\"occ_x\"],\n",
    "    end_time = 40,\n",
    "     )\n",
    "occ_x = result.output[0]\n",
    "print(occ_x.shape)"
   ]
  },
  {
   "cell_type": "markdown",
   "id": "5193e2fc",
   "metadata": {},
   "source": [
    "Further reduction of the memory consumption can be controlled by the grid argument, which describes the density of the time domain sampling grid, explained in the API section on the `master_equation` method."
   ]
  },
  {
   "cell_type": "markdown",
   "id": "ae907e3b",
   "metadata": {},
   "source": [
    "## Initially excited states"
   ]
  },
  {
   "cell_type": "markdown",
   "id": "1ef3d687",
   "metadata": {},
   "source": [
    "GRANAD allows to set initially excited states by specifying the single-particle transition in the density matrix as follows"
   ]
  },
  {
   "cell_type": "code",
   "execution_count": 11,
   "id": "a30b05cc",
   "metadata": {
    "execution": {
     "iopub.execute_input": "2025-01-28T18:47:12.519466Z",
     "iopub.status.busy": "2025-01-28T18:47:12.519277Z",
     "iopub.status.idle": "2025-01-28T18:47:14.259056Z",
     "shell.execute_reply": "2025-01-28T18:47:14.258427Z"
    }
   },
   "outputs": [
    {
     "data": {
      "image/png": "[encoded data removed]",
      "text/plain": [
       "<Figure size 640x480 with 2 Axes>"
      ]
     },
     "metadata": {},
     "output_type": "display_data"
    }
   ],
   "source": [
    "flake.set_excitation( flake.homo, flake.lumo, 1)\n",
    "flake.show_energies()"
   ]
  },
  {
   "cell_type": "markdown",
   "id": "04f38cbb",
   "metadata": {},
   "source": [
    "In case of degeneracies, GRANAD distributes electrons equally among all degenerate energy levels, as demonstrated in the figure above."
   ]
  },
  {
   "cell_type": "markdown",
   "id": "9565fd6d",
   "metadata": {},
   "source": [
    "## Energy occupations"
   ]
  },
  {
   "cell_type": "markdown",
   "id": "fa6679d8",
   "metadata": {},
   "source": [
    "Similarly to site occupations, only energy occupations can also be obtained from the time-domain simulations."
   ]
  },
  {
   "cell_type": "markdown",
   "id": "4c8e3027",
   "metadata": {},
   "source": [
    "*Warning*: this introduces additional cubic complexity "
   ]
  },
  {
   "cell_type": "code",
   "execution_count": 12,
   "id": "19ee4496",
   "metadata": {
    "execution": {
     "iopub.execute_input": "2025-01-28T18:47:14.261282Z",
     "iopub.status.busy": "2025-01-28T18:47:14.260740Z",
     "iopub.status.idle": "2025-01-28T18:47:19.312310Z",
     "shell.execute_reply": "2025-01-28T18:47:19.311688Z"
    }
   },
   "outputs": [
    {
     "name": "stdout",
     "output_type": "stream",
     "text": [
      "RHS compiled\n",
      "RHS compiled\n"
     ]
    },
    {
     "name": "stdout",
     "output_type": "stream",
     "text": [
      "49.99262428086739 %\n"
     ]
    },
    {
     "name": "stdout",
     "output_type": "stream",
     "text": [
      "100.0 %\n"
     ]
    },
    {
     "data": {
      "image/png": "[encoded data removed]",
      "text/plain": [
       "<Figure size 640x480 with 1 Axes>"
      ]
     },
     "metadata": {},
     "output_type": "display_data"
    }
   ],
   "source": [
    "result = flake.master_equation(\n",
    "    relaxation_rate = 1/10,\n",
    "    density_matrix = [\"occ_e\"],\n",
    "    end_time = 40,\n",
    "     )\n",
    "flake.show_res(result, plot_only = [flake.homo, flake.homo+1], plot_labels = [\"homo\", \"lumo\"], show_illumination = False )"
   ]
  },
  {
   "cell_type": "markdown",
   "id": "e95e9999",
   "metadata": {},
   "source": [
    "## Combinations"
   ]
  },
  {
   "cell_type": "markdown",
   "id": "e562cc51",
   "metadata": {},
   "source": [
    "We can also extract multiple quantities at the same time"
   ]
  },
  {
   "cell_type": "code",
   "execution_count": 13,
   "id": "886d4b8f",
   "metadata": {
    "execution": {
     "iopub.execute_input": "2025-01-28T18:47:19.314425Z",
     "iopub.status.busy": "2025-01-28T18:47:19.314077Z",
     "iopub.status.idle": "2025-01-28T18:47:22.010190Z",
     "shell.execute_reply": "2025-01-28T18:47:22.009598Z"
    }
   },
   "outputs": [
    {
     "name": "stdout",
     "output_type": "stream",
     "text": [
      "RHS compiled\n",
      "RHS compiled\n"
     ]
    },
    {
     "name": "stdout",
     "output_type": "stream",
     "text": [
      "49.99262428086739 %\n"
     ]
    },
    {
     "name": "stdout",
     "output_type": "stream",
     "text": [
      "100.0 %\n"
     ]
    }
   ],
   "source": [
    "result = flake.master_equation(\n",
    "    relaxation_rate = 1/10,\n",
    "    density_matrix = [\"full\", \"occ_x\"],\n",
    "    expectation_values = [flake.dipole_operator],\n",
    "    end_time = 40,\n",
    "    illumination = pulse,\n",
    ")"
   ]
  },
  {
   "cell_type": "markdown",
   "id": "d11742ee",
   "metadata": {},
   "source": [
    "The output will now contain three arrays: induced dipole moments, site occupations and full density matrices"
   ]
  },
  {
   "cell_type": "code",
   "execution_count": 14,
   "id": "db9103f3",
   "metadata": {
    "execution": {
     "iopub.execute_input": "2025-01-28T18:47:22.012305Z",
     "iopub.status.busy": "2025-01-28T18:47:22.011919Z",
     "iopub.status.idle": "2025-01-28T18:47:22.015586Z",
     "shell.execute_reply": "2025-01-28T18:47:22.014913Z"
    }
   },
   "outputs": [
    {
     "name": "stdout",
     "output_type": "stream",
     "text": [
      "3\n",
      "(6780, 3)\n",
      "(6780, 96, 96)\n",
      "(6780, 96)\n"
     ]
    }
   ],
   "source": [
    "print(len(result.output))\n",
    "print(result.output[0].shape) # by default, operators come first\n",
    "print(result.output[1].shape) # we specified [\"full\", \"occ_x\"] => full density matrices\n",
    "print(result.output[2].shape) # we specified [\"full\", \"occ_x\"] => site occupations"
   ]
  },
  {
   "cell_type": "markdown",
   "id": "25ae0223",
   "metadata": {},
   "source": [
    "## EPI"
   ]
  },
  {
   "cell_type": "markdown",
   "id": "c7405f2e",
   "metadata": {},
   "source": [
    "The energy-based plasmonicity index introduced by [Müller et al.](https://pubs.acs.org/doi/10.1021/acs.jpcc.0c07964) is a quantity to characterize the steady-state plasmonicity. We use plane wave illumination to drive the system into a steady state and then compute the EPI."
   ]
  },
  {
   "cell_type": "code",
   "execution_count": 15,
   "id": "82e48eec",
   "metadata": {
    "execution": {
     "iopub.execute_input": "2025-01-28T18:47:22.017295Z",
     "iopub.status.busy": "2025-01-28T18:47:22.017119Z",
     "iopub.status.idle": "2025-01-28T18:47:24.652425Z",
     "shell.execute_reply": "2025-01-28T18:47:24.651892Z"
    }
   },
   "outputs": [
    {
     "name": "stdout",
     "output_type": "stream",
     "text": [
      "RHS compiled\n",
      "RHS compiled\n"
     ]
    },
    {
     "name": "stdout",
     "output_type": "stream",
     "text": [
      "49.99262428086739 %\n"
     ]
    },
    {
     "name": "stdout",
     "output_type": "stream",
     "text": [
      "100.0 %\n"
     ]
    },
    {
     "name": "stdout",
     "output_type": "stream",
     "text": [
      "0.8999054004099905\n"
     ]
    }
   ],
   "source": [
    "import jax.numpy as jnp\n",
    "from granad import Wave\n",
    "\n",
    "omega = 2.5 # we pick the approximate resonance at 2.5 \n",
    "res = flake.master_equation(\n",
    "    relaxation_rate = 1/10,\n",
    "    illumination = Wave(frequency = omega / 2 * jnp.pi, amplitudes = [1e-5, 0, 0]),\n",
    "    end_time = 40)\n",
    "\n",
    "# numerical broadening parameter of 0.05 eV\n",
    "epsilon = 0.05\n",
    "\n",
    "# print and compute the EPI\n",
    "print(flake.get_epi(res.final_density_matrix, omega = omega, epsilon = epsilon))"
   ]
  }
 ],
 "metadata": {
  "kernelspec": {
   "display_name": "base",
   "language": "python",
   "name": "base"
  },
  "language_info": {
   "codemirror_mode": {
    "name": "ipython",
    "version": 3
   },
   "file_extension": ".py",
   "mimetype": "text/x-python",
   "name": "python",
   "nbconvert_exporter": "python",
   "pygments_lexer": "ipython3",
   "version": "3.12.8"
  }
 },
 "nbformat": 4,
 "nbformat_minor": 5
}
