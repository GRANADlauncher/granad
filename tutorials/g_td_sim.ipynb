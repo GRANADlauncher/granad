{
 "cells": [
  {
   "cell_type": "markdown",
   "id": "11bf38c2",
   "metadata": {},
   "source": [
    "# Time-Domain simulations\n"
   ]
  },
  {
   "cell_type": "markdown",
   "id": "44224e3e",
   "metadata": {},
   "source": [
    "We introduce time-domain simulations, which are based on GRANAD's default master equation"
   ]
  },
  {
   "cell_type": "markdown",
   "id": "67285b36",
   "metadata": {},
   "source": [
    "$$\\dot{\\rho}(t) = -i [H[t,\\rho(t)], \\rho] + \\mathcal{D}[t, \\rho]$$"
   ]
  },
  {
   "cell_type": "markdown",
   "id": "21eb7c99",
   "metadata": {},
   "source": [
    "The non-linear Hamiltonian is given by"
   ]
  },
  {
   "cell_type": "markdown",
   "id": "22ffdd5d",
   "metadata": {},
   "source": [
    "$$H[t,\\rho(t)] = h^{0} + \\vec{E} \\vec{P} + C(\\rho(t) - \\rho^{0})$$"
   ]
  },
  {
   "cell_type": "markdown",
   "id": "5e415b80",
   "metadata": {},
   "source": [
    "where "
   ]
  },
  {
   "cell_type": "markdown",
   "id": "912d8494",
   "metadata": {},
   "source": [
    "1. $h^{0}$ is the unperturbed or bare Hamiltonian constructed from localized orbitals.\n",
    "2. $\\vec{P}$ is the dipole moment operator depending on space $\\vec{r}$ and transition dipole moments $\\vec{d}$, leading to an interatomic potential with unit charge $e$, given by $e \\vec{E} \\vec{r}$, and an intra-atomic potential $\\vec{E} \\vec{d}$.\n",
    "3. $\\rho^{0}$ is the stationary density matrix of the system's ground state, and $C$ is the Coulomb matrix (a subset of two-body matrix elements)."
   ]
  },
  {
   "cell_type": "markdown",
   "id": "25231498",
   "metadata": {},
   "source": [
    "This expression is the dipole-gauge expression for the Hamiltonian including an external electric field $\\vec{E}$."
   ]
  },
  {
   "cell_type": "markdown",
   "id": "bd06bd88",
   "metadata": {
    "lines_to_next_cell": 2
   },
   "source": [
    "## Observables"
   ]
  },
  {
   "cell_type": "markdown",
   "id": "49c17410",
   "metadata": {},
   "source": [
    "You can compute multiple observables in one simulation run"
   ]
  },
  {
   "cell_type": "code",
   "execution_count": 1,
   "id": "280fbfc2",
   "metadata": {
    "execution": {
     "iopub.execute_input": "2025-01-27T15:51:57.067318Z",
     "iopub.status.busy": "2025-01-27T15:51:57.067138Z",
     "iopub.status.idle": "2025-01-27T15:52:07.595563Z",
     "shell.execute_reply": "2025-01-27T15:52:07.595003Z"
    }
   },
   "outputs": [
    {
     "name": "stdout",
     "output_type": "stream",
     "text": [
      "RHS compiled\n",
      "RHS compiled\n"
     ]
    },
    {
     "name": "stdout",
     "output_type": "stream",
     "text": [
      "49.992928864375614 %\n"
     ]
    },
    {
     "name": "stdout",
     "output_type": "stream",
     "text": [
      "100.0 %\n"
     ]
    }
   ],
   "source": [
    "from granad import MaterialCatalog, Hexagon, Pulse\n",
    "flake = MaterialCatalog.get(\"graphene\").cut_flake( Hexagon(10) )\n",
    "\n",
    "pulse = Pulse(\n",
    "    amplitudes=[1e-5, 0, 0], frequency=2.3, peak=5, fwhm=2\n",
    ")\n",
    "\n",
    "operators = [flake.dipole_operator, flake.velocity_operator]\n",
    "\n",
    "result = flake.master_equation(\n",
    "    relaxation_rate = 1/10,\n",
    "    illumination = pulse,\n",
    "    expectation_values = operators,\n",
    "    end_time = 40,\n",
    "     )"
   ]
  },
  {
   "cell_type": "markdown",
   "id": "e31a22bf",
   "metadata": {},
   "source": [
    "The result object stores this info. Operators are concatenated in the order you passed them in."
   ]
  },
  {
   "cell_type": "code",
   "execution_count": 2,
   "id": "545bae34",
   "metadata": {
    "execution": {
     "iopub.execute_input": "2025-01-27T15:52:07.597691Z",
     "iopub.status.busy": "2025-01-27T15:52:07.597316Z",
     "iopub.status.idle": "2025-01-27T15:52:07.601008Z",
     "shell.execute_reply": "2025-01-27T15:52:07.600459Z"
    }
   },
   "outputs": [
    {
     "name": "stdout",
     "output_type": "stream",
     "text": [
      "1\n",
      "(7072, 6)\n"
     ]
    }
   ],
   "source": [
    "print(len(result.output))\n",
    "print(result.output[0].shape)"
   ]
  },
  {
   "cell_type": "markdown",
   "id": "d3374c1a",
   "metadata": {},
   "source": [
    "The induced dipole moment at timestep 10 is given by"
   ]
  },
  {
   "cell_type": "code",
   "execution_count": 3,
   "id": "fbe72193",
   "metadata": {
    "execution": {
     "iopub.execute_input": "2025-01-27T15:52:07.602934Z",
     "iopub.status.busy": "2025-01-27T15:52:07.602571Z",
     "iopub.status.idle": "2025-01-27T15:52:07.630946Z",
     "shell.execute_reply": "2025-01-27T15:52:07.630426Z"
    }
   },
   "outputs": [
    {
     "name": "stdout",
     "output_type": "stream",
     "text": [
      "[5.85460118e-13+0.j 8.41854435e-14+0.j 0.00000000e+00+0.j]\n"
     ]
    }
   ],
   "source": [
    "print(result.output[0][10,:3])"
   ]
  },
  {
   "cell_type": "markdown",
   "id": "9c5d84d9",
   "metadata": {},
   "source": [
    "Induced current at timestep 10"
   ]
  },
  {
   "cell_type": "code",
   "execution_count": 4,
   "id": "31ba2ac5",
   "metadata": {
    "execution": {
     "iopub.execute_input": "2025-01-27T15:52:07.632982Z",
     "iopub.status.busy": "2025-01-27T15:52:07.632599Z",
     "iopub.status.idle": "2025-01-27T15:52:07.636925Z",
     "shell.execute_reply": "2025-01-27T15:52:07.636213Z"
    },
    "lines_to_next_cell": 2
   },
   "outputs": [
    {
     "name": "stdout",
     "output_type": "stream",
     "text": [
      "[1.25324282e-11+5.37423907e-15j 7.40795277e-16+4.04715440e-16j\n",
      " 0.00000000e+00+0.00000000e+00j]\n"
     ]
    }
   ],
   "source": [
    "print(result.output[0][10,3:])"
   ]
  },
  {
   "cell_type": "markdown",
   "id": "5f929865",
   "metadata": {},
   "source": [
    "We can access the Fourier transform as"
   ]
  },
  {
   "cell_type": "code",
   "execution_count": 5,
   "id": "8baff49f",
   "metadata": {
    "execution": {
     "iopub.execute_input": "2025-01-27T15:52:07.638888Z",
     "iopub.status.busy": "2025-01-27T15:52:07.638410Z",
     "iopub.status.idle": "2025-01-27T15:52:07.966990Z",
     "shell.execute_reply": "2025-01-27T15:52:07.966479Z"
    }
   },
   "outputs": [],
   "source": [
    "omega_min, omega_max = 0, 5\n",
    "omegas, pulse_omega = result.ft_illumination( omega_min = omega_min, omega_max = omega_max )\n",
    "output_omega = result.ft_output( omega_min = omega_min, omega_max = omega_max )[0]"
   ]
  },
  {
   "cell_type": "markdown",
   "id": "f05cfe66",
   "metadata": {},
   "source": [
    "From the classical continuity equation for the charge and current density $\\rho(\\vec{r},t), \\vec{j}(\\vec{r},t)$ and dipole moment density $\\vec{p}(\\vec{r},t)$, we have"
   ]
  },
  {
   "cell_type": "markdown",
   "id": "be21442f",
   "metadata": {},
   "source": [
    "$$\\dot{\\rho}(\\vec{r}, t) = -\\nabla \\vec{j}(\\vec{r}, t) = \\nabla \\dot{\\vec{p}}(\\vec{r}, t) \\implies \\dot{\\vec{p}}(\\vec{r},t) = \\vec{j}(\\vec{r},t)$$"
   ]
  },
  {
   "cell_type": "markdown",
   "id": "d528209d",
   "metadata": {},
   "source": [
    "After Fourier transformation, we obtain"
   ]
  },
  {
   "cell_type": "markdown",
   "id": "dc401c98",
   "metadata": {},
   "source": [
    "$$-i\\omega \\vec{p}(\\vec{r}, \\omega) = \\vec{j}(\\vec{r}, \\omega)$$"
   ]
  },
  {
   "cell_type": "markdown",
   "id": "74e0d3b2",
   "metadata": {},
   "source": [
    "Its integrated form is given by"
   ]
  },
  {
   "cell_type": "markdown",
   "id": "9062bb97",
   "metadata": {},
   "source": [
    "$$\\int d\\vec{r} \\dot{\\vec{p}}(\\vec{r},t) = \\dot{\\vec{p}}(t) = \\int d\\vec{r} \\vec{j}(\\vec{r},t) =  \\vec{j}(t)$$ "
   ]
  },
  {
   "cell_type": "markdown",
   "id": "0027953b",
   "metadata": {},
   "source": [
    "$\\vec{j}(t)$ and $\\vec{p}(t)$ are the total current and dipole moment respectively. As classical quantities are given by ensemble averages of quantum operators, we can\n",
    "obtain these quantities directly from the time-domain simulations. The (integrated) continuity equation above can be verified as follows"
   ]
  },
  {
   "cell_type": "code",
   "execution_count": 6,
   "id": "e8c3feaf",
   "metadata": {
    "execution": {
     "iopub.execute_input": "2025-01-27T15:52:07.969559Z",
     "iopub.status.busy": "2025-01-27T15:52:07.969081Z",
     "iopub.status.idle": "2025-01-27T15:52:08.364972Z",
     "shell.execute_reply": "2025-01-27T15:52:08.364325Z"
    },
    "lines_to_next_cell": 2
   },
   "outputs": [
    {
     "data": {
      "image/png": "[encoded data removed]",
      "text/plain": [
       "<Figure size 640x480 with 1 Axes>"
      ]
     },
     "metadata": {},
     "output_type": "display_data"
    }
   ],
   "source": [
    "import matplotlib.pyplot as plt\n",
    "p = -(omegas * output_omega[:,0]).imag\n",
    "j = output_omega[:,3].real\n",
    "plt.plot(omegas, p, label = r'$- \\text{Im}[\\omega p_x]$')\n",
    "plt.plot(omegas, j, '--', label = r'$\\text{Re}[j_x]$')\n",
    "plt.xlabel(r'$\\omega$ (eV)')\n",
    "plt.ylabel(r'$j$')\n",
    "plt.legend()\n",
    "plt.show()"
   ]
  },
  {
   "cell_type": "markdown",
   "id": "cc228a17",
   "metadata": {},
   "source": [
    "The field is also accessible"
   ]
  },
  {
   "cell_type": "code",
   "execution_count": 7,
   "id": "c2b23166",
   "metadata": {
    "execution": {
     "iopub.execute_input": "2025-01-27T15:52:08.367068Z",
     "iopub.status.busy": "2025-01-27T15:52:08.366678Z",
     "iopub.status.idle": "2025-01-27T15:52:08.370234Z",
     "shell.execute_reply": "2025-01-27T15:52:08.369738Z"
    }
   },
   "outputs": [
    {
     "name": "stdout",
     "output_type": "stream",
     "text": [
      "(7072, 3)\n"
     ]
    }
   ],
   "source": [
    "print(result.td_illumination.shape)"
   ]
  },
  {
   "cell_type": "markdown",
   "id": "0d71a675",
   "metadata": {},
   "source": [
    "## Density matrices"
   ]
  },
  {
   "cell_type": "markdown",
   "id": "bb8499d7",
   "metadata": {},
   "source": [
    "If we want to only get density matrices, we can  omit the operator list. The result object then contains a one-element list."
   ]
  },
  {
   "cell_type": "code",
   "execution_count": 8,
   "id": "ae672bab",
   "metadata": {
    "execution": {
     "iopub.execute_input": "2025-01-27T15:52:08.372096Z",
     "iopub.status.busy": "2025-01-27T15:52:08.371677Z",
     "iopub.status.idle": "2025-01-27T15:52:10.845725Z",
     "shell.execute_reply": "2025-01-27T15:52:10.845212Z"
    }
   },
   "outputs": [
    {
     "name": "stdout",
     "output_type": "stream",
     "text": [
      "RHS compiled\n",
      "RHS compiled\n"
     ]
    },
    {
     "name": "stdout",
     "output_type": "stream",
     "text": [
      "49.992928864375614 %\n"
     ]
    },
    {
     "name": "stdout",
     "output_type": "stream",
     "text": [
      "100.0 %\n",
      "(7072, 94, 94)\n"
     ]
    }
   ],
   "source": [
    "result = flake.master_equation(\n",
    "    relaxation_rate = 1/10,\n",
    "    illumination = pulse,\n",
    "    end_time = 40,\n",
    "    density_matrix = [\"full\"], # this argument may be removed\n",
    "     )\n",
    "density_matrix = result.output[0]\n",
    "print(density_matrix.shape)"
   ]
  },
  {
   "cell_type": "markdown",
   "id": "3faacd5d",
   "metadata": {},
   "source": [
    "We can convert them to energy basis"
   ]
  },
  {
   "cell_type": "code",
   "execution_count": 9,
   "id": "961e3215",
   "metadata": {
    "execution": {
     "iopub.execute_input": "2025-01-27T15:52:10.847468Z",
     "iopub.status.busy": "2025-01-27T15:52:10.847282Z",
     "iopub.status.idle": "2025-01-27T15:52:12.746643Z",
     "shell.execute_reply": "2025-01-27T15:52:12.746068Z"
    }
   },
   "outputs": [
    {
     "name": "stdout",
     "output_type": "stream",
     "text": [
      "(7072, 94, 94)\n"
     ]
    }
   ],
   "source": [
    "density_matrix_e = flake.transform_to_energy_basis( density_matrix )\n",
    "print(density_matrix_e.shape)"
   ]
  },
  {
   "cell_type": "markdown",
   "id": "a2dd91b2",
   "metadata": {},
   "source": [
    "## Occupations"
   ]
  },
  {
   "cell_type": "markdown",
   "id": "c1b505d0",
   "metadata": {},
   "source": [
    "To reduce memory consumption, we can extract only the site occupations to avoid storing the entire stack of density matices in memory. "
   ]
  },
  {
   "cell_type": "code",
   "execution_count": 10,
   "id": "35defe41",
   "metadata": {
    "execution": {
     "iopub.execute_input": "2025-01-27T15:52:12.748557Z",
     "iopub.status.busy": "2025-01-27T15:52:12.748373Z",
     "iopub.status.idle": "2025-01-27T15:52:15.288423Z",
     "shell.execute_reply": "2025-01-27T15:52:15.287808Z"
    }
   },
   "outputs": [
    {
     "name": "stdout",
     "output_type": "stream",
     "text": [
      "RHS compiled\n",
      "RHS compiled\n"
     ]
    },
    {
     "name": "stdout",
     "output_type": "stream",
     "text": [
      "49.992928864375614 %\n"
     ]
    },
    {
     "name": "stdout",
     "output_type": "stream",
     "text": [
      "100.0 %\n",
      "(7072, 94)\n"
     ]
    }
   ],
   "source": [
    "result = flake.master_equation(\n",
    "    relaxation_rate = 1/10,\n",
    "    illumination = pulse,\n",
    "    density_matrix = [\"occ_x\"],\n",
    "    end_time = 40,\n",
    "     )\n",
    "occ_x = result.output[0]\n",
    "print(occ_x.shape)"
   ]
  },
  {
   "cell_type": "markdown",
   "id": "2bbe32ed",
   "metadata": {},
   "source": [
    "Further reduction of the memory consumption can be controlled by the grid argument, which describes the density of the time domain sampling grid, explained in the API section on the `master_equation` method."
   ]
  },
  {
   "cell_type": "markdown",
   "id": "a73c952a",
   "metadata": {},
   "source": [
    "## Initially excited states"
   ]
  },
  {
   "cell_type": "markdown",
   "id": "4f704625",
   "metadata": {},
   "source": [
    "GRANAD allows to set initially excited states by specifying the single-particle transition in the density matrix as follows"
   ]
  },
  {
   "cell_type": "code",
   "execution_count": 11,
   "id": "0e9032ee",
   "metadata": {
    "execution": {
     "iopub.execute_input": "2025-01-27T15:52:15.290290Z",
     "iopub.status.busy": "2025-01-27T15:52:15.290098Z",
     "iopub.status.idle": "2025-01-27T15:52:16.528522Z",
     "shell.execute_reply": "2025-01-27T15:52:16.527991Z"
    }
   },
   "outputs": [
    {
     "data": {
      "image/png": "[encoded data removed]",
      "text/plain": [
       "<Figure size 640x480 with 2 Axes>"
      ]
     },
     "metadata": {},
     "output_type": "display_data"
    }
   ],
   "source": [
    "flake.set_excitation( flake.homo, flake.homo + 1, 1)\n",
    "flake.show_energies()"
   ]
  },
  {
   "cell_type": "markdown",
   "id": "7eb4cb68",
   "metadata": {},
   "source": [
    "In case of degeneracies, GRANAD distributes electrons equally among all degenerate energy levels, as demonstrated in the figure above."
   ]
  },
  {
   "cell_type": "markdown",
   "id": "c4e598cf",
   "metadata": {},
   "source": [
    "## Energy occupations"
   ]
  },
  {
   "cell_type": "markdown",
   "id": "96b1a85b",
   "metadata": {},
   "source": [
    "Similarly to site occupations, only energy occupations can also be obtained from the time-domain simulations."
   ]
  },
  {
   "cell_type": "markdown",
   "id": "ff1c710e",
   "metadata": {},
   "source": [
    "*Warning*: this introduces additional cubic complexity "
   ]
  },
  {
   "cell_type": "code",
   "execution_count": 12,
   "id": "bdc1e2dc",
   "metadata": {
    "execution": {
     "iopub.execute_input": "2025-01-27T15:52:16.530638Z",
     "iopub.status.busy": "2025-01-27T15:52:16.530266Z",
     "iopub.status.idle": "2025-01-27T15:52:22.677785Z",
     "shell.execute_reply": "2025-01-27T15:52:22.677266Z"
    }
   },
   "outputs": [
    {
     "name": "stdout",
     "output_type": "stream",
     "text": [
      "RHS compiled\n",
      "RHS compiled\n"
     ]
    },
    {
     "name": "stdout",
     "output_type": "stream",
     "text": [
      "49.992928864375614 %\n"
     ]
    },
    {
     "name": "stdout",
     "output_type": "stream",
     "text": [
      "100.0 %\n"
     ]
    },
    {
     "data": {
      "image/png": "[encoded data removed]",
      "text/plain": [
       "<Figure size 640x480 with 1 Axes>"
      ]
     },
     "metadata": {},
     "output_type": "display_data"
    }
   ],
   "source": [
    "result = flake.master_equation(\n",
    "    relaxation_rate = 1/10,\n",
    "    density_matrix = [\"occ_e\"],\n",
    "    end_time = 40,\n",
    "     )\n",
    "flake.show_res(result, plot_only = [flake.homo, flake.homo+1], plot_labels = [\"homo\", \"lumo\"], show_illumination = False )"
   ]
  },
  {
   "cell_type": "markdown",
   "id": "b4a51fda",
   "metadata": {},
   "source": [
    "## Combinations"
   ]
  },
  {
   "cell_type": "markdown",
   "id": "7c2a3501",
   "metadata": {},
   "source": [
    "We can also extract multiple quantities at the same time"
   ]
  },
  {
   "cell_type": "code",
   "execution_count": 13,
   "id": "e8c070be",
   "metadata": {
    "execution": {
     "iopub.execute_input": "2025-01-27T15:52:22.679697Z",
     "iopub.status.busy": "2025-01-27T15:52:22.679334Z",
     "iopub.status.idle": "2025-01-27T15:52:26.504557Z",
     "shell.execute_reply": "2025-01-27T15:52:26.503975Z"
    }
   },
   "outputs": [
    {
     "name": "stdout",
     "output_type": "stream",
     "text": [
      "RHS compiled\n",
      "RHS compiled\n"
     ]
    },
    {
     "name": "stdout",
     "output_type": "stream",
     "text": [
      "49.992928864375614 %\n"
     ]
    },
    {
     "name": "stdout",
     "output_type": "stream",
     "text": [
      "100.0 %\n"
     ]
    }
   ],
   "source": [
    "result = flake.master_equation(\n",
    "    relaxation_rate = 1/10,\n",
    "    density_matrix = [\"full\", \"occ_x\"],\n",
    "    expectation_values = [flake.dipole_operator],\n",
    "    end_time = 40,\n",
    "    illumination = pulse,\n",
    ")"
   ]
  },
  {
   "cell_type": "markdown",
   "id": "fd2ab047",
   "metadata": {},
   "source": [
    "The output will now contain three arrays: induced dipole moments, site occupations and full density matrices"
   ]
  },
  {
   "cell_type": "code",
   "execution_count": 14,
   "id": "b8b17985",
   "metadata": {
    "execution": {
     "iopub.execute_input": "2025-01-27T15:52:26.506572Z",
     "iopub.status.busy": "2025-01-27T15:52:26.506178Z",
     "iopub.status.idle": "2025-01-27T15:52:26.509935Z",
     "shell.execute_reply": "2025-01-27T15:52:26.509340Z"
    }
   },
   "outputs": [
    {
     "name": "stdout",
     "output_type": "stream",
     "text": [
      "3\n",
      "(7072, 3)\n",
      "(7072, 94, 94)\n",
      "(7072, 94)\n"
     ]
    }
   ],
   "source": [
    "print(len(result.output))\n",
    "print(result.output[0].shape) # by default, operators come first\n",
    "print(result.output[1].shape) # we specified [\"full\", \"occ_x\"] => full density matrices\n",
    "print(result.output[2].shape) # we specified [\"full\", \"occ_x\"] => site occupations"
   ]
  },
  {
   "cell_type": "markdown",
   "id": "f121c7eb",
   "metadata": {},
   "source": [
    "## EPI"
   ]
  },
  {
   "cell_type": "markdown",
   "id": "3e5f6671",
   "metadata": {},
   "source": [
    "The energy-based plasmonicity index introduced by [Müller et al.](https://pubs.acs.org/doi/10.1021/acs.jpcc.0c07964) is a quantity to characterize the steady-state plasmonicity. We use plane wave illumination to drive the system into a steady state and then compute the EPI."
   ]
  },
  {
   "cell_type": "code",
   "execution_count": 15,
   "id": "e0104cee",
   "metadata": {
    "execution": {
     "iopub.execute_input": "2025-01-27T15:52:26.511920Z",
     "iopub.status.busy": "2025-01-27T15:52:26.511497Z",
     "iopub.status.idle": "2025-01-27T15:52:30.365506Z",
     "shell.execute_reply": "2025-01-27T15:52:30.364923Z"
    }
   },
   "outputs": [
    {
     "name": "stdout",
     "output_type": "stream",
     "text": [
      "RHS compiled\n",
      "RHS compiled\n"
     ]
    },
    {
     "name": "stdout",
     "output_type": "stream",
     "text": [
      "49.992928864375614 %\n"
     ]
    },
    {
     "name": "stdout",
     "output_type": "stream",
     "text": [
      "100.0 %\n"
     ]
    },
    {
     "name": "stdout",
     "output_type": "stream",
     "text": [
      "0.8569306451286093\n"
     ]
    }
   ],
   "source": [
    "import jax.numpy as jnp\n",
    "from granad import Wave\n",
    "\n",
    "omega = 2.5 # we pick the approximate resonance at 2.5 \n",
    "res = flake.master_equation(\n",
    "    relaxation_rate = 1/10,\n",
    "    illumination = Wave(frequency = omega / 2 * jnp.pi, amplitudes = [1e-5, 0, 0]),\n",
    "    end_time = 40)\n",
    "\n",
    "# numerical broadening parameter of 0.05 eV\n",
    "epsilon = 0.05\n",
    "\n",
    "# print and compute the EPI\n",
    "print(flake.get_epi(res.final_density_matrix, omega = omega, epsilon = epsilon))"
   ]
  }
 ],
 "metadata": {
  "kernelspec": {
   "display_name": "base",
   "language": "python",
   "name": "base"
  },
  "language_info": {
   "codemirror_mode": {
    "name": "ipython",
    "version": 3
   },
   "file_extension": ".py",
   "mimetype": "text/x-python",
   "name": "python",
   "nbconvert_exporter": "python",
   "pygments_lexer": "ipython3",
   "version": "3.12.8"
  }
 },
 "nbformat": 4,
 "nbformat_minor": 5
}
