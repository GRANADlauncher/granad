{
 "cells": [
  {
   "cell_type": "markdown",
   "id": "ca069251",
   "metadata": {},
   "source": [
    "## Energy spectrum of graphene nanoflakes\n",
    "\n",
    "This example demonstrates the setup of a basic simulation. We will initialize a triangular graphene nanoflake, specify the couplings, obtain the energy spectrum, and investigate the eigenstates.\n",
    "\n",
    "### Set up the StackBuilder\n",
    "\n",
    "Building is a stack is done with the help of an eponymous StackBuilder. We first set up an empty instance."
   ]
  },
  {
   "cell_type": "code",
   "execution_count": null,
   "id": "da574ba7",
   "metadata": {},
   "outputs": [],
   "source": [
    "import granad\n",
    "sb = granad.StackBuilder()"
   ]
  },
  {
   "cell_type": "markdown",
   "id": "329de504",
   "metadata": {},
   "source": [
    "We want to model\n",
    "\n",
    "1. a *triangular* flake of 7.4 Å (0.74 nm)\n",
    "2. with an *armchair* edge type, which is\n",
    "3. made from graphene, i.e. a honeycomb lattice with a lattice constant of 2.46 Å.\n",
    "\n",
    "Step 1 specifies a concrete shape, while steps 2 and 3 define a concrete lattice. For this reason, GRANAD separates the process of defining such a flake via helper classes. First, we need the concrete shape. "
   ]
  },
  {
   "cell_type": "code",
   "execution_count": null,
   "id": "87a4f7fa",
   "metadata": {},
   "outputs": [],
   "source": [
    "triangle = granad.Triangle(7.4) "
   ]
  },
  {
   "cell_type": "markdown",
   "id": "0d88ad0b",
   "metadata": {},
   "source": [
    "Now, we need the lattice."
   ]
  },
  {
   "cell_type": "code",
   "execution_count": null,
   "id": "cd616612",
   "metadata": {},
   "outputs": [],
   "source": [
    "graphene = granad.Lattice(\n",
    "    shape=triangle,\n",
    "    lattice_type=granad.LatticeType.HONEYCOMB,\n",
    "    lattice_edge=granad.LatticeEdge.ARMCHAIR,\n",
    "    lattice_constant=2.46,\n",
    ")"
   ]
  },
  {
   "cell_type": "markdown",
   "id": "38b46591",
   "metadata": {},
   "source": [
    "Now, we visualize."
   ]
  },
  {
   "cell_type": "code",
   "execution_count": null,
   "id": "bfff8b10",
   "metadata": {},
   "outputs": [],
   "source": [
    "sb.add(\"pz\", graphene)\n",
    "sb.show3D()"
   ]
  },
  {
   "cell_type": "markdown",
   "id": "7b6af00e",
   "metadata": {},
   "source": [
    "Now, we define the couplings. GRANAD knows two types of couplings: hopping and Coulomb parameters. GRANAD offers coupling classes tailored to either lattice materials, single spots or a combination of both. Since we are investigating a lattice structure, we use the following code to set the onsite hopping between pz-Orbitals to 0 eV and the nearest-neighbor hopping to -2.66 eV."
   ]
  },
  {
   "cell_type": "code",
   "execution_count": null,
   "id": "3b122c61",
   "metadata": {},
   "outputs": [],
   "source": [
    "hopping_graphene = granad.LatticeCoupling(\n",
    "    orbital_id1=\"pz\", orbital_id2=\"pz\", lattice=graphene, couplings=[0, -2.66] # list of hopping amplitudes like [onsite, nn, ...]\n",
    ")\n",
    "sb.set_hopping(hopping_graphene)"
   ]
  },
  {
   "cell_type": "markdown",
   "id": "f89006c2",
   "metadata": {},
   "source": [
    "For Coulomb couplings, we use the following procedures\n",
    "\n",
    "1. For onsite, nearest neighbour, next-to-nearest neighbour hoppings we use the values 16.522, 8.64, 5.333\n",
    "2. For neigbours further apart, we use the classical law 14.399 / r\n",
    "\n",
    "To this end, we use the following code."
   ]
  },
  {
   "cell_type": "code",
   "execution_count": null,
   "id": "85f3112f",
   "metadata": {},
   "outputs": [],
   "source": [
    "coulomb_graphene = granad.LatticeCoupling(\n",
    "    orbital_id1=\"pz\",\n",
    "    orbital_id2=\"pz\",\n",
    "    lattice=graphene,\n",
    "    couplings=[16.522, 8.64, 5.333],\n",
    "    coupling_function=lambda d: 14.399 / d + 0j,\n",
    ")\n",
    "sb.set_coulomb(coulomb_graphene)"
   ]
  },
  {
   "cell_type": "markdown",
   "id": "915b57c0",
   "metadata": {},
   "source": [
    "### Set up the Stack\n",
    "\n",
    "The StackBuilder is the high-level representation of the setup. For numerical simulations, we need a Stack instance."
   ]
  },
  {
   "cell_type": "code",
   "execution_count": null,
   "id": "539cb034",
   "metadata": {},
   "outputs": [],
   "source": [
    "stack = sb.get_stack()"
   ]
  },
  {
   "cell_type": "markdown",
   "id": "cc6c1e72",
   "metadata": {},
   "source": [
    "Now, we can visualize IP quantities"
   ]
  },
  {
   "cell_type": "code",
   "execution_count": null,
   "id": "f6eb5699",
   "metadata": {},
   "outputs": [],
   "source": [
    "# visualize the first \"excited state\"\n",
    "granad.show_eigenstate2D(stack, show_state=1)\n",
    "\n",
    "# visualize the energy spectrum\n",
    "granad.show_energies(stack)"
   ]
  }
 ],
 "metadata": {
  "kernelspec": {
   "display_name": "base",
   "language": "python",
   "name": "base"
  }
 },
 "nbformat": 4,
 "nbformat_minor": 5
}
