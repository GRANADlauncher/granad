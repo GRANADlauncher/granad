{
 "cells": [
  {
   "cell_type": "markdown",
   "id": "315b894f",
   "metadata": {},
   "source": [
    "## Coupling an adatom to a graphene nanoflake\n",
    "\n",
    "This example demonstrates an advanced simulation. We will couple an adatom and a nanoflake. Once this is accomplished, alla analyses of the previous tutorials can be applied to the hybrid systems, i.e. Rabi oscillations, absorptions etc without modification.\n",
    "\n",
    "### Set up the Stack\n",
    "\n",
    "The setup is analogous to the previous tutorials. We can add the isolated systems (flake, adatom) to the StackBuilder instance."
   ]
  },
  {
   "cell_type": "code",
   "execution_count": null,
   "id": "f473fcc6",
   "metadata": {},
   "outputs": [],
   "source": [
    "import granad\n",
    "import jax.numpy as jnp\n",
    "import numpy as np\n",
    "import matplotlib.pyplot as plt\n",
    "\n",
    "sb = granad.StackBuilder()\n",
    "\n",
    "# geometry\n",
    "triangle = granad.Triangle(7.4) \n",
    "graphene = granad.Lattice(\n",
    "    shape=triangle,\n",
    "    lattice_type=granad.LatticeType.HONEYCOMB,\n",
    "    lattice_edge=granad.LatticeEdge.ARMCHAIR,\n",
    "    lattice_constant=2.46,\n",
    ")\n",
    "sb.add(\"pz\", graphene)\n",
    "\n",
    "# couplings\n",
    "hopping_graphene = granad.LatticeCoupling(\n",
    "    orbital_id1=\"pz\", orbital_id2=\"pz\", lattice=graphene, couplings=[0, -2.66] # list of hopping amplitudes like [onsite, nn, ...]\n",
    ")\n",
    "sb.set_hopping(hopping_graphene)\n",
    "coulomb_graphene = granad.LatticeCoupling(\n",
    "    orbital_id1=\"pz\",\n",
    "    orbital_id2=\"pz\",\n",
    "    lattice=graphene,\n",
    "    couplings=[16.522, 8.64, 5.333],\n",
    "    coupling_function=lambda d: 14.399 / d + 0j,\n",
    ")\n",
    "sb.set_coulomb(coulomb_graphene)\n",
    "\n",
    "\n",
    "# add adatom in top position over the 0-th atom in benzene ring\n",
    "pos = sb.get_positions()\n",
    "top_position = pos[0] + jnp.array([0.0, 0.0, 1.0])\n",
    "spot = granad.Spot(position=top_position)\n",
    "sb.add(\"A\", spot)\n",
    "sb.add(\"B\", spot, occupation = 0)\n",
    "\n",
    "# onsite hopping\n",
    "sb.set_hopping(granad.SpotCoupling(orbital_id1=\"A\", orbital_id2=\"A\", coupling=0))\n",
    "sb.set_hopping(granad.SpotCoupling(orbital_id1=\"A\", orbital_id2=\"B\", coupling=1))\n",
    "sb.set_hopping(granad.SpotCoupling(orbital_id1=\"B\", orbital_id2=\"B\", coupling=2))\n",
    "\n",
    "# onsite coulomb\n",
    "sb.set_coulomb(granad.SpotCoupling(orbital_id1=\"A\", orbital_id2=\"A\", coupling=1))\n",
    "sb.set_coulomb(granad.SpotCoupling(orbital_id1=\"A\", orbital_id2=\"B\", coupling=1))\n",
    "sb.set_coulomb(granad.SpotCoupling(orbital_id1=\"B\", orbital_id2=\"B\", coupling=1))"
   ]
  },
  {
   "cell_type": "markdown",
   "id": "acd2d861",
   "metadata": {},
   "source": [
    "### Combine the systems\n",
    "\n",
    "We now couple the two systems"
   ]
  },
  {
   "cell_type": "code",
   "execution_count": null,
   "id": "78c84b3c",
   "metadata": {},
   "outputs": [],
   "source": [
    "for orb in [\"A\", \"B\"]:\n",
    "    lattice_spot_hopping = granad.LatticeSpotCoupling(\n",
    "        lattice_id=\"pz\", spot_id=orb, couplings=[1, 0.5]\n",
    "    )\n",
    "    sb.set_hopping(lattice_spot_hopping)\n",
    "    lattice_spot_coulomb = granad.LatticeSpotCoupling(\n",
    "        lattice_id=\"pz\",\n",
    "    spot_id=orb,\n",
    "    couplings=[2],\n",
    "    coupling_function=lambda d: 1 / d + 0j,\n",
    "    )\n",
    "    sb.set_coulomb(lattice_spot_coulomb)\n",
    "\n",
    "stack = sb.get_stack()\n",
    "granad.show_eigenstate3D(stack)"
   ]
  }
 ],
 "metadata": {
  "kernelspec": {
   "display_name": "base",
   "language": "python",
   "name": "base"
  }
 },
 "nbformat": 4,
 "nbformat_minor": 5
}
