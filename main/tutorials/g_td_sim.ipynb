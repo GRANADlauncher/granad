{
 "cells": [
  {
   "cell_type": "markdown",
   "id": "fec5a555",
   "metadata": {},
   "source": [
    "# Time-Domain simulations\n"
   ]
  },
  {
   "cell_type": "markdown",
   "id": "bd803def",
   "metadata": {},
   "source": [
    "We introduce time-domain simulations, which are based on GRANAD's default master equation"
   ]
  },
  {
   "cell_type": "markdown",
   "id": "3e92c3db",
   "metadata": {},
   "source": [
    "$$\\dot{\\rho}(t) = -i [H[t,\\rho(t)], \\rho] + \\mathcal{D}[t, \\rho]$$"
   ]
  },
  {
   "cell_type": "markdown",
   "id": "af95ee80",
   "metadata": {},
   "source": [
    "The Hamiltonian is non-linear in the sense that the Coulomb term depends on the charge electronic distribution given by the time-dependent density matrix:"
   ]
  },
  {
   "cell_type": "markdown",
   "id": "0f6cf727",
   "metadata": {},
   "source": [
    "$$H[t,\\rho(t)] = h^{0} + \\vec{E} \\vec{P} + C(\\rho(t) - \\rho^{0})$$"
   ]
  },
  {
   "cell_type": "markdown",
   "id": "17ece02f",
   "metadata": {},
   "source": [
    "where "
   ]
  },
  {
   "cell_type": "markdown",
   "id": "25b858b2",
   "metadata": {},
   "source": [
    "1. $h^{0}$ is the single-particle tight-binding Hamiltonian constructed from localized orbitals.\n",
    "2. $\\vec{P}$ is the dipole moment operator depending on lattice site positions $\\vec{r}$. Additonal dipole moment elements $\\vec{d}_{ij}$ between orbitals $i$, $j$ of the same site can be taken into account. This leads to an interatomic potential with unit charge $e$, given by $e \\vec{E} \\vec{r}$, and an intra-atomic potential $\\vec{E} \\vec{d}$.\n",
    "3. $\\rho^{0}$ is the stationary density matrix representing the system's ground state, and $C$ is the Coulomb matrix."
   ]
  },
  {
   "cell_type": "markdown",
   "id": "83a7e066",
   "metadata": {},
   "source": [
    "This expression is the dipole-gauge expression for the Hamiltonian including an external electric field $\\vec{E}$."
   ]
  },
  {
   "cell_type": "markdown",
   "id": "9a141e12",
   "metadata": {
    "lines_to_next_cell": 2
   },
   "source": [
    "## Observables"
   ]
  },
  {
   "cell_type": "markdown",
   "id": "3a45ec40",
   "metadata": {},
   "source": [
    "You can compute multiple observables in one simulation run"
   ]
  },
  {
   "cell_type": "code",
   "execution_count": 1,
   "id": "ca327b82",
   "metadata": {
    "execution": {
     "iopub.execute_input": "2025-04-14T16:47:16.854612Z",
     "iopub.status.busy": "2025-04-14T16:47:16.854429Z",
     "iopub.status.idle": "2025-04-14T16:47:25.641445Z",
     "shell.execute_reply": "2025-04-14T16:47:25.640920Z"
    }
   },
   "outputs": [
    {
     "name": "stdout",
     "output_type": "stream",
     "text": [
      "RHS compiled\n",
      "RHS compiled\n"
     ]
    },
    {
     "name": "stdout",
     "output_type": "stream",
     "text": [
      "49.99262428086739 %\n"
     ]
    },
    {
     "name": "stdout",
     "output_type": "stream",
     "text": [
      "100.0 %\n"
     ]
    }
   ],
   "source": [
    "from granad import MaterialCatalog, Hexagon, Pulse\n",
    "flake = MaterialCatalog.get(\"graphene\").cut_flake( Hexagon(10) )\n",
    "\n",
    "pulse = Pulse(\n",
    "    amplitudes=[1e-5, 0, 0], frequency=2.3, peak=5, fwhm=2\n",
    ")\n",
    "\n",
    "operators = [flake.dipole_operator, flake.velocity_operator]\n",
    "\n",
    "result = flake.master_equation(\n",
    "    relaxation_rate = 1/10,\n",
    "    illumination = pulse,\n",
    "    expectation_values = operators,\n",
    "    end_time = 40,\n",
    "     )"
   ]
  },
  {
   "cell_type": "markdown",
   "id": "2452e1dc",
   "metadata": {},
   "source": [
    "The result object stores this information. Operators are concatenated in the order you passed them in."
   ]
  },
  {
   "cell_type": "code",
   "execution_count": 2,
   "id": "1e9a9d5f",
   "metadata": {
    "execution": {
     "iopub.execute_input": "2025-04-14T16:47:25.643708Z",
     "iopub.status.busy": "2025-04-14T16:47:25.643337Z",
     "iopub.status.idle": "2025-04-14T16:47:25.647192Z",
     "shell.execute_reply": "2025-04-14T16:47:25.646596Z"
    }
   },
   "outputs": [
    {
     "name": "stdout",
     "output_type": "stream",
     "text": [
      "1\n",
      "(6780, 6)\n"
     ]
    }
   ],
   "source": [
    "print(len(result.output))\n",
    "print(result.output[0].shape)"
   ]
  },
  {
   "cell_type": "markdown",
   "id": "b99889db",
   "metadata": {},
   "source": [
    "The induced dipole moment at timestep 10 is given by"
   ]
  },
  {
   "cell_type": "code",
   "execution_count": 3,
   "id": "1f577552",
   "metadata": {
    "execution": {
     "iopub.execute_input": "2025-04-14T16:47:25.649014Z",
     "iopub.status.busy": "2025-04-14T16:47:25.648670Z",
     "iopub.status.idle": "2025-04-14T16:47:25.673351Z",
     "shell.execute_reply": "2025-04-14T16:47:25.672855Z"
    }
   },
   "outputs": [
    {
     "name": "stdout",
     "output_type": "stream",
     "text": [
      "[6.14135632e-13+0.j 1.41541778e-13+0.j 0.00000000e+00+0.j]\n"
     ]
    }
   ],
   "source": [
    "print(result.output[0][10,:3])"
   ]
  },
  {
   "cell_type": "markdown",
   "id": "511852ef",
   "metadata": {},
   "source": [
    "Induced current at timestep 10"
   ]
  },
  {
   "cell_type": "code",
   "execution_count": 4,
   "id": "2ab149a6",
   "metadata": {
    "execution": {
     "iopub.execute_input": "2025-04-14T16:47:25.675045Z",
     "iopub.status.busy": "2025-04-14T16:47:25.674874Z",
     "iopub.status.idle": "2025-04-14T16:47:25.679429Z",
     "shell.execute_reply": "2025-04-14T16:47:25.678739Z"
    },
    "lines_to_next_cell": 2
   },
   "outputs": [
    {
     "name": "stdout",
     "output_type": "stream",
     "text": [
      "[ 1.44989633e-11+4.56137326e-15j -5.40864953e-15+7.90053023e-15j\n",
      "  0.00000000e+00+0.00000000e+00j]\n"
     ]
    }
   ],
   "source": [
    "print(result.output[0][10,3:])"
   ]
  },
  {
   "cell_type": "markdown",
   "id": "a7a2e3fc",
   "metadata": {},
   "source": [
    "We can access the Fourier transform as"
   ]
  },
  {
   "cell_type": "code",
   "execution_count": 5,
   "id": "4e91d092",
   "metadata": {
    "execution": {
     "iopub.execute_input": "2025-04-14T16:47:25.681213Z",
     "iopub.status.busy": "2025-04-14T16:47:25.681008Z",
     "iopub.status.idle": "2025-04-14T16:47:26.075769Z",
     "shell.execute_reply": "2025-04-14T16:47:26.075265Z"
    }
   },
   "outputs": [],
   "source": [
    "omega_min, omega_max = 0, 5\n",
    "omegas, pulse_omega = result.ft_illumination( omega_min = omega_min, omega_max = omega_max )\n",
    "output_omega = result.ft_output( omega_min = omega_min, omega_max = omega_max )[0]"
   ]
  },
  {
   "cell_type": "markdown",
   "id": "557ba79b",
   "metadata": {},
   "source": [
    "The incident field is accessible via result.td_illumination, e.g.,"
   ]
  },
  {
   "cell_type": "code",
   "execution_count": 6,
   "id": "f8c54c74",
   "metadata": {
    "execution": {
     "iopub.execute_input": "2025-04-14T16:47:26.078038Z",
     "iopub.status.busy": "2025-04-14T16:47:26.077852Z",
     "iopub.status.idle": "2025-04-14T16:47:26.081475Z",
     "shell.execute_reply": "2025-04-14T16:47:26.080767Z"
    }
   },
   "outputs": [
    {
     "name": "stdout",
     "output_type": "stream",
     "text": [
      "(6780, 3)\n"
     ]
    }
   ],
   "source": [
    "print(result.td_illumination.shape)"
   ]
  },
  {
   "cell_type": "markdown",
   "id": "0c9c12aa",
   "metadata": {},
   "source": [
    "# Continuity equation example"
   ]
  },
  {
   "cell_type": "markdown",
   "id": "10cf09d8",
   "metadata": {},
   "source": [
    "From the classical continuity equation for the charge and current density $\\rho(\\vec{r},t), \\vec{j}(\\vec{r},t)$ and dipole moment density $\\vec{p}(\\vec{r},t)$, we have"
   ]
  },
  {
   "cell_type": "markdown",
   "id": "eadf711a",
   "metadata": {},
   "source": [
    "$$\\dot{\\rho}(\\vec{r}, t) = -\\nabla \\vec{j}(\\vec{r}, t) = \\nabla \\dot{\\vec{p}}(\\vec{r}, t) \\implies \\dot{\\vec{p}}(\\vec{r},t) = \\vec{j}(\\vec{r},t)$$"
   ]
  },
  {
   "cell_type": "markdown",
   "id": "6804f810",
   "metadata": {},
   "source": [
    "After Fourier transformation, we obtain"
   ]
  },
  {
   "cell_type": "markdown",
   "id": "ce8dbf68",
   "metadata": {},
   "source": [
    "$$-i\\omega \\vec{p}(\\vec{r}, \\omega) = \\vec{j}(\\vec{r}, \\omega)$$"
   ]
  },
  {
   "cell_type": "markdown",
   "id": "d86557c7",
   "metadata": {},
   "source": [
    "Its integrated form is given by"
   ]
  },
  {
   "cell_type": "markdown",
   "id": "69933c7e",
   "metadata": {},
   "source": [
    "$$\\sum_i \\dot{\\vec{p}}(\\vec{r}_i,t) = \\dot{\\vec{p}}(t) = \\sum_i d\\vec{r} \\vec{j}(\\vec{r}_i,t) =  \\vec{j}(t)$$ "
   ]
  },
  {
   "cell_type": "markdown",
   "id": "9abd9f40",
   "metadata": {},
   "source": [
    "$\\vec{j}(t)$ and $\\vec{p}(t)$ are the total current and dipole moment respectively and we have taken the spatially discrete basis into account. We can obtain operator expectation values directly from the time-domain simulations. The continuity equation above can be verified as follows"
   ]
  },
  {
   "cell_type": "code",
   "execution_count": 7,
   "id": "d73e405b",
   "metadata": {
    "execution": {
     "iopub.execute_input": "2025-04-14T16:47:26.083782Z",
     "iopub.status.busy": "2025-04-14T16:47:26.083432Z",
     "iopub.status.idle": "2025-04-14T16:47:26.499130Z",
     "shell.execute_reply": "2025-04-14T16:47:26.498478Z"
    },
    "lines_to_next_cell": 2
   },
   "outputs": [
    {
     "data": {
      "image/png": "[encoded data removed]",
      "text/plain": [
       "<Figure size 640x480 with 1 Axes>"
      ]
     },
     "metadata": {},
     "output_type": "display_data"
    }
   ],
   "source": [
    "import matplotlib.pyplot as plt\n",
    "p = -(omegas * output_omega[:,0]).imag\n",
    "j = output_omega[:,3].real\n",
    "plt.plot(omegas, p, label = r'$- \\text{Im}[\\omega p_x]$')\n",
    "plt.plot(omegas, j, '--', label = r'$\\text{Re}[j_x]$')\n",
    "plt.xlabel(r'$\\omega$ (eV)')\n",
    "plt.ylabel(r'$j$')\n",
    "plt.legend()\n",
    "plt.show()"
   ]
  },
  {
   "cell_type": "markdown",
   "id": "d442c304",
   "metadata": {},
   "source": [
    "## Density matrices"
   ]
  },
  {
   "cell_type": "markdown",
   "id": "b64578d4",
   "metadata": {},
   "source": [
    "If we want to find the time-dependent density matrices, we can omit the operator list. The result object then contains a one-element list."
   ]
  },
  {
   "cell_type": "code",
   "execution_count": 8,
   "id": "587dcc63",
   "metadata": {
    "execution": {
     "iopub.execute_input": "2025-04-14T16:47:26.500902Z",
     "iopub.status.busy": "2025-04-14T16:47:26.500730Z",
     "iopub.status.idle": "2025-04-14T16:47:29.180692Z",
     "shell.execute_reply": "2025-04-14T16:47:29.180063Z"
    }
   },
   "outputs": [
    {
     "name": "stdout",
     "output_type": "stream",
     "text": [
      "RHS compiled\n",
      "RHS compiled\n"
     ]
    },
    {
     "name": "stdout",
     "output_type": "stream",
     "text": [
      "49.99262428086739 %\n"
     ]
    },
    {
     "name": "stdout",
     "output_type": "stream",
     "text": [
      "100.0 %\n",
      "(6780, 96, 96)\n"
     ]
    }
   ],
   "source": [
    "result = flake.master_equation(\n",
    "    relaxation_rate = 1/10,\n",
    "    illumination = pulse,\n",
    "    end_time = 40,\n",
    "    density_matrix = [\"full\"],\n",
    "     )\n",
    "density_matrix = result.output[0]\n",
    "print(density_matrix.shape)"
   ]
  },
  {
   "cell_type": "markdown",
   "id": "7fe63ae2",
   "metadata": {},
   "source": [
    "We can convert them to energy basis"
   ]
  },
  {
   "cell_type": "code",
   "execution_count": 9,
   "id": "6a2cd6b1",
   "metadata": {
    "execution": {
     "iopub.execute_input": "2025-04-14T16:47:29.182709Z",
     "iopub.status.busy": "2025-04-14T16:47:29.182362Z",
     "iopub.status.idle": "2025-04-14T16:47:31.118808Z",
     "shell.execute_reply": "2025-04-14T16:47:31.118305Z"
    }
   },
   "outputs": [
    {
     "name": "stdout",
     "output_type": "stream",
     "text": [
      "(6780, 96, 96)\n"
     ]
    }
   ],
   "source": [
    "density_matrix_e = flake.transform_to_energy_basis( density_matrix )\n",
    "print(density_matrix_e.shape)"
   ]
  },
  {
   "cell_type": "markdown",
   "id": "84ef285c",
   "metadata": {},
   "source": [
    "## Occupations"
   ]
  },
  {
   "cell_type": "markdown",
   "id": "5bc330a4",
   "metadata": {},
   "source": [
    "To reduce memory consumption, we can extract only the site occupations to avoid storing the entire stack of density matices in memory."
   ]
  },
  {
   "cell_type": "code",
   "execution_count": 10,
   "id": "ab6dea3a",
   "metadata": {
    "execution": {
     "iopub.execute_input": "2025-04-14T16:47:31.120787Z",
     "iopub.status.busy": "2025-04-14T16:47:31.120428Z",
     "iopub.status.idle": "2025-04-14T16:47:33.719009Z",
     "shell.execute_reply": "2025-04-14T16:47:33.718497Z"
    }
   },
   "outputs": [
    {
     "name": "stdout",
     "output_type": "stream",
     "text": [
      "RHS compiled\n",
      "RHS compiled\n"
     ]
    },
    {
     "name": "stdout",
     "output_type": "stream",
     "text": [
      "49.99262428086739 %\n"
     ]
    },
    {
     "name": "stdout",
     "output_type": "stream",
     "text": [
      "100.0 %\n",
      "(6780, 96)\n"
     ]
    }
   ],
   "source": [
    "result = flake.master_equation(\n",
    "    relaxation_rate = 1/10,\n",
    "    illumination = pulse,\n",
    "    density_matrix = [\"occ_x\"],\n",
    "    end_time = 40,\n",
    "     )\n",
    "occ_x = result.output[0]\n",
    "print(occ_x.shape)"
   ]
  },
  {
   "cell_type": "markdown",
   "id": "a66574a4",
   "metadata": {},
   "source": [
    "Further reduction of the memory consumption can be controlled by the grid argument, which describes the density of the time domain sampling grid, explained in the API section on the `master_equation` method."
   ]
  },
  {
   "cell_type": "markdown",
   "id": "109d6080",
   "metadata": {},
   "source": [
    "## Energy occupations"
   ]
  },
  {
   "cell_type": "markdown",
   "id": "c4190645",
   "metadata": {},
   "source": [
    "Similarly to site occupations, energy occupations can also be obtained from the time-domain simulations."
   ]
  },
  {
   "cell_type": "markdown",
   "id": "fec55f58",
   "metadata": {},
   "source": [
    "*Warning*: this introduces additional cubic complexity "
   ]
  },
  {
   "cell_type": "code",
   "execution_count": 11,
   "id": "09f00378",
   "metadata": {
    "execution": {
     "iopub.execute_input": "2025-04-14T16:47:33.721190Z",
     "iopub.status.busy": "2025-04-14T16:47:33.720723Z",
     "iopub.status.idle": "2025-04-14T16:47:38.372805Z",
     "shell.execute_reply": "2025-04-14T16:47:38.372264Z"
    }
   },
   "outputs": [
    {
     "name": "stdout",
     "output_type": "stream",
     "text": [
      "RHS compiled\n",
      "RHS compiled\n"
     ]
    },
    {
     "name": "stdout",
     "output_type": "stream",
     "text": [
      "49.99262428086739 %\n"
     ]
    },
    {
     "name": "stdout",
     "output_type": "stream",
     "text": [
      "100.0 %\n",
      "(6780, 96)\n"
     ]
    }
   ],
   "source": [
    "result = flake.master_equation(\n",
    "    illumination = pulse,\n",
    "    relaxation_rate = 1/10,\n",
    "    density_matrix = [\"occ_e\"],\n",
    "    end_time = 40,\n",
    "     )\n",
    "occ_e = result.output[0]\n",
    "print(occ_e.shape)"
   ]
  },
  {
   "cell_type": "markdown",
   "id": "45983e4a",
   "metadata": {},
   "source": [
    "## Initially excited states"
   ]
  },
  {
   "cell_type": "markdown",
   "id": "f941df66",
   "metadata": {},
   "source": [
    "GRANAD allows to set initially excited states by specifying the single-particle transition in the density matrix as follows"
   ]
  },
  {
   "cell_type": "code",
   "execution_count": 12,
   "id": "f2ea0d0d",
   "metadata": {
    "execution": {
     "iopub.execute_input": "2025-04-14T16:47:38.375021Z",
     "iopub.status.busy": "2025-04-14T16:47:38.374646Z",
     "iopub.status.idle": "2025-04-14T16:47:40.116533Z",
     "shell.execute_reply": "2025-04-14T16:47:40.115979Z"
    }
   },
   "outputs": [
    {
     "data": {
      "image/png": "[encoded data removed]",
      "text/plain": [
       "<Figure size 640x480 with 2 Axes>"
      ]
     },
     "metadata": {},
     "output_type": "display_data"
    }
   ],
   "source": [
    "flake.set_excitation( flake.homo, flake.lumo, 1)\n",
    "flake.show_energies()"
   ]
  },
  {
   "cell_type": "markdown",
   "id": "4f7d7761",
   "metadata": {},
   "source": [
    "In case of degeneracies, GRANAD distributes electrons equally among all degenerate energy levels, as demonstrated in the figure above."
   ]
  },
  {
   "cell_type": "markdown",
   "id": "22692275",
   "metadata": {},
   "source": [
    "## Combinations"
   ]
  },
  {
   "cell_type": "markdown",
   "id": "1be69c71",
   "metadata": {},
   "source": [
    "We can also extract multiple quantities at the same time"
   ]
  },
  {
   "cell_type": "code",
   "execution_count": 13,
   "id": "a79fc12e",
   "metadata": {
    "execution": {
     "iopub.execute_input": "2025-04-14T16:47:40.118513Z",
     "iopub.status.busy": "2025-04-14T16:47:40.118326Z",
     "iopub.status.idle": "2025-04-14T16:47:43.008412Z",
     "shell.execute_reply": "2025-04-14T16:47:43.007865Z"
    }
   },
   "outputs": [
    {
     "name": "stdout",
     "output_type": "stream",
     "text": [
      "RHS compiled\n",
      "RHS compiled\n"
     ]
    },
    {
     "name": "stdout",
     "output_type": "stream",
     "text": [
      "49.99262428086739 %\n"
     ]
    },
    {
     "name": "stdout",
     "output_type": "stream",
     "text": [
      "100.0 %\n"
     ]
    }
   ],
   "source": [
    "result = flake.master_equation(\n",
    "    relaxation_rate = 1/10,\n",
    "    density_matrix = [\"full\", \"occ_x\"],\n",
    "    expectation_values = [flake.dipole_operator],\n",
    "    end_time = 40,\n",
    "    illumination = pulse,\n",
    ")"
   ]
  },
  {
   "cell_type": "markdown",
   "id": "c10b02c7",
   "metadata": {},
   "source": [
    "The output will now contain three arrays: induced dipole moments, site occupations and full density matrices"
   ]
  },
  {
   "cell_type": "code",
   "execution_count": 14,
   "id": "144c46a4",
   "metadata": {
    "execution": {
     "iopub.execute_input": "2025-04-14T16:47:43.010383Z",
     "iopub.status.busy": "2025-04-14T16:47:43.009994Z",
     "iopub.status.idle": "2025-04-14T16:47:43.013653Z",
     "shell.execute_reply": "2025-04-14T16:47:43.013047Z"
    }
   },
   "outputs": [
    {
     "name": "stdout",
     "output_type": "stream",
     "text": [
      "3\n",
      "(6780, 3)\n",
      "(6780, 96, 96)\n",
      "(6780, 96)\n"
     ]
    }
   ],
   "source": [
    "print(len(result.output))\n",
    "print(result.output[0].shape) # by default, operators come first\n",
    "print(result.output[1].shape) # we specified [\"full\", \"occ_x\"] => full density matrices\n",
    "print(result.output[2].shape) # we specified [\"full\", \"occ_x\"] => site occupations"
   ]
  },
  {
   "cell_type": "markdown",
   "id": "23fe681b",
   "metadata": {},
   "source": [
    "## EPI"
   ]
  },
  {
   "cell_type": "markdown",
   "id": "dbf717d7",
   "metadata": {},
   "source": [
    "The energy-based plasmonicity index introduced by [Müller et al.](https://pubs.acs.org/doi/10.1021/acs.jpcc.0c07964) is a quantity to characterize the steady-state plasmonicity. We use plane wave illumination to drive the system into a steady state and then compute the EPI."
   ]
  },
  {
   "cell_type": "code",
   "execution_count": 15,
   "id": "13ebd4ee",
   "metadata": {
    "execution": {
     "iopub.execute_input": "2025-04-14T16:47:43.015612Z",
     "iopub.status.busy": "2025-04-14T16:47:43.015273Z",
     "iopub.status.idle": "2025-04-14T16:47:45.855394Z",
     "shell.execute_reply": "2025-04-14T16:47:45.854831Z"
    }
   },
   "outputs": [
    {
     "name": "stdout",
     "output_type": "stream",
     "text": [
      "RHS compiled\n",
      "RHS compiled\n"
     ]
    },
    {
     "name": "stdout",
     "output_type": "stream",
     "text": [
      "49.99262428086739 %\n"
     ]
    },
    {
     "name": "stdout",
     "output_type": "stream",
     "text": [
      "100.0 %\n"
     ]
    },
    {
     "name": "stdout",
     "output_type": "stream",
     "text": [
      "0.84920609227829\n"
     ]
    }
   ],
   "source": [
    "import jax.numpy as jnp\n",
    "from granad import Wave\n",
    "\n",
    "omega = 2.5 # we pick the approximate resonance at 2.5 \n",
    "res = flake.master_equation(\n",
    "    relaxation_rate = 1/10,\n",
    "    illumination = Wave(frequency = omega, amplitudes = [1e-5, 0, 0]),\n",
    "    end_time = 40)\n",
    "\n",
    "# numerical broadening parameter of 0.05 eV\n",
    "epsilon = 0.05\n",
    "\n",
    "# print and compute the EPI\n",
    "print(flake.get_epi(res.final_density_matrix, omega = omega, epsilon = epsilon))"
   ]
  },
  {
   "cell_type": "markdown",
   "id": "5ca1ce7d",
   "metadata": {},
   "source": [
    "<div style=\"\n",
    "    padding: 10px;\n",
    "    background-color: #fff3cd;\n",
    "    color: #856404;\n",
    "    border-left: 5px solid #ffcc00;\n",
    "    border-radius: 5px;\n",
    "    padding: 10px;\n",
    "\">\n",
    "<b>Important Note:</b> The <code>diffrax</code> solver adjusts the simulation parameters automatically \n",
    "depending on the initial values of physical parameters. Running stable calculations might require \n",
    "some fine-tuning. Example scripts providing working setups are provided <a href=\"https://github.com/GRANADlauncher/granad/tree/main/docs_src/Time_Domain_Simulations\">here</a>.\n",
    "</div>"
   ]
  }
 ],
 "metadata": {
  "kernelspec": {
   "display_name": "base",
   "language": "python",
   "name": "base"
  },
  "language_info": {
   "codemirror_mode": {
    "name": "ipython",
    "version": 3
   },
   "file_extension": ".py",
   "mimetype": "text/x-python",
   "name": "python",
   "nbconvert_exporter": "python",
   "pygments_lexer": "ipython3",
   "version": "3.12.9"
  }
 },
 "nbformat": 4,
 "nbformat_minor": 5
}
