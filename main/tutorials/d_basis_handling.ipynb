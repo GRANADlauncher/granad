{
 "cells": [
  {
   "cell_type": "markdown",
   "id": "142ad9a3",
   "metadata": {},
   "source": [
    "# Basis Handling\n",
    "\n",
    "We introduce the site and energy bases."
   ]
  },
  {
   "cell_type": "markdown",
   "id": "a87a41b7",
   "metadata": {},
   "source": [
    "## Default basis\n",
    "\n",
    "By default, GRANAD uses the site basis. You can explicitly force a quantity to be given in energy basis by appending \"_e\" to it."
   ]
  },
  {
   "cell_type": "code",
   "execution_count": 1,
   "id": "5b9ac2a6",
   "metadata": {
    "execution": {
     "iopub.execute_input": "2025-06-05T10:53:02.265024Z",
     "iopub.status.busy": "2025-06-05T10:53:02.264823Z",
     "iopub.status.idle": "2025-06-05T10:53:06.380501Z",
     "shell.execute_reply": "2025-06-05T10:53:06.379950Z"
    }
   },
   "outputs": [],
   "source": [
    "import jax.numpy as jnp\n",
    "from granad import MaterialCatalog\n",
    "\n",
    "chain  = MaterialCatalog.get(\"chain\")\n",
    "flake = chain.cut_flake( unit_cells = 10 )\n",
    "site_occupations = flake.initial_density_matrix.diagonal() # site basis\n",
    "energy_occupations = flake.initial_density_matrix_e.diagonal() # energy basis"
   ]
  },
  {
   "cell_type": "markdown",
   "id": "aba5f467",
   "metadata": {},
   "source": [
    "Additionally, should you be unsure, the site basis is always given by appending \"_x\"."
   ]
  },
  {
   "cell_type": "code",
   "execution_count": 2,
   "id": "280f2ef2",
   "metadata": {
    "execution": {
     "iopub.execute_input": "2025-06-05T10:53:06.382730Z",
     "iopub.status.busy": "2025-06-05T10:53:06.382376Z",
     "iopub.status.idle": "2025-06-05T10:53:06.414479Z",
     "shell.execute_reply": "2025-06-05T10:53:06.413896Z"
    }
   },
   "outputs": [
    {
     "name": "stdout",
     "output_type": "stream",
     "text": [
      "True\n"
     ]
    }
   ],
   "source": [
    "print(jnp.all(flake.initial_density_matrix_x == flake.initial_density_matrix))"
   ]
  },
  {
   "cell_type": "markdown",
   "id": "8676b15e",
   "metadata": {},
   "source": [
    "There is also a built-in function for basis transformation"
   ]
  },
  {
   "cell_type": "code",
   "execution_count": 3,
   "id": "3763658c",
   "metadata": {
    "execution": {
     "iopub.execute_input": "2025-06-05T10:53:06.416615Z",
     "iopub.status.busy": "2025-06-05T10:53:06.416241Z",
     "iopub.status.idle": "2025-06-05T10:53:06.421348Z",
     "shell.execute_reply": "2025-06-05T10:53:06.420749Z"
    }
   },
   "outputs": [
    {
     "name": "stdout",
     "output_type": "stream",
     "text": [
      "True\n"
     ]
    }
   ],
   "source": [
    "print(jnp.all(flake.transform_to_energy_basis(flake.hamiltonian) == flake.hamiltonian_e))"
   ]
  },
  {
   "cell_type": "markdown",
   "id": "7f25820e",
   "metadata": {
    "lines_to_next_cell": 2
   },
   "source": [
    "This is useful when transforming arrays of density matrices, because appending _e only works on attributes of the orbital list. Density matrices are a simulation output and as such not an attribute of the orbital list. Appending _e to the variable name will thus not work and a separate method is needed."
   ]
  },
  {
   "cell_type": "markdown",
   "id": "563a88dd",
   "metadata": {},
   "source": [
    "Dipole moment elements can be displayed in energy basis"
   ]
  },
  {
   "cell_type": "code",
   "execution_count": 4,
   "id": "f07ad83d",
   "metadata": {
    "execution": {
     "iopub.execute_input": "2025-06-05T10:53:06.423206Z",
     "iopub.status.busy": "2025-06-05T10:53:06.422863Z",
     "iopub.status.idle": "2025-06-05T10:53:06.788535Z",
     "shell.execute_reply": "2025-06-05T10:53:06.787932Z"
    }
   },
   "outputs": [
    {
     "data": {
      "image/png": "[encoded data removed]",
      "text/plain": [
       "<Figure size 480x480 with 2 Axes>"
      ]
     },
     "metadata": {},
     "output_type": "display_data"
    }
   ],
   "source": [
    "import matplotlib.pyplot as plt\n",
    "plt.matshow(flake.dipole_operator_e[0].real)\n",
    "plt.colorbar()\n",
    "plt.show()"
   ]
  }
 ],
 "metadata": {
  "kernelspec": {
   "display_name": "base",
   "language": "python",
   "name": "base"
  },
  "language_info": {
   "codemirror_mode": {
    "name": "ipython",
    "version": 3
   },
   "file_extension": ".py",
   "mimetype": "text/x-python",
   "name": "python",
   "nbconvert_exporter": "python",
   "pygments_lexer": "ipython3",
   "version": "3.12.10"
  }
 },
 "nbformat": 4,
 "nbformat_minor": 5
}
