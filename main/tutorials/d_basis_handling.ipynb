{
 "cells": [
  {
   "cell_type": "markdown",
   "id": "d2348093",
   "metadata": {},
   "source": [
    "# Basis Handling\n",
    "\n",
    "We introduce the site and energy bases."
   ]
  },
  {
   "cell_type": "markdown",
   "id": "8f2c3525",
   "metadata": {},
   "source": [
    "## Default basis\n",
    "\n",
    "By default, GRANAD uses the site basis. You can explicitly force a quantity to be given in energy basis by appending \"_e\" to it."
   ]
  },
  {
   "cell_type": "code",
   "execution_count": 1,
   "id": "69b759d1",
   "metadata": {
    "execution": {
     "iopub.execute_input": "2025-04-14T16:48:21.789911Z",
     "iopub.status.busy": "2025-04-14T16:48:21.789494Z",
     "iopub.status.idle": "2025-04-14T16:48:25.873134Z",
     "shell.execute_reply": "2025-04-14T16:48:25.872614Z"
    }
   },
   "outputs": [],
   "source": [
    "import jax.numpy as jnp\n",
    "from granad import MaterialCatalog\n",
    "\n",
    "chain  = MaterialCatalog.get(\"chain\")\n",
    "flake = chain.cut_flake( unit_cells = 10 )\n",
    "site_occupations = flake.initial_density_matrix.diagonal() # site basis\n",
    "energy_occupations = flake.initial_density_matrix_e.diagonal() # energy basis"
   ]
  },
  {
   "cell_type": "markdown",
   "id": "4645f48f",
   "metadata": {},
   "source": [
    "Additionally, should you be unsure, the site basis is always given by appending \"_x\"."
   ]
  },
  {
   "cell_type": "code",
   "execution_count": 2,
   "id": "0413b939",
   "metadata": {
    "execution": {
     "iopub.execute_input": "2025-04-14T16:48:25.875140Z",
     "iopub.status.busy": "2025-04-14T16:48:25.874936Z",
     "iopub.status.idle": "2025-04-14T16:48:25.903079Z",
     "shell.execute_reply": "2025-04-14T16:48:25.902487Z"
    }
   },
   "outputs": [
    {
     "name": "stdout",
     "output_type": "stream",
     "text": [
      "True\n"
     ]
    }
   ],
   "source": [
    "print(jnp.all(flake.initial_density_matrix_x == flake.initial_density_matrix))"
   ]
  },
  {
   "cell_type": "markdown",
   "id": "1172c597",
   "metadata": {},
   "source": [
    "There is also a built-in function for basis transformation"
   ]
  },
  {
   "cell_type": "code",
   "execution_count": 3,
   "id": "ea94b8b0",
   "metadata": {
    "execution": {
     "iopub.execute_input": "2025-04-14T16:48:25.904998Z",
     "iopub.status.busy": "2025-04-14T16:48:25.904667Z",
     "iopub.status.idle": "2025-04-14T16:48:25.909640Z",
     "shell.execute_reply": "2025-04-14T16:48:25.909064Z"
    }
   },
   "outputs": [
    {
     "name": "stdout",
     "output_type": "stream",
     "text": [
      "True\n"
     ]
    }
   ],
   "source": [
    "print(jnp.all(flake.transform_to_energy_basis(flake.hamiltonian) == flake.hamiltonian_e))"
   ]
  },
  {
   "cell_type": "markdown",
   "id": "16107d70",
   "metadata": {
    "lines_to_next_cell": 2
   },
   "source": [
    "This is useful when transforming arrays of density matrices, because appending _e only works on attributes of the orbital list. Density matrices are a simulation output and as such not an attribute of the orbital list. Appending _e to the variable name will thus not work and a separate method is needed."
   ]
  },
  {
   "cell_type": "markdown",
   "id": "4751fe40",
   "metadata": {},
   "source": [
    "Dipole moment elements can be displayed in energy basis"
   ]
  },
  {
   "cell_type": "code",
   "execution_count": 4,
   "id": "461662cc",
   "metadata": {
    "execution": {
     "iopub.execute_input": "2025-04-14T16:48:25.911346Z",
     "iopub.status.busy": "2025-04-14T16:48:25.911039Z",
     "iopub.status.idle": "2025-04-14T16:48:26.331370Z",
     "shell.execute_reply": "2025-04-14T16:48:26.330733Z"
    }
   },
   "outputs": [
    {
     "data": {
      "image/png": "[encoded data removed]",
      "text/plain": [
       "<Figure size 480x480 with 2 Axes>"
      ]
     },
     "metadata": {},
     "output_type": "display_data"
    }
   ],
   "source": [
    "import matplotlib.pyplot as plt\n",
    "plt.matshow(flake.dipole_operator_e[0].real)\n",
    "plt.colorbar()\n",
    "plt.show()"
   ]
  }
 ],
 "metadata": {
  "kernelspec": {
   "display_name": "base",
   "language": "python",
   "name": "base"
  },
  "language_info": {
   "codemirror_mode": {
    "name": "ipython",
    "version": 3
   },
   "file_extension": ".py",
   "mimetype": "text/x-python",
   "name": "python",
   "nbconvert_exporter": "python",
   "pygments_lexer": "ipython3",
   "version": "3.12.9"
  }
 },
 "nbformat": 4,
 "nbformat_minor": 5
}
