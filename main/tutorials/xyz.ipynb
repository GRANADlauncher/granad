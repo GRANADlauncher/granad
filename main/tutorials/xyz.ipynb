{
 "cells": [
  {
   "cell_type": "markdown",
   "id": "3ac53865",
   "metadata": {},
   "source": [
    "# Exporting and Importing\n"
   ]
  },
  {
   "cell_type": "markdown",
   "id": "08836fc6",
   "metadata": {},
   "source": [
    "GRANAD lets you save orbitals to xyz files. It also offers rudimentary support for loading orbitals from xyz files. For demonstration, we will create a triangular flake, print its xyz representation, save it to file and reload it."
   ]
  },
  {
   "cell_type": "code",
   "execution_count": 1,
   "id": "0cab7463",
   "metadata": {
    "execution": {
     "iopub.execute_input": "2025-03-17T11:37:03.095357Z",
     "iopub.status.busy": "2025-03-17T11:37:03.094911Z",
     "iopub.status.idle": "2025-03-17T11:37:06.003774Z",
     "shell.execute_reply": "2025-03-17T11:37:06.003288Z"
    }
   },
   "outputs": [],
   "source": [
    "from granad import MaterialCatalog, Triangle, OrbitalList\n",
    "graphene = MaterialCatalog.get( \"graphene\" )\n",
    "flake = graphene.cut_flake( Triangle(15)  )"
   ]
  },
  {
   "cell_type": "markdown",
   "id": "5e1c4a08",
   "metadata": {},
   "source": [
    "We can look at only the atoms in this file. They are given as a dictionary. The type of atom is the key. The value is all positions where atoms of this type are."
   ]
  },
  {
   "cell_type": "code",
   "execution_count": 2,
   "id": "d0a62397",
   "metadata": {
    "execution": {
     "iopub.execute_input": "2025-03-17T11:37:06.006039Z",
     "iopub.status.busy": "2025-03-17T11:37:06.005608Z",
     "iopub.status.idle": "2025-03-17T11:37:06.023452Z",
     "shell.execute_reply": "2025-03-17T11:37:06.022943Z"
    }
   },
   "outputs": [
    {
     "name": "stdout",
     "output_type": "stream",
     "text": [
      "defaultdict(<class 'list'>, {'C': [['0.7101408311032396', '1.23', '0.0'], ['2.1304224933097187', '1.23', '0.0'], ['0.0', '2.46', '0.0'], ['0.7101408311032396', '3.6900000000000004', '0.0'], ['2.1304224933097187', '3.6900000000000004', '0.0'], ['2.840563324412959', '2.46', '0.0'], ['4.260844986619438', '2.46', '0.0'], ['4.970985817722679', '3.6900000000000004', '0.0'], ['6.391267479929158', '3.6900000000000004', '0.0'], ['0.0', '4.92', '0.0'], ['0.7101408311032396', '6.1499999999999995', '0.0'], ['2.1304224933097187', '6.1499999999999995', '0.0'], ['2.840563324412959', '4.92', '0.0'], ['4.260844986619438', '4.92', '0.0'], ['4.970985817722679', '6.1499999999999995', '0.0'], ['6.391267479929158', '6.1499999999999995', '0.0'], ['7.1014083110323964', '4.92', '0.0'], ['8.521689973238875', '4.92', '0.0'], ['9.231830804342117', '6.1499999999999995', '0.0'], ['10.652112466548594', '6.1499999999999995', '0.0'], ['0.0', '7.38', '0.0'], ['0.7101408311032396', '8.61', '0.0'], ['2.1304224933097187', '8.61', '0.0'], ['2.840563324412959', '7.38', '0.0'], ['4.260844986619438', '7.38', '0.0'], ['4.970985817722679', '8.61', '0.0'], ['6.391267479929158', '8.61', '0.0'], ['7.1014083110323964', '7.38', '0.0'], ['8.521689973238875', '7.38', '0.0'], ['9.231830804342117', '8.61', '0.0'], ['10.652112466548594', '8.61', '0.0'], ['11.362253297651833', '7.38', '0.0'], ['0.0', '9.84', '0.0'], ['0.7101408311032396', '11.07', '0.0'], ['2.1304224933097187', '11.07', '0.0'], ['2.840563324412959', '9.84', '0.0'], ['4.260844986619438', '9.84', '0.0'], ['4.970985817722679', '11.07', '0.0'], ['6.391267479929158', '11.07', '0.0'], ['7.1014083110323964', '9.84', '0.0'], ['8.521689973238875', '9.84', '0.0'], ['0.0', '12.3', '0.0'], ['0.7101408311032396', '13.530000000000001', '0.0'], ['2.1304224933097187', '13.530000000000001', '0.0'], ['2.840563324412959', '12.3', '0.0'], ['4.260844986619438', '12.3', '0.0']]})\n"
     ]
    }
   ],
   "source": [
    "print(flake.atoms)"
   ]
  },
  {
   "cell_type": "markdown",
   "id": "532d60bb",
   "metadata": {},
   "source": [
    "If you supply no name to the to_xyz method, it will  return the string"
   ]
  },
  {
   "cell_type": "code",
   "execution_count": 3,
   "id": "26b51719",
   "metadata": {
    "execution": {
     "iopub.execute_input": "2025-03-17T11:37:06.025426Z",
     "iopub.status.busy": "2025-03-17T11:37:06.024963Z",
     "iopub.status.idle": "2025-03-17T11:37:06.032339Z",
     "shell.execute_reply": "2025-03-17T11:37:06.031865Z"
    }
   },
   "outputs": [
    {
     "name": "stdout",
     "output_type": "stream",
     "text": [
      "46\n",
      "\n",
      "C 0.7101408311032396 1.23 0.0\n",
      "C 2.1304224933097187 1.23 0.0\n",
      "C 0.0 2.46 0.0\n",
      "C 0.7101408311032396 3.6900000000000004 0.0\n",
      "C 2.1304224933097187 3.6900000000000004 0.0\n",
      "C 2.840563324412959 2.46 0.0\n",
      "C 4.260844986619438 2.46 0.0\n",
      "C 4.970985817722679 3.6900000000000004 0.0\n",
      "C 6.391267479929158 3.6900000000000004 0.0\n",
      "C 0.0 4.92 0.0\n",
      "C 0.7101408311032396 6.1499999999999995 0.0\n",
      "C 2.1304224933097187 6.1499999999999995 0.0\n",
      "C 2.840563324412959 4.92 0.0\n",
      "C 4.260844986619438 4.92 0.0\n",
      "C 4.970985817722679 6.1499999999999995 0.0\n",
      "C 6.391267479929158 6.1499999999999995 0.0\n",
      "C 7.1014083110323964 4.92 0.0\n",
      "C 8.521689973238875 4.92 0.0\n",
      "C 9.231830804342117 6.1499999999999995 0.0\n",
      "C 10.652112466548594 6.1499999999999995 0.0\n",
      "C 0.0 7.38 0.0\n",
      "C 0.7101408311032396 8.61 0.0\n",
      "C 2.1304224933097187 8.61 0.0\n",
      "C 2.840563324412959 7.38 0.0\n",
      "C 4.260844986619438 7.38 0.0\n",
      "C 4.970985817722679 8.61 0.0\n",
      "C 6.391267479929158 8.61 0.0\n",
      "C 7.1014083110323964 7.38 0.0\n",
      "C 8.521689973238875 7.38 0.0\n",
      "C 9.231830804342117 8.61 0.0\n",
      "C 10.652112466548594 8.61 0.0\n",
      "C 11.362253297651833 7.38 0.0\n",
      "C 0.0 9.84 0.0\n",
      "C 0.7101408311032396 11.07 0.0\n",
      "C 2.1304224933097187 11.07 0.0\n",
      "C 2.840563324412959 9.84 0.0\n",
      "C 4.260844986619438 9.84 0.0\n",
      "C 4.970985817722679 11.07 0.0\n",
      "C 6.391267479929158 11.07 0.0\n",
      "C 7.1014083110323964 9.84 0.0\n",
      "C 8.521689973238875 9.84 0.0\n",
      "C 0.0 12.3 0.0\n",
      "C 0.7101408311032396 13.530000000000001 0.0\n",
      "C 2.1304224933097187 13.530000000000001 0.0\n",
      "C 2.840563324412959 12.3 0.0\n",
      "C 4.260844986619438 12.3 0.0\n",
      "\n"
     ]
    }
   ],
   "source": [
    "print(flake.to_xyz())"
   ]
  },
  {
   "cell_type": "markdown",
   "id": "54206f27",
   "metadata": {},
   "source": [
    "To save this to a file, do"
   ]
  },
  {
   "cell_type": "code",
   "execution_count": 4,
   "id": "f11d4352",
   "metadata": {
    "execution": {
     "iopub.execute_input": "2025-03-17T11:37:06.034129Z",
     "iopub.status.busy": "2025-03-17T11:37:06.033715Z",
     "iopub.status.idle": "2025-03-17T11:37:06.040063Z",
     "shell.execute_reply": "2025-03-17T11:37:06.039500Z"
    }
   },
   "outputs": [],
   "source": [
    "flake.to_xyz('flake.xyz')"
   ]
  },
  {
   "cell_type": "markdown",
   "id": "ba6e3daf",
   "metadata": {},
   "source": [
    "Reloading is limited: all atoms in the xyz file get the same group id by default."
   ]
  },
  {
   "cell_type": "code",
   "execution_count": 5,
   "id": "6ca7db41",
   "metadata": {
    "execution": {
     "iopub.execute_input": "2025-03-17T11:37:06.041847Z",
     "iopub.status.busy": "2025-03-17T11:37:06.041431Z",
     "iopub.status.idle": "2025-03-17T11:37:06.053271Z",
     "shell.execute_reply": "2025-03-17T11:37:06.052837Z"
    }
   },
   "outputs": [],
   "source": [
    "new_flake = OrbitalList.from_xyz('flake.xyz')\n",
    "assert new_flake.atoms == flake.atoms"
   ]
  }
 ],
 "metadata": {
  "kernelspec": {
   "display_name": "base",
   "language": "python",
   "name": "base"
  },
  "language_info": {
   "codemirror_mode": {
    "name": "ipython",
    "version": 3
   },
   "file_extension": ".py",
   "mimetype": "text/x-python",
   "name": "python",
   "nbconvert_exporter": "python",
   "pygments_lexer": "ipython3",
   "version": "3.12.9"
  }
 },
 "nbformat": 4,
 "nbformat_minor": 5
}
