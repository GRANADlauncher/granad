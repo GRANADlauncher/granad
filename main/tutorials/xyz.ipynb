{
 "cells": [
  {
   "cell_type": "markdown",
   "id": "ee7f29a3",
   "metadata": {},
   "source": [
    "# Exporting and Importing\n"
   ]
  },
  {
   "cell_type": "markdown",
   "id": "27adbb9e",
   "metadata": {},
   "source": [
    "GRANAD lets you save orbitals to xyz files. It also offers rudimentary support for loading orbitals from xyz files. For demonstration, we will create a triangular flake, print its xyz representation, save it to file and reload it."
   ]
  },
  {
   "cell_type": "code",
   "execution_count": 1,
   "id": "a472bc3b",
   "metadata": {
    "execution": {
     "iopub.execute_input": "2025-04-07T14:21:10.722084Z",
     "iopub.status.busy": "2025-04-07T14:21:10.721631Z",
     "iopub.status.idle": "2025-04-07T14:21:14.213573Z",
     "shell.execute_reply": "2025-04-07T14:21:14.213008Z"
    }
   },
   "outputs": [],
   "source": [
    "from granad import MaterialCatalog, Triangle, OrbitalList\n",
    "graphene = MaterialCatalog.get( \"graphene\" )\n",
    "flake = graphene.cut_flake( Triangle(15)  )"
   ]
  },
  {
   "cell_type": "markdown",
   "id": "fb4b29b4",
   "metadata": {},
   "source": [
    "We can look at only the atoms in this file. They are given as a dictionary. The type of atom is the key. The value is all positions where atoms of this type are."
   ]
  },
  {
   "cell_type": "code",
   "execution_count": 2,
   "id": "6e30a054",
   "metadata": {
    "execution": {
     "iopub.execute_input": "2025-04-07T14:21:14.215988Z",
     "iopub.status.busy": "2025-04-07T14:21:14.215672Z",
     "iopub.status.idle": "2025-04-07T14:21:14.235014Z",
     "shell.execute_reply": "2025-04-07T14:21:14.234407Z"
    }
   },
   "outputs": [
    {
     "name": "stdout",
     "output_type": "stream",
     "text": [
      "defaultdict(<class 'list'>, {'C': [['0.7101408311032396', '1.23', '0.0'], ['2.1304224933097187', '1.23', '0.0'], ['0.0', '2.46', '0.0'], ['0.7101408311032396', '3.6900000000000004', '0.0'], ['2.1304224933097187', '3.6900000000000004', '0.0'], ['2.840563324412959', '2.46', '0.0'], ['4.260844986619438', '2.46', '0.0'], ['4.970985817722679', '3.6900000000000004', '0.0'], ['6.391267479929158', '3.6900000000000004', '0.0'], ['0.0', '4.92', '0.0'], ['0.7101408311032396', '6.1499999999999995', '0.0'], ['2.1304224933097187', '6.1499999999999995', '0.0'], ['2.840563324412959', '4.92', '0.0'], ['4.260844986619438', '4.92', '0.0'], ['4.970985817722679', '6.1499999999999995', '0.0'], ['6.391267479929158', '6.1499999999999995', '0.0'], ['7.1014083110323964', '4.92', '0.0'], ['8.521689973238875', '4.92', '0.0'], ['9.231830804342117', '6.1499999999999995', '0.0'], ['10.652112466548594', '6.1499999999999995', '0.0'], ['0.0', '7.38', '0.0'], ['0.7101408311032396', '8.61', '0.0'], ['2.1304224933097187', '8.61', '0.0'], ['2.840563324412959', '7.38', '0.0'], ['4.260844986619438', '7.38', '0.0'], ['4.970985817722679', '8.61', '0.0'], ['6.391267479929158', '8.61', '0.0'], ['7.1014083110323964', '7.38', '0.0'], ['8.521689973238875', '7.38', '0.0'], ['9.231830804342117', '8.61', '0.0'], ['10.652112466548594', '8.61', '0.0'], ['11.362253297651833', '7.38', '0.0'], ['0.0', '9.84', '0.0'], ['0.7101408311032396', '11.07', '0.0'], ['2.1304224933097187', '11.07', '0.0'], ['2.840563324412959', '9.84', '0.0'], ['4.260844986619438', '9.84', '0.0'], ['4.970985817722679', '11.07', '0.0'], ['6.391267479929158', '11.07', '0.0'], ['7.1014083110323964', '9.84', '0.0'], ['8.521689973238875', '9.84', '0.0'], ['0.0', '12.3', '0.0'], ['0.7101408311032396', '13.530000000000001', '0.0'], ['2.1304224933097187', '13.530000000000001', '0.0'], ['2.840563324412959', '12.3', '0.0'], ['4.260844986619438', '12.3', '0.0']]})\n"
     ]
    }
   ],
   "source": [
    "print(flake.atoms)"
   ]
  },
  {
   "cell_type": "markdown",
   "id": "2ab0203c",
   "metadata": {},
   "source": [
    "If you supply no name to the to_xyz method, it will  return the string"
   ]
  },
  {
   "cell_type": "code",
   "execution_count": 3,
   "id": "798544ee",
   "metadata": {
    "execution": {
     "iopub.execute_input": "2025-04-07T14:21:14.237231Z",
     "iopub.status.busy": "2025-04-07T14:21:14.236719Z",
     "iopub.status.idle": "2025-04-07T14:21:14.243256Z",
     "shell.execute_reply": "2025-04-07T14:21:14.242756Z"
    }
   },
   "outputs": [
    {
     "name": "stdout",
     "output_type": "stream",
     "text": [
      "46\n",
      "\n",
      "C 0.7101408311032396 1.23 0.0\n",
      "C 2.1304224933097187 1.23 0.0\n",
      "C 0.0 2.46 0.0\n",
      "C 0.7101408311032396 3.6900000000000004 0.0\n",
      "C 2.1304224933097187 3.6900000000000004 0.0\n",
      "C 2.840563324412959 2.46 0.0\n",
      "C 4.260844986619438 2.46 0.0\n",
      "C 4.970985817722679 3.6900000000000004 0.0\n",
      "C 6.391267479929158 3.6900000000000004 0.0\n",
      "C 0.0 4.92 0.0\n",
      "C 0.7101408311032396 6.1499999999999995 0.0\n",
      "C 2.1304224933097187 6.1499999999999995 0.0\n",
      "C 2.840563324412959 4.92 0.0\n",
      "C 4.260844986619438 4.92 0.0\n",
      "C 4.970985817722679 6.1499999999999995 0.0\n",
      "C 6.391267479929158 6.1499999999999995 0.0\n",
      "C 7.1014083110323964 4.92 0.0\n",
      "C 8.521689973238875 4.92 0.0\n",
      "C 9.231830804342117 6.1499999999999995 0.0\n",
      "C 10.652112466548594 6.1499999999999995 0.0\n",
      "C 0.0 7.38 0.0\n",
      "C 0.7101408311032396 8.61 0.0\n",
      "C 2.1304224933097187 8.61 0.0\n",
      "C 2.840563324412959 7.38 0.0\n",
      "C 4.260844986619438 7.38 0.0\n",
      "C 4.970985817722679 8.61 0.0\n",
      "C 6.391267479929158 8.61 0.0\n",
      "C 7.1014083110323964 7.38 0.0\n",
      "C 8.521689973238875 7.38 0.0\n",
      "C 9.231830804342117 8.61 0.0\n",
      "C 10.652112466548594 8.61 0.0\n",
      "C 11.362253297651833 7.38 0.0\n",
      "C 0.0 9.84 0.0\n",
      "C 0.7101408311032396 11.07 0.0\n",
      "C 2.1304224933097187 11.07 0.0\n",
      "C 2.840563324412959 9.84 0.0\n",
      "C 4.260844986619438 9.84 0.0\n",
      "C 4.970985817722679 11.07 0.0\n",
      "C 6.391267479929158 11.07 0.0\n",
      "C 7.1014083110323964 9.84 0.0\n",
      "C 8.521689973238875 9.84 0.0\n",
      "C 0.0 12.3 0.0\n",
      "C 0.7101408311032396 13.530000000000001 0.0\n",
      "C 2.1304224933097187 13.530000000000001 0.0\n",
      "C 2.840563324412959 12.3 0.0\n",
      "C 4.260844986619438 12.3 0.0\n",
      "\n"
     ]
    }
   ],
   "source": [
    "print(flake.to_xyz())"
   ]
  },
  {
   "cell_type": "markdown",
   "id": "fb34faed",
   "metadata": {},
   "source": [
    "To save this to a file, do"
   ]
  },
  {
   "cell_type": "code",
   "execution_count": 4,
   "id": "1f1d3030",
   "metadata": {
    "execution": {
     "iopub.execute_input": "2025-04-07T14:21:14.245043Z",
     "iopub.status.busy": "2025-04-07T14:21:14.244724Z",
     "iopub.status.idle": "2025-04-07T14:21:14.250591Z",
     "shell.execute_reply": "2025-04-07T14:21:14.250158Z"
    }
   },
   "outputs": [],
   "source": [
    "flake.to_xyz('flake.xyz')"
   ]
  },
  {
   "cell_type": "markdown",
   "id": "e681b319",
   "metadata": {},
   "source": [
    "Reloading is limited: all atoms in the xyz file get the same group id by default."
   ]
  },
  {
   "cell_type": "code",
   "execution_count": 5,
   "id": "5c5bf242",
   "metadata": {
    "execution": {
     "iopub.execute_input": "2025-04-07T14:21:14.252279Z",
     "iopub.status.busy": "2025-04-07T14:21:14.252089Z",
     "iopub.status.idle": "2025-04-07T14:21:14.265016Z",
     "shell.execute_reply": "2025-04-07T14:21:14.264424Z"
    }
   },
   "outputs": [],
   "source": [
    "new_flake = OrbitalList.from_xyz('flake.xyz')\n",
    "assert new_flake.atoms == flake.atoms"
   ]
  }
 ],
 "metadata": {
  "kernelspec": {
   "display_name": "base",
   "language": "python",
   "name": "base"
  },
  "language_info": {
   "codemirror_mode": {
    "name": "ipython",
    "version": 3
   },
   "file_extension": ".py",
   "mimetype": "text/x-python",
   "name": "python",
   "nbconvert_exporter": "python",
   "pygments_lexer": "ipython3",
   "version": "3.12.9"
  }
 },
 "nbformat": 4,
 "nbformat_minor": 5
}
